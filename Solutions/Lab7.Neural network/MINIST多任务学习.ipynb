{
 "cells": [
  {
   "cell_type": "markdown",
   "metadata": {
    "collapsed": false,
    "pycharm": {
     "name": "#%% md\n"
    }
   },
   "source": [
    "### Exercise 2  Handwriting recognition with MLP\n",
    "\n",
    "Like last week's lab , your task in this section is also about recognizing handwritten digits, but you are required to use MLP to complete the exercise. It is recommended that you define an MLP class, which is a subclass of `nn.module`.\n",
    "\n",
    "<font color='red' size=4>Note that your accuracy in this section will directly determine your score.</font>\n",
    "\n",
    "For this exercise we use the `minist` dataset."
   ]
  },
  {
   "cell_type": "markdown",
   "metadata": {
    "collapsed": false,
    "pycharm": {
     "name": "#%% md\n"
    }
   },
   "source": [
    "+ load datasets"
   ]
  },
  {
   "cell_type": "code",
   "execution_count": 1,
   "metadata": {
    "collapsed": false,
    "pycharm": {
     "name": "#%%\n"
    }
   },
   "outputs": [],
   "source": [
    "########### Write Your Code Here ###########\n",
    "import torchvision\n",
    "from torch.utils.data import DataLoader\n",
    "train_data, test_data = [torchvision.datasets.MNIST(\n",
    "    root = './datasets/',  \n",
    "    train = trainOrNot,       \n",
    "    transform = torchvision.transforms.ToTensor(),   \n",
    "    download=True\n",
    ") for trainOrNot  in [True, False]]\n",
    "train_loader, test_loader = [DataLoader(data, batch_size=64, shuffle=False) for data in [train_data, test_data]]\n",
    "############################################                      "
   ]
  },
  {
   "cell_type": "code",
   "execution_count": 2,
   "metadata": {},
   "outputs": [
    {
     "name": "stderr",
     "output_type": "stream",
     "text": [
      "d:\\EnglishStandardPath\\DevProgramsFile\\Python\\python39\\lib\\site-packages\\torchvision\\datasets\\mnist.py:75: UserWarning: train_data has been renamed data\n",
      "  warnings.warn(\"train_data has been renamed data\")\n",
      "d:\\EnglishStandardPath\\DevProgramsFile\\Python\\python39\\lib\\site-packages\\torchvision\\datasets\\mnist.py:80: UserWarning: test_data has been renamed data\n",
      "  warnings.warn(\"test_data has been renamed data\")\n"
     ]
    },
    {
     "data": {
      "text/plain": [
       "<matplotlib.image.AxesImage at 0x1de737ab070>"
      ]
     },
     "execution_count": 2,
     "metadata": {},
     "output_type": "execute_result"
    },
    {
     "data": {
      "image/png": "[encoded data removed]",
      "text/plain": [
       "<Figure size 432x288 with 1 Axes>"
      ]
     },
     "metadata": {
      "needs_background": "light"
     },
     "output_type": "display_data"
    }
   ],
   "source": [
    "train_data.train_data\n",
    "test_data.test_data\n",
    "# train_data, test_data\n",
    "trainfeature, trainlabel = next(iter(train_data))\n",
    "from matplotlib import pyplot as plt\n",
    "plt.imshow(trainfeature[0].detach().numpy(), cmap='gray')"
   ]
  },
  {
   "cell_type": "markdown",
   "metadata": {
    "collapsed": false,
    "pycharm": {
     "name": "#%% md\n"
    }
   },
   "source": [
    "+ Define a MLP subclass of nn. Module"
   ]
  },
  {
   "cell_type": "code",
   "execution_count": 3,
   "metadata": {
    "collapsed": false,
    "pycharm": {
     "name": "#%%\n"
    }
   },
   "outputs": [
    {
     "data": {
      "text/plain": [
       "tensor([[0.3028, 0.3028, 0.3028, 0.3028, 0.3028, 0.3028, 0.3028, 0.3028, 0.3028,\n",
       "         0.3028]], grad_fn=<CatBackward0>)"
      ]
     },
     "execution_count": 3,
     "metadata": {},
     "output_type": "execute_result"
    }
   ],
   "source": [
    "########### Write Your Code Here ###########\n",
    "from torch import nn\n",
    "import torch\n",
    "import copy\n",
    "class ShareBottom(nn.Module):\n",
    "    \"\"\"\n",
    "    MMoE\n",
    "    多任务：10个数字是10个任务，独立去预测概率。最后概率最高的是答案。loss计算时用softmax+cross_entropy_loss，也可以不用。\n",
    "    多专家：4x4个专家，分管7x7的区域，做一个粗陋的卷积。\n",
    "    多门控\n",
    "    ShareBottom\n",
    "    Args:\n",
    "        nn (_type_): _description_\n",
    "    \"\"\"\n",
    "    def __init__(self) -> None:\n",
    "        super().__init__()\n",
    "        self.conv = nn.Sequential(\n",
    "            nn.Conv2d(1, 6, 5), # in_channels, out_channels, kernel_size\n",
    "            nn.Sigmoid(),\n",
    "            nn.MaxPool2d(2, 2), # kernel_size, stride\n",
    "            nn.Conv2d(6, 16, 5),\n",
    "            nn.Sigmoid(),\n",
    "            nn.MaxPool2d(2, 2)\n",
    "        )\n",
    "        fc = nn.Sequential(\n",
    "            nn.Linear(16*4*4, 120),\n",
    "            nn.Sigmoid(),\n",
    "            nn.Linear(120, 84),\n",
    "            nn.Sigmoid(),\n",
    "            nn.Linear(84, 1)\n",
    "        )\n",
    "        self.towers = nn.ModuleList([copy.deepcopy(fc) for _ in range(10)])\n",
    "    def forward(self, img):\n",
    "        feature = self.conv(img)\n",
    "        feature = feature.view(img.shape[0], -1)\n",
    "        out  = [tower(feature) for tower in self.towers]\n",
    "        return torch.cat(out, dim=1)\n",
    "        \n",
    "test_model = ShareBottom()\n",
    "test_X = torch.randn(1, 28, 28)\n",
    "test_y = test_model(test_X)\n",
    "test_y\n",
    "############################################"
   ]
  },
  {
   "cell_type": "markdown",
   "metadata": {
    "collapsed": false,
    "pycharm": {
     "name": "#%% md\n"
    }
   },
   "source": [
    "+ Create the model"
   ]
  },
  {
   "cell_type": "code",
   "execution_count": 6,
   "metadata": {
    "collapsed": false,
    "pycharm": {
     "name": "#%%\n"
    }
   },
   "outputs": [
    {
     "data": {
      "text/plain": [
       "ShareBottom(\n",
       "  (conv): Sequential(\n",
       "    (0): Conv2d(1, 6, kernel_size=(5, 5), stride=(1, 1))\n",
       "    (1): Sigmoid()\n",
       "    (2): MaxPool2d(kernel_size=2, stride=2, padding=0, dilation=1, ceil_mode=False)\n",
       "    (3): Conv2d(6, 16, kernel_size=(5, 5), stride=(1, 1))\n",
       "    (4): Sigmoid()\n",
       "    (5): MaxPool2d(kernel_size=2, stride=2, padding=0, dilation=1, ceil_mode=False)\n",
       "  )\n",
       "  (towers): ModuleList(\n",
       "    (0): Sequential(\n",
       "      (0): Linear(in_features=256, out_features=120, bias=True)\n",
       "      (1): Sigmoid()\n",
       "      (2): Linear(in_features=120, out_features=84, bias=True)\n",
       "      (3): Sigmoid()\n",
       "      (4): Linear(in_features=84, out_features=1, bias=True)\n",
       "    )\n",
       "    (1): Sequential(\n",
       "      (0): Linear(in_features=256, out_features=120, bias=True)\n",
       "      (1): Sigmoid()\n",
       "      (2): Linear(in_features=120, out_features=84, bias=True)\n",
       "      (3): Sigmoid()\n",
       "      (4): Linear(in_features=84, out_features=1, bias=True)\n",
       "    )\n",
       "    (2): Sequential(\n",
       "      (0): Linear(in_features=256, out_features=120, bias=True)\n",
       "      (1): Sigmoid()\n",
       "      (2): Linear(in_features=120, out_features=84, bias=True)\n",
       "      (3): Sigmoid()\n",
       "      (4): Linear(in_features=84, out_features=1, bias=True)\n",
       "    )\n",
       "    (3): Sequential(\n",
       "      (0): Linear(in_features=256, out_features=120, bias=True)\n",
       "      (1): Sigmoid()\n",
       "      (2): Linear(in_features=120, out_features=84, bias=True)\n",
       "      (3): Sigmoid()\n",
       "      (4): Linear(in_features=84, out_features=1, bias=True)\n",
       "    )\n",
       "    (4): Sequential(\n",
       "      (0): Linear(in_features=256, out_features=120, bias=True)\n",
       "      (1): Sigmoid()\n",
       "      (2): Linear(in_features=120, out_features=84, bias=True)\n",
       "      (3): Sigmoid()\n",
       "      (4): Linear(in_features=84, out_features=1, bias=True)\n",
       "    )\n",
       "    (5): Sequential(\n",
       "      (0): Linear(in_features=256, out_features=120, bias=True)\n",
       "      (1): Sigmoid()\n",
       "      (2): Linear(in_features=120, out_features=84, bias=True)\n",
       "      (3): Sigmoid()\n",
       "      (4): Linear(in_features=84, out_features=1, bias=True)\n",
       "    )\n",
       "    (6): Sequential(\n",
       "      (0): Linear(in_features=256, out_features=120, bias=True)\n",
       "      (1): Sigmoid()\n",
       "      (2): Linear(in_features=120, out_features=84, bias=True)\n",
       "      (3): Sigmoid()\n",
       "      (4): Linear(in_features=84, out_features=1, bias=True)\n",
       "    )\n",
       "    (7): Sequential(\n",
       "      (0): Linear(in_features=256, out_features=120, bias=True)\n",
       "      (1): Sigmoid()\n",
       "      (2): Linear(in_features=120, out_features=84, bias=True)\n",
       "      (3): Sigmoid()\n",
       "      (4): Linear(in_features=84, out_features=1, bias=True)\n",
       "    )\n",
       "    (8): Sequential(\n",
       "      (0): Linear(in_features=256, out_features=120, bias=True)\n",
       "      (1): Sigmoid()\n",
       "      (2): Linear(in_features=120, out_features=84, bias=True)\n",
       "      (3): Sigmoid()\n",
       "      (4): Linear(in_features=84, out_features=1, bias=True)\n",
       "    )\n",
       "    (9): Sequential(\n",
       "      (0): Linear(in_features=256, out_features=120, bias=True)\n",
       "      (1): Sigmoid()\n",
       "      (2): Linear(in_features=120, out_features=84, bias=True)\n",
       "      (3): Sigmoid()\n",
       "      (4): Linear(in_features=84, out_features=1, bias=True)\n",
       "    )\n",
       "  )\n",
       ")"
      ]
     },
     "execution_count": 6,
     "metadata": {},
     "output_type": "execute_result"
    }
   ],
   "source": [
    "########### Write Your Code Here ###########\n",
    "mlp_clf = ShareBottom()\n",
    "mlp_clf\n",
    "############################################"
   ]
  },
  {
   "cell_type": "code",
   "execution_count": null,
   "metadata": {},
   "outputs": [],
   "source": [
    "list(mlp_clf.parameters())"
   ]
  },
  {
   "cell_type": "code",
   "execution_count": 7,
   "metadata": {},
   "outputs": [
    {
     "name": "stdout",
     "output_type": "stream",
     "text": [
      "torch.Size([64, 1, 28, 28])\n",
      "torch.Size([64])\n"
     ]
    },
    {
     "name": "stderr",
     "output_type": "stream",
     "text": [
      "d:\\EnglishStandardPath\\DevProgramsFile\\Python\\python39\\lib\\site-packages\\torchvision\\datasets\\mnist.py:80: UserWarning: test_data has been renamed data\n",
      "  warnings.warn(\"test_data has been renamed data\")\n"
     ]
    },
    {
     "data": {
      "text/plain": [
       "torch.Size([10000, 1, 28, 28])"
      ]
     },
     "execution_count": 7,
     "metadata": {},
     "output_type": "execute_result"
    }
   ],
   "source": [
    "for X, y in test_loader:\n",
    "    print(X.shape)\n",
    "    print(y.shape)\n",
    "    break\n",
    "test_data.test_data.data.shape\n",
    "test_data.test_data.data.reshape(10000, 1, 28, 28).shape\n"
   ]
  },
  {
   "cell_type": "markdown",
   "metadata": {
    "collapsed": false,
    "pycharm": {
     "name": "#%% md\n"
    }
   },
   "source": [
    " + Loss function"
   ]
  },
  {
   "cell_type": "code",
   "execution_count": 8,
   "metadata": {
    "collapsed": false,
    "pycharm": {
     "name": "#%%\n"
    }
   },
   "outputs": [],
   "source": [
    "########### Write Your Code Here ###########\n",
    "criteria = nn.CrossEntropyLoss()\n",
    "############################################"
   ]
  },
  {
   "cell_type": "markdown",
   "metadata": {
    "collapsed": false,
    "pycharm": {
     "name": "#%% md\n"
    }
   },
   "source": [
    "+ The optimizer"
   ]
  },
  {
   "cell_type": "code",
   "execution_count": 9,
   "metadata": {
    "collapsed": false,
    "pycharm": {
     "name": "#%%\n"
    }
   },
   "outputs": [],
   "source": [
    "########### Write Your Code Here ###########\n",
    "import torch.optim as optim\n",
    "optimizer = optim.Adam(mlp_clf.parameters(), lr=0.01)\n",
    "############################################"
   ]
  },
  {
   "cell_type": "markdown",
   "metadata": {
    "collapsed": false,
    "pycharm": {
     "name": "#%% md\n"
    }
   },
   "source": [
    "+ training Model"
   ]
  },
  {
   "cell_type": "code",
   "execution_count": 12,
   "metadata": {
    "collapsed": false,
    "pycharm": {
     "name": "#%%\n"
    }
   },
   "outputs": [
    {
     "name": "stdout",
     "output_type": "stream",
     "text": [
      "epoch 0, loss 0.10692787915468216\n"
     ]
    },
    {
     "ename": "KeyboardInterrupt",
     "evalue": "",
     "output_type": "error",
     "traceback": [
      "\u001b[1;31m---------------------------------------------------------------------------\u001b[0m",
      "\u001b[1;31mKeyboardInterrupt\u001b[0m                         Traceback (most recent call last)",
      "\u001b[1;32md:\\EnglishStandardPath\\Practice_File\\22_fall\\P_Machine_Learning\\SUSTech-Machine-Learning-Lab-Solutions\\Solutions\\Lab7.Neural network\\MINIST多任务学习.ipynb Cell 16\u001b[0m in \u001b[0;36m<cell line: 13>\u001b[1;34m()\u001b[0m\n\u001b[0;32m     <a href='vscode-notebook-cell:/d%3A/EnglishStandardPath/Practice_File/22_fall/P_Machine_Learning/SUSTech-Machine-Learning-Lab-Solutions/Solutions/Lab7.Neural%20network/MINIST%E5%A4%9A%E4%BB%BB%E5%8A%A1%E5%AD%A6%E4%B9%A0.ipynb#X21sZmlsZQ%3D%3D?line=10'>11</a>\u001b[0m         \u001b[39mif\u001b[39;00m epoch \u001b[39m%\u001b[39m \u001b[39m10\u001b[39m \u001b[39m==\u001b[39m \u001b[39m0\u001b[39m:\n\u001b[0;32m     <a href='vscode-notebook-cell:/d%3A/EnglishStandardPath/Practice_File/22_fall/P_Machine_Learning/SUSTech-Machine-Learning-Lab-Solutions/Solutions/Lab7.Neural%20network/MINIST%E5%A4%9A%E4%BB%BB%E5%8A%A1%E5%AD%A6%E4%B9%A0.ipynb#X21sZmlsZQ%3D%3D?line=11'>12</a>\u001b[0m             \u001b[39mprint\u001b[39m(\u001b[39mf\u001b[39m\u001b[39m\"\u001b[39m\u001b[39mepoch \u001b[39m\u001b[39m{\u001b[39;00mepoch\u001b[39m}\u001b[39;00m\u001b[39m, loss \u001b[39m\u001b[39m{\u001b[39;00mloss\u001b[39m.\u001b[39mitem()\u001b[39m}\u001b[39;00m\u001b[39m\"\u001b[39m)\n\u001b[1;32m---> <a href='vscode-notebook-cell:/d%3A/EnglishStandardPath/Practice_File/22_fall/P_Machine_Learning/SUSTech-Machine-Learning-Lab-Solutions/Solutions/Lab7.Neural%20network/MINIST%E5%A4%9A%E4%BB%BB%E5%8A%A1%E5%AD%A6%E4%B9%A0.ipynb#X21sZmlsZQ%3D%3D?line=12'>13</a>\u001b[0m train_data_loader(mlp_clf, train_loader, optimizer, criteria)\n",
      "\u001b[1;32md:\\EnglishStandardPath\\Practice_File\\22_fall\\P_Machine_Learning\\SUSTech-Machine-Learning-Lab-Solutions\\Solutions\\Lab7.Neural network\\MINIST多任务学习.ipynb Cell 16\u001b[0m in \u001b[0;36mtrain_data_loader\u001b[1;34m(model, data_loader, optimizer, criteria, epochs)\u001b[0m\n\u001b[0;32m      <a href='vscode-notebook-cell:/d%3A/EnglishStandardPath/Practice_File/22_fall/P_Machine_Learning/SUSTech-Machine-Learning-Lab-Solutions/Solutions/Lab7.Neural%20network/MINIST%E5%A4%9A%E4%BB%BB%E5%8A%A1%E5%AD%A6%E4%B9%A0.ipynb#X21sZmlsZQ%3D%3D?line=4'>5</a>\u001b[0m \u001b[39mfor\u001b[39;00m X, y \u001b[39min\u001b[39;00m data_loader:\n\u001b[0;32m      <a href='vscode-notebook-cell:/d%3A/EnglishStandardPath/Practice_File/22_fall/P_Machine_Learning/SUSTech-Machine-Learning-Lab-Solutions/Solutions/Lab7.Neural%20network/MINIST%E5%A4%9A%E4%BB%BB%E5%8A%A1%E5%AD%A6%E4%B9%A0.ipynb#X21sZmlsZQ%3D%3D?line=5'>6</a>\u001b[0m     optimizer\u001b[39m.\u001b[39mzero_grad()\n\u001b[1;32m----> <a href='vscode-notebook-cell:/d%3A/EnglishStandardPath/Practice_File/22_fall/P_Machine_Learning/SUSTech-Machine-Learning-Lab-Solutions/Solutions/Lab7.Neural%20network/MINIST%E5%A4%9A%E4%BB%BB%E5%8A%A1%E5%AD%A6%E4%B9%A0.ipynb#X21sZmlsZQ%3D%3D?line=6'>7</a>\u001b[0m     y_pred \u001b[39m=\u001b[39m model(X)\n\u001b[0;32m      <a href='vscode-notebook-cell:/d%3A/EnglishStandardPath/Practice_File/22_fall/P_Machine_Learning/SUSTech-Machine-Learning-Lab-Solutions/Solutions/Lab7.Neural%20network/MINIST%E5%A4%9A%E4%BB%BB%E5%8A%A1%E5%AD%A6%E4%B9%A0.ipynb#X21sZmlsZQ%3D%3D?line=7'>8</a>\u001b[0m     loss \u001b[39m=\u001b[39m criteria(y_pred, y)\n\u001b[0;32m      <a href='vscode-notebook-cell:/d%3A/EnglishStandardPath/Practice_File/22_fall/P_Machine_Learning/SUSTech-Machine-Learning-Lab-Solutions/Solutions/Lab7.Neural%20network/MINIST%E5%A4%9A%E4%BB%BB%E5%8A%A1%E5%AD%A6%E4%B9%A0.ipynb#X21sZmlsZQ%3D%3D?line=8'>9</a>\u001b[0m     loss\u001b[39m.\u001b[39mbackward()\n",
      "File \u001b[1;32md:\\EnglishStandardPath\\DevProgramsFile\\Python\\python39\\lib\\site-packages\\torch\\nn\\modules\\module.py:1130\u001b[0m, in \u001b[0;36mModule._call_impl\u001b[1;34m(self, *input, **kwargs)\u001b[0m\n\u001b[0;32m   1126\u001b[0m \u001b[39m# If we don't have any hooks, we want to skip the rest of the logic in\u001b[39;00m\n\u001b[0;32m   1127\u001b[0m \u001b[39m# this function, and just call forward.\u001b[39;00m\n\u001b[0;32m   1128\u001b[0m \u001b[39mif\u001b[39;00m \u001b[39mnot\u001b[39;00m (\u001b[39mself\u001b[39m\u001b[39m.\u001b[39m_backward_hooks \u001b[39mor\u001b[39;00m \u001b[39mself\u001b[39m\u001b[39m.\u001b[39m_forward_hooks \u001b[39mor\u001b[39;00m \u001b[39mself\u001b[39m\u001b[39m.\u001b[39m_forward_pre_hooks \u001b[39mor\u001b[39;00m _global_backward_hooks\n\u001b[0;32m   1129\u001b[0m         \u001b[39mor\u001b[39;00m _global_forward_hooks \u001b[39mor\u001b[39;00m _global_forward_pre_hooks):\n\u001b[1;32m-> 1130\u001b[0m     \u001b[39mreturn\u001b[39;00m forward_call(\u001b[39m*\u001b[39m\u001b[39minput\u001b[39m, \u001b[39m*\u001b[39m\u001b[39m*\u001b[39mkwargs)\n\u001b[0;32m   1131\u001b[0m \u001b[39m# Do not call functions when jit is used\u001b[39;00m\n\u001b[0;32m   1132\u001b[0m full_backward_hooks, non_full_backward_hooks \u001b[39m=\u001b[39m [], []\n",
      "\u001b[1;32md:\\EnglishStandardPath\\Practice_File\\22_fall\\P_Machine_Learning\\SUSTech-Machine-Learning-Lab-Solutions\\Solutions\\Lab7.Neural network\\MINIST多任务学习.ipynb Cell 16\u001b[0m in \u001b[0;36mShareBottom.forward\u001b[1;34m(self, img)\u001b[0m\n\u001b[0;32m     <a href='vscode-notebook-cell:/d%3A/EnglishStandardPath/Practice_File/22_fall/P_Machine_Learning/SUSTech-Machine-Learning-Lab-Solutions/Solutions/Lab7.Neural%20network/MINIST%E5%A4%9A%E4%BB%BB%E5%8A%A1%E5%AD%A6%E4%B9%A0.ipynb#X21sZmlsZQ%3D%3D?line=33'>34</a>\u001b[0m feature \u001b[39m=\u001b[39m \u001b[39mself\u001b[39m\u001b[39m.\u001b[39mconv(img)\n\u001b[0;32m     <a href='vscode-notebook-cell:/d%3A/EnglishStandardPath/Practice_File/22_fall/P_Machine_Learning/SUSTech-Machine-Learning-Lab-Solutions/Solutions/Lab7.Neural%20network/MINIST%E5%A4%9A%E4%BB%BB%E5%8A%A1%E5%AD%A6%E4%B9%A0.ipynb#X21sZmlsZQ%3D%3D?line=34'>35</a>\u001b[0m feature \u001b[39m=\u001b[39m feature\u001b[39m.\u001b[39mview(img\u001b[39m.\u001b[39mshape[\u001b[39m0\u001b[39m], \u001b[39m-\u001b[39m\u001b[39m1\u001b[39m)\n\u001b[1;32m---> <a href='vscode-notebook-cell:/d%3A/EnglishStandardPath/Practice_File/22_fall/P_Machine_Learning/SUSTech-Machine-Learning-Lab-Solutions/Solutions/Lab7.Neural%20network/MINIST%E5%A4%9A%E4%BB%BB%E5%8A%A1%E5%AD%A6%E4%B9%A0.ipynb#X21sZmlsZQ%3D%3D?line=35'>36</a>\u001b[0m out  \u001b[39m=\u001b[39m [tower(feature) \u001b[39mfor\u001b[39;00m tower \u001b[39min\u001b[39;00m \u001b[39mself\u001b[39m\u001b[39m.\u001b[39mtowers]\n\u001b[0;32m     <a href='vscode-notebook-cell:/d%3A/EnglishStandardPath/Practice_File/22_fall/P_Machine_Learning/SUSTech-Machine-Learning-Lab-Solutions/Solutions/Lab7.Neural%20network/MINIST%E5%A4%9A%E4%BB%BB%E5%8A%A1%E5%AD%A6%E4%B9%A0.ipynb#X21sZmlsZQ%3D%3D?line=36'>37</a>\u001b[0m \u001b[39mreturn\u001b[39;00m torch\u001b[39m.\u001b[39mcat(out, dim\u001b[39m=\u001b[39m\u001b[39m1\u001b[39m)\n",
      "\u001b[1;32md:\\EnglishStandardPath\\Practice_File\\22_fall\\P_Machine_Learning\\SUSTech-Machine-Learning-Lab-Solutions\\Solutions\\Lab7.Neural network\\MINIST多任务学习.ipynb Cell 16\u001b[0m in \u001b[0;36m<listcomp>\u001b[1;34m(.0)\u001b[0m\n\u001b[0;32m     <a href='vscode-notebook-cell:/d%3A/EnglishStandardPath/Practice_File/22_fall/P_Machine_Learning/SUSTech-Machine-Learning-Lab-Solutions/Solutions/Lab7.Neural%20network/MINIST%E5%A4%9A%E4%BB%BB%E5%8A%A1%E5%AD%A6%E4%B9%A0.ipynb#X21sZmlsZQ%3D%3D?line=33'>34</a>\u001b[0m feature \u001b[39m=\u001b[39m \u001b[39mself\u001b[39m\u001b[39m.\u001b[39mconv(img)\n\u001b[0;32m     <a href='vscode-notebook-cell:/d%3A/EnglishStandardPath/Practice_File/22_fall/P_Machine_Learning/SUSTech-Machine-Learning-Lab-Solutions/Solutions/Lab7.Neural%20network/MINIST%E5%A4%9A%E4%BB%BB%E5%8A%A1%E5%AD%A6%E4%B9%A0.ipynb#X21sZmlsZQ%3D%3D?line=34'>35</a>\u001b[0m feature \u001b[39m=\u001b[39m feature\u001b[39m.\u001b[39mview(img\u001b[39m.\u001b[39mshape[\u001b[39m0\u001b[39m], \u001b[39m-\u001b[39m\u001b[39m1\u001b[39m)\n\u001b[1;32m---> <a href='vscode-notebook-cell:/d%3A/EnglishStandardPath/Practice_File/22_fall/P_Machine_Learning/SUSTech-Machine-Learning-Lab-Solutions/Solutions/Lab7.Neural%20network/MINIST%E5%A4%9A%E4%BB%BB%E5%8A%A1%E5%AD%A6%E4%B9%A0.ipynb#X21sZmlsZQ%3D%3D?line=35'>36</a>\u001b[0m out  \u001b[39m=\u001b[39m [tower(feature) \u001b[39mfor\u001b[39;00m tower \u001b[39min\u001b[39;00m \u001b[39mself\u001b[39m\u001b[39m.\u001b[39mtowers]\n\u001b[0;32m     <a href='vscode-notebook-cell:/d%3A/EnglishStandardPath/Practice_File/22_fall/P_Machine_Learning/SUSTech-Machine-Learning-Lab-Solutions/Solutions/Lab7.Neural%20network/MINIST%E5%A4%9A%E4%BB%BB%E5%8A%A1%E5%AD%A6%E4%B9%A0.ipynb#X21sZmlsZQ%3D%3D?line=36'>37</a>\u001b[0m \u001b[39mreturn\u001b[39;00m torch\u001b[39m.\u001b[39mcat(out, dim\u001b[39m=\u001b[39m\u001b[39m1\u001b[39m)\n",
      "File \u001b[1;32md:\\EnglishStandardPath\\DevProgramsFile\\Python\\python39\\lib\\site-packages\\torch\\nn\\modules\\module.py:1130\u001b[0m, in \u001b[0;36mModule._call_impl\u001b[1;34m(self, *input, **kwargs)\u001b[0m\n\u001b[0;32m   1126\u001b[0m \u001b[39m# If we don't have any hooks, we want to skip the rest of the logic in\u001b[39;00m\n\u001b[0;32m   1127\u001b[0m \u001b[39m# this function, and just call forward.\u001b[39;00m\n\u001b[0;32m   1128\u001b[0m \u001b[39mif\u001b[39;00m \u001b[39mnot\u001b[39;00m (\u001b[39mself\u001b[39m\u001b[39m.\u001b[39m_backward_hooks \u001b[39mor\u001b[39;00m \u001b[39mself\u001b[39m\u001b[39m.\u001b[39m_forward_hooks \u001b[39mor\u001b[39;00m \u001b[39mself\u001b[39m\u001b[39m.\u001b[39m_forward_pre_hooks \u001b[39mor\u001b[39;00m _global_backward_hooks\n\u001b[0;32m   1129\u001b[0m         \u001b[39mor\u001b[39;00m _global_forward_hooks \u001b[39mor\u001b[39;00m _global_forward_pre_hooks):\n\u001b[1;32m-> 1130\u001b[0m     \u001b[39mreturn\u001b[39;00m forward_call(\u001b[39m*\u001b[39m\u001b[39minput\u001b[39m, \u001b[39m*\u001b[39m\u001b[39m*\u001b[39mkwargs)\n\u001b[0;32m   1131\u001b[0m \u001b[39m# Do not call functions when jit is used\u001b[39;00m\n\u001b[0;32m   1132\u001b[0m full_backward_hooks, non_full_backward_hooks \u001b[39m=\u001b[39m [], []\n",
      "File \u001b[1;32md:\\EnglishStandardPath\\DevProgramsFile\\Python\\python39\\lib\\site-packages\\torch\\nn\\modules\\container.py:139\u001b[0m, in \u001b[0;36mSequential.forward\u001b[1;34m(self, input)\u001b[0m\n\u001b[0;32m    137\u001b[0m \u001b[39mdef\u001b[39;00m \u001b[39mforward\u001b[39m(\u001b[39mself\u001b[39m, \u001b[39minput\u001b[39m):\n\u001b[0;32m    138\u001b[0m     \u001b[39mfor\u001b[39;00m module \u001b[39min\u001b[39;00m \u001b[39mself\u001b[39m:\n\u001b[1;32m--> 139\u001b[0m         \u001b[39minput\u001b[39m \u001b[39m=\u001b[39m module(\u001b[39minput\u001b[39;49m)\n\u001b[0;32m    140\u001b[0m     \u001b[39mreturn\u001b[39;00m \u001b[39minput\u001b[39m\n",
      "File \u001b[1;32md:\\EnglishStandardPath\\DevProgramsFile\\Python\\python39\\lib\\site-packages\\torch\\nn\\modules\\module.py:1130\u001b[0m, in \u001b[0;36mModule._call_impl\u001b[1;34m(self, *input, **kwargs)\u001b[0m\n\u001b[0;32m   1126\u001b[0m \u001b[39m# If we don't have any hooks, we want to skip the rest of the logic in\u001b[39;00m\n\u001b[0;32m   1127\u001b[0m \u001b[39m# this function, and just call forward.\u001b[39;00m\n\u001b[0;32m   1128\u001b[0m \u001b[39mif\u001b[39;00m \u001b[39mnot\u001b[39;00m (\u001b[39mself\u001b[39m\u001b[39m.\u001b[39m_backward_hooks \u001b[39mor\u001b[39;00m \u001b[39mself\u001b[39m\u001b[39m.\u001b[39m_forward_hooks \u001b[39mor\u001b[39;00m \u001b[39mself\u001b[39m\u001b[39m.\u001b[39m_forward_pre_hooks \u001b[39mor\u001b[39;00m _global_backward_hooks\n\u001b[0;32m   1129\u001b[0m         \u001b[39mor\u001b[39;00m _global_forward_hooks \u001b[39mor\u001b[39;00m _global_forward_pre_hooks):\n\u001b[1;32m-> 1130\u001b[0m     \u001b[39mreturn\u001b[39;00m forward_call(\u001b[39m*\u001b[39m\u001b[39minput\u001b[39m, \u001b[39m*\u001b[39m\u001b[39m*\u001b[39mkwargs)\n\u001b[0;32m   1131\u001b[0m \u001b[39m# Do not call functions when jit is used\u001b[39;00m\n\u001b[0;32m   1132\u001b[0m full_backward_hooks, non_full_backward_hooks \u001b[39m=\u001b[39m [], []\n",
      "File \u001b[1;32md:\\EnglishStandardPath\\DevProgramsFile\\Python\\python39\\lib\\site-packages\\torch\\nn\\modules\\activation.py:290\u001b[0m, in \u001b[0;36mSigmoid.forward\u001b[1;34m(self, input)\u001b[0m\n\u001b[0;32m    289\u001b[0m \u001b[39mdef\u001b[39;00m \u001b[39mforward\u001b[39m(\u001b[39mself\u001b[39m, \u001b[39minput\u001b[39m: Tensor) \u001b[39m-\u001b[39m\u001b[39m>\u001b[39m Tensor:\n\u001b[1;32m--> 290\u001b[0m     \u001b[39mreturn\u001b[39;00m torch\u001b[39m.\u001b[39;49msigmoid(\u001b[39minput\u001b[39;49m)\n",
      "\u001b[1;31mKeyboardInterrupt\u001b[0m: "
     ]
    }
   ],
   "source": [
    "########### Write Your Code Here ###########\n",
    "def train_data_loader(model, data_loader, optimizer, criteria, epochs=101):\n",
    "    model.train()\n",
    "    for epoch in range(epochs):\n",
    "        for X, y in data_loader:\n",
    "            optimizer.zero_grad()\n",
    "            y_pred = model(X)\n",
    "            loss = criteria(y_pred, y)\n",
    "            loss.backward()\n",
    "            optimizer.step()\n",
    "        if epoch % 10 == 0:\n",
    "            print(f\"epoch {epoch}, loss {loss.item()}\")\n",
    "train_data_loader(mlp_clf, train_loader, optimizer, criteria) #明智的选择是定义函数，而不是每次都写一遍\n",
    "############################################\n",
    "# 训练时间较长，后面我们存到了文件，可以直接加载"
   ]
  },
  {
   "cell_type": "code",
   "execution_count": null,
   "metadata": {},
   "outputs": [],
   "source": [
    "########### Write Your Code Here ###########\n",
    "def meta_balance_train(model, data_loader, optimizer, prob_onehot_loss, epochs=101):\n",
    "    model.train()\n",
    "    for epoch in range(epochs):\n",
    "        for X, y in data_loader:\n",
    "            optimizer.zero_grad()\n",
    "            y_pred = model(X)\n",
    "            y_prob = torch.softmax(y_pred, dim=1)\n",
    "            y_onehot = torch.zeros_like(y_prob)\n",
    "            y_onehot[:, y] = 1\n",
    "            losses = [prob_onehot_loss(y_prob[:, i], y_onehot) for i in range(10)]\n",
    "            def grad_norm(mod):\n",
    "                grad = [p.grad.flatten() for p in mod.parameters() if p.grad is not None]\n",
    "                c = torch.cat(grad)\n",
    "                return torch.norm(c)\n",
    "            # 不妨设主任务为0。\n",
    "            losses[0].backward()\n",
    "            G0 = grad_norm(model.conv)\n",
    "            for loss in losses[1:]:\n",
    "                \n",
    "                loss.backward()\n",
    "                G = grad_norm(model.conv)\n",
    "                \n",
    "                \n",
    "            optimizer.step()\n",
    "        if epoch % 10 == 0:\n",
    "            print(f\"epoch {epoch}, loss {loss.item()}\")\n",
    "meta_balance_train(mlp_clf, train_loader, optimizer, criteria) #明智的选择是定义函数，而不是每次都写一遍\n",
    "############################################\n",
    "# 训练时间较长，后面我们存到了文件，可以直接加载"
   ]
  },
  {
   "cell_type": "code",
   "execution_count": 25,
   "metadata": {},
   "outputs": [
    {
     "data": {
      "text/plain": [
       "tensor(0.)"
      ]
     },
     "execution_count": 25,
     "metadata": {},
     "output_type": "execute_result"
    }
   ],
   "source": [
    "mlp_clf.conv.parameters()\n",
    "mlp_clf.conv.zero_grad()\n",
    "grad = [p.grad.flatten() for p in mlp_clf.conv.parameters()]\n",
    "c = torch.cat(grad, dim=0)\n",
    "c.norm()\n",
    "# grad"
   ]
  },
  {
   "cell_type": "code",
   "execution_count": 31,
   "metadata": {},
   "outputs": [
    {
     "ename": "RuntimeError",
     "evalue": "Trying to backward through the graph a second time (or directly access saved tensors after they have already been freed). Saved intermediate values of the graph are freed when you call .backward() or autograd.grad(). Specify retain_graph=True if you need to backward through the graph a second time or if you need to access saved tensors after calling backward.",
     "output_type": "error",
     "traceback": [
      "\u001b[1;31m---------------------------------------------------------------------------\u001b[0m",
      "\u001b[1;31mRuntimeError\u001b[0m                              Traceback (most recent call last)",
      "\u001b[1;32md:\\EnglishStandardPath\\Practice_File\\22_fall\\P_Machine_Learning\\SUSTech-Machine-Learning-Lab-Solutions\\Solutions\\Lab7.Neural network\\MINIST多任务学习.ipynb Cell 19\u001b[0m in \u001b[0;36m<cell line: 5>\u001b[1;34m()\u001b[0m\n\u001b[0;32m      <a href='vscode-notebook-cell:/d%3A/EnglishStandardPath/Practice_File/22_fall/P_Machine_Learning/SUSTech-Machine-Learning-Lab-Solutions/Solutions/Lab7.Neural%20network/MINIST%E5%A4%9A%E4%BB%BB%E5%8A%A1%E5%AD%A6%E4%B9%A0.ipynb#X35sZmlsZQ%3D%3D?line=2'>3</a>\u001b[0m b\u001b[39m.\u001b[39msum()\u001b[39m.\u001b[39mbackward()\n\u001b[0;32m      <a href='vscode-notebook-cell:/d%3A/EnglishStandardPath/Practice_File/22_fall/P_Machine_Learning/SUSTech-Machine-Learning-Lab-Solutions/Solutions/Lab7.Neural%20network/MINIST%E5%A4%9A%E4%BB%BB%E5%8A%A1%E5%AD%A6%E4%B9%A0.ipynb#X35sZmlsZQ%3D%3D?line=3'>4</a>\u001b[0m a\u001b[39m.\u001b[39mgrad\n\u001b[1;32m----> <a href='vscode-notebook-cell:/d%3A/EnglishStandardPath/Practice_File/22_fall/P_Machine_Learning/SUSTech-Machine-Learning-Lab-Solutions/Solutions/Lab7.Neural%20network/MINIST%E5%A4%9A%E4%BB%BB%E5%8A%A1%E5%AD%A6%E4%B9%A0.ipynb#X35sZmlsZQ%3D%3D?line=4'>5</a>\u001b[0m b\u001b[39m.\u001b[39;49msum()\u001b[39m.\u001b[39;49mbackward()\n\u001b[0;32m      <a href='vscode-notebook-cell:/d%3A/EnglishStandardPath/Practice_File/22_fall/P_Machine_Learning/SUSTech-Machine-Learning-Lab-Solutions/Solutions/Lab7.Neural%20network/MINIST%E5%A4%9A%E4%BB%BB%E5%8A%A1%E5%AD%A6%E4%B9%A0.ipynb#X35sZmlsZQ%3D%3D?line=5'>6</a>\u001b[0m a\u001b[39m.\u001b[39mgrad\n",
      "File \u001b[1;32md:\\EnglishStandardPath\\DevProgramsFile\\Python\\python39\\lib\\site-packages\\torch\\_tensor.py:396\u001b[0m, in \u001b[0;36mTensor.backward\u001b[1;34m(self, gradient, retain_graph, create_graph, inputs)\u001b[0m\n\u001b[0;32m    387\u001b[0m \u001b[39mif\u001b[39;00m has_torch_function_unary(\u001b[39mself\u001b[39m):\n\u001b[0;32m    388\u001b[0m     \u001b[39mreturn\u001b[39;00m handle_torch_function(\n\u001b[0;32m    389\u001b[0m         Tensor\u001b[39m.\u001b[39mbackward,\n\u001b[0;32m    390\u001b[0m         (\u001b[39mself\u001b[39m,),\n\u001b[1;32m   (...)\u001b[0m\n\u001b[0;32m    394\u001b[0m         create_graph\u001b[39m=\u001b[39mcreate_graph,\n\u001b[0;32m    395\u001b[0m         inputs\u001b[39m=\u001b[39minputs)\n\u001b[1;32m--> 396\u001b[0m torch\u001b[39m.\u001b[39;49mautograd\u001b[39m.\u001b[39;49mbackward(\u001b[39mself\u001b[39;49m, gradient, retain_graph, create_graph, inputs\u001b[39m=\u001b[39;49minputs)\n",
      "File \u001b[1;32md:\\EnglishStandardPath\\DevProgramsFile\\Python\\python39\\lib\\site-packages\\torch\\autograd\\__init__.py:173\u001b[0m, in \u001b[0;36mbackward\u001b[1;34m(tensors, grad_tensors, retain_graph, create_graph, grad_variables, inputs)\u001b[0m\n\u001b[0;32m    168\u001b[0m     retain_graph \u001b[39m=\u001b[39m create_graph\n\u001b[0;32m    170\u001b[0m \u001b[39m# The reason we repeat same the comment below is that\u001b[39;00m\n\u001b[0;32m    171\u001b[0m \u001b[39m# some Python versions print out the first line of a multi-line function\u001b[39;00m\n\u001b[0;32m    172\u001b[0m \u001b[39m# calls in the traceback and some print out the last line\u001b[39;00m\n\u001b[1;32m--> 173\u001b[0m Variable\u001b[39m.\u001b[39;49m_execution_engine\u001b[39m.\u001b[39;49mrun_backward(  \u001b[39m# Calls into the C++ engine to run the backward pass\u001b[39;49;00m\n\u001b[0;32m    174\u001b[0m     tensors, grad_tensors_, retain_graph, create_graph, inputs,\n\u001b[0;32m    175\u001b[0m     allow_unreachable\u001b[39m=\u001b[39;49m\u001b[39mTrue\u001b[39;49;00m, accumulate_grad\u001b[39m=\u001b[39;49m\u001b[39mTrue\u001b[39;49;00m)\n",
      "\u001b[1;31mRuntimeError\u001b[0m: Trying to backward through the graph a second time (or directly access saved tensors after they have already been freed). Saved intermediate values of the graph are freed when you call .backward() or autograd.grad(). Specify retain_graph=True if you need to backward through the graph a second time or if you need to access saved tensors after calling backward."
     ]
    }
   ],
   "source": [
    "a = torch.randn(2, 3, requires_grad=True)\n",
    "b = a*3\n",
    "b.sum().backward()\n",
    "a.grad\n",
    "b.sum().backward()\n",
    "a.grad\n"
   ]
  },
  {
   "cell_type": "code",
   "execution_count": 15,
   "metadata": {},
   "outputs": [
    {
     "name": "stdout",
     "output_type": "stream",
     "text": [
      "Saved PyTorch Model State to share_bottom.pth\n"
     ]
    }
   ],
   "source": [
    "torch.save(mlp_clf.state_dict(), \"share_bottom.pth\")\n",
    "print(\"Saved PyTorch Model State to share_bottom.pth\")"
   ]
  },
  {
   "cell_type": "code",
   "execution_count": 4,
   "metadata": {},
   "outputs": [
    {
     "ename": "NameError",
     "evalue": "name 'ReallyDeepMLP' is not defined",
     "output_type": "error",
     "traceback": [
      "\u001b[1;31m---------------------------------------------------------------------------\u001b[0m",
      "\u001b[1;31mNameError\u001b[0m                                 Traceback (most recent call last)",
      "\u001b[1;32md:\\EnglishStandardPath\\Practice_File\\22_fall\\P_Machine_Learning\\SUSTech-Machine-Learning-Lab-Solutions\\Solutions\\Lab7.Neural network\\MINIST多任务学习.ipynb Cell 18\u001b[0m in \u001b[0;36m<cell line: 1>\u001b[1;34m()\u001b[0m\n\u001b[1;32m----> <a href='vscode-notebook-cell:/d%3A/EnglishStandardPath/Practice_File/22_fall/P_Machine_Learning/SUSTech-Machine-Learning-Lab-Solutions/Solutions/Lab7.Neural%20network/MINIST%E5%A4%9A%E4%BB%BB%E5%8A%A1%E5%AD%A6%E4%B9%A0.ipynb#X23sZmlsZQ%3D%3D?line=0'>1</a>\u001b[0m mlp_clf \u001b[39m=\u001b[39m ReallyDeepMLP() \u001b[39m# 需要时同一个类型的model\u001b[39;00m\n\u001b[0;32m      <a href='vscode-notebook-cell:/d%3A/EnglishStandardPath/Practice_File/22_fall/P_Machine_Learning/SUSTech-Machine-Learning-Lab-Solutions/Solutions/Lab7.Neural%20network/MINIST%E5%A4%9A%E4%BB%BB%E5%8A%A1%E5%AD%A6%E4%B9%A0.ipynb#X23sZmlsZQ%3D%3D?line=1'>2</a>\u001b[0m mlp_clf\u001b[39m.\u001b[39mload_state_dict(torch\u001b[39m.\u001b[39mload(\u001b[39m\"\u001b[39m\u001b[39mnet.pth\u001b[39m\u001b[39m\"\u001b[39m))\n",
      "\u001b[1;31mNameError\u001b[0m: name 'ReallyDeepMLP' is not defined"
     ]
    }
   ],
   "source": [
    "mlp_clf = ShareBottom() # 需要时同一个类型的model\n",
    "mlp_clf.load_state_dict(torch.load(\"share_bottom.pth\"))"
   ]
  },
  {
   "cell_type": "markdown",
   "metadata": {
    "collapsed": false,
    "pycharm": {
     "name": "#%% md\n"
    }
   },
   "source": [
    "+ Model Performance"
   ]
  },
  {
   "cell_type": "code",
   "execution_count": 13,
   "metadata": {
    "collapsed": false,
    "pycharm": {
     "name": "#%%\n"
    }
   },
   "outputs": [
    {
     "name": "stderr",
     "output_type": "stream",
     "text": [
      "d:\\EnglishStandardPath\\DevProgramsFile\\Python\\python39\\lib\\site-packages\\torchvision\\datasets\\mnist.py:80: UserWarning: test_data has been renamed data\n",
      "  warnings.warn(\"test_data has been renamed data\")\n",
      "d:\\EnglishStandardPath\\DevProgramsFile\\Python\\python39\\lib\\site-packages\\torchvision\\datasets\\mnist.py:70: UserWarning: test_labels has been renamed targets\n",
      "  warnings.warn(\"test_labels has been renamed targets\")\n",
      "C:\\Users\\YeCanming\\AppData\\Local\\Temp\\ipykernel_30484\\3406663984.py:4: UserWarning: To copy construct from a tensor, it is recommended to use sourceTensor.clone().detach() or sourceTensor.clone().detach().requires_grad_(True), rather than torch.tensor(sourceTensor).\n",
      "  criteria(y_pred, torch.tensor(test_data.test_labels))\n"
     ]
    },
    {
     "data": {
      "text/plain": [
       "tensor(0.2657, grad_fn=<NllLossBackward0>)"
      ]
     },
     "execution_count": 13,
     "metadata": {},
     "output_type": "execute_result"
    }
   ],
   "source": [
    "########### Write Your Code Here ###########\n",
    "mlp_clf.eval()\n",
    "y_pred = mlp_clf(test_data.test_data.reshape(10000, 1, 28, 28).float())\n",
    "criteria(y_pred, torch.tensor(test_data.test_labels))\n",
    "############################################"
   ]
  },
  {
   "cell_type": "code",
   "execution_count": 130,
   "metadata": {},
   "outputs": [
    {
     "data": {
      "text/plain": [
       "torch.Size([10000, 10])"
      ]
     },
     "execution_count": 130,
     "metadata": {},
     "output_type": "execute_result"
    }
   ],
   "source": [
    "y_pred.shape\n",
    "# y_pred[0]\n",
    "# torch.argmax(y_pred, axis=1)"
   ]
  },
  {
   "cell_type": "code",
   "execution_count": 14,
   "metadata": {
    "collapsed": false,
    "pycharm": {
     "name": "#%%\n"
    }
   },
   "outputs": [
    {
     "name": "stdout",
     "output_type": "stream",
     "text": [
      "ShareBottom accuracy = 0.9232\n",
      "fper=[0.00000000e+00 0.00000000e+00 0.00000000e+00 1.10864745e-04\n",
      " 1.10864745e-04 2.21729490e-04 2.21729490e-04 3.32594235e-04\n",
      " 3.32594235e-04 4.43458980e-04 4.43458980e-04 5.54323725e-04\n",
      " 5.54323725e-04 6.65188470e-04 6.65188470e-04 8.86917960e-04\n",
      " 8.86917960e-04 9.97782705e-04 9.97782705e-04 1.33037694e-03\n",
      " 1.33037694e-03 1.44124169e-03 1.44124169e-03 1.55210643e-03\n",
      " 1.55210643e-03 1.77383592e-03 1.77383592e-03 2.21729490e-03\n",
      " 2.21729490e-03 2.32815965e-03 2.32815965e-03 2.43902439e-03\n",
      " 2.43902439e-03 3.10421286e-03 3.10421286e-03 3.54767184e-03\n",
      " 3.54767184e-03 3.76940133e-03 3.76940133e-03 3.88026608e-03\n",
      " 3.88026608e-03 3.99113082e-03 3.99113082e-03 4.43458980e-03\n",
      " 4.43458980e-03 4.65631929e-03 4.65631929e-03 4.87804878e-03\n",
      " 4.87804878e-03 4.98891353e-03 4.98891353e-03 5.09977827e-03\n",
      " 5.09977827e-03 5.21064302e-03 5.21064302e-03 5.65410200e-03\n",
      " 5.65410200e-03 6.20842572e-03 6.20842572e-03 6.43015521e-03\n",
      " 6.43015521e-03 8.53658537e-03 8.53658537e-03 8.75831486e-03\n",
      " 8.75831486e-03 8.86917960e-03 8.86917960e-03 8.98004435e-03\n",
      " 8.98004435e-03 9.20177384e-03 9.20177384e-03 9.53436807e-03\n",
      " 9.53436807e-03 9.75609756e-03 9.75609756e-03 1.06430155e-02\n",
      " 1.06430155e-02 1.07538803e-02 1.07538803e-02 1.14190687e-02\n",
      " 1.14190687e-02 1.23059867e-02 1.23059867e-02 1.28603104e-02\n",
      " 1.28603104e-02 1.41906874e-02 1.41906874e-02 1.45232816e-02\n",
      " 1.45232816e-02 1.60753880e-02 1.60753880e-02 1.94013304e-02\n",
      " 1.94013304e-02 2.02882483e-02 2.02882483e-02 2.05099778e-02\n",
      " 2.05099778e-02 2.20620843e-02 2.20620843e-02 2.68292683e-02\n",
      " 2.68292683e-02 2.87139690e-02 2.87139690e-02 3.35920177e-02\n",
      " 3.35920177e-02 3.78048780e-02 3.78048780e-02 4.09090909e-02\n",
      " 4.09090909e-02 4.47893570e-02 4.47893570e-02 4.70066519e-02\n",
      " 4.70066519e-02 5.27716186e-02 5.27716186e-02 6.47450111e-02\n",
      " 6.47450111e-02 8.92461197e-02 8.92461197e-02 9.78935698e-02\n",
      " 9.78935698e-02 1.49002217e-01 1.49002217e-01 2.12416851e-01\n",
      " 2.12638581e-01 2.81818182e-01 2.82039911e-01 3.31263858e-01\n",
      " 3.31485588e-01 3.57538803e-01 3.57760532e-01 3.67849224e-01\n",
      " 3.68070953e-01 3.86141907e-01 3.86363636e-01 3.99002217e-01\n",
      " 3.99223947e-01 4.01219512e-01 4.01441242e-01 4.02217295e-01\n",
      " 4.02439024e-01 4.42017738e-01 4.42239468e-01 4.51995565e-01\n",
      " 4.52217295e-01 4.54323725e-01 4.54545455e-01 4.57538803e-01\n",
      " 4.57760532e-01 4.63747228e-01 4.63968958e-01 4.77937916e-01\n",
      " 4.78159645e-01 4.80931264e-01 4.81152993e-01 4.89467849e-01\n",
      " 4.89689579e-01 4.91463415e-01 4.91685144e-01 4.92239468e-01\n",
      " 4.92461197e-01 4.94567627e-01 4.94789357e-01 5.36917960e-01\n",
      " 5.37139690e-01 5.39356984e-01 5.39578714e-01 5.59866962e-01\n",
      " 5.60088692e-01 5.64301552e-01 5.64523282e-01 5.78270510e-01\n",
      " 5.78492239e-01 5.89246120e-01 5.89467849e-01 5.96119734e-01\n",
      " 5.96341463e-01 6.00554324e-01 6.00776053e-01 6.03325942e-01\n",
      " 6.03547672e-01 6.07982262e-01 6.08203991e-01 6.08980044e-01\n",
      " 6.09201774e-01 6.12971175e-01 6.13192905e-01 6.22616408e-01\n",
      " 6.22838137e-01 6.24168514e-01 6.24390244e-01 6.32372506e-01\n",
      " 6.32594235e-01 6.35476718e-01 6.35698448e-01 6.43237251e-01\n",
      " 6.43458980e-01 6.44900222e-01 6.45121951e-01 6.46341463e-01\n",
      " 6.46563193e-01 6.56873614e-01 6.57095344e-01 6.64745011e-01\n",
      " 6.64966741e-01 6.76385809e-01 6.76718404e-01 6.78824834e-01\n",
      " 6.79046563e-01 6.81374723e-01 6.81596452e-01 6.83259424e-01\n",
      " 6.83481153e-01 6.84368071e-01 6.84589800e-01 6.85144124e-01\n",
      " 6.85365854e-01 6.91463415e-01 6.91685144e-01 6.92461197e-01\n",
      " 6.92682927e-01 6.98669623e-01 6.98891353e-01 7.00665188e-01\n",
      " 7.00886918e-01 7.03769401e-01 7.03991131e-01 7.06873614e-01\n",
      " 7.07095344e-01 7.10088692e-01 7.10310421e-01 7.14079823e-01\n",
      " 7.14301552e-01 7.16962306e-01 7.17184035e-01 7.28603104e-01\n",
      " 7.28824834e-01 7.41906874e-01 7.42128603e-01 7.53547672e-01\n",
      " 7.53769401e-01 7.54212860e-01 7.54434590e-01 7.55210643e-01\n",
      " 7.55432373e-01 7.56541020e-01 7.56762749e-01 7.59312639e-01\n",
      " 7.59534368e-01 7.63192905e-01 7.63414634e-01 7.63858093e-01\n",
      " 7.64079823e-01 7.65853659e-01 7.66075388e-01 7.69290466e-01\n",
      " 7.69512195e-01 7.70509978e-01 7.70731707e-01 7.72172949e-01\n",
      " 7.72394678e-01 7.73946785e-01 7.74168514e-01 7.77050998e-01\n",
      " 7.77272727e-01 7.82705100e-01 7.82926829e-01 7.83370288e-01\n",
      " 7.83592018e-01 7.84589800e-01 7.84811530e-01 7.88137472e-01\n",
      " 7.88359202e-01 7.92128603e-01 7.92350333e-01 7.98780488e-01\n",
      " 7.99002217e-01 7.99113082e-01 7.99334812e-01 8.01219512e-01\n",
      " 8.01552106e-01 8.01995565e-01 8.02217295e-01 8.03880266e-01\n",
      " 8.04101996e-01 8.05432373e-01 8.05654102e-01 8.10864745e-01\n",
      " 8.11197339e-01 8.14745011e-01 8.14966741e-01 8.15631929e-01\n",
      " 8.15853659e-01 8.17405765e-01 8.17627494e-01 8.18070953e-01\n",
      " 8.18292683e-01 8.22172949e-01 8.22394678e-01 8.23059867e-01\n",
      " 8.23281596e-01 8.23725055e-01 8.24168514e-01 8.29046563e-01\n",
      " 8.29268293e-01 8.29711752e-01 8.29933481e-01 8.31374723e-01\n",
      " 8.31596452e-01 8.33924612e-01 8.34146341e-01 8.36917960e-01\n",
      " 8.37139690e-01 8.38359202e-01 8.38580931e-01 8.46008869e-01\n",
      " 8.46230599e-01 8.48115299e-01 8.48337029e-01 8.50110865e-01\n",
      " 8.50332594e-01 8.50443459e-01 8.50665188e-01 8.51330377e-01\n",
      " 8.51552106e-01 8.52549889e-01 8.52771619e-01 8.54323725e-01\n",
      " 8.54545455e-01 8.57317073e-01 8.57538803e-01 8.58869180e-01\n",
      " 8.59090909e-01 8.59977827e-01 8.60199557e-01 8.61862528e-01\n",
      " 8.62084257e-01 8.62971175e-01 8.63192905e-01 8.66518847e-01\n",
      " 8.66740576e-01 8.67073171e-01 8.67294900e-01 8.67738359e-01\n",
      " 8.67960089e-01 8.72283814e-01 8.72505543e-01 8.73059867e-01\n",
      " 8.73392461e-01 8.73725055e-01 8.73946785e-01 8.74722838e-01\n",
      " 8.74944568e-01 8.75277162e-01 8.75498891e-01 8.75720621e-01\n",
      " 8.75942350e-01 8.76385809e-01 8.76607539e-01 8.77937916e-01\n",
      " 8.78159645e-01 8.79711752e-01 8.79933481e-01 8.80155211e-01\n",
      " 8.80376940e-01 8.80931264e-01 8.81152993e-01 8.82372506e-01\n",
      " 8.82594235e-01 8.84146341e-01 8.84368071e-01 8.86141907e-01\n",
      " 8.86363636e-01 8.87583149e-01 8.87804878e-01 8.88359202e-01\n",
      " 8.88580931e-01 8.88913525e-01 8.89135255e-01 8.90354767e-01\n",
      " 8.90576497e-01 8.91463415e-01 8.91685144e-01 8.92572062e-01\n",
      " 8.92793792e-01 8.92904656e-01 8.93126386e-01 8.93458980e-01\n",
      " 8.93680710e-01 8.94345898e-01 8.94567627e-01 8.94789357e-01\n",
      " 8.95011086e-01 8.96452328e-01 8.96674058e-01 8.99445676e-01\n",
      " 8.99667406e-01 9.00332594e-01 9.00665188e-01 9.00997783e-01\n",
      " 9.01219512e-01 9.01330377e-01 9.01552106e-01 9.02328160e-01\n",
      " 9.02549889e-01 9.02882483e-01 9.03104213e-01 9.03436807e-01\n",
      " 9.03658537e-01 9.05099778e-01 9.05543237e-01 9.06208426e-01\n",
      " 9.06430155e-01 9.07206208e-01 9.07427938e-01 9.10421286e-01\n",
      " 9.10643016e-01 9.11086475e-01 9.11529933e-01 9.11862528e-01\n",
      " 9.12084257e-01 9.12860310e-01 9.13082040e-01 9.16297118e-01\n",
      " 9.16518847e-01 9.17738359e-01 9.17960089e-01 9.20953437e-01\n",
      " 9.21175166e-01 9.22394678e-01 9.22616408e-01 9.22838137e-01\n",
      " 9.23059867e-01 9.30376940e-01 9.30598670e-01 9.30820399e-01\n",
      " 9.31042129e-01 9.35809313e-01 9.36031042e-01 9.40687361e-01\n",
      " 9.40909091e-01 9.41019956e-01 9.41241685e-01 9.41906874e-01\n",
      " 9.42128603e-01 9.43458980e-01 9.43680710e-01 9.46008869e-01\n",
      " 9.46230599e-01 9.49002217e-01 9.49223947e-01 9.49556541e-01\n",
      " 9.49778271e-01 9.51330377e-01 9.51552106e-01 9.53104213e-01\n",
      " 9.53325942e-01 9.55432373e-01 9.55875831e-01 9.56097561e-01\n",
      " 9.56319290e-01 9.59201774e-01 9.59423503e-01 9.68403548e-01\n",
      " 9.68625277e-01 9.69290466e-01 9.69623060e-01 9.71951220e-01\n",
      " 9.72172949e-01 9.73725055e-01 9.73946785e-01 9.74279379e-01\n",
      " 9.74501109e-01 9.78824834e-01 9.79046563e-01 9.84589800e-01\n",
      " 9.84811530e-01 9.85365854e-01 9.85587583e-01 9.89800443e-01\n",
      " 9.90022173e-01 1.00000000e+00], tper=[0.         0.00102041 0.5        0.5        0.79795918 0.79795918\n",
      " 0.87142857 0.87142857 0.8744898  0.8744898  0.87653061 0.87653061\n",
      " 0.90102041 0.90102041 0.9122449  0.9122449  0.92040816 0.92040816\n",
      " 0.9244898  0.9244898  0.92653061 0.92653061 0.93163265 0.93163265\n",
      " 0.93367347 0.93367347 0.9377551  0.9377551  0.94285714 0.94285714\n",
      " 0.94387755 0.94387755 0.94489796 0.94489796 0.94591837 0.94591837\n",
      " 0.94693878 0.94693878 0.94795918 0.94795918 0.95       0.95\n",
      " 0.95102041 0.95102041 0.95204082 0.95204082 0.95306122 0.95306122\n",
      " 0.95510204 0.95510204 0.95714286 0.95714286 0.95816327 0.95816327\n",
      " 0.95918367 0.95918367 0.9622449  0.9622449  0.96326531 0.96326531\n",
      " 0.96632653 0.96632653 0.96734694 0.96734694 0.96836735 0.96836735\n",
      " 0.96938776 0.96938776 0.97142857 0.97142857 0.97244898 0.97244898\n",
      " 0.97346939 0.97346939 0.9744898  0.9744898  0.9755102  0.9755102\n",
      " 0.97653061 0.97653061 0.97755102 0.97755102 0.97857143 0.97857143\n",
      " 0.97959184 0.97959184 0.98061224 0.98061224 0.98163265 0.98163265\n",
      " 0.98265306 0.98265306 0.98367347 0.98367347 0.98469388 0.98469388\n",
      " 0.98571429 0.98571429 0.98673469 0.98673469 0.98877551 0.98877551\n",
      " 0.98979592 0.98979592 0.99081633 0.99081633 0.99183673 0.99183673\n",
      " 0.99285714 0.99285714 0.99387755 0.99387755 0.99489796 0.99489796\n",
      " 0.99591837 0.99591837 0.99693878 0.99693878 0.99795918 0.99795918\n",
      " 0.99897959 0.99897959 1.         1.         1.         1.\n",
      " 1.         1.         1.         1.         1.         1.\n",
      " 1.         1.         1.         1.         1.         1.\n",
      " 1.         1.         1.         1.         1.         1.\n",
      " 1.         1.         1.         1.         1.         1.\n",
      " 1.         1.         1.         1.         1.         1.\n",
      " 1.         1.         1.         1.         1.         1.\n",
      " 1.         1.         1.         1.         1.         1.\n",
      " 1.         1.         1.         1.         1.         1.\n",
      " 1.         1.         1.         1.         1.         1.\n",
      " 1.         1.         1.         1.         1.         1.\n",
      " 1.         1.         1.         1.         1.         1.\n",
      " 1.         1.         1.         1.         1.         1.\n",
      " 1.         1.         1.         1.         1.         1.\n",
      " 1.         1.         1.         1.         1.         1.\n",
      " 1.         1.         1.         1.         1.         1.\n",
      " 1.         1.         1.         1.         1.         1.\n",
      " 1.         1.         1.         1.         1.         1.\n",
      " 1.         1.         1.         1.         1.         1.\n",
      " 1.         1.         1.         1.         1.         1.\n",
      " 1.         1.         1.         1.         1.         1.\n",
      " 1.         1.         1.         1.         1.         1.\n",
      " 1.         1.         1.         1.         1.         1.\n",
      " 1.         1.         1.         1.         1.         1.\n",
      " 1.         1.         1.         1.         1.         1.\n",
      " 1.         1.         1.         1.         1.         1.\n",
      " 1.         1.         1.         1.         1.         1.\n",
      " 1.         1.         1.         1.         1.         1.\n",
      " 1.         1.         1.         1.         1.         1.\n",
      " 1.         1.         1.         1.         1.         1.\n",
      " 1.         1.         1.         1.         1.         1.\n",
      " 1.         1.         1.         1.         1.         1.\n",
      " 1.         1.         1.         1.         1.         1.\n",
      " 1.         1.         1.         1.         1.         1.\n",
      " 1.         1.         1.         1.         1.         1.\n",
      " 1.         1.         1.         1.         1.         1.\n",
      " 1.         1.         1.         1.         1.         1.\n",
      " 1.         1.         1.         1.         1.         1.\n",
      " 1.         1.         1.         1.         1.         1.\n",
      " 1.         1.         1.         1.         1.         1.\n",
      " 1.         1.         1.         1.         1.         1.\n",
      " 1.         1.         1.         1.         1.         1.\n",
      " 1.         1.         1.         1.         1.         1.\n",
      " 1.         1.         1.         1.         1.         1.\n",
      " 1.         1.         1.         1.         1.         1.\n",
      " 1.         1.         1.         1.         1.         1.\n",
      " 1.         1.         1.         1.         1.         1.\n",
      " 1.         1.         1.         1.         1.         1.\n",
      " 1.         1.         1.         1.         1.         1.\n",
      " 1.         1.         1.         1.         1.         1.\n",
      " 1.         1.         1.         1.         1.         1.\n",
      " 1.         1.         1.         1.         1.         1.\n",
      " 1.         1.         1.         1.         1.         1.\n",
      " 1.         1.         1.         1.         1.         1.\n",
      " 1.         1.         1.         1.         1.         1.\n",
      " 1.         1.         1.         1.         1.         1.\n",
      " 1.         1.         1.         1.         1.         1.\n",
      " 1.         1.         1.         1.         1.         1.\n",
      " 1.         1.         1.         1.         1.         1.\n",
      " 1.         1.         1.         1.         1.         1.\n",
      " 1.         1.        ], thresholds=[ 7.806894    6.806894    6.167357    6.167066    5.380076    5.3759456\n",
      "  4.8238463   4.8090606   4.793086    4.78314     4.7687845   4.750482\n",
      "  4.3975716   4.3801427   4.26009     4.219986    4.1250834   4.1199746\n",
      "  4.050984    4.0181837   3.994434    3.9939692   3.9463904   3.9210703\n",
      "  3.9160297   3.8973014   3.84068     3.805897    3.7502444   3.7494721\n",
      "  3.7446468   3.7154348   3.713834    3.673884    3.658597    3.614586\n",
      "  3.608283    3.5968878   3.57402     3.5329268   3.5033538   3.499256\n",
      "  3.4912612   3.4400373   3.4191353   3.413329    3.403683    3.347796\n",
      "  3.340017    3.3318384   3.2910473   3.2846699   3.2730708   3.269609\n",
      "  3.2620313   3.1584604   3.118401    3.011484    2.914678    2.900327\n",
      "  2.8258142   2.5344949   2.5173862   2.4928372   2.4918306   2.4866161\n",
      "  2.4859877   2.484737    2.4723036   2.4431698   2.433658    2.3753972\n",
      "  2.354899    2.272204    2.2608593   2.0733817   2.0254204   2.0214589\n",
      "  2.018596    1.9477316   1.9099287   1.706736    1.6858951   1.632325\n",
      "  1.6281184   1.4472657   1.440653    1.3995466   1.3948561   1.182487\n",
      "  1.1632338   0.73014754  0.7245767   0.6445874   0.6371013   0.63236403\n",
      "  0.62110895  0.42203677  0.39596534 -0.079264   -0.09683286 -0.2686923\n",
      " -0.27132124 -0.79470515 -0.8073392  -1.1456375  -1.1666772  -1.3574301\n",
      " -1.3585812  -1.5536495  -1.5566155  -1.6483911  -1.6554675  -1.9743717\n",
      " -1.9786991  -2.4133399  -2.4140031  -2.9245408  -2.925015   -3.0148246\n",
      " -3.015198   -3.294419   -3.2944372  -3.3892572  -3.3894427  -3.421827\n",
      " -3.4218276  -3.4335666  -3.4335828  -3.4393525  -3.4393551  -3.4413183\n",
      " -3.4413211  -3.4444492  -3.444472   -3.4469671  -3.4470031  -3.4472272\n",
      " -3.4472501  -3.4473886  -3.4473937  -3.453354   -3.453373   -3.4549763\n",
      " -3.4549768  -3.4552157  -3.4552186  -3.4557087  -3.4557135  -3.4565008\n",
      " -3.4565182  -3.4582746  -3.4582832  -3.45858    -3.4585874  -3.45961\n",
      " -3.4597044  -3.4599655  -3.4600043  -3.460052   -3.4600565  -3.4603455\n",
      " -3.4603498  -3.4651382  -3.4651482  -3.4653523  -3.4653904  -3.467365\n",
      " -3.467367   -3.467737   -3.467746   -3.4691179  -3.469135   -3.4699132\n",
      " -3.4699168  -3.4704854  -3.4704945  -3.4707897  -3.4707987  -3.4709337\n",
      " -3.4709346  -3.471256   -3.4712727  -3.4713614  -3.4713748  -3.4716775\n",
      " -3.4716856  -3.4723728  -3.4723742  -3.4724758  -3.4725     -3.4730933\n",
      " -3.4730945  -3.473254   -3.4732645  -3.4738085  -3.473819   -3.4738896\n",
      " -3.4738925  -3.4739835  -3.4739845  -3.4746253  -3.4746258  -3.475149\n",
      " -3.4751494  -3.4757113  -3.4757307  -3.4758425  -3.475845   -3.4759881\n",
      " -3.475996   -3.476158   -3.4761612  -3.4762084  -3.4762099  -3.4762304\n",
      " -3.4762354  -3.4765074  -3.4765096  -3.476534   -3.4765341  -3.4768815\n",
      " -3.4768894  -3.4769423  -3.4769533  -3.4771252  -3.477136   -3.477276\n",
      " -3.4772856  -3.4774024  -3.477413   -3.4775777  -3.4775903  -3.4776952\n",
      " -3.4777057  -3.478234   -3.4782364  -3.4787085  -3.4787147  -3.479137\n",
      " -3.4791381  -3.4791448  -3.4791472  -3.479179   -3.4791849  -3.47921\n",
      " -3.4792137  -3.47932    -3.479326   -3.4794283  -3.4794304  -3.4794495\n",
      " -3.4794571  -3.479521   -3.4795234  -3.4796422  -3.4796445  -3.4796894\n",
      " -3.4796903  -3.479727   -3.4797351  -3.47977    -3.4797702  -3.4798577\n",
      " -3.479862   -3.4800165  -3.4800193  -3.4800332  -3.4800346  -3.4800644\n",
      " -3.480065   -3.480183   -3.4801862  -3.4802868  -3.4802918  -3.48047\n",
      " -3.4804704  -3.4804742  -3.48048    -3.480533   -3.4805348  -3.480549\n",
      " -3.480551   -3.4805803  -3.480581   -3.4806228  -3.480624   -3.4807749\n",
      " -3.480777   -3.4808676  -3.4808733  -3.4808915  -3.4808924  -3.480936\n",
      " -3.4809368  -3.4809437  -3.4809482  -3.4810333  -3.481034   -3.481051\n",
      " -3.4810545  -3.4810624  -3.4810674  -3.481206   -3.48121    -3.4812186\n",
      " -3.4812193  -3.48125    -3.481252   -3.4813187  -3.4813192  -3.481368\n",
      " -3.4813726  -3.48139    -3.4813912  -3.481547   -3.481552   -3.4815743\n",
      " -3.4815748  -3.4816172  -3.4816227  -3.4816232  -3.481629   -3.4816365\n",
      " -3.4816377  -3.4816506  -3.4816544  -3.4816806  -3.4816878  -3.4817536\n",
      " -3.4817545  -3.4817765  -3.481777   -3.4817903  -3.4817936  -3.4818256\n",
      " -3.4818275  -3.4818451  -3.481848   -3.481909   -3.4819117  -3.4819145\n",
      " -3.4819162  -3.4819214  -3.4819233  -3.4820132  -3.4820142  -3.4820268\n",
      " -3.4820306  -3.482034   -3.4820435  -3.4820557  -3.482062   -3.482069\n",
      " -3.4820702  -3.4820745  -3.482076   -3.4820797  -3.4820821  -3.482103\n",
      " -3.4821088  -3.4821455  -3.4821475  -3.4821494  -3.482155   -3.4821668\n",
      " -3.4821732  -3.482194   -3.4821959  -3.4822261  -3.4822266  -3.4822547\n",
      " -3.48226    -3.482278   -3.482282   -3.482291   -3.4822915  -3.4822986\n",
      " -3.4823015  -3.4823241  -3.4823258  -3.4823368  -3.4823372  -3.482364\n",
      " -3.482365   -3.482366   -3.4823673  -3.4823732  -3.4823754  -3.4823952\n",
      " -3.4823966  -3.4824038  -3.4824045  -3.4824193  -3.4824216  -3.4824722\n",
      " -3.4824727  -3.4824898  -3.4824917  -3.4824944  -3.482495   -3.4824958\n",
      " -3.482496   -3.4825118  -3.482512   -3.4825158  -3.482516   -3.4825184\n",
      " -3.4825194  -3.4825494  -3.482557   -3.4825644  -3.4825666  -3.4825797\n",
      " -3.48258    -3.4826267  -3.4826272  -3.4826338  -3.4826353  -3.4826386\n",
      " -3.4826415  -3.4826567  -3.4826584  -3.4827259  -3.4827278  -3.4827445\n",
      " -3.482745   -3.4827895  -3.4827898  -3.4828074  -3.4828079  -3.4828126\n",
      " -3.4828131  -3.4829242  -3.4829247  -3.48293    -3.4829316  -3.4830005\n",
      " -3.4830012  -3.4830828  -3.4830837  -3.483089   -3.483092   -3.483105\n",
      " -3.4831054  -3.483135   -3.4831364  -3.483187   -3.4831917  -3.4832761\n",
      " -3.4832776  -3.4832847  -3.4832861  -3.4833238  -3.4833262  -3.4833634\n",
      " -3.4833639  -3.4834044  -3.4834101  -3.4834137  -3.4834335  -3.4835026\n",
      " -3.483503   -3.483732   -3.483738   -3.4837549  -3.4837554  -3.4838398\n",
      " -3.4838417  -3.483876   -3.4838774  -3.4838865  -3.483894   -3.4840443\n",
      " -3.4840467  -3.4843073  -3.4843142  -3.4843352  -3.4843428  -3.4847162\n",
      " -3.4847205  -3.4901412 ]\n"
     ]
    },
    {
     "data": {
      "image/png": "[encoded data removed]",
      "text/plain": [
       "<Figure size 432x288 with 1 Axes>"
      ]
     },
     "metadata": {
      "needs_background": "light"
     },
     "output_type": "display_data"
    }
   ],
   "source": [
    "from fast_evaluation import *\n",
    "evaluate_multiclass2(mlp_clf, y_pred.detach().numpy(), test_data.test_labels.detach().numpy())\n",
    "# 可见，测试集准确率达到96.59%。对0的分类的ROC曲线可以画出来："
   ]
  },
  {
   "cell_type": "markdown",
   "metadata": {
    "collapsed": false,
    "pycharm": {
     "name": "#%% md\n"
    }
   },
   "source": [
    "### Exercise 3  Questions (10 points )\n",
    "1.What's the difference between logistic regression and Perceptron?\n",
    "\n",
    "2.Advantages and disadvantages of neural networks?\n",
    "\n",
    "3.What is the role of Activation Function in Neural networks?"
   ]
  }
 ],
 "metadata": {
  "kernelspec": {
   "display_name": "Python 3",
   "language": "python",
   "name": "python3"
  },
  "language_info": {
   "codemirror_mode": {
    "name": "ipython",
    "version": 3
   },
   "file_extension": ".py",
   "mimetype": "text/x-python",
   "name": "python",
   "nbconvert_exporter": "python",
   "pygments_lexer": "ipython3",
   "version": "3.9.13"
  },
  "orig_nbformat": 4,
  "vscode": {
   "interpreter": {
    "hash": "ddb042b13f5e38f5a1f3a81e594e2d461f8b2dedf72148cffbd195c398cb4bc9"
   }
  }
 },
 "nbformat": 4,
 "nbformat_minor": 2
}
