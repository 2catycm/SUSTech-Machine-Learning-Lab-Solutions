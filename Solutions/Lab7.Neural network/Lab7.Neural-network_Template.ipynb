{
 "cells": [
  {
   "cell_type": "markdown",
   "metadata": {},
   "source": [
    "# LAB7 Assignment\n",
    "> The document description are designed by JIa Yanhong in 2022. Oct. 20th\n",
    "------"
   ]
  },
  {
   "cell_type": "markdown",
   "metadata": {},
   "source": [
    "## LAB Assignment\n",
    "### Exercise 1 logistic regression (20 points )\n",
    "This exercise uses dataset digit01.csv , which has 13 columns, and the last column is the dependent variable. \n",
    "\n",
    "This part requires you to implement a `logistic regression` using the pytorch framework (defining a logistic regression class that inherits `nn.module`). To test your model, we provide a dataset `digit01.csv` which is in the **datasets folder**. This dataset requires you to divide the training set and the test set by yourself, and it is recommended that 80% of the training set and 20% of the test set be used."
   ]
  },
  {
   "cell_type": "markdown",
   "metadata": {},
   "source": [
    "+ load datasets"
   ]
  },
  {
   "cell_type": "code",
   "execution_count": 1,
   "metadata": {
    "collapsed": false,
    "pycharm": {
     "is_executing": true,
     "name": "#%%\n"
    }
   },
   "outputs": [
    {
     "data": {
      "text/html": [
       "<div>\n",
       "<style scoped>\n",
       "    .dataframe tbody tr th:only-of-type {\n",
       "        vertical-align: middle;\n",
       "    }\n",
       "\n",
       "    .dataframe tbody tr th {\n",
       "        vertical-align: top;\n",
       "    }\n",
       "\n",
       "    .dataframe thead th {\n",
       "        text-align: right;\n",
       "    }\n",
       "</style>\n",
       "<table border=\"1\" class=\"dataframe\">\n",
       "  <thead>\n",
       "    <tr style=\"text-align: right;\">\n",
       "      <th></th>\n",
       "      <th>0</th>\n",
       "      <th>1</th>\n",
       "      <th>2</th>\n",
       "      <th>3</th>\n",
       "      <th>4</th>\n",
       "      <th>5</th>\n",
       "      <th>6</th>\n",
       "      <th>7</th>\n",
       "      <th>8</th>\n",
       "      <th>9</th>\n",
       "      <th>10</th>\n",
       "      <th>11</th>\n",
       "      <th>12</th>\n",
       "    </tr>\n",
       "  </thead>\n",
       "  <tbody>\n",
       "    <tr>\n",
       "      <th>0</th>\n",
       "      <td>1</td>\n",
       "      <td>1</td>\n",
       "      <td>1</td>\n",
       "      <td>1</td>\n",
       "      <td>0</td>\n",
       "      <td>1</td>\n",
       "      <td>1</td>\n",
       "      <td>0</td>\n",
       "      <td>1</td>\n",
       "      <td>1</td>\n",
       "      <td>1</td>\n",
       "      <td>1</td>\n",
       "      <td>0</td>\n",
       "    </tr>\n",
       "    <tr>\n",
       "      <th>1</th>\n",
       "      <td>0</td>\n",
       "      <td>1</td>\n",
       "      <td>1</td>\n",
       "      <td>1</td>\n",
       "      <td>0</td>\n",
       "      <td>1</td>\n",
       "      <td>1</td>\n",
       "      <td>0</td>\n",
       "      <td>1</td>\n",
       "      <td>1</td>\n",
       "      <td>1</td>\n",
       "      <td>1</td>\n",
       "      <td>0</td>\n",
       "    </tr>\n",
       "    <tr>\n",
       "      <th>2</th>\n",
       "      <td>1</td>\n",
       "      <td>1</td>\n",
       "      <td>0</td>\n",
       "      <td>1</td>\n",
       "      <td>0</td>\n",
       "      <td>1</td>\n",
       "      <td>1</td>\n",
       "      <td>0</td>\n",
       "      <td>1</td>\n",
       "      <td>1</td>\n",
       "      <td>1</td>\n",
       "      <td>1</td>\n",
       "      <td>0</td>\n",
       "    </tr>\n",
       "    <tr>\n",
       "      <th>3</th>\n",
       "      <td>1</td>\n",
       "      <td>1</td>\n",
       "      <td>1</td>\n",
       "      <td>1</td>\n",
       "      <td>0</td>\n",
       "      <td>1</td>\n",
       "      <td>1</td>\n",
       "      <td>0</td>\n",
       "      <td>1</td>\n",
       "      <td>1</td>\n",
       "      <td>1</td>\n",
       "      <td>0</td>\n",
       "      <td>0</td>\n",
       "    </tr>\n",
       "    <tr>\n",
       "      <th>4</th>\n",
       "      <td>1</td>\n",
       "      <td>1</td>\n",
       "      <td>1</td>\n",
       "      <td>1</td>\n",
       "      <td>0</td>\n",
       "      <td>1</td>\n",
       "      <td>1</td>\n",
       "      <td>0</td>\n",
       "      <td>1</td>\n",
       "      <td>0</td>\n",
       "      <td>1</td>\n",
       "      <td>1</td>\n",
       "      <td>0</td>\n",
       "    </tr>\n",
       "  </tbody>\n",
       "</table>\n",
       "</div>"
      ],
      "text/plain": [
       "   0   1   2   3   4   5   6   7   8   9   10  11  12\n",
       "0   1   1   1   1   0   1   1   0   1   1   1   1   0\n",
       "1   0   1   1   1   0   1   1   0   1   1   1   1   0\n",
       "2   1   1   0   1   0   1   1   0   1   1   1   1   0\n",
       "3   1   1   1   1   0   1   1   0   1   1   1   0   0\n",
       "4   1   1   1   1   0   1   1   0   1   0   1   1   0"
      ]
     },
     "execution_count": 1,
     "metadata": {},
     "output_type": "execute_result"
    }
   ],
   "source": [
    "########### Write Your Code Here ###########\n",
    "import pandas as pd\n",
    "import numpy as np\n",
    "df = pd.read_csv(\"./datasets/digit01.csv\", header=None)\n",
    "df.head()\n",
    "############################################"
   ]
  },
  {
   "cell_type": "markdown",
   "metadata": {
    "collapsed": false,
    "pycharm": {
     "name": "#%% md\n"
    }
   },
   "source": [
    "+ Splitting dataset into 80% Training and 20% Testing Data:"
   ]
  },
  {
   "cell_type": "code",
   "execution_count": 3,
   "metadata": {
    "collapsed": false,
    "pycharm": {
     "name": "#%%\n"
    }
   },
   "outputs": [
    {
     "data": {
      "text/plain": [
       "[(51, 12), (13, 12), (51,), (13,)]"
      ]
     },
     "execution_count": 3,
     "metadata": {},
     "output_type": "execute_result"
    }
   ],
   "source": [
    "########### Write Your Code Here ###########\n",
    "X =df.iloc[:,:-1].values\n",
    "y = df.iloc[:,-1].values\n",
    "from sklearn.model_selection import train_test_split\n",
    "X_train, X_test, y_train, y_test = train_test_split(X, y, test_size=0.2, random_state=112)\n",
    "[i.shape for i in (X_train, X_test, y_train, y_test)]\n",
    "############################################\n"
   ]
  },
  {
   "cell_type": "markdown",
   "metadata": {
    "collapsed": false,
    "pycharm": {
     "name": "#%% md\n"
    }
   },
   "source": [
    "+ Define a LogisticRegression subclass of nn. Module"
   ]
  },
  {
   "cell_type": "code",
   "execution_count": 32,
   "metadata": {
    "collapsed": false,
    "pycharm": {
     "name": "#%%\n"
    }
   },
   "outputs": [
    {
     "data": {
      "text/plain": [
       "tensor([[0.2305],\n",
       "        [0.8854],\n",
       "        [0.9198],\n",
       "        [0.7813],\n",
       "        [0.7757],\n",
       "        [0.6992],\n",
       "        [0.8828],\n",
       "        [0.0649],\n",
       "        [0.9971],\n",
       "        [0.5943]], grad_fn=<SigmoidBackward0>)"
      ]
     },
     "execution_count": 32,
     "metadata": {},
     "output_type": "execute_result"
    }
   ],
   "source": [
    "# Define a LogisticRegression subclass of nn. Module.\n",
    "########### Write Your Code Here ###########\n",
    "import torch\n",
    "from torch import nn\n",
    "class LogisticRegressionForBinaryClassification(nn.Module):\n",
    "    \"\"\"对数几率回归（不要翻译为逻辑回归，这没有任何逻辑）\n",
    "    几率和概率的关系是 几率 l = p/(1-p)\n",
    "    对数几率为 ln(l) = ln(p/(1-p)) = ln(p) - ln(1-p)\n",
    "    使用线性回归预测对数几率，然后使用sigmoid函数将预测值转换为概率，这就是对数几率回归\n",
    "    y = sigmoid(X @ W + b) <=> ln(y/(1-y)) = X @ W + b\n",
    "    \"\"\"\n",
    "    def __init__(self, input_features):\n",
    "        super().__init__() # 就应该这样写，写成super(LogisticRegressionForBinaryClassification， self)简直太傻了\n",
    "        out_features = 1\n",
    "        # xaviever = np.sqrt(2/(input_features+out_features))\n",
    "        xaviever = 1\n",
    "        self.W = nn.Parameter(torch.randn(input_features, out_features)\n",
    "                                          *xaviever)\n",
    "        self.b = nn.Parameter(torch.randn(1,out_features))\n",
    "        # 这里我们尝试不用nn.Linear, 搞明白一般来说自己应该怎么定义可训练参数。\n",
    "    def forward(self, X):\n",
    "        # input shape: (batch_size, input_features)\n",
    "        logits = X @ self.W + self.b # output shape: (batch_size, 1)\n",
    "        out = torch.sigmoid(logits) # 1/(1+exp(-logits)) https://pytorch.org/docs/stable/special.html#torch.special.expit\n",
    "        return out\n",
    "############################################\n",
    "test_X = torch.randn(10, 5)\n",
    "test_model = LogisticRegressionForBinaryClassification(5)\n",
    "test_y = test_model(test_X)\n",
    "test_y"
   ]
  },
  {
   "cell_type": "markdown",
   "metadata": {
    "collapsed": false,
    "pycharm": {
     "name": "#%% md\n"
    }
   },
   "source": [
    "+ Create the model"
   ]
  },
  {
   "cell_type": "code",
   "execution_count": 68,
   "metadata": {
    "collapsed": false,
    "pycharm": {
     "name": "#%%\n"
    }
   },
   "outputs": [
    {
     "data": {
      "text/plain": [
       "[Parameter containing:\n",
       " tensor([[-0.3964],\n",
       "         [-1.1124],\n",
       "         [-1.2524],\n",
       "         [ 1.0556],\n",
       "         [-0.7752],\n",
       "         [ 0.6146],\n",
       "         [ 0.2815],\n",
       "         [ 0.9958],\n",
       "         [ 0.1683],\n",
       "         [ 0.2903],\n",
       "         [ 0.3655],\n",
       "         [-1.1022]], requires_grad=True),\n",
       " Parameter containing:\n",
       " tensor([[-0.5736]], requires_grad=True)]"
      ]
     },
     "execution_count": 68,
     "metadata": {},
     "output_type": "execute_result"
    }
   ],
   "source": [
    "\n",
    "########### Write Your Code Here ###########\n",
    "lr4clf = LogisticRegressionForBinaryClassification(X_train.shape[1])\n",
    "list(lr4clf.parameters())\n",
    "############################################"
   ]
  },
  {
   "cell_type": "markdown",
   "metadata": {
    "collapsed": false,
    "pycharm": {
     "name": "#%% md\n"
    }
   },
   "source": [
    " + Loss function"
   ]
  },
  {
   "cell_type": "code",
   "execution_count": 46,
   "metadata": {
    "collapsed": false,
    "pycharm": {
     "name": "#%%\n"
    }
   },
   "outputs": [
    {
     "data": {
      "text/plain": [
       "tensor(1.2862e-05)"
      ]
     },
     "execution_count": 46,
     "metadata": {},
     "output_type": "execute_result"
    }
   ],
   "source": [
    "########### Write Your Code Here ###########\n",
    "from torch import optim\n",
    "# criteria = nn.CrossEntropyLoss() # 不能用这个，这个的话网络的输出是logits。我们的网络的输出是概率\n",
    "def cross_entropy_loss(y_pred, y_true, relax=1e-6):\n",
    "    y_pred = torch.Tensor(y_pred)\n",
    "    y_true = torch.Tensor(y_true)\n",
    "    upper = 1+relax\n",
    "    lower = 0-relax # 防止log(0)的出现\n",
    "    return -torch.mean((y_true-lower)*torch.log(y_pred-lower) + (upper-y_true)*torch.log(upper-y_pred))\n",
    "cross_entropy_loss(torch.tensor([1, 1, 1, 1, 1, 1]), torch.tensor([0, 0, 0, 0, 0, 0])) # 最大16左右\n",
    "cross_entropy_loss(torch.zeros(6), torch.ones(6)) # 最大16左右\n",
    "cross_entropy_loss(torch.zeros(6), torch.zeros(6)) \n",
    "############################################"
   ]
  },
  {
   "cell_type": "markdown",
   "metadata": {
    "collapsed": false,
    "pycharm": {
     "name": "#%% md\n"
    }
   },
   "source": [
    "+ The optimizer"
   ]
  },
  {
   "cell_type": "code",
   "execution_count": 39,
   "metadata": {
    "collapsed": false,
    "pycharm": {
     "name": "#%%\n"
    }
   },
   "outputs": [],
   "source": [
    "########### Write Your Code Here ###########\n",
    "optimizer = optim.SGD(lr4clf.parameters(), lr=0.01)\n",
    "############################################"
   ]
  },
  {
   "cell_type": "markdown",
   "metadata": {
    "collapsed": false,
    "pycharm": {
     "name": "#%% md\n"
    }
   },
   "source": [
    "+ training Model"
   ]
  },
  {
   "cell_type": "code",
   "execution_count": 40,
   "metadata": {
    "collapsed": false,
    "pycharm": {
     "name": "#%%\n"
    }
   },
   "outputs": [
    {
     "name": "stdout",
     "output_type": "stream",
     "text": [
      "epoch 0, loss 0.09115996956825256\n",
      "epoch 10, loss 0.0907234475016594\n",
      "epoch 20, loss 0.09029164165258408\n",
      "epoch 30, loss 0.08986447751522064\n",
      "epoch 40, loss 0.08944187313318253\n",
      "epoch 50, loss 0.08902374655008316\n",
      "epoch 60, loss 0.08861002326011658\n",
      "epoch 70, loss 0.08820066601037979\n",
      "epoch 80, loss 0.08779556304216385\n",
      "epoch 90, loss 0.08739465475082397\n",
      "epoch 100, loss 0.08699791878461838\n",
      "epoch 110, loss 0.0866052433848381\n",
      "epoch 120, loss 0.08621659129858017\n",
      "epoch 130, loss 0.08583186566829681\n",
      "epoch 140, loss 0.08545105159282684\n",
      "epoch 150, loss 0.0850740522146225\n",
      "epoch 160, loss 0.08470083028078079\n",
      "epoch 170, loss 0.08433131873607635\n",
      "epoch 180, loss 0.0839654728770256\n",
      "epoch 190, loss 0.08360322564840317\n",
      "epoch 200, loss 0.08324453234672546\n"
     ]
    }
   ],
   "source": [
    "########### Write Your Code Here ###########\n",
    "def train(model, X, y, optimizer, criteria, epochs=201):\n",
    "    model.train()\n",
    "    X = torch.tensor(X, dtype=torch.float32)\n",
    "    y = torch.tensor(y, dtype=torch.float32).reshape(-1,1)\n",
    "    for epoch in range(epochs):\n",
    "        optimizer.zero_grad()\n",
    "        y_pred = model(X)\n",
    "        loss = criteria(y_pred, y)\n",
    "        loss.backward()\n",
    "        optimizer.step()\n",
    "        if epoch % 10 == 0:\n",
    "            print(f\"epoch {epoch}, loss {loss.item()}\")\n",
    "train(lr4clf, X_train, y_train, optimizer, cross_entropy_loss)\n",
    "############################################"
   ]
  },
  {
   "cell_type": "markdown",
   "metadata": {
    "collapsed": false,
    "pycharm": {
     "name": "#%% md\n"
    }
   },
   "source": [
    "\n",
    "+ Model Performance\n"
   ]
  },
  {
   "cell_type": "code",
   "execution_count": 121,
   "metadata": {
    "collapsed": false,
    "pycharm": {
     "name": "#%%\n"
    }
   },
   "outputs": [
    {
     "data": {
      "text/plain": [
       "tensor(5.4847)"
      ]
     },
     "execution_count": 121,
     "metadata": {},
     "output_type": "execute_result"
    }
   ],
   "source": [
    "########### Write Your Code Here ###########\n",
    "def predict(model, X):\n",
    "    model.eval()\n",
    "    X = torch.tensor(X, dtype=torch.float32)\n",
    "    y_pred = model(X)\n",
    "    y_pred = y_pred.detach().numpy()\n",
    "    # y_pred = np.where(y_pred>=0.5, 1, 0)\n",
    "    y_predicted_cls = (y_pred>=0.5).astype(int)\n",
    "    return y_predicted_cls\n",
    "y_predicted_cls = predict(lr4clf, X_test)\n",
    "cross_entropy_loss(torch.tensor(y_predicted_cls), torch.tensor(y_test))\n",
    "############################################"
   ]
  },
  {
   "cell_type": "code",
   "execution_count": 45,
   "metadata": {},
   "outputs": [
    {
     "data": {
      "text/plain": [
       "array([[0],\n",
       "       [0],\n",
       "       [1],\n",
       "       [0],\n",
       "       [0],\n",
       "       [0],\n",
       "       [0],\n",
       "       [1],\n",
       "       [0],\n",
       "       [0],\n",
       "       [1],\n",
       "       [1],\n",
       "       [0]])"
      ]
     },
     "execution_count": 45,
     "metadata": {},
     "output_type": "execute_result"
    }
   ],
   "source": [
    "y_predicted_cls"
   ]
  },
  {
   "cell_type": "code",
   "execution_count": 43,
   "metadata": {
    "collapsed": false,
    "pycharm": {
     "name": "#%%\n"
    }
   },
   "outputs": [
    {
     "name": "stdout",
     "output_type": "stream",
     "text": [
      "              precision    recall  f1-score   support\n",
      "\n",
      "           0       1.00      1.00      1.00         9\n",
      "           1       1.00      1.00      1.00         4\n",
      "\n",
      "    accuracy                           1.00        13\n",
      "   macro avg       1.00      1.00      1.00        13\n",
      "weighted avg       1.00      1.00      1.00        13\n",
      "\n"
     ]
    }
   ],
   "source": [
    "#classification report\n",
    "from sklearn.metrics import classification_report\n",
    "print(classification_report(y_test, y_predicted_cls))\n",
    "# 可以看到效果非常好，达到100%的准确率"
   ]
  },
  {
   "cell_type": "markdown",
   "metadata": {
    "collapsed": false,
    "pycharm": {
     "name": "#%% md\n"
    }
   },
   "source": [
    "### Exercise 2  Handwriting recognition with MLP\n",
    "\n",
    "Like last week's lab , your task in this section is also about recognizing handwritten digits, but you are required to use MLP to complete the exercise. It is recommended that you define an MLP class, which is a subclass of `nn.module`.\n",
    "\n",
    "<font color='red' size=4>Note that your accuracy in this section will directly determine your score.</font>\n",
    "\n",
    "For this exercise we use the `minist` dataset."
   ]
  },
  {
   "cell_type": "markdown",
   "metadata": {
    "collapsed": false,
    "pycharm": {
     "name": "#%% md\n"
    }
   },
   "source": [
    "+ load datasets"
   ]
  },
  {
   "cell_type": "code",
   "execution_count": 112,
   "metadata": {
    "collapsed": false,
    "pycharm": {
     "name": "#%%\n"
    }
   },
   "outputs": [],
   "source": [
    "########### Write Your Code Here ###########\n",
    "import torchvision\n",
    "from torch.utils.data import DataLoader\n",
    "train_data, test_data = [torchvision.datasets.MNIST(\n",
    "    root = './datasets/',  \n",
    "    train = trainOrNot,       \n",
    "    transform = torchvision.transforms.ToTensor(),   \n",
    "    download=True\n",
    ") for trainOrNot  in [True, False]]\n",
    "train_loader, test_loader = [DataLoader(data, batch_size=64, shuffle=False) for data in [train_data, test_data]]\n",
    "############################################                      "
   ]
  },
  {
   "cell_type": "code",
   "execution_count": 113,
   "metadata": {},
   "outputs": [
    {
     "name": "stderr",
     "output_type": "stream",
     "text": [
      "d:\\EnglishStandardPath\\DevProgramsFile\\Python\\python39\\lib\\site-packages\\torchvision\\datasets\\mnist.py:75: UserWarning: train_data has been renamed data\n",
      "  warnings.warn(\"train_data has been renamed data\")\n",
      "d:\\EnglishStandardPath\\DevProgramsFile\\Python\\python39\\lib\\site-packages\\torchvision\\datasets\\mnist.py:80: UserWarning: test_data has been renamed data\n",
      "  warnings.warn(\"test_data has been renamed data\")\n"
     ]
    },
    {
     "data": {
      "text/plain": [
       "<matplotlib.image.AxesImage at 0x1f9152ca970>"
      ]
     },
     "execution_count": 113,
     "metadata": {},
     "output_type": "execute_result"
    },
    {
     "data": {
      "image/png": "[encoded data removed]",
      "text/plain": [
       "<Figure size 432x288 with 1 Axes>"
      ]
     },
     "metadata": {
      "needs_background": "light"
     },
     "output_type": "display_data"
    }
   ],
   "source": [
    "train_data.train_data\n",
    "test_data.test_data\n",
    "# train_data, test_data\n",
    "trainfeature, trainlabel = next(iter(train_data))\n",
    "from matplotlib import pyplot as plt\n",
    "plt.imshow(trainfeature[0].detach().numpy(), cmap='gray')"
   ]
  },
  {
   "cell_type": "markdown",
   "metadata": {
    "collapsed": false,
    "pycharm": {
     "name": "#%% md\n"
    }
   },
   "source": [
    "+ Define a MLP subclass of nn. Module"
   ]
  },
  {
   "cell_type": "code",
   "execution_count": 114,
   "metadata": {
    "collapsed": false,
    "pycharm": {
     "name": "#%%\n"
    }
   },
   "outputs": [
    {
     "data": {
      "text/plain": [
       "tensor([[ 0.2347, -0.2535, -0.3155,  0.0843, -0.1590,  0.1375,  0.2274,  0.1979,\n",
       "         -0.1230,  0.1594],\n",
       "        [ 0.2375, -0.3108, -0.3668,  0.1065, -0.1305,  0.1542,  0.2015,  0.1471,\n",
       "         -0.0958,  0.1124],\n",
       "        [ 0.1209, -0.3409, -0.2823,  0.0520, -0.1866,  0.0528,  0.2372,  0.0809,\n",
       "         -0.0352,  0.1563],\n",
       "        [ 0.1633, -0.3794, -0.3197,  0.0956, -0.1390,  0.1259,  0.1826,  0.0922,\n",
       "         -0.1125,  0.1522],\n",
       "        [ 0.0788, -0.4464, -0.2902,  0.0934, -0.1627,  0.0669,  0.1956,  0.0625,\n",
       "         -0.0669,  0.1661],\n",
       "        [ 0.2842, -0.2772, -0.3504,  0.0665, -0.1561,  0.1556,  0.2184,  0.1977,\n",
       "         -0.1480,  0.1304],\n",
       "        [ 0.1462, -0.3369, -0.2970,  0.1090, -0.1633,  0.1068,  0.2013,  0.1462,\n",
       "         -0.0869,  0.1710],\n",
       "        [ 0.1611, -0.4155, -0.3169,  0.0451, -0.1436,  0.1354,  0.1356,  0.0740,\n",
       "         -0.1662,  0.1722],\n",
       "        [ 0.1410, -0.3352, -0.2905,  0.0796, -0.1588,  0.1143,  0.1849,  0.1326,\n",
       "         -0.1284,  0.1845],\n",
       "        [ 0.1417, -0.3028, -0.2698,  0.0910, -0.1735,  0.1134,  0.1800,  0.1563,\n",
       "         -0.1009,  0.2060]], grad_fn=<AddmmBackward0>)"
      ]
     },
     "execution_count": 114,
     "metadata": {},
     "output_type": "execute_result"
    }
   ],
   "source": [
    "########### Write Your Code Here ###########\n",
    "class ReallyDeepMLP(nn.Module):\n",
    "    def __init__(self, activation=nn.ReLU, hidden_node_sizes=None) -> None:\n",
    "        super().__init__()\n",
    "        if hidden_node_sizes is None:\n",
    "            # hidden_node_sizes = [28*28, 1024, 256, 64, 10]\n",
    "            hidden_node_sizes = [28*28, 64, 22, 13, 10]\n",
    "        self.activation = activation\n",
    "        # 我们这个网络支持任意层数的多层神经网络，用一个list来表示每一层的神经元个数。相应的，需要用ParameterList才能注册参数。\n",
    "        self.linears = nn.ParameterList([nn.Linear(in_features, out_features) \n",
    "                                      for in_features, out_features in zip(hidden_node_sizes[:-1], hidden_node_sizes[1:])])\n",
    "        self.flatten = nn.Flatten()\n",
    "    def forward(self, X):\n",
    "        X = self.flatten(X)\n",
    "        for linear in self.linears[:-1]:\n",
    "            X = torch.relu(linear(X))\n",
    "        return self.linears[-1](X) # 最后一层不用激活函数，直接cross_entropy_loss。因为cross_entropy_loss里面有softmax\n",
    "test_model = ReallyDeepMLP()\n",
    "test_X = torch.randn(10, 28*28)\n",
    "test_y = test_model(test_X)\n",
    "test_y\n",
    "############################################"
   ]
  },
  {
   "cell_type": "markdown",
   "metadata": {
    "collapsed": false,
    "pycharm": {
     "name": "#%% md\n"
    }
   },
   "source": [
    "+ Create the model"
   ]
  },
  {
   "cell_type": "code",
   "execution_count": 100,
   "metadata": {
    "collapsed": false,
    "pycharm": {
     "name": "#%%\n"
    }
   },
   "outputs": [
    {
     "data": {
      "text/plain": [
       "ReallyDeepMLP(\n",
       "  (linears): ParameterList(\n",
       "      (0): Object of type: Linear\n",
       "      (1): Object of type: Linear\n",
       "      (2): Object of type: Linear\n",
       "      (3): Object of type: Linear\n",
       "    (0): Linear(in_features=784, out_features=64, bias=True)\n",
       "    (1): Linear(in_features=64, out_features=22, bias=True)\n",
       "    (2): Linear(in_features=22, out_features=13, bias=True)\n",
       "    (3): Linear(in_features=13, out_features=10, bias=True)\n",
       "  )\n",
       "  (flatten): Flatten(start_dim=1, end_dim=-1)\n",
       ")"
      ]
     },
     "execution_count": 100,
     "metadata": {},
     "output_type": "execute_result"
    }
   ],
   "source": [
    "########### Write Your Code Here ###########\n",
    "mlp_clf = ReallyDeepMLP()\n",
    "mlp_clf\n",
    "############################################"
   ]
  },
  {
   "cell_type": "markdown",
   "metadata": {
    "collapsed": false,
    "pycharm": {
     "name": "#%% md\n"
    }
   },
   "source": [
    " + Loss function"
   ]
  },
  {
   "cell_type": "code",
   "execution_count": 101,
   "metadata": {
    "collapsed": false,
    "pycharm": {
     "name": "#%%\n"
    }
   },
   "outputs": [],
   "source": [
    "########### Write Your Code Here ###########\n",
    "criteria = nn.CrossEntropyLoss()\n",
    "############################################"
   ]
  },
  {
   "cell_type": "markdown",
   "metadata": {
    "collapsed": false,
    "pycharm": {
     "name": "#%% md\n"
    }
   },
   "source": [
    "+ The optimizer"
   ]
  },
  {
   "cell_type": "code",
   "execution_count": 102,
   "metadata": {
    "collapsed": false,
    "pycharm": {
     "name": "#%%\n"
    }
   },
   "outputs": [],
   "source": [
    "########### Write Your Code Here ###########\n",
    "optimizer = optim.Adam(mlp_clf.parameters(), lr=0.01)\n",
    "############################################"
   ]
  },
  {
   "cell_type": "markdown",
   "metadata": {
    "collapsed": false,
    "pycharm": {
     "name": "#%% md\n"
    }
   },
   "source": [
    "+ training Model"
   ]
  },
  {
   "cell_type": "code",
   "execution_count": null,
   "metadata": {
    "collapsed": false,
    "pycharm": {
     "name": "#%%\n"
    }
   },
   "outputs": [],
   "source": [
    "########### Write Your Code Here ###########\n",
    "def train_data_loader(model, data_loader, optimizer, criteria, epochs=101):\n",
    "    model.train()\n",
    "    for epoch in range(epochs):\n",
    "        for X, y in data_loader:\n",
    "            optimizer.zero_grad()\n",
    "            y_pred = model(X)\n",
    "            loss = criteria(y_pred, y)\n",
    "            loss.backward()\n",
    "            optimizer.step()\n",
    "        if epoch % 10 == 0:\n",
    "            print(f\"epoch {epoch}, loss {loss.item()}\")\n",
    "train_data_loader(mlp_clf, train_loader, optimizer, criteria) #明智的选择是定义函数，而不是每次都写一遍\n",
    "############################################\n",
    "# 训练时间较长，后面我们存到了文件，可以直接加载"
   ]
  },
  {
   "cell_type": "code",
   "execution_count": null,
   "metadata": {},
   "outputs": [],
   "source": [
    "# torch.save(mlp_clf.state_dict(), \"net.pth\")\n",
    "# print(\"Saved PyTorch Model State to net.pth\")"
   ]
  },
  {
   "cell_type": "code",
   "execution_count": 115,
   "metadata": {},
   "outputs": [
    {
     "data": {
      "text/plain": [
       "<All keys matched successfully>"
      ]
     },
     "execution_count": 115,
     "metadata": {},
     "output_type": "execute_result"
    }
   ],
   "source": [
    "mlp_clf = ReallyDeepMLP() # 需要时同一个类型的model\n",
    "mlp_clf.load_state_dict(torch.load(\"net.pth\"))"
   ]
  },
  {
   "cell_type": "markdown",
   "metadata": {
    "collapsed": false,
    "pycharm": {
     "name": "#%% md\n"
    }
   },
   "source": [
    "+ Model Performance"
   ]
  },
  {
   "cell_type": "code",
   "execution_count": 129,
   "metadata": {
    "collapsed": false,
    "pycharm": {
     "name": "#%%\n"
    }
   },
   "outputs": [
    {
     "name": "stderr",
     "output_type": "stream",
     "text": [
      "d:\\EnglishStandardPath\\DevProgramsFile\\Python\\python39\\lib\\site-packages\\torchvision\\datasets\\mnist.py:80: UserWarning: test_data has been renamed data\n",
      "  warnings.warn(\"test_data has been renamed data\")\n",
      "d:\\EnglishStandardPath\\DevProgramsFile\\Python\\python39\\lib\\site-packages\\torchvision\\datasets\\mnist.py:70: UserWarning: test_labels has been renamed targets\n",
      "  warnings.warn(\"test_labels has been renamed targets\")\n",
      "C:\\Users\\YeCanming\\AppData\\Local\\Temp\\ipykernel_31840\\3005103853.py:3: UserWarning: To copy construct from a tensor, it is recommended to use sourceTensor.clone().detach() or sourceTensor.clone().detach().requires_grad_(True), rather than torch.tensor(sourceTensor).\n",
      "  criteria(mlp_clf(test_data.test_data.float()), torch.tensor(test_data.test_labels))\n"
     ]
    },
    {
     "data": {
      "text/plain": [
       "tensor(69.0796, grad_fn=<NllLossBackward0>)"
      ]
     },
     "execution_count": 129,
     "metadata": {},
     "output_type": "execute_result"
    }
   ],
   "source": [
    "########### Write Your Code Here ###########\n",
    "y_pred = mlp_clf(test_data.test_data.float())\n",
    "criteria(mlp_clf(test_data.test_data.float()), torch.tensor(test_data.test_labels))\n",
    "############################################"
   ]
  },
  {
   "cell_type": "code",
   "execution_count": 130,
   "metadata": {},
   "outputs": [
    {
     "data": {
      "text/plain": [
       "torch.Size([10000, 10])"
      ]
     },
     "execution_count": 130,
     "metadata": {},
     "output_type": "execute_result"
    }
   ],
   "source": [
    "y_pred.shape\n",
    "# y_pred[0]\n",
    "# torch.argmax(y_pred, axis=1)"
   ]
  },
  {
   "cell_type": "code",
   "execution_count": 132,
   "metadata": {
    "collapsed": false,
    "pycharm": {
     "name": "#%%\n"
    }
   },
   "outputs": [
    {
     "name": "stderr",
     "output_type": "stream",
     "text": [
      "d:\\EnglishStandardPath\\DevProgramsFile\\Python\\python39\\lib\\site-packages\\torchvision\\datasets\\mnist.py:70: UserWarning: test_labels has been renamed targets\n",
      "  warnings.warn(\"test_labels has been renamed targets\")\n"
     ]
    },
    {
     "name": "stdout",
     "output_type": "stream",
     "text": [
      "ReallyDeepMLP accuracy = 0.9659\n",
      "fper=[0.00000000e+00 0.00000000e+00 0.00000000e+00 1.10864745e-04\n",
      " 1.10864745e-04 2.21729490e-04 2.21729490e-04 3.32594235e-04\n",
      " 3.32594235e-04 4.43458980e-04 4.43458980e-04 5.54323725e-04\n",
      " 5.54323725e-04 6.65188470e-04 6.65188470e-04 7.76053215e-04\n",
      " 7.76053215e-04 8.86917960e-04 8.86917960e-04 9.97782705e-04\n",
      " 9.97782705e-04 1.10864745e-03 1.10864745e-03 1.21951220e-03\n",
      " 1.21951220e-03 1.44124169e-03 1.44124169e-03 1.66297118e-03\n",
      " 1.66297118e-03 1.77383592e-03 1.77383592e-03 1.88470067e-03\n",
      " 1.88470067e-03 2.10643016e-03 2.10643016e-03 2.54988914e-03\n",
      " 2.54988914e-03 3.88026608e-03 3.88026608e-03 3.99113082e-03\n",
      " 3.99113082e-03 4.10199557e-03 4.10199557e-03 4.54545455e-03\n",
      " 4.54545455e-03 5.87583149e-03 5.87583149e-03 6.54101996e-03\n",
      " 6.54101996e-03 7.64966741e-03 7.64966741e-03 9.20177384e-03\n",
      " 9.20177384e-03 9.75609756e-03 9.75609756e-03 1.11973392e-02\n",
      " 1.11973392e-02 1.31929047e-02 1.31929047e-02 2.16186253e-02\n",
      " 2.16186253e-02 2.63858093e-02 2.63858093e-02 3.23725055e-02\n",
      " 3.23725055e-02 8.28159645e-02 8.28159645e-02 1.16297118e-01\n",
      " 1.16297118e-01 1.45121951e-01 1.45121951e-01 2.48669623e-01\n",
      " 2.48669623e-01 2.79046563e-01 2.79268293e-01 1.00000000e+00], tper=[0.         0.00102041 0.6244898  0.6244898  0.82755102 0.82755102\n",
      " 0.87755102 0.87755102 0.88163265 0.88163265 0.92040816 0.92040816\n",
      " 0.9622449  0.9622449  0.96326531 0.96326531 0.96428571 0.96428571\n",
      " 0.96530612 0.96530612 0.96632653 0.96632653 0.96836735 0.96836735\n",
      " 0.97142857 0.97142857 0.97244898 0.97244898 0.9744898  0.9744898\n",
      " 0.9755102  0.9755102  0.97653061 0.97653061 0.97755102 0.97755102\n",
      " 0.97857143 0.97857143 0.97959184 0.97959184 0.98061224 0.98061224\n",
      " 0.98367347 0.98367347 0.98469388 0.98469388 0.98571429 0.98571429\n",
      " 0.98673469 0.98673469 0.9877551  0.9877551  0.98979592 0.98979592\n",
      " 0.99081633 0.99081633 0.99183673 0.99183673 0.99285714 0.99285714\n",
      " 0.99387755 0.99387755 0.99489796 0.99489796 0.99591837 0.99591837\n",
      " 0.99693878 0.99693878 0.99795918 0.99795918 0.99897959 0.99897959\n",
      " 1.         1.         1.         1.        ], thresholds=[ 1.96497598e+04  1.96487598e+04  8.57294238e+03  8.56957031e+03\n",
      "  6.91486670e+03  6.89059521e+03  6.42270801e+03  6.38376904e+03\n",
      "  6.29106885e+03  6.27311475e+03  5.72840088e+03  5.72800244e+03\n",
      "  4.56266504e+03  4.54372559e+03  4.53243115e+03  4.52264648e+03\n",
      "  4.40661475e+03  4.38315430e+03  4.27042139e+03  4.24262207e+03\n",
      "  4.22544775e+03  4.22269287e+03  4.16959717e+03  4.15869287e+03\n",
      "  3.97121338e+03  3.91692871e+03  3.88916187e+03  3.84991650e+03\n",
      "  3.81526733e+03  3.78858057e+03  3.77883960e+03  3.73829614e+03\n",
      "  3.70687695e+03  3.65353589e+03  3.64242749e+03  3.41240356e+03\n",
      "  3.36730200e+03  3.01683545e+03  3.01616479e+03  3.01509106e+03\n",
      "  3.00901807e+03  3.00004810e+03  2.91012866e+03  2.85563452e+03\n",
      "  2.82835449e+03  2.60235425e+03  2.58944946e+03  2.48569629e+03\n",
      "  2.45478857e+03  2.35496899e+03  2.35165088e+03  2.17053198e+03\n",
      "  2.16422559e+03  2.13271509e+03  2.11546069e+03  2.01646082e+03\n",
      "  2.01506763e+03  1.80915710e+03  1.80577637e+03  1.34852502e+03\n",
      "  1.34647083e+03  1.17047632e+03  1.16534949e+03  1.00262756e+03\n",
      "  1.00239569e+03 -1.83165245e+01 -2.13548546e+01 -4.98787231e+02\n",
      " -4.99420776e+02 -8.63829224e+02 -8.66091187e+02 -1.91527258e+03\n",
      " -1.91554358e+03 -2.19543774e+03 -2.19683154e+03 -1.87589316e+04]\n"
     ]
    },
    {
     "data": {
      "image/png": "[encoded data removed]",
      "text/plain": [
       "<Figure size 432x288 with 1 Axes>"
      ]
     },
     "metadata": {
      "needs_background": "light"
     },
     "output_type": "display_data"
    }
   ],
   "source": [
    "from fast_evaluation import *\n",
    "evaluate_multiclass2(mlp_clf, y_pred.detach().numpy(), test_data.test_labels.detach().numpy())\n",
    "# 可见，测试集准确率达到96.59%。对0的分类的ROC曲线可以画出来："
   ]
  },
  {
   "cell_type": "markdown",
   "metadata": {
    "collapsed": false,
    "pycharm": {
     "name": "#%% md\n"
    }
   },
   "source": [
    "### Exercise 3  Questions (10 points )\n",
    "1.What's the difference between logistic regression and Perceptron?\n",
    "\n",
    "（1）Perceptron对分类正确的数据不会学习，只去学习分类错误的数据，而logistic regression对所有的数据都会学习。\n",
    "\n",
    "（2）Perceptron的输出是0或1，而logistic regression的输出是0到1之间的实数。logistic regression的输出可以看作是一个概率值，表示属于某一类的概率。\n",
    "\n",
    "（3）Perceptron的理论依据是生物神经元；而logistic regression的理论依据更加坚实，可以用贝叶斯框架去解释。具体来说，logistic function 是 假设了数据服从伯努利分布，然后用极大似然估计去估计参数。而且，logistic是可导的，有坚实的优化理论支撑，可以用梯度+优化器去优化，但是Perceptron就是从生物那里仿生过来的，说“Perceptron learning rule”，数学基础弱一些。\n",
    "\n",
    "2.Advantages and disadvantages of neural networks?\n",
    "\n",
    " 神经网络的优点是可以自动学习特征，不需要人工去提取特征，而且可以自动学习特征的组合，从而可以自动学习出复杂的特征。神经网络的缺点是需要大量的训练数据，而且训练时间比较长。\n",
    "\n",
    "3.What is the role of Activation Function in Neural networks?\n",
    "神经网络是线性的，但是数据不一定线性可分，所以需要引入非线性的激活函数，使得神经网络可以拟合非线性的数据，这是一方面。\n"
   ]
  },
  {
   "cell_type": "markdown",
   "metadata": {},
   "source": [
    "### Exercise 4 获取认证：使用MindSpore训练手写数字识别模型\n",
    "\n",
    "访问以下网址，\n",
    "https://www.hiascend.com/edu/certification/detail/c6896776040f409fa8dcd233691ef800\n",
    "获得认证，截图并提交。\n",
    "![截图](./.assets/认证.png)\n",
    "![截图](./.assets/记录.png)"
   ]
  }
 ],
 "metadata": {
  "kernelspec": {
   "display_name": "torch",
   "language": "python",
   "name": "python3"
  },
  "language_info": {
   "codemirror_mode": {
    "name": "ipython",
    "version": 3
   },
   "file_extension": ".py",
   "mimetype": "text/x-python",
   "name": "python",
   "nbconvert_exporter": "python",
   "pygments_lexer": "ipython3",
   "version": "3.9.13 (main, Aug 25 2022, 23:26:10) \n[GCC 11.2.0]"
  },
  "orig_nbformat": 4,
  "vscode": {
   "interpreter": {
    "hash": "a3aa388cc52cb4fa2d0b598848815ac0c18d5bf22376609a6a9e53b96c4456bc"
   }
  }
 },
 "nbformat": 4,
 "nbformat_minor": 2
}
