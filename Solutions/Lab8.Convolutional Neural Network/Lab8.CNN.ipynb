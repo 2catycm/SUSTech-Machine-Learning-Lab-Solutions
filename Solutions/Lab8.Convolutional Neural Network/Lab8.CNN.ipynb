{
 "cells": [
  {
   "cell_type": "markdown",
   "metadata": {
    "collapsed": false,
    "pycharm": {
     "name": "#%% md\n"
    }
   },
   "source": [
    "# LAB8 Assignment Solution for Machine Learning <br > Convolutional Neural Network\n",
    "> 叶璨铭"
   ]
  },
  {
   "cell_type": "markdown",
   "metadata": {
    "pycharm": {
     "name": "#%% md\n"
    }
   },
   "source": [
    "## LAB Assignment\n",
    "### Exercise 1  Image Classifier(100 points )\n",
    "Follow the above instructions of Image Classifier Training with PyTorch to train your own image classifier (using the [CIFAR10 dataset](https://pytorch.org/tutorials/beginner/blitz/cifar10_tutorial.html). \n",
    "\n",
    "Please try to improve performance of classification by trying different network structures (add layers, modify parameters and so on) and different training strategies (loss function, optimizer and so on). \n",
    "\n",
    "<font color='red' size=5>Note: Your accuracy in this exercise will directly determine your score.</font>"
   ]
  },
  {
   "cell_type": "code",
   "execution_count": 3,
   "metadata": {},
   "outputs": [],
   "source": [
    "import numpy as np \n",
    "import pandas as pd \n",
    "from torchvision import datasets,transforms\n",
    "from torch.utils.data import DataLoader,Dataset\n",
    "import torch\n",
    "import gzip,os, pickle\n",
    "from PIL import Image"
   ]
  },
  {
   "cell_type": "code",
   "execution_count": 4,
   "metadata": {},
   "outputs": [
    {
     "name": "stdout",
     "output_type": "stream",
     "text": [
      "--2022-11-15 10:22:50--  http://www.cs.toronto.edu/~kriz/cifar-10-python.tar.gz\n",
      "Resolving www.cs.toronto.edu (www.cs.toronto.edu)... 128.100.3.30\n",
      "Connecting to www.cs.toronto.edu (www.cs.toronto.edu)|128.100.3.30|:80... connected.\r\n",
      "HTTP request sent, awaiting response... 200 OK\r\n",
      "Length: 170498071 (163M) [application/x-gzip]\r\n",
      "Saving to: ‘cifar-10-python.tar.gz’\r\n",
      "\r\n",
      "\rcifar-10-python.tar   0%[                    ]       0  --.-KB/s               \rcifar-10-python.tar   0%[                    ]  21.84K  79.5KB/s               \rcifar-10-python.tar   0%[                    ]  47.78K  86.7KB/s               \rcifar-10-python.tar   0%[                    ] 104.34K   126KB/s               \rcifar-10-python.tar   0%[                    ] 217.47K   198KB/s               \rcifar-10-python.tar   0%[                    ] 446.06K   324KB/s               \rcifar-10-python.tar   0%[                    ] 898.56K   545KB/s               \rcifar-10-python.tar   1%[                    ]   1.76M   937KB/s               \rcifar-10-python.tar   1%[                    ]   3.08M  1.40MB/s               \rcifar-10-python.tar   1%[                    ]   3.10M  1.25MB/s               \rcifar-10-python.tar   3%[                    ]   6.07M  2.19MB/s               \rcifar-10-python.tar   5%[>                   ]   8.25M  2.71MB/s    eta 57s    \rcifar-10-python.tar   6%[>                   ]  10.47M  3.15MB/s    eta 57s    \rcifar-10-python.tar   7%[>                   ]  12.22M  3.46MB/s    eta 57s    \rcifar-10-python.tar   7%[>                   ]  12.90M  3.29MB/s    eta 57s    \rcifar-10-python.tar   9%[>                   ]  15.53M  3.70MB/s    eta 40s    \rcifar-10-python.tar  10%[=>                  ]  16.71M  3.80MB/s    eta 40s    \rcifar-10-python.tar  11%[=>                  ]  17.93M  3.90MB/s    eta 40s    \rcifar-10-python.tar  11%[=>                  ]  19.14M  3.99MB/s    eta 40s    \rcifar-10-python.tar  12%[=>                  ]  20.33M  4.30MB/s    eta 40s    \rcifar-10-python.tar  13%[=>                  ]  21.61M  4.64MB/s    eta 34s    \rcifar-10-python.tar  14%[=>                  ]  22.91M  4.98MB/s    eta 34s    \rcifar-10-python.tar  14%[=>                  ]  24.17M  5.61MB/s    eta 34s    \rcifar-10-python.tar  15%[==>                 ]  25.41M  5.91MB/s    eta 34s    \rcifar-10-python.tar  16%[==>                 ]  26.78M  6.14MB/s    eta 34s    \rcifar-10-python.tar  17%[==>                 ]  28.14M  6.72MB/s    eta 30s    \rcifar-10-python.tar  18%[==>                 ]  29.40M  6.42MB/s    eta 30s    \rcifar-10-python.tar  18%[==>                 ]  30.73M  6.32MB/s    eta 30s    \rcifar-10-python.tar  19%[==>                 ]  32.15M  6.13MB/s    eta 30s    \rcifar-10-python.tar  20%[===>                ]  33.53M  6.12MB/s    eta 30s    \rcifar-10-python.tar  21%[===>                ]  34.77M  6.66MB/s    eta 26s    \rcifar-10-python.tar  22%[===>                ]  36.11M  5.92MB/s    eta 26s    \rcifar-10-python.tar  23%[===>                ]  37.82M  5.99MB/s    eta 26s    \rcifar-10-python.tar  24%[===>                ]  39.23M  6.05MB/s    eta 26s    \rcifar-10-python.tar  24%[===>                ]  40.41M  6.03MB/s    eta 25s    \rcifar-10-python.tar  25%[====>               ]  41.07M  5.86MB/s    eta 25s    \rcifar-10-python.tar  25%[====>               ]  42.18M  5.81MB/s    eta 25s    \rcifar-10-python.tar  26%[====>               ]  43.19M  5.75MB/s    eta 25s    \rcifar-10-python.tar  27%[====>               ]  44.12M  5.61MB/s    eta 25s    \rcifar-10-python.tar  27%[====>               ]  45.16M  5.53MB/s    eta 24s    \rcifar-10-python.tar  28%[====>               ]  45.87M  4.99MB/s    eta 24s    \rcifar-10-python.tar  28%[====>               ]  46.88M  4.91MB/s    eta 24s    \rcifar-10-python.tar  29%[====>               ]  48.78M  5.11MB/s    eta 24s    \rcifar-10-python.tar  30%[=====>              ]  49.52M  4.93MB/s    eta 24s    \rcifar-10-python.tar  30%[=====>              ]  50.30M  4.71MB/s    eta 24s    \rcifar-10-python.tar  31%[=====>              ]  51.02M  4.59MB/s    eta 24s    \rcifar-10-python.tar  31%[=====>              ]  51.94M  4.48MB/s    eta 24s    \rcifar-10-python.tar  31%[=====>              ]  52.00M  4.29MB/s    eta 24s    \rcifar-10-python.tar  32%[=====>              ]  52.98M  4.01MB/s    eta 24s    \rcifar-10-python.tar  33%[=====>              ]  54.30M  4.23MB/s    eta 24s    \rcifar-10-python.tar  33%[=====>              ]  54.79M  4.04MB/s    eta 24s    \rcifar-10-python.tar  34%[=====>              ]  55.39M  3.92MB/s    eta 24s    \rcifar-10-python.tar  34%[=====>              ]  56.03M  3.89MB/s    eta 24s    \rcifar-10-python.tar  34%[=====>              ]  56.65M  3.76MB/s    eta 23s    \rcifar-10-python.tar  35%[======>             ]  57.16M  3.56MB/s    eta 23s    \rcifar-10-python.tar  35%[======>             ]  57.68M  3.48MB/s    eta 23s    \rcifar-10-python.tar  36%[======>             ]  58.98M  3.59MB/s    eta 23s    \rcifar-10-python.tar  36%[======>             ]  59.34M  3.12MB/s    eta 24s    \rcifar-10-python.tar  36%[======>             ]  59.43M  2.89MB/s    eta 24s    \rcifar-10-python.tar  37%[======>             ]  60.35M  2.92MB/s    eta 24s    \rcifar-10-python.tar  37%[======>             ]  60.71M  2.85MB/s    eta 24s    \rcifar-10-python.tar  37%[======>             ]  61.06M  2.71MB/s    eta 24s    \rcifar-10-python.tar  37%[======>             ]  61.13M  2.39MB/s    eta 25s    \rcifar-10-python.tar  37%[======>             ]  61.23M  2.30MB/s    eta 25s    \rcifar-10-python.tar  38%[======>             ]  62.31M  2.01MB/s    eta 25s    \rcifar-10-python.tar  38%[======>             ]  62.84M  1.99MB/s    eta 25s    \rcifar-10-python.tar  38%[======>             ]  63.04M  1.92MB/s    eta 25s    \rcifar-10-python.tar  38%[======>             ]  63.22M  1.81MB/s    eta 25s    \rcifar-10-python.tar  38%[======>             ]  63.37M  1.70MB/s    eta 25s    \rcifar-10-python.tar  39%[======>             ]  63.57M  1.61MB/s    eta 25s    \rcifar-10-python.tar  39%[======>             ]  63.79M  1.48MB/s    eta 26s    \rcifar-10-python.tar  39%[======>             ]  63.98M  1.55MB/s    eta 26s    \rcifar-10-python.tar  39%[======>             ]  64.12M  1.29MB/s    eta 26s    \rcifar-10-python.tar  39%[======>             ]  64.35M  1.30MB/s    eta 26s    \rcifar-10-python.tar  39%[======>             ]  64.58M  1.11MB/s    eta 26s    \rcifar-10-python.tar  39%[======>             ]  64.78M  1.09MB/s    eta 27s    \rcifar-10-python.tar  39%[======>             ]  64.81M  1020KB/s    eta 27s    \rcifar-10-python.tar  40%[=======>            ]  65.23M  1.01MB/s    eta 27s    \rcifar-10-python.tar  40%[=======>            ]  65.34M  1.06MB/s    eta 27s    \rcifar-10-python.tar  40%[=======>            ]  65.52M  1.17MB/s    eta 27s    \rcifar-10-python.tar  40%[=======>            ]  65.66M   997KB/s    eta 28s    \rcifar-10-python.tar  40%[=======>            ]  65.81M   881KB/s    eta 28s    \rcifar-10-python.tar  40%[=======>            ]  65.83M   818KB/s    eta 28s    \rcifar-10-python.tar  40%[=======>            ]  66.15M   853KB/s    eta 28s    \rcifar-10-python.tar  40%[=======>            ]  66.26M   832KB/s    eta 28s    \rcifar-10-python.tar  40%[=======>            ]  66.40M   819KB/s    eta 29s    \rcifar-10-python.tar  40%[=======>            ]  66.53M   805KB/s    eta 29s    \rcifar-10-python.tar  40%[=======>            ]  66.65M   776KB/s    eta 29s    \rcifar-10-python.tar  41%[=======>            ]  66.76M   750KB/s    eta 29s    \rcifar-10-python.tar  41%[=======>            ]  66.91M   743KB/s    eta 29s    \rcifar-10-python.tar  41%[=======>            ]  67.04M   732KB/s    eta 30s    \rcifar-10-python.tar  41%[=======>            ]  67.16M   705KB/s    eta 30s    \rcifar-10-python.tar  41%[=======>            ]  67.28M   734KB/s    eta 30s    \rcifar-10-python.tar  41%[=======>            ]  67.44M   728KB/s    eta 30s    \rcifar-10-python.tar  41%[=======>            ]  67.57M   649KB/s    eta 30s    \rcifar-10-python.tar  41%[=======>            ]  67.70M   649KB/s    eta 31s    \rcifar-10-python.tar  41%[=======>            ]  67.81M   635KB/s    eta 31s    \rcifar-10-python.tar  41%[=======>            ]  67.97M   695KB/s    eta 31s    \rcifar-10-python.tar  41%[=======>            ]  68.11M   637KB/s    eta 31s    \rcifar-10-python.tar  41%[=======>            ]  68.23M   636KB/s    eta 31s    \rcifar-10-python.tar  42%[=======>            ]  68.34M   635KB/s    eta 32s    \rcifar-10-python.tar  42%[=======>            ]  68.52M   651KB/s    eta 32s    \rcifar-10-python.tar  42%[=======>            ]  68.65M   654KB/s    eta 32s    \rcifar-10-python.tar  42%[=======>            ]  68.78M   657KB/s    eta 32s    \rcifar-10-python.tar  42%[=======>            ]  68.89M   650KB/s    eta 32s    \rcifar-10-python.tar  42%[=======>            ]  69.05M   667KB/s    eta 33s    \rcifar-10-python.tar  42%[=======>            ]  69.20M   660KB/s    eta 33s    \rcifar-10-python.tar  42%[=======>            ]  69.21M   605KB/s    eta 33s    \rcifar-10-python.tar  42%[=======>            ]  69.51M   650KB/s    eta 33s    \rcifar-10-python.tar  42%[=======>            ]  69.60M   640KB/s    eta 33s    \rcifar-10-python.tar  42%[=======>            ]  69.68M   633KB/s    eta 34s    \rcifar-10-python.tar  42%[=======>            ]  69.81M   635KB/s    eta 34s    \rcifar-10-python.tar  43%[=======>            ]  69.93M   618KB/s    eta 34s    \rcifar-10-python.tar  43%[=======>            ]  70.03M   619KB/s    eta 34s    \rcifar-10-python.tar  43%[=======>            ]  70.13M   603KB/s    eta 34s    \rcifar-10-python.tar  43%[=======>            ]  70.28M   617KB/s    eta 35s    \rcifar-10-python.tar  43%[=======>            ]  70.41M   602KB/s    eta 35s    \rcifar-10-python.tar  43%[=======>            ]  70.53M   610KB/s    eta 35s    \rcifar-10-python.tar  43%[=======>            ]  70.64M   593KB/s    eta 35s    \rcifar-10-python.tar  43%[=======>            ]  70.66M   542KB/s    eta 35s    \rcifar-10-python.tar  43%[=======>            ]  70.88M   538KB/s    eta 36s    \rcifar-10-python.tar  43%[=======>            ]  71.08M   566KB/s    eta 36s    \rcifar-10-python.tar  43%[=======>            ]  71.13M   538KB/s    eta 36s    \rcifar-10-python.tar  43%[=======>            ]  71.21M   539KB/s    eta 36s    \rcifar-10-python.tar  43%[=======>            ]  71.29M   507KB/s    eta 36s    \rcifar-10-python.tar  43%[=======>            ]  71.35M   504KB/s    eta 37s    \rcifar-10-python.tar  43%[=======>            ]  71.42M   486KB/s    eta 37s    \rcifar-10-python.tar  43%[=======>            ]  71.50M   435KB/s    eta 37s    \rcifar-10-python.tar  44%[=======>            ]  71.68M   451KB/s    eta 38s    \rcifar-10-python.tar  44%[=======>            ]  71.75M   441KB/s    eta 38s    \rcifar-10-python.tar  44%[=======>            ]  71.80M   428KB/s    eta 38s    \rcifar-10-python.tar  44%[=======>            ]  71.86M   418KB/s    eta 38s    \rcifar-10-python.tar  44%[=======>            ]  71.91M   394KB/s    eta 38s    \rcifar-10-python.tar  44%[=======>            ]  71.99M   372KB/s    eta 39s    \rcifar-10-python.tar  44%[=======>            ]  72.07M   349KB/s    eta 39s    \rcifar-10-python.tar  44%[=======>            ]  72.16M   372KB/s    eta 39s    \rcifar-10-python.tar  44%[=======>            ]  72.24M   317KB/s    eta 39s    \rcifar-10-python.tar  44%[=======>            ]  72.33M   310KB/s    eta 40s    \rcifar-10-python.tar  44%[=======>            ]  72.41M   311KB/s    eta 40s    \rcifar-10-python.tar  44%[=======>            ]  72.50M   311KB/s    eta 40s    \rcifar-10-python.tar  44%[=======>            ]  72.58M   303KB/s    eta 40s    \rcifar-10-python.tar  44%[=======>            ]  72.67M   332KB/s    eta 41s    \rcifar-10-python.tar  44%[=======>            ]  72.75M   299KB/s    eta 41s    \rcifar-10-python.tar  44%[=======>            ]  72.84M   306KB/s    eta 41s    \rcifar-10-python.tar  44%[=======>            ]  72.92M   303KB/s    eta 41s    \rcifar-10-python.tar  44%[=======>            ]  73.01M   308KB/s    eta 42s    \rcifar-10-python.tar  44%[=======>            ]  73.10M   305KB/s    eta 42s    \rcifar-10-python.tar  45%[========>           ]  73.18M   302KB/s    eta 42s    \rcifar-10-python.tar  45%[========>           ]  73.27M   302KB/s    eta 42s    \rcifar-10-python.tar  45%[========>           ]  73.28M   284KB/s    eta 44s    \rcifar-10-python.tar  45%[========>           ]  73.43M   305KB/s    eta 44s    \rcifar-10-python.tar  45%[========>           ]  73.50M   304KB/s    eta 44s    \rcifar-10-python.tar  45%[========>           ]  73.57M   306KB/s    eta 44s    \rcifar-10-python.tar  45%[========>           ]  73.63M   308KB/s    eta 44s    \rcifar-10-python.tar  45%[========>           ]  73.69M   303KB/s    eta 44s    \rcifar-10-python.tar  45%[========>           ]  73.74M   303KB/s    eta 44s    \rcifar-10-python.tar  45%[========>           ]  73.82M   301KB/s    eta 44s    \rcifar-10-python.tar  45%[========>           ]  73.89M   302KB/s    eta 44s    \rcifar-10-python.tar  45%[========>           ]  73.96M   306KB/s    eta 44s    \rcifar-10-python.tar  45%[========>           ]  74.01M   308KB/s    eta 45s    \rcifar-10-python.tar  45%[========>           ]  74.07M   282KB/s    eta 45s    \rcifar-10-python.tar  45%[========>           ]  74.22M   304KB/s    eta 45s    \rcifar-10-python.tar  45%[========>           ]  74.27M   301KB/s    eta 45s    \rcifar-10-python.tar  45%[========>           ]  74.32M   302KB/s    eta 46s    \rcifar-10-python.tar  45%[========>           ]  74.38M   295KB/s    eta 46s    \rcifar-10-python.tar  45%[========>           ]  74.43M   292KB/s    eta 46s    \rcifar-10-python.tar  45%[========>           ]  74.49M   294KB/s    eta 46s    \rcifar-10-python.tar  45%[========>           ]  74.56M   300KB/s    eta 46s    \rcifar-10-python.tar  45%[========>           ]  74.63M   301KB/s    eta 47s    \rcifar-10-python.tar  45%[========>           ]  74.69M   300KB/s    eta 47s    \rcifar-10-python.tar  45%[========>           ]  74.75M   303KB/s    eta 47s    \rcifar-10-python.tar  46%[========>           ]  74.83M   308KB/s    eta 47s    \rcifar-10-python.tar  46%[========>           ]  74.88M   284KB/s    eta 48s    \rcifar-10-python.tar  46%[========>           ]  75.03M   303KB/s    eta 48s    \rcifar-10-python.tar  46%[========>           ]  75.08M   305KB/s    eta 48s    \rcifar-10-python.tar  46%[========>           ]  75.11M   273KB/s    eta 48s    \rcifar-10-python.tar  46%[========>           ]  75.23M   313KB/s    eta 49s    \rcifar-10-python.tar  46%[========>           ]  75.27M   286KB/s    eta 49s    \rcifar-10-python.tar  46%[========>           ]  75.31M   285KB/s    eta 49s    \rcifar-10-python.tar  46%[========>           ]  75.35M   277KB/s    eta 49s    \rcifar-10-python.tar  46%[========>           ]  75.40M   273KB/s    eta 49s    \rcifar-10-python.tar  46%[========>           ]  75.45M   272KB/s    eta 50s    \rcifar-10-python.tar  46%[========>           ]  75.50M   269KB/s    eta 50s    \rcifar-10-python.tar  46%[========>           ]  75.54M   257KB/s    eta 50s    \rcifar-10-python.tar  46%[========>           ]  75.55M   237KB/s    eta 50s    \rcifar-10-python.tar  46%[========>           ]  75.65M   247KB/s    eta 50s    \rcifar-10-python.tar  46%[========>           ]  75.68M   240KB/s    eta 51s    \rcifar-10-python.tar  46%[========>           ]  75.73M   227KB/s    eta 51s    \rcifar-10-python.tar  46%[========>           ]  75.77M   243KB/s    eta 51s    \rcifar-10-python.tar  46%[========>           ]  75.81M   212KB/s    eta 51s    \rcifar-10-python.tar  46%[========>           ]  75.85M   208KB/s    eta 51s    \rcifar-10-python.tar  46%[========>           ]  75.90M   228KB/s    eta 52s    \rcifar-10-python.tar  46%[========>           ]  75.95M   206KB/s    eta 52s    \rcifar-10-python.tar  46%[========>           ]  76.00M   209KB/s    eta 52s    \rcifar-10-python.tar  46%[========>           ]  76.04M   206KB/s    eta 52s    \rcifar-10-python.tar  46%[========>           ]  76.09M   207KB/s    eta 52s    \rcifar-10-python.tar  46%[========>           ]  76.13M   209KB/s    eta 53s    \rcifar-10-python.tar  46%[========>           ]  76.19M   213KB/s    eta 53s    \rcifar-10-python.tar  46%[========>           ]  76.22M   207KB/s    eta 53s    \rcifar-10-python.tar  46%[========>           ]  76.27M   207KB/s    eta 53s    \rcifar-10-python.tar  46%[========>           ]  76.32M   223KB/s    eta 53s    \rcifar-10-python.tar  46%[========>           ]  76.35M   206KB/s    eta 54s    \rcifar-10-python.tar  46%[========>           ]  76.40M   209KB/s    eta 54s    \rcifar-10-python.tar  47%[========>           ]  76.45M   212KB/s    eta 54s    \rcifar-10-python.tar  47%[========>           ]  76.48M   208KB/s    eta 54s    \rcifar-10-python.tar  47%[========>           ]  76.52M   211KB/s    eta 54s    \rcifar-10-python.tar  47%[========>           ]  76.57M   212KB/s    eta 55s    \rcifar-10-python.tar  47%[========>           ]  76.60M   213KB/s    eta 55s    \rcifar-10-python.tar  47%[========>           ]  76.65M   212KB/s    eta 55s    \rcifar-10-python.tar  47%[========>           ]  76.71M   215KB/s    eta 55s    \rcifar-10-python.tar  47%[========>           ]  76.75M   213KB/s    eta 55s    \rcifar-10-python.tar  47%[========>           ]  76.80M   215KB/s    eta 56s    \rcifar-10-python.tar  47%[========>           ]  76.86M   217KB/s    eta 56s    \rcifar-10-python.tar  47%[========>           ]  76.92M   220KB/s    eta 56s    \rcifar-10-python.tar  47%[========>           ]  76.96M   217KB/s    eta 56s    \rcifar-10-python.tar  47%[========>           ]  77.01M   222KB/s    eta 56s    \rcifar-10-python.tar  47%[========>           ]  77.08M   229KB/s    eta 56s    \rcifar-10-python.tar  47%[========>           ]  77.13M   234KB/s    eta 56s    \rcifar-10-python.tar  47%[========>           ]  77.19M   238KB/s    eta 56s    \rcifar-10-python.tar  47%[========>           ]  77.22M   224KB/s    eta 56s    \rcifar-10-python.tar  47%[========>           ]  77.38M   252KB/s    eta 57s    \rcifar-10-python.tar  47%[========>           ]  77.43M   256KB/s    eta 57s    \rcifar-10-python.tar  47%[========>           ]  77.50M   261KB/s    eta 57s    \rcifar-10-python.tar  47%[========>           ]  77.56M   266KB/s    eta 57s    \rcifar-10-python.tar  47%[========>           ]  77.61M   267KB/s    eta 57s    \rcifar-10-python.tar  47%[========>           ]  77.68M   275KB/s    eta 58s    \rcifar-10-python.tar  47%[========>           ]  77.69M   251KB/s    eta 58s    \rcifar-10-python.tar  47%[========>           ]  77.84M   278KB/s    eta 58s    \rcifar-10-python.tar  47%[========>           ]  77.90M   277KB/s    eta 58s    \rcifar-10-python.tar  47%[========>           ]  77.96M   282KB/s    eta 59s    \rcifar-10-python.tar  47%[========>           ]  78.00M   277KB/s    eta 59s    \rcifar-10-python.tar  48%[========>           ]  78.05M   278KB/s    eta 59s    \rcifar-10-python.tar  48%[========>           ]  78.11M   277KB/s    eta 59s    \rcifar-10-python.tar  48%[========>           ]  78.17M   276KB/s    eta 59s    \rcifar-10-python.tar  48%[========>           ]  78.21M   274KB/s    eta 60s    \rcifar-10-python.tar  48%[========>           ]  78.26M   270KB/s    eta 60s    \rcifar-10-python.tar  48%[========>           ]  78.33M   287KB/s    eta 60s    \rcifar-10-python.tar  48%[========>           ]  78.37M   256KB/s    eta 60s    \rcifar-10-python.tar  48%[========>           ]  78.41M   256KB/s    eta 60s    \rcifar-10-python.tar  48%[========>           ]  78.42M   232KB/s    eta 61s    \rcifar-10-python.tar  48%[========>           ]  78.55M   250KB/s    eta 61s    \rcifar-10-python.tar  48%[========>           ]  78.60M   249KB/s    eta 61s    \rcifar-10-python.tar  48%[========>           ]  78.65M   241KB/s    eta 61s    \rcifar-10-python.tar  48%[========>           ]  78.69M   230KB/s    eta 61s    \rcifar-10-python.tar  48%[========>           ]  78.73M   225KB/s    eta 61s    \rcifar-10-python.tar  48%[========>           ]  78.79M   230KB/s    eta 61s    \rcifar-10-python.tar  48%[========>           ]  78.83M   228KB/s    eta 61s    \rcifar-10-python.tar  48%[========>           ]  78.88M   226KB/s    eta 61s    \rcifar-10-python.tar  48%[========>           ]  78.93M   227KB/s    eta 61s    \rcifar-10-python.tar  48%[========>           ]  78.97M   221KB/s    eta 62s    \rcifar-10-python.tar  48%[========>           ]  79.03M   227KB/s    eta 62s    \rcifar-10-python.tar  48%[========>           ]  79.10M   229KB/s    eta 62s    \rcifar-10-python.tar  48%[========>           ]  79.16M   235KB/s    eta 62s    \rcifar-10-python.tar  48%[========>           ]  79.22M   236KB/s    eta 62s    \rcifar-10-python.tar  48%[========>           ]  79.27M   237KB/s    eta 63s    \rcifar-10-python.tar  48%[========>           ]  79.34M   266KB/s    eta 63s    \rcifar-10-python.tar  48%[========>           ]  79.39M   245KB/s    eta 63s    \rcifar-10-python.tar  48%[========>           ]  79.46M   252KB/s    eta 63s    \rcifar-10-python.tar  48%[========>           ]  79.50M   250KB/s    eta 63s    \rcifar-10-python.tar  48%[========>           ]  79.55M   254KB/s    eta 64s    \rcifar-10-python.tar  48%[========>           ]  79.62M   260KB/s    eta 64s    \rcifar-10-python.tar  49%[========>           ]  79.67M   262KB/s    eta 64s    \rcifar-10-python.tar  49%[========>           ]  79.73M   264KB/s    eta 64s    \rcifar-10-python.tar  49%[========>           ]  79.78M   266KB/s    eta 64s    \rcifar-10-python.tar  49%[========>           ]  79.85M   268KB/s    eta 64s    \rcifar-10-python.tar  49%[========>           ]  79.92M   275KB/s    eta 64s    \rcifar-10-python.tar  49%[========>           ]  79.97M   268KB/s    eta 64s    \rcifar-10-python.tar  49%[========>           ]  80.04M   275KB/s    eta 64s    \rcifar-10-python.tar  49%[========>           ]  80.10M   276KB/s    eta 64s    \rcifar-10-python.tar  49%[========>           ]  80.17M   280KB/s    eta 65s    \rcifar-10-python.tar  49%[========>           ]  80.23M   278KB/s    eta 65s    \rcifar-10-python.tar  49%[========>           ]  80.32M   289KB/s    eta 65s    \rcifar-10-python.tar  49%[========>           ]  80.39M   291KB/s    eta 65s    \rcifar-10-python.tar  49%[========>           ]  80.47M   302KB/s    eta 65s    \rcifar-10-python.tar  49%[========>           ]  80.56M   314KB/s    eta 65s    \rcifar-10-python.tar  49%[========>           ]  80.66M   319KB/s    eta 65s    \rcifar-10-python.tar  49%[========>           ]  80.76M   334KB/s    eta 65s    \rcifar-10-python.tar  49%[========>           ]  80.86M   350KB/s    eta 65s    \rcifar-10-python.tar  49%[========>           ]  80.89M   325KB/s    eta 66s    \rcifar-10-python.tar  49%[========>           ]  81.12M   373KB/s    eta 66s    \rcifar-10-python.tar  49%[========>           ]  81.21M   378KB/s    eta 66s    \rcifar-10-python.tar  49%[========>           ]  81.25M   358KB/s    eta 66s    \rcifar-10-python.tar  50%[=========>          ]  81.43M   388KB/s    eta 66s    \rcifar-10-python.tar  50%[=========>          ]  81.48M   388KB/s    eta 66s    \rcifar-10-python.tar  50%[=========>          ]  81.56M   391KB/s    eta 66s    \rcifar-10-python.tar  50%[=========>          ]  81.63M   390KB/s    eta 66s    \rcifar-10-python.tar  50%[=========>          ]  81.70M   385KB/s    eta 66s    \rcifar-10-python.tar  50%[=========>          ]  81.78M   387KB/s    eta 67s    \rcifar-10-python.tar  50%[=========>          ]  81.84M   384KB/s    eta 67s    \rcifar-10-python.tar  50%[=========>          ]  81.93M   381KB/s    eta 67s    \rcifar-10-python.tar  50%[=========>          ]  81.98M   374KB/s    eta 67s    \rcifar-10-python.tar  50%[=========>          ]  82.05M   366KB/s    eta 67s    \rcifar-10-python.tar  50%[=========>          ]  82.12M   363KB/s    eta 67s    \rcifar-10-python.tar  50%[=========>          ]  82.18M   355KB/s    eta 67s    \rcifar-10-python.tar  50%[=========>          ]  82.26M   310KB/s    eta 67s    \rcifar-10-python.tar  50%[=========>          ]  82.42M   330KB/s    eta 67s    \rcifar-10-python.tar  50%[=========>          ]  82.48M   349KB/s    eta 68s    \rcifar-10-python.tar  50%[=========>          ]  82.54M   315KB/s    eta 68s    \rcifar-10-python.tar  50%[=========>          ]  82.61M   316KB/s    eta 68s    \rcifar-10-python.tar  50%[=========>          ]  82.66M   314KB/s    eta 68s    \rcifar-10-python.tar  50%[=========>          ]  82.73M   312KB/s    eta 68s    \rcifar-10-python.tar  50%[=========>          ]  82.79M   315KB/s    eta 68s    \rcifar-10-python.tar  50%[=========>          ]  82.87M   315KB/s    eta 68s    \rcifar-10-python.tar  51%[=========>          ]  82.93M   313KB/s    eta 68s    \rcifar-10-python.tar  51%[=========>          ]  83.00M   311KB/s    eta 68s    \rcifar-10-python.tar  51%[=========>          ]  83.08M   313KB/s    eta 68s    \rcifar-10-python.tar  51%[=========>          ]  83.16M   317KB/s    eta 69s    \rcifar-10-python.tar  51%[=========>          ]  83.24M   321KB/s    eta 69s    \rcifar-10-python.tar  51%[=========>          ]  83.25M   297KB/s    eta 69s    \rcifar-10-python.tar  51%[=========>          ]  83.41M   317KB/s    eta 69s    \rcifar-10-python.tar  51%[=========>          ]  83.46M   307KB/s    eta 69s    \rcifar-10-python.tar  51%[=========>          ]  83.52M   310KB/s    eta 69s    \rcifar-10-python.tar  51%[=========>          ]  83.58M   310KB/s    eta 69s    \rcifar-10-python.tar  51%[=========>          ]  83.65M   314KB/s    eta 69s    \rcifar-10-python.tar  51%[=========>          ]  83.72M   318KB/s    eta 69s    \rcifar-10-python.tar  51%[=========>          ]  83.79M   316KB/s    eta 70s    \rcifar-10-python.tar  51%[=========>          ]  83.86M   292KB/s    eta 70s    \rcifar-10-python.tar  51%[=========>          ]  84.01M   314KB/s    eta 70s    \rcifar-10-python.tar  51%[=========>          ]  84.06M   305KB/s    eta 70s    \rcifar-10-python.tar  51%[=========>          ]  84.12M   280KB/s    eta 70s    \rcifar-10-python.tar  51%[=========>          ]  84.24M   295KB/s    eta 70s    \rcifar-10-python.tar  51%[=========>          ]  84.29M   287KB/s    eta 70s    \rcifar-10-python.tar  51%[=========>          ]  84.33M   275KB/s    eta 71s    \rcifar-10-python.tar  51%[=========>          ]  84.38M   289KB/s    eta 71s    \rcifar-10-python.tar  51%[=========>          ]  84.42M   261KB/s    eta 71s    \rcifar-10-python.tar  51%[=========>          ]  84.48M   260KB/s    eta 71s    \rcifar-10-python.tar  51%[=========>          ]  84.53M   258KB/s    eta 71s    \rcifar-10-python.tar  52%[=========>          ]  84.57M   252KB/s    eta 71s    \rcifar-10-python.tar  52%[=========>          ]  84.62M   252KB/s    eta 71s    \rcifar-10-python.tar  52%[=========>          ]  84.67M   226KB/s    eta 71s    \rcifar-10-python.tar  52%[=========>          ]  84.77M   232KB/s    eta 72s    \rcifar-10-python.tar  52%[=========>          ]  84.82M   241KB/s    eta 72s    \rcifar-10-python.tar  52%[=========>          ]  84.87M   214KB/s    eta 72s    \rcifar-10-python.tar  52%[=========>          ]  84.92M   210KB/s    eta 72s    \rcifar-10-python.tar  52%[=========>          ]  84.98M   224KB/s    eta 73s    \rcifar-10-python.tar  52%[=========>          ]  85.04M   205KB/s    eta 73s    \rcifar-10-python.tar  52%[=========>          ]  85.06M   188KB/s    eta 73s    \rcifar-10-python.tar  52%[=========>          ]  85.17M   205KB/s    eta 73s    \rcifar-10-python.tar  52%[=========>          ]  85.19M   200KB/s    eta 73s    \rcifar-10-python.tar  52%[=========>          ]  85.23M   196KB/s    eta 73s    \rcifar-10-python.tar  52%[=========>          ]  85.27M   193KB/s    eta 73s    \rcifar-10-python.tar  52%[=========>          ]  85.31M   190KB/s    eta 73s    \rcifar-10-python.tar  52%[=========>          ]  85.36M   191KB/s    eta 73s    \rcifar-10-python.tar  52%[=========>          ]  85.39M   188KB/s    eta 74s    \rcifar-10-python.tar  52%[=========>          ]  85.43M   184KB/s    eta 74s    \rcifar-10-python.tar  52%[=========>          ]  85.46M   181KB/s    eta 74s    \rcifar-10-python.tar  52%[=========>          ]  85.51M   185KB/s    eta 74s    \rcifar-10-python.tar  52%[=========>          ]  85.56M   187KB/s    eta 74s    \rcifar-10-python.tar  52%[=========>          ]  85.58M   182KB/s    eta 75s    \rcifar-10-python.tar  52%[=========>          ]  85.63M   185KB/s    eta 75s    \rcifar-10-python.tar  52%[=========>          ]  85.67M   181KB/s    eta 75s    \rcifar-10-python.tar  52%[=========>          ]  85.71M   184KB/s    eta 75s    \rcifar-10-python.tar  52%[=========>          ]  85.74M   180KB/s    eta 75s    \rcifar-10-python.tar  52%[=========>          ]  85.78M   199KB/s    eta 75s    \rcifar-10-python.tar  52%[=========>          ]  85.82M   184KB/s    eta 75s    \rcifar-10-python.tar  52%[=========>          ]  85.87M   184KB/s    eta 75s    \rcifar-10-python.tar  52%[=========>          ]  85.92M   190KB/s    eta 75s    \rcifar-10-python.tar  52%[=========>          ]  85.95M   189KB/s    eta 75s    \rcifar-10-python.tar  52%[=========>          ]  85.99M   188KB/s    eta 76s    \rcifar-10-python.tar  52%[=========>          ]  86.04M   192KB/s    eta 76s    \rcifar-10-python.tar  52%[=========>          ]  86.09M   193KB/s    eta 76s    \rcifar-10-python.tar  52%[=========>          ]  86.14M   197KB/s    eta 76s    \rcifar-10-python.tar  53%[=========>          ]  86.19M   202KB/s    eta 76s    \rcifar-10-python.tar  53%[=========>          ]  86.23M   199KB/s    eta 76s    \rcifar-10-python.tar  53%[=========>          ]  86.29M   205KB/s    eta 76s    \rcifar-10-python.tar  53%[=========>          ]  86.36M   211KB/s    eta 76s    \rcifar-10-python.tar  53%[=========>          ]  86.42M   216KB/s    eta 76s    \rcifar-10-python.tar  53%[=========>          ]  86.49M   225KB/s    eta 76s    \rcifar-10-python.tar  53%[=========>          ]  86.56M   232KB/s    eta 77s    \rcifar-10-python.tar  53%[=========>          ]  86.64M   243KB/s    eta 77s    \rcifar-10-python.tar  53%[=========>          ]  86.73M   255KB/s    eta 77s    \rcifar-10-python.tar  53%[=========>          ]  86.83M   249KB/s    eta 77s    \rcifar-10-python.tar  53%[=========>          ]  87.05M   297KB/s    eta 77s    \rcifar-10-python.tar  53%[=========>          ]  87.12M   302KB/s    eta 77s    \rcifar-10-python.tar  53%[=========>          ]  87.21M   318KB/s    eta 77s    \rcifar-10-python.tar  53%[=========>          ]  87.28M   324KB/s    eta 77s    \rcifar-10-python.tar  53%[=========>          ]  87.36M   329KB/s    eta 77s    \rcifar-10-python.tar  53%[=========>          ]  87.40M   321KB/s    eta 77s    \rcifar-10-python.tar  53%[=========>          ]  87.58M   352KB/s    eta 77s    \rcifar-10-python.tar  53%[=========>          ]  87.65M   359KB/s    eta 77s    \rcifar-10-python.tar  53%[=========>          ]  87.70M   356KB/s    eta 77s    \rcifar-10-python.tar  53%[=========>          ]  87.79M   366KB/s    eta 77s    \rcifar-10-python.tar  54%[=========>          ]  87.85M   363KB/s    eta 77s    \rcifar-10-python.tar  54%[=========>          ]  87.92M   363KB/s    eta 77s    \rcifar-10-python.tar  54%[=========>          ]  88.01M   368KB/s    eta 77s    \rcifar-10-python.tar  54%[=========>          ]  88.07M   365KB/s    eta 77s    \rcifar-10-python.tar  54%[=========>          ]  88.16M   364KB/s    eta 77s    \rcifar-10-python.tar  54%[=========>          ]  88.17M   362KB/s    eta 77s    \rcifar-10-python.tar  54%[=========>          ]  88.32M   345KB/s    eta 77s    \rcifar-10-python.tar  54%[=========>          ]  88.37M   340KB/s    eta 78s    \rcifar-10-python.tar  54%[=========>          ]  88.43M   331KB/s    eta 78s    \rcifar-10-python.tar  54%[=========>          ]  88.50M   329KB/s    eta 78s    \rcifar-10-python.tar  54%[=========>          ]  88.55M   323KB/s    eta 78s    \rcifar-10-python.tar  54%[=========>          ]  88.63M   345KB/s    eta 78s    \rcifar-10-python.tar  54%[=========>          ]  88.69M   311KB/s    eta 78s    \rcifar-10-python.tar  54%[=========>          ]  88.76M   313KB/s    eta 78s    \rcifar-10-python.tar  54%[=========>          ]  88.84M   315KB/s    eta 78s    \rcifar-10-python.tar  54%[=========>          ]  88.90M   312KB/s    eta 78s    \rcifar-10-python.tar  54%[=========>          ]  88.98M   317KB/s    eta 78s    \rcifar-10-python.tar  54%[=========>          ]  89.06M   318KB/s    eta 78s    \rcifar-10-python.tar  54%[=========>          ]  89.13M   315KB/s    eta 78s    \rcifar-10-python.tar  54%[=========>          ]  89.22M   318KB/s    eta 78s    \rcifar-10-python.tar  54%[=========>          ]  89.28M   343KB/s    eta 78s    \rcifar-10-python.tar  54%[=========>          ]  89.37M   351KB/s    eta 78s    \rcifar-10-python.tar  55%[==========>         ]  89.44M   324KB/s    eta 78s    \rcifar-10-python.tar  55%[==========>         ]  89.51M   332KB/s    eta 78s    \rcifar-10-python.tar  55%[==========>         ]  89.60M   343KB/s    eta 78s    \rcifar-10-python.tar  55%[==========>         ]  89.67M   343KB/s    eta 78s    \rcifar-10-python.tar  55%[==========>         ]  89.75M   345KB/s    eta 78s    \rcifar-10-python.tar  55%[==========>         ]  89.83M   347KB/s    eta 79s    \rcifar-10-python.tar  55%[==========>         ]  89.90M   349KB/s    eta 79s    \rcifar-10-python.tar  55%[==========>         ]  89.99M   354KB/s    eta 79s    \rcifar-10-python.tar  55%[==========>         ]  90.05M   352KB/s    eta 79s    \rcifar-10-python.tar  55%[==========>         ]  90.14M   352KB/s    eta 79s    \rcifar-10-python.tar  55%[==========>         ]  90.22M   359KB/s    eta 79s    \rcifar-10-python.tar  55%[==========>         ]  90.30M   359KB/s    eta 79s    \rcifar-10-python.tar  55%[==========>         ]  90.39M   362KB/s    eta 79s    \rcifar-10-python.tar  55%[==========>         ]  90.46M   363KB/s    eta 79s    \rcifar-10-python.tar  55%[==========>         ]  90.55M   365KB/s    eta 79s    \rcifar-10-python.tar  55%[==========>         ]  90.64M   333KB/s    eta 79s    \rcifar-10-python.tar  55%[==========>         ]  90.76M   337KB/s    eta 79s    \rcifar-10-python.tar  55%[==========>         ]  90.90M   351KB/s    eta 79s    \rcifar-10-python.tar  55%[==========>         ]  90.98M   356KB/s    eta 79s    \rcifar-10-python.tar  55%[==========>         ]  91.04M   352KB/s    eta 79s    \rcifar-10-python.tar  56%[==========>         ]  91.11M   355KB/s    eta 79s    \rcifar-10-python.tar  56%[==========>         ]  91.18M   349KB/s    eta 79s    \rcifar-10-python.tar  56%[==========>         ]  91.19M   325KB/s    eta 79s    \rcifar-10-python.tar  56%[==========>         ]  91.36M   343KB/s    eta 79s    \rcifar-10-python.tar  56%[==========>         ]  91.42M   346KB/s    eta 79s    \rcifar-10-python.tar  56%[==========>         ]  91.50M   340KB/s    eta 79s    \rcifar-10-python.tar  56%[==========>         ]  91.55M   334KB/s    eta 79s    \rcifar-10-python.tar  56%[==========>         ]  91.60M   328KB/s    eta 79s    \rcifar-10-python.tar  56%[==========>         ]  91.67M   325KB/s    eta 79s    \rcifar-10-python.tar  56%[==========>         ]  91.75M   319KB/s    eta 79s    \rcifar-10-python.tar  56%[==========>         ]  91.83M   314KB/s    eta 79s    \rcifar-10-python.tar  56%[==========>         ]  91.92M   337KB/s    eta 79s    \rcifar-10-python.tar  56%[==========>         ]  92.00M   331KB/s    eta 79s    \rcifar-10-python.tar  56%[==========>         ]  92.06M   313KB/s    eta 79s    \rcifar-10-python.tar  56%[==========>         ]  92.10M   307KB/s    eta 80s    \rcifar-10-python.tar  56%[==========>         ]  92.17M   307KB/s    eta 80s    \rcifar-10-python.tar  56%[==========>         ]  92.26M   301KB/s    eta 80s    \rcifar-10-python.tar  56%[==========>         ]  92.34M   303KB/s    eta 80s    \rcifar-10-python.tar  56%[==========>         ]  92.42M   295KB/s    eta 80s    \rcifar-10-python.tar  56%[==========>         ]  92.51M   299KB/s    eta 80s    \rcifar-10-python.tar  56%[==========>         ]  92.60M   302KB/s    eta 80s    \rcifar-10-python.tar  56%[==========>         ]  92.68M   304KB/s    eta 80s    \rcifar-10-python.tar  57%[==========>         ]  92.75M   286KB/s    eta 80s    \rcifar-10-python.tar  57%[==========>         ]  92.90M   305KB/s    eta 80s    \rcifar-10-python.tar  57%[==========>         ]  92.95M   305KB/s    eta 80s    \rcifar-10-python.tar  57%[==========>         ]  92.99M   296KB/s    eta 80s    \rcifar-10-python.tar  57%[==========>         ]  93.00M   273KB/s    eta 80s    \rcifar-10-python.tar  57%[==========>         ]  93.12M   287KB/s    eta 80s    \rcifar-10-python.tar  57%[==========>         ]  93.16M   279KB/s    eta 80s    \rcifar-10-python.tar  57%[==========>         ]  93.21M   276KB/s    eta 80s    \rcifar-10-python.tar  57%[==========>         ]  93.25M   269KB/s    eta 80s    \rcifar-10-python.tar  57%[==========>         ]  93.31M   265KB/s    eta 81s    \rcifar-10-python.tar  57%[==========>         ]  93.38M   258KB/s    eta 81s    \rcifar-10-python.tar  57%[==========>         ]  93.43M   258KB/s    eta 81s    \rcifar-10-python.tar  57%[==========>         ]  93.47M   253KB/s    eta 81s    \rcifar-10-python.tar  57%[==========>         ]  93.52M   244KB/s    eta 81s    \rcifar-10-python.tar  57%[==========>         ]  93.57M   240KB/s    eta 81s    \rcifar-10-python.tar  57%[==========>         ]  93.64M   233KB/s    eta 81s    \rcifar-10-python.tar  57%[==========>         ]  93.70M   243KB/s    eta 81s    \rcifar-10-python.tar  57%[==========>         ]  93.76M   222KB/s    eta 81s    \rcifar-10-python.tar  57%[==========>         ]  93.82M   221KB/s    eta 81s    \rcifar-10-python.tar  57%[==========>         ]  93.88M   240KB/s    eta 81s    \rcifar-10-python.tar  57%[==========>         ]  93.94M   224KB/s    eta 81s    \rcifar-10-python.tar  57%[==========>         ]  94.00M   227KB/s    eta 81s    \rcifar-10-python.tar  57%[==========>         ]  94.06M   231KB/s    eta 82s    \rcifar-10-python.tar  57%[==========>         ]  94.13M   231KB/s    eta 82s    \rcifar-10-python.tar  57%[==========>         ]  94.19M   236KB/s    eta 82s    \rcifar-10-python.tar  57%[==========>         ]  94.24M   235KB/s    eta 82s    \rcifar-10-python.tar  57%[==========>         ]  94.29M   236KB/s    eta 82s    \rcifar-10-python.tar  58%[==========>         ]  94.35M   238KB/s    eta 82s    \rcifar-10-python.tar  58%[==========>         ]  94.41M   242KB/s    eta 82s    \rcifar-10-python.tar  58%[==========>         ]  94.49M   249KB/s    eta 82s    \rcifar-10-python.tar  58%[==========>         ]  94.54M   250KB/s    eta 82s    \rcifar-10-python.tar  58%[==========>         ]  94.61M   259KB/s    eta 82s    \rcifar-10-python.tar  58%[==========>         ]  94.68M   266KB/s    eta 82s    \rcifar-10-python.tar  58%[==========>         ]  94.77M   275KB/s    eta 82s    \rcifar-10-python.tar  58%[==========>         ]  94.86M   285KB/s    eta 82s    \rcifar-10-python.tar  58%[==========>         ]  94.94M   297KB/s    eta 82s    \rcifar-10-python.tar  58%[==========>         ]  95.02M   306KB/s    eta 82s    \rcifar-10-python.tar  58%[==========>         ]  95.10M   295KB/s    eta 82s    \rcifar-10-python.tar  58%[==========>         ]  95.30M   312KB/s    eta 82s    \rcifar-10-python.tar  58%[==========>         ]  95.48M   344KB/s    eta 82s    \rcifar-10-python.tar  58%[==========>         ]  95.53M   342KB/s    eta 82s    \rcifar-10-python.tar  58%[==========>         ]  95.55M   314KB/s    eta 82s    \rcifar-10-python.tar  58%[==========>         ]  95.67M   331KB/s    eta 82s    \rcifar-10-python.tar  58%[==========>         ]  95.72M   327KB/s    eta 82s    \rcifar-10-python.tar  58%[==========>         ]  95.76M   323KB/s    eta 82s    \rcifar-10-python.tar  58%[==========>         ]  95.81M   315KB/s    eta 82s    \rcifar-10-python.tar  58%[==========>         ]  95.86M   316KB/s    eta 82s    \rcifar-10-python.tar  58%[==========>         ]  95.91M   307KB/s    eta 82s    \rcifar-10-python.tar  59%[==========>         ]  95.96M   299KB/s    eta 82s    \rcifar-10-python.tar  59%[==========>         ]  96.01M   290KB/s    eta 82s    \rcifar-10-python.tar  59%[==========>         ]  96.06M   281KB/s    eta 82s    \rcifar-10-python.tar  59%[==========>         ]  96.11M   276KB/s    eta 82s    \rcifar-10-python.tar  59%[==========>         ]  96.17M   263KB/s    eta 82s    \rcifar-10-python.tar  59%[==========>         ]  96.18M   264KB/s    eta 82s    \rcifar-10-python.tar  59%[==========>         ]  96.28M   237KB/s    eta 82s    \rcifar-10-python.tar  59%[==========>         ]  96.32M   219KB/s    eta 83s    \rcifar-10-python.tar  59%[==========>         ]  96.38M   218KB/s    eta 83s    \rcifar-10-python.tar  59%[==========>         ]  96.43M   209KB/s    eta 83s    \rcifar-10-python.tar  59%[==========>         ]  96.49M   211KB/s    eta 83s    \rcifar-10-python.tar  59%[==========>         ]  96.50M   196KB/s    eta 83s    \rcifar-10-python.tar  59%[==========>         ]  96.59M   206KB/s    eta 83s    \rcifar-10-python.tar  59%[==========>         ]  96.63M   207KB/s    eta 83s    \rcifar-10-python.tar  59%[==========>         ]  96.67M   205KB/s    eta 83s    \rcifar-10-python.tar  59%[==========>         ]  96.68M   190KB/s    eta 84s    \rcifar-10-python.tar  59%[==========>         ]  96.76M   195KB/s    eta 84s    \rcifar-10-python.tar  59%[==========>         ]  96.79M   191KB/s    eta 84s    \rcifar-10-python.tar  59%[==========>         ]  96.82M   188KB/s    eta 84s    \rcifar-10-python.tar  59%[==========>         ]  96.85M   182KB/s    eta 84s    \rcifar-10-python.tar  59%[==========>         ]  96.89M   177KB/s    eta 84s    \rcifar-10-python.tar  59%[==========>         ]  96.93M   183KB/s    eta 84s    \rcifar-10-python.tar  59%[==========>         ]  96.97M   167KB/s    eta 84s    \rcifar-10-python.tar  59%[==========>         ]  97.00M   162KB/s    eta 84s    \rcifar-10-python.tar  59%[==========>         ]  97.02M   147KB/s    eta 84s    \rcifar-10-python.tar  59%[==========>         ]  97.10M   154KB/s    eta 84s    \rcifar-10-python.tar  59%[==========>         ]  97.12M   152KB/s    eta 84s    \rcifar-10-python.tar  59%[==========>         ]  97.12M   136KB/s    eta 84s    \rcifar-10-python.tar  59%[==========>         ]  97.17M   151KB/s    eta 85s    \rcifar-10-python.tar  59%[==========>         ]  97.19M   134KB/s    eta 85s    \rcifar-10-python.tar  59%[==========>         ]  97.21M   127KB/s    eta 85s    \rcifar-10-python.tar  59%[==========>         ]  97.24M   133KB/s    eta 85s    \rcifar-10-python.tar  59%[==========>         ]  97.27M   119KB/s    eta 85s    \rcifar-10-python.tar  59%[==========>         ]  97.30M   119KB/s    eta 85s    \rcifar-10-python.tar  59%[==========>         ]  97.33M   116KB/s    eta 85s    \rcifar-10-python.tar  59%[==========>         ]  97.36M   114KB/s    eta 85s    \rcifar-10-python.tar  59%[==========>         ]  97.38M   111KB/s    eta 86s    \rcifar-10-python.tar  59%[==========>         ]  97.41M   110KB/s    eta 86s    \rcifar-10-python.tar  59%[==========>         ]  97.43M   106KB/s    eta 86s    \rcifar-10-python.tar  59%[==========>         ]  97.46M   104KB/s    eta 86s    \rcifar-10-python.tar  59%[==========>         ]  97.49M   101KB/s    eta 86s    \rcifar-10-python.tar  59%[==========>         ]  97.52M   102KB/s    eta 86s    \rcifar-10-python.tar  59%[==========>         ]  97.55M   103KB/s    eta 86s    \rcifar-10-python.tar  60%[===========>        ]  97.58M   105KB/s    eta 86s    \rcifar-10-python.tar  60%[===========>        ]  97.62M   108KB/s    eta 87s    \rcifar-10-python.tar  60%[===========>        ]  97.65M   111KB/s    eta 87s    \rcifar-10-python.tar  60%[===========>        ]  97.69M   112KB/s    eta 87s    \rcifar-10-python.tar  60%[===========>        ]  97.73M   116KB/s    eta 87s    \rcifar-10-python.tar  60%[===========>        ]  97.78M   119KB/s    eta 87s    \rcifar-10-python.tar  60%[===========>        ]  97.83M   124KB/s    eta 87s    \rcifar-10-python.tar  60%[===========>        ]  97.89M   131KB/s    eta 87s    \rcifar-10-python.tar  60%[===========>        ]  97.95M   138KB/s    eta 87s    \rcifar-10-python.tar  60%[===========>        ]  97.96M   132KB/s    eta 88s    \rcifar-10-python.tar  60%[===========>        ]  98.07M   151KB/s    eta 88s    \rcifar-10-python.tar  60%[===========>        ]  98.12M   156KB/s    eta 88s    \rcifar-10-python.tar  60%[===========>        ]  98.18M   164KB/s    eta 88s    \rcifar-10-python.tar  60%[===========>        ]  98.24M   170KB/s    eta 88s    \rcifar-10-python.tar  60%[===========>        ]  98.31M   179KB/s    eta 88s    \rcifar-10-python.tar  60%[===========>        ]  98.37M   186KB/s    eta 88s    \rcifar-10-python.tar  60%[===========>        ]  98.44M   196KB/s    eta 88s    \rcifar-10-python.tar  60%[===========>        ]  98.52M   204KB/s    eta 88s    \rcifar-10-python.tar  60%[===========>        ]  98.59M   216KB/s    eta 88s    \rcifar-10-python.tar  60%[===========>        ]  98.66M   225KB/s    eta 88s    \rcifar-10-python.tar  60%[===========>        ]  98.74M   237KB/s    eta 88s    \rcifar-10-python.tar  60%[===========>        ]  98.80M   245KB/s    eta 88s    \rcifar-10-python.tar  60%[===========>        ]  98.87M   251KB/s    eta 88s    \rcifar-10-python.tar  60%[===========>        ]  98.92M   250KB/s    eta 88s    \rcifar-10-python.tar  60%[===========>        ]  98.97M   255KB/s    eta 88s    \rcifar-10-python.tar  60%[===========>        ]  99.03M   255KB/s    eta 88s    \rcifar-10-python.tar  60%[===========>        ]  99.10M   261KB/s    eta 88s    \rcifar-10-python.tar  60%[===========>        ]  99.17M   261KB/s    eta 88s    \rcifar-10-python.tar  61%[===========>        ]  99.25M   270KB/s    eta 88s    \rcifar-10-python.tar  61%[===========>        ]  99.32M   266KB/s    eta 88s    \rcifar-10-python.tar  61%[===========>        ]  99.40M   275KB/s    eta 88s    \rcifar-10-python.tar  61%[===========>        ]  99.48M   277KB/s    eta 88s    \rcifar-10-python.tar  61%[===========>        ]  99.56M   279KB/s    eta 88s    \rcifar-10-python.tar  61%[===========>        ]  99.64M   283KB/s    eta 88s    \rcifar-10-python.tar  61%[===========>        ]  99.73M   280KB/s    eta 88s    \rcifar-10-python.tar  61%[===========>        ]  99.82M   290KB/s    eta 88s    \rcifar-10-python.tar  61%[===========>        ]  99.91M   291KB/s    eta 88s    \rcifar-10-python.tar  61%[===========>        ] 100.01M   304KB/s    eta 88s    \rcifar-10-python.tar  61%[===========>        ] 100.11M   310KB/s    eta 88s    \rcifar-10-python.tar  61%[===========>        ] 100.23M   320KB/s    eta 88s    \rcifar-10-python.tar  61%[===========>        ] 100.35M   338KB/s    eta 88s    \rcifar-10-python.tar  61%[===========>        ] 100.37M   314KB/s    eta 88s    \rcifar-10-python.tar  61%[===========>        ] 100.59M   354KB/s    eta 87s    \rcifar-10-python.tar  61%[===========>        ] 100.66M   353KB/s    eta 87s    \rcifar-10-python.tar  61%[===========>        ] 100.76M   365KB/s    eta 87s    \rcifar-10-python.tar  62%[===========>        ] 100.87M   369KB/s    eta 87s    \rcifar-10-python.tar  62%[===========>        ] 100.98M   377KB/s    eta 87s    \rcifar-10-python.tar  62%[===========>        ] 101.10M   380KB/s    eta 87s    \rcifar-10-python.tar  62%[===========>        ] 101.22M   396KB/s    eta 87s    \rcifar-10-python.tar  62%[===========>        ] 101.35M   397KB/s    eta 87s    \rcifar-10-python.tar  62%[===========>        ] 101.47M   408KB/s    eta 86s    \rcifar-10-python.tar  62%[===========>        ] 101.60M   422KB/s    eta 86s    \rcifar-10-python.tar  62%[===========>        ] 101.73M   424KB/s    eta 86s    \rcifar-10-python.tar  62%[===========>        ] 101.86M   437KB/s    eta 86s    \rcifar-10-python.tar  62%[===========>        ] 101.99M   431KB/s    eta 86s    \rcifar-10-python.tar  62%[===========>        ] 102.13M   479KB/s    eta 86s    \rcifar-10-python.tar  62%[===========>        ] 102.26M   450KB/s    eta 86s    \rcifar-10-python.tar  62%[===========>        ] 102.39M   469KB/s    eta 86s    \rcifar-10-python.tar  63%[===========>        ] 102.52M   478KB/s    eta 85s    \rcifar-10-python.tar  63%[===========>        ] 102.62M   475KB/s    eta 85s    \rcifar-10-python.tar  63%[===========>        ] 102.70M   481KB/s    eta 85s    \rcifar-10-python.tar  63%[===========>        ] 102.79M   472KB/s    eta 85s    \rcifar-10-python.tar  63%[===========>        ] 102.92M   490KB/s    eta 85s    \rcifar-10-python.tar  63%[===========>        ] 103.05M   497KB/s    eta 85s    \rcifar-10-python.tar  63%[===========>        ] 103.11M   481KB/s    eta 85s    \rcifar-10-python.tar  63%[===========>        ] 103.22M   451KB/s    eta 85s    \rcifar-10-python.tar  63%[===========>        ] 103.44M   474KB/s    eta 85s    \rcifar-10-python.tar  63%[===========>        ] 103.51M   472KB/s    eta 84s    \rcifar-10-python.tar  63%[===========>        ] 103.61M   460KB/s    eta 84s    \rcifar-10-python.tar  63%[===========>        ] 103.71M   468KB/s    eta 84s    \rcifar-10-python.tar  63%[===========>        ] 103.78M   460KB/s    eta 84s    \rcifar-10-python.tar  63%[===========>        ] 103.87M   450KB/s    eta 84s    \rcifar-10-python.tar  63%[===========>        ] 103.97M   452KB/s    eta 84s    \rcifar-10-python.tar  64%[===========>        ] 104.08M   445KB/s    eta 84s    \rcifar-10-python.tar  64%[===========>        ] 104.20M   457KB/s    eta 84s    \rcifar-10-python.tar  64%[===========>        ] 104.28M   440KB/s    eta 84s    \rcifar-10-python.tar  64%[===========>        ] 104.38M   452KB/s    eta 84s    \rcifar-10-python.tar  64%[===========>        ] 104.48M   453KB/s    eta 84s    \rcifar-10-python.tar  64%[===========>        ] 104.54M   414KB/s    eta 84s    \rcifar-10-python.tar  64%[===========>        ] 104.76M   444KB/s    eta 84s    \rcifar-10-python.tar  64%[===========>        ] 104.83M   423KB/s    eta 84s    \rcifar-10-python.tar  64%[===========>        ] 104.90M   394KB/s    eta 83s    \rcifar-10-python.tar  64%[===========>        ] 105.07M   414KB/s    eta 83s    \rcifar-10-python.tar  64%[===========>        ] 105.11M   407KB/s    eta 83s    \rcifar-10-python.tar  64%[===========>        ] 105.18M   405KB/s    eta 83s    \rcifar-10-python.tar  64%[===========>        ] 105.24M   399KB/s    eta 83s    \rcifar-10-python.tar  64%[===========>        ] 105.31M   386KB/s    eta 83s    \rcifar-10-python.tar  64%[===========>        ] 105.38M   381KB/s    eta 83s    \rcifar-10-python.tar  64%[===========>        ] 105.44M   377KB/s    eta 83s    \rcifar-10-python.tar  64%[===========>        ] 105.50M   372KB/s    eta 83s    \rcifar-10-python.tar  64%[===========>        ] 105.58M   354KB/s    eta 83s    \rcifar-10-python.tar  64%[===========>        ] 105.61M   325KB/s    eta 83s    \rcifar-10-python.tar  65%[============>       ] 105.75M   335KB/s    eta 83s    \rcifar-10-python.tar  65%[============>       ] 105.80M   329KB/s    eta 83s    \rcifar-10-python.tar  65%[============>       ] 105.86M   336KB/s    eta 83s    \rcifar-10-python.tar  65%[============>       ] 105.92M   299KB/s    eta 83s    \rcifar-10-python.tar  65%[============>       ] 105.99M   293KB/s    eta 83s    \rcifar-10-python.tar  65%[============>       ] 106.05M   316KB/s    eta 83s    \rcifar-10-python.tar  65%[============>       ] 106.10M   283KB/s    eta 83s    \rcifar-10-python.tar  65%[============>       ] 106.17M   286KB/s    eta 83s    \rcifar-10-python.tar  65%[============>       ] 106.24M   290KB/s    eta 83s    \rcifar-10-python.tar  65%[============>       ] 106.31M   292KB/s    eta 83s    \rcifar-10-python.tar  65%[============>       ] 106.40M   295KB/s    eta 83s    \rcifar-10-python.tar  65%[============>       ] 106.45M   292KB/s    eta 83s    \rcifar-10-python.tar  65%[============>       ] 106.52M   291KB/s    eta 83s    \rcifar-10-python.tar  65%[============>       ] 106.58M   294KB/s    eta 83s    \rcifar-10-python.tar  65%[============>       ] 106.66M   318KB/s    eta 82s    \rcifar-10-python.tar  65%[============>       ] 106.74M   300KB/s    eta 82s    \rcifar-10-python.tar  65%[============>       ] 106.79M   299KB/s    eta 82s    \rcifar-10-python.tar  65%[============>       ] 106.86M   308KB/s    eta 82s    \rcifar-10-python.tar  65%[============>       ] 106.92M   308KB/s    eta 82s    \rcifar-10-python.tar  65%[============>       ] 106.95M   286KB/s    eta 82s    \rcifar-10-python.tar  65%[============>       ] 107.09M   309KB/s    eta 82s    \rcifar-10-python.tar  65%[============>       ] 107.15M   304KB/s    eta 82s    \rcifar-10-python.tar  65%[============>       ] 107.21M   302KB/s    eta 82s    \rcifar-10-python.tar  65%[============>       ] 107.27M   304KB/s    eta 82s    \rcifar-10-python.tar  66%[============>       ] 107.32M   299KB/s    eta 82s    \rcifar-10-python.tar  66%[============>       ] 107.38M   296KB/s    eta 82s    \rcifar-10-python.tar  66%[============>       ] 107.41M   266KB/s    eta 82s    \rcifar-10-python.tar  66%[============>       ] 107.54M   286KB/s    eta 82s    \rcifar-10-python.tar  66%[============>       ] 107.59M   279KB/s    eta 82s    \rcifar-10-python.tar  66%[============>       ] 107.62M   251KB/s    eta 82s    \rcifar-10-python.tar  66%[============>       ] 107.73M   261KB/s    eta 82s    \rcifar-10-python.tar  66%[============>       ] 107.74M   239KB/s    eta 82s    \rcifar-10-python.tar  66%[============>       ] 107.81M   241KB/s    eta 82s    \rcifar-10-python.tar  66%[============>       ] 107.83M   228KB/s    eta 82s    \rcifar-10-python.tar  66%[============>       ] 107.86M   218KB/s    eta 82s    \rcifar-10-python.tar  66%[============>       ] 107.88M   209KB/s    eta 83s    \rcifar-10-python.tar  66%[============>       ] 107.94M   192KB/s    eta 83s    \rcifar-10-python.tar  66%[============>       ] 107.96M   185KB/s    eta 83s    \rcifar-10-python.tar  66%[============>       ] 107.97M   178KB/s    eta 83s    \rcifar-10-python.tar  66%[============>       ] 108.00M   171KB/s    eta 83s    \rcifar-10-python.tar  66%[============>       ] 108.02M   162KB/s    eta 83s    \rcifar-10-python.tar  66%[============>       ] 108.05M   153KB/s    eta 83s    \rcifar-10-python.tar  66%[============>       ] 108.08M   148KB/s    eta 83s    \rcifar-10-python.tar  66%[============>       ] 108.10M   133KB/s    eta 83s    \rcifar-10-python.tar  66%[============>       ] 108.14M   129KB/s    eta 83s    \rcifar-10-python.tar  66%[============>       ] 108.16M   132KB/s    eta 83s    \rcifar-10-python.tar  66%[============>       ] 108.19M   111KB/s    eta 83s    \rcifar-10-python.tar  66%[============>       ] 108.22M   109KB/s    eta 83s    \rcifar-10-python.tar  66%[============>       ] 108.25M   107KB/s    eta 84s    \rcifar-10-python.tar  66%[============>       ] 108.29M   107KB/s    eta 84s    \rcifar-10-python.tar  66%[============>       ] 108.32M   118KB/s    eta 84s    \rcifar-10-python.tar  66%[============>       ] 108.35M   110KB/s    eta 84s    \rcifar-10-python.tar  66%[============>       ] 108.38M   111KB/s    eta 84s    \rcifar-10-python.tar  66%[============>       ] 108.42M   114KB/s    eta 84s    \rcifar-10-python.tar  66%[============>       ] 108.46M   116KB/s    eta 84s    \rcifar-10-python.tar  66%[============>       ] 108.50M   119KB/s    eta 84s    \rcifar-10-python.tar  66%[============>       ] 108.54M   123KB/s    eta 84s    \rcifar-10-python.tar  66%[============>       ] 108.59M   127KB/s    eta 84s    \rcifar-10-python.tar  66%[============>       ] 108.64M   134KB/s    eta 84s    \rcifar-10-python.tar  66%[============>       ] 108.70M   142KB/s    eta 84s    \rcifar-10-python.tar  66%[============>       ] 108.77M   151KB/s    eta 84s    \rcifar-10-python.tar  66%[============>       ] 108.84M   164KB/s    eta 84s    \rcifar-10-python.tar  66%[============>       ] 108.93M   176KB/s    eta 84s    \rcifar-10-python.tar  67%[============>       ] 109.03M   196KB/s    eta 84s    \rcifar-10-python.tar  67%[============>       ] 109.09M   193KB/s    eta 84s    \rcifar-10-python.tar  67%[============>       ] 109.26M   233KB/s    eta 84s    \rcifar-10-python.tar  67%[============>       ] 109.32M   238KB/s    eta 84s    \rcifar-10-python.tar  67%[============>       ] 109.36M   239KB/s    eta 84s    \rcifar-10-python.tar  67%[============>       ] 109.45M   257KB/s    eta 84s    \rcifar-10-python.tar  67%[============>       ] 109.53M   270KB/s    eta 83s    \rcifar-10-python.tar  67%[============>       ] 109.61M   279KB/s    eta 83s    \rcifar-10-python.tar  67%[============>       ] 109.65M   287KB/s    eta 83s    \rcifar-10-python.tar  67%[============>       ] 109.76M   300KB/s    eta 83s    \rcifar-10-python.tar  67%[============>       ] 109.87M   319KB/s    eta 83s    \rcifar-10-python.tar  67%[============>       ] 109.98M   331KB/s    eta 83s    \rcifar-10-python.tar  67%[============>       ] 110.09M   349KB/s    eta 83s    \rcifar-10-python.tar  67%[============>       ] 110.19M   358KB/s    eta 83s    \rcifar-10-python.tar  67%[============>       ] 110.27M   366KB/s    eta 83s    \rcifar-10-python.tar  67%[============>       ] 110.33M   367KB/s    eta 83s    \rcifar-10-python.tar  67%[============>       ] 110.44M   375KB/s    eta 82s    \rcifar-10-python.tar  67%[============>       ] 110.54M   389KB/s    eta 82s    \rcifar-10-python.tar  68%[============>       ] 110.62M   419KB/s    eta 82s    \rcifar-10-python.tar  68%[============>       ] 110.68M   384KB/s    eta 82s    \rcifar-10-python.tar  68%[============>       ] 110.79M   400KB/s    eta 82s    \rcifar-10-python.tar  68%[============>       ] 110.90M   404KB/s    eta 82s    \rcifar-10-python.tar  68%[============>       ] 111.00M   423KB/s    eta 82s    \rcifar-10-python.tar  68%[============>       ] 111.02M   381KB/s    eta 82s    \rcifar-10-python.tar  68%[============>       ] 111.19M   394KB/s    eta 82s    \rcifar-10-python.tar  68%[============>       ] 111.27M   397KB/s    eta 81s    \rcifar-10-python.tar  68%[============>       ] 111.35M   390KB/s    eta 81s    \rcifar-10-python.tar  68%[============>       ] 111.36M   366KB/s    eta 81s    \rcifar-10-python.tar  68%[============>       ] 111.51M   380KB/s    eta 81s    \rcifar-10-python.tar  68%[============>       ] 111.56M   368KB/s    eta 81s    \rcifar-10-python.tar  68%[============>       ] 111.62M   370KB/s    eta 81s    \rcifar-10-python.tar  68%[============>       ] 111.66M   343KB/s    eta 81s    \rcifar-10-python.tar  68%[============>       ] 111.73M   343KB/s    eta 81s    \rcifar-10-python.tar  68%[============>       ] 111.81M   321KB/s    eta 81s    \rcifar-10-python.tar  68%[============>       ] 111.88M   324KB/s    eta 81s    \rcifar-10-python.tar  68%[============>       ] 111.96M   305KB/s    eta 81s    \rcifar-10-python.tar  68%[============>       ] 112.04M   305KB/s    eta 81s    \rcifar-10-python.tar  68%[============>       ] 112.12M   285KB/s    eta 81s    \rcifar-10-python.tar  69%[============>       ] 112.20M   276KB/s    eta 81s    \rcifar-10-python.tar  69%[============>       ] 112.25M   253KB/s    eta 81s    \rcifar-10-python.tar  69%[============>       ] 112.40M   276KB/s    eta 81s    \rcifar-10-python.tar  69%[============>       ] 112.44M   267KB/s    eta 81s    \rcifar-10-python.tar  69%[============>       ] 112.50M   292KB/s    eta 81s    \rcifar-10-python.tar  69%[============>       ] 112.52M   261KB/s    eta 81s    \rcifar-10-python.tar  69%[============>       ] 112.60M   241KB/s    eta 81s    \rcifar-10-python.tar  69%[============>       ] 112.70M   257KB/s    eta 81s    \rcifar-10-python.tar  69%[============>       ] 112.75M   244KB/s    eta 81s    \rcifar-10-python.tar  69%[============>       ] 112.81M   245KB/s    eta 81s    \rcifar-10-python.tar  69%[============>       ] 112.87M   234KB/s    eta 81s    \rcifar-10-python.tar  69%[============>       ] 112.93M   228KB/s    eta 81s    \rcifar-10-python.tar  69%[============>       ] 112.99M   226KB/s    eta 81s    \rcifar-10-python.tar  69%[============>       ] 113.05M   220KB/s    eta 81s    \rcifar-10-python.tar  69%[============>       ] 113.11M   223KB/s    eta 81s    \rcifar-10-python.tar  69%[============>       ] 113.17M   214KB/s    eta 81s    \rcifar-10-python.tar  69%[============>       ] 113.23M   215KB/s    eta 81s    \rcifar-10-python.tar  69%[============>       ] 113.30M   215KB/s    eta 81s    \rcifar-10-python.tar  69%[============>       ] 113.36M   212KB/s    eta 80s    \rcifar-10-python.tar  69%[============>       ] 113.42M   214KB/s    eta 80s    \rcifar-10-python.tar  69%[============>       ] 113.48M   217KB/s    eta 80s    \rcifar-10-python.tar  69%[============>       ] 113.54M   218KB/s    eta 80s    \rcifar-10-python.tar  69%[============>       ] 113.61M   219KB/s    eta 80s    \rcifar-10-python.tar  69%[============>       ] 113.67M   226KB/s    eta 80s    \rcifar-10-python.tar  69%[============>       ] 113.72M   233KB/s    eta 80s    \rcifar-10-python.tar  69%[============>       ] 113.78M   232KB/s    eta 80s    \rcifar-10-python.tar  70%[=============>      ] 113.84M   233KB/s    eta 80s    \rcifar-10-python.tar  70%[=============>      ] 113.87M   231KB/s    eta 80s    \rcifar-10-python.tar  70%[=============>      ] 113.94M   230KB/s    eta 80s    \rcifar-10-python.tar  70%[=============>      ] 114.02M   238KB/s    eta 80s    \rcifar-10-python.tar  70%[=============>      ] 114.10M   243KB/s    eta 80s    \rcifar-10-python.tar  70%[=============>      ] 114.18M   230KB/s    eta 80s    \rcifar-10-python.tar  70%[=============>      ] 114.33M   255KB/s    eta 80s    \rcifar-10-python.tar  70%[=============>      ] 114.40M   257KB/s    eta 80s    \rcifar-10-python.tar  70%[=============>      ] 114.48M   259KB/s    eta 80s    \rcifar-10-python.tar  70%[=============>      ] 114.55M   263KB/s    eta 80s    \rcifar-10-python.tar  70%[=============>      ] 114.63M   272KB/s    eta 80s    \rcifar-10-python.tar  70%[=============>      ] 114.72M   273KB/s    eta 80s    \rcifar-10-python.tar  70%[=============>      ] 114.80M   278KB/s    eta 80s    \rcifar-10-python.tar  70%[=============>      ] 114.89M   288KB/s    eta 79s    \rcifar-10-python.tar  70%[=============>      ] 114.97M   292KB/s    eta 79s    \rcifar-10-python.tar  70%[=============>      ] 115.04M   291KB/s    eta 79s    \rcifar-10-python.tar  70%[=============>      ] 115.11M   297KB/s    eta 79s    \rcifar-10-python.tar  70%[=============>      ] 115.20M   308KB/s    eta 79s    \rcifar-10-python.tar  70%[=============>      ] 115.25M   302KB/s    eta 79s    \rcifar-10-python.tar  70%[=============>      ] 115.31M   331KB/s    eta 79s    \rcifar-10-python.tar  70%[=============>      ] 115.39M   309KB/s    eta 79s    \rcifar-10-python.tar  71%[=============>      ] 115.46M   322KB/s    eta 79s    \rcifar-10-python.tar  71%[=============>      ] 115.47M   293KB/s    eta 79s    \rcifar-10-python.tar  71%[=============>      ] 115.61M   315KB/s    eta 79s    \rcifar-10-python.tar  71%[=============>      ] 115.65M   309KB/s    eta 79s    \rcifar-10-python.tar  71%[=============>      ] 115.72M   313KB/s    eta 79s    \rcifar-10-python.tar  71%[=============>      ] 115.79M   310KB/s    eta 79s    \rcifar-10-python.tar  71%[=============>      ] 115.84M   303KB/s    eta 79s    \rcifar-10-python.tar  71%[=============>      ] 115.91M   308KB/s    eta 78s    \rcifar-10-python.tar  71%[=============>      ] 115.96M   307KB/s    eta 78s    \rcifar-10-python.tar  71%[=============>      ] 116.03M   305KB/s    eta 78s    \rcifar-10-python.tar  71%[=============>      ] 116.10M   301KB/s    eta 78s    \rcifar-10-python.tar  71%[=============>      ] 116.18M   304KB/s    eta 78s    \rcifar-10-python.tar  71%[=============>      ] 116.25M   308KB/s    eta 78s    \rcifar-10-python.tar  71%[=============>      ] 116.32M   302KB/s    eta 78s    \rcifar-10-python.tar  71%[=============>      ] 116.36M   273KB/s    eta 78s    \rcifar-10-python.tar  71%[=============>      ] 116.51M   295KB/s    eta 78s    \rcifar-10-python.tar  71%[=============>      ] 116.56M   294KB/s    eta 78s    \rcifar-10-python.tar  71%[=============>      ] 116.60M   266KB/s    eta 78s    \rcifar-10-python.tar  71%[=============>      ] 116.72M   284KB/s    eta 78s    \rcifar-10-python.tar  71%[=============>      ] 116.77M   278KB/s    eta 78s    \rcifar-10-python.tar  71%[=============>      ] 116.82M   279KB/s    eta 78s    \rcifar-10-python.tar  71%[=============>      ] 116.86M   278KB/s    eta 78s    \rcifar-10-python.tar  71%[=============>      ] 116.90M   269KB/s    eta 78s    \rcifar-10-python.tar  71%[=============>      ] 116.96M   265KB/s    eta 78s    \rcifar-10-python.tar  71%[=============>      ] 117.00M   261KB/s    eta 78s    \rcifar-10-python.tar  71%[=============>      ] 117.05M   260KB/s    eta 77s    \rcifar-10-python.tar  72%[=============>      ] 117.10M   254KB/s    eta 77s    \rcifar-10-python.tar  72%[=============>      ] 117.15M   246KB/s    eta 77s    \rcifar-10-python.tar  72%[=============>      ] 117.15M   219KB/s    eta 77s    \rcifar-10-python.tar  72%[=============>      ] 117.25M   229KB/s    eta 77s    \rcifar-10-python.tar  72%[=============>      ] 117.29M   245KB/s    eta 77s    \rcifar-10-python.tar  72%[=============>      ] 117.33M   215KB/s    eta 77s    \rcifar-10-python.tar  72%[=============>      ] 117.38M   213KB/s    eta 77s    \rcifar-10-python.tar  72%[=============>      ] 117.42M   232KB/s    eta 77s    \rcifar-10-python.tar  72%[=============>      ] 117.46M   204KB/s    eta 77s    \rcifar-10-python.tar  72%[=============>      ] 117.51M   209KB/s    eta 77s    \rcifar-10-python.tar  72%[=============>      ] 117.56M   208KB/s    eta 77s    \rcifar-10-python.tar  72%[=============>      ] 117.62M   215KB/s    eta 77s    \rcifar-10-python.tar  72%[=============>      ] 117.66M   211KB/s    eta 77s    \rcifar-10-python.tar  72%[=============>      ] 117.70M   208KB/s    eta 77s    \rcifar-10-python.tar  72%[=============>      ] 117.76M   210KB/s    eta 77s    \rcifar-10-python.tar  72%[=============>      ] 117.81M   211KB/s    eta 77s    \rcifar-10-python.tar  72%[=============>      ] 117.87M   214KB/s    eta 77s    \rcifar-10-python.tar  72%[=============>      ] 117.91M   212KB/s    eta 77s    \rcifar-10-python.tar  72%[=============>      ] 117.95M   216KB/s    eta 77s    \rcifar-10-python.tar  72%[=============>      ] 118.01M   221KB/s    eta 77s    \rcifar-10-python.tar  72%[=============>      ] 118.06M   221KB/s    eta 77s    \rcifar-10-python.tar  72%[=============>      ] 118.12M   229KB/s    eta 77s    \rcifar-10-python.tar  72%[=============>      ] 118.16M   232KB/s    eta 77s    \rcifar-10-python.tar  72%[=============>      ] 118.20M   227KB/s    eta 77s    \rcifar-10-python.tar  72%[=============>      ] 118.26M   231KB/s    eta 77s    \rcifar-10-python.tar  72%[=============>      ] 118.27M   206KB/s    eta 77s    \rcifar-10-python.tar  72%[=============>      ] 118.36M   223KB/s    eta 77s    \rcifar-10-python.tar  72%[=============>      ] 118.40M   220KB/s    eta 77s    \rcifar-10-python.tar  72%[=============>      ] 118.44M   216KB/s    eta 77s    \rcifar-10-python.tar  72%[=============>      ] 118.50M   212KB/s    eta 77s    \rcifar-10-python.tar  72%[=============>      ] 118.55M   213KB/s    eta 77s    \rcifar-10-python.tar  72%[=============>      ] 118.61M   211KB/s    eta 77s    \rcifar-10-python.tar  72%[=============>      ] 118.67M   210KB/s    eta 77s    \rcifar-10-python.tar  73%[=============>      ] 118.74M   212KB/s    eta 77s    \rcifar-10-python.tar  73%[=============>      ] 118.80M   192KB/s    eta 77s    \rcifar-10-python.tar  73%[=============>      ] 118.91M   207KB/s    eta 77s    \rcifar-10-python.tar  73%[=============>      ] 118.96M   209KB/s    eta 77s    \rcifar-10-python.tar  73%[=============>      ] 119.01M   202KB/s    eta 77s    \rcifar-10-python.tar  73%[=============>      ] 119.07M   202KB/s    eta 76s    \rcifar-10-python.tar  73%[=============>      ] 119.13M   207KB/s    eta 76s    \rcifar-10-python.tar  73%[=============>      ] 119.19M   208KB/s    eta 76s    \rcifar-10-python.tar  73%[=============>      ] 119.25M   215KB/s    eta 76s    \rcifar-10-python.tar  73%[=============>      ] 119.31M   216KB/s    eta 76s    \rcifar-10-python.tar  73%[=============>      ] 119.38M   216KB/s    eta 76s    \rcifar-10-python.tar  73%[=============>      ] 119.45M   224KB/s    eta 76s    \rcifar-10-python.tar  73%[=============>      ] 119.50M   222KB/s    eta 76s    \rcifar-10-python.tar  73%[=============>      ] 119.52M   217KB/s    eta 76s    \rcifar-10-python.tar  73%[=============>      ] 119.58M   216KB/s    eta 76s    \rcifar-10-python.tar  73%[=============>      ] 119.64M   225KB/s    eta 76s    \rcifar-10-python.tar  73%[=============>      ] 119.71M   226KB/s    eta 76s    \rcifar-10-python.tar  73%[=============>      ] 119.74M   209KB/s    eta 76s    \rcifar-10-python.tar  73%[=============>      ] 119.86M   230KB/s    eta 76s    \rcifar-10-python.tar  73%[=============>      ] 119.89M   222KB/s    eta 76s    \rcifar-10-python.tar  73%[=============>      ] 119.94M   222KB/s    eta 76s    \rcifar-10-python.tar  73%[=============>      ] 119.98M   207KB/s    eta 76s    \rcifar-10-python.tar  73%[=============>      ] 120.07M   221KB/s    eta 76s    \rcifar-10-python.tar  73%[=============>      ] 120.08M   212KB/s    eta 76s    \rcifar-10-python.tar  73%[=============>      ] 120.13M   209KB/s    eta 76s    \rcifar-10-python.tar  73%[=============>      ] 120.17M   189KB/s    eta 76s    \rcifar-10-python.tar  73%[=============>      ] 120.24M   194KB/s    eta 76s    \rcifar-10-python.tar  73%[=============>      ] 120.27M   189KB/s    eta 76s    \rcifar-10-python.tar  73%[=============>      ] 120.30M   183KB/s    eta 76s    \rcifar-10-python.tar  73%[=============>      ] 120.32M   183KB/s    eta 76s    \rcifar-10-python.tar  74%[=============>      ] 120.35M   173KB/s    eta 76s    \rcifar-10-python.tar  74%[=============>      ] 120.38M   170KB/s    eta 76s    \rcifar-10-python.tar  74%[=============>      ] 120.41M   164KB/s    eta 76s    \rcifar-10-python.tar  74%[=============>      ] 120.45M   162KB/s    eta 76s    \rcifar-10-python.tar  74%[=============>      ] 120.47M   173KB/s    eta 76s    \rcifar-10-python.tar  74%[=============>      ] 120.50M   152KB/s    eta 76s    \rcifar-10-python.tar  74%[=============>      ] 120.53M   147KB/s    eta 76s    \rcifar-10-python.tar  74%[=============>      ] 120.56M   150KB/s    eta 76s    \rcifar-10-python.tar  74%[=============>      ] 120.58M   153KB/s    eta 76s    \rcifar-10-python.tar  74%[=============>      ] 120.61M   138KB/s    eta 76s    \rcifar-10-python.tar  74%[=============>      ] 120.64M   140KB/s    eta 76s    \rcifar-10-python.tar  74%[=============>      ] 120.67M   138KB/s    eta 76s    \rcifar-10-python.tar  74%[=============>      ] 120.69M   138KB/s    eta 76s    \rcifar-10-python.tar  74%[=============>      ] 120.73M   136KB/s    eta 76s    \rcifar-10-python.tar  74%[=============>      ] 120.76M   138KB/s    eta 76s    \rcifar-10-python.tar  74%[=============>      ] 120.80M   142KB/s    eta 76s    \rcifar-10-python.tar  74%[=============>      ] 120.81M   139KB/s    eta 76s    \rcifar-10-python.tar  74%[=============>      ] 120.82M   128KB/s    eta 76s    \rcifar-10-python.tar  74%[=============>      ] 120.89M   139KB/s    eta 76s    \rcifar-10-python.tar  74%[=============>      ] 120.92M   138KB/s    eta 76s    \rcifar-10-python.tar  74%[=============>      ] 120.95M   138KB/s    eta 76s    \rcifar-10-python.tar  74%[=============>      ] 120.99M   131KB/s    eta 76s    \rcifar-10-python.tar  74%[=============>      ] 121.05M   138KB/s    eta 76s    \rcifar-10-python.tar  74%[=============>      ] 121.06M   134KB/s    eta 76s    \rcifar-10-python.tar  74%[=============>      ] 121.08M   133KB/s    eta 76s    \rcifar-10-python.tar  74%[=============>      ] 121.09M   120KB/s    eta 76s    \rcifar-10-python.tar  74%[=============>      ] 121.15M   128KB/s    eta 76s    \rcifar-10-python.tar  74%[=============>      ] 121.17M   126KB/s    eta 76s    \rcifar-10-python.tar  74%[=============>      ] 121.19M   123KB/s    eta 76s    \rcifar-10-python.tar  74%[=============>      ] 121.22M   119KB/s    eta 76s    \rcifar-10-python.tar  74%[=============>      ] 121.24M   116KB/s    eta 76s    \rcifar-10-python.tar  74%[=============>      ] 121.27M   112KB/s    eta 76s    \rcifar-10-python.tar  74%[=============>      ] 121.30M   111KB/s    eta 76s    \rcifar-10-python.tar  74%[=============>      ] 121.30M   109KB/s    eta 76s    \rcifar-10-python.tar  74%[=============>      ] 121.35M   103KB/s    eta 76s    \rcifar-10-python.tar  74%[=============>      ] 121.37M  99.4KB/s    eta 76s    \rcifar-10-python.tar  74%[=============>      ] 121.39M  98.1KB/s    eta 76s    \rcifar-10-python.tar  74%[=============>      ] 121.42M  97.2KB/s    eta 76s    \rcifar-10-python.tar  74%[=============>      ] 121.44M  92.1KB/s    eta 76s    \rcifar-10-python.tar  74%[=============>      ] 121.47M  92.9KB/s    eta 76s    \rcifar-10-python.tar  74%[=============>      ] 121.50M   101KB/s    eta 76s    \rcifar-10-python.tar  74%[=============>      ] 121.52M  91.0KB/s    eta 76s    \rcifar-10-python.tar  74%[=============>      ] 121.55M  92.8KB/s    eta 76s    \rcifar-10-python.tar  74%[=============>      ] 121.58M  93.1KB/s    eta 76s    \rcifar-10-python.tar  74%[=============>      ] 121.61M  94.4KB/s    eta 76s    \rcifar-10-python.tar  74%[=============>      ] 121.63M  94.2KB/s    eta 76s    \rcifar-10-python.tar  74%[=============>      ] 121.66M  94.8KB/s    eta 76s    \rcifar-10-python.tar  74%[=============>      ] 121.69M  95.4KB/s    eta 77s    \rcifar-10-python.tar  74%[=============>      ] 121.73M  94.4KB/s    eta 77s    \rcifar-10-python.tar  74%[=============>      ] 121.76M  95.5KB/s    eta 77s    \rcifar-10-python.tar  74%[=============>      ] 121.78M  92.7KB/s    eta 77s    \rcifar-10-python.tar  74%[=============>      ] 121.81M  95.1KB/s    eta 77s    \rcifar-10-python.tar  74%[=============>      ] 121.83M  93.1KB/s    eta 77s    \rcifar-10-python.tar  74%[=============>      ] 121.86M  94.7KB/s    eta 77s    \rcifar-10-python.tar  74%[=============>      ] 121.89M  93.0KB/s    eta 77s    \rcifar-10-python.tar  74%[=============>      ] 121.92M  95.1KB/s    eta 77s    \rcifar-10-python.tar  74%[=============>      ] 121.94M  94.8KB/s    eta 77s    \rcifar-10-python.tar  75%[==============>     ] 121.97M  95.4KB/s    eta 77s    \rcifar-10-python.tar  75%[==============>     ] 121.99M  96.9KB/s    eta 77s    \rcifar-10-python.tar  75%[==============>     ] 122.02M  95.3KB/s    eta 77s    \rcifar-10-python.tar  75%[==============>     ] 122.04M  97.5KB/s    eta 77s    \rcifar-10-python.tar  75%[==============>     ] 122.07M  95.5KB/s    eta 77s    \rcifar-10-python.tar  75%[==============>     ] 122.10M  98.5KB/s    eta 77s    \rcifar-10-python.tar  75%[==============>     ] 122.13M   100KB/s    eta 77s    \rcifar-10-python.tar  75%[==============>     ] 122.16M   103KB/s    eta 77s    \rcifar-10-python.tar  75%[==============>     ] 122.20M   105KB/s    eta 77s    \rcifar-10-python.tar  75%[==============>     ] 122.23M   106KB/s    eta 77s    \rcifar-10-python.tar  75%[==============>     ] 122.23M  98.8KB/s    eta 77s    \rcifar-10-python.tar  75%[==============>     ] 122.30M   108KB/s    eta 77s    \rcifar-10-python.tar  75%[==============>     ] 122.31M   107KB/s    eta 77s    \rcifar-10-python.tar  75%[==============>     ] 122.34M   107KB/s    eta 77s    \rcifar-10-python.tar  75%[==============>     ] 122.37M   109KB/s    eta 77s    \rcifar-10-python.tar  75%[==============>     ] 122.41M   110KB/s    eta 77s    \rcifar-10-python.tar  75%[==============>     ] 122.45M   113KB/s    eta 77s    \rcifar-10-python.tar  75%[==============>     ] 122.48M   114KB/s    eta 77s    \rcifar-10-python.tar  75%[==============>     ] 122.52M   117KB/s    eta 77s    \rcifar-10-python.tar  75%[==============>     ] 122.56M   120KB/s    eta 77s    \rcifar-10-python.tar  75%[==============>     ] 122.59M   113KB/s    eta 77s    \rcifar-10-python.tar  75%[==============>     ] 122.65M   120KB/s    eta 77s    \rcifar-10-python.tar  75%[==============>     ] 122.68M   121KB/s    eta 77s    \rcifar-10-python.tar  75%[==============>     ] 122.71M   120KB/s    eta 77s    \rcifar-10-python.tar  75%[==============>     ] 122.75M   122KB/s    eta 77s    \rcifar-10-python.tar  75%[==============>     ] 122.78M   122KB/s    eta 77s    \rcifar-10-python.tar  75%[==============>     ] 122.80M   114KB/s    eta 77s    \rcifar-10-python.tar  75%[==============>     ] 122.87M   121KB/s    eta 77s    \rcifar-10-python.tar  75%[==============>     ] 122.90M   121KB/s    eta 77s    \rcifar-10-python.tar  75%[==============>     ] 122.93M   120KB/s    eta 77s    \rcifar-10-python.tar  75%[==============>     ] 122.96M   120KB/s    eta 77s    \rcifar-10-python.tar  75%[==============>     ] 123.00M   121KB/s    eta 77s    \rcifar-10-python.tar  75%[==============>     ] 123.04M   120KB/s    eta 77s    \rcifar-10-python.tar  75%[==============>     ] 123.04M   111KB/s    eta 77s    \rcifar-10-python.tar  75%[==============>     ] 123.11M   117KB/s    eta 77s    \rcifar-10-python.tar  75%[==============>     ] 123.14M   122KB/s    eta 77s    \rcifar-10-python.tar  75%[==============>     ] 123.17M   115KB/s    eta 77s    \rcifar-10-python.tar  75%[==============>     ] 123.21M   117KB/s    eta 77s    \rcifar-10-python.tar  75%[==============>     ] 123.24M   118KB/s    eta 77s    \rcifar-10-python.tar  75%[==============>     ] 123.28M   118KB/s    eta 77s    \rcifar-10-python.tar  75%[==============>     ] 123.32M   120KB/s    eta 77s    \rcifar-10-python.tar  75%[==============>     ] 123.36M   123KB/s    eta 77s    \rcifar-10-python.tar  75%[==============>     ] 123.39M   124KB/s    eta 77s    \rcifar-10-python.tar  75%[==============>     ] 123.43M   127KB/s    eta 77s    \rcifar-10-python.tar  75%[==============>     ] 123.47M   128KB/s    eta 77s    \rcifar-10-python.tar  75%[==============>     ] 123.51M   129KB/s    eta 77s    \rcifar-10-python.tar  75%[==============>     ] 123.55M   129KB/s    eta 77s    \rcifar-10-python.tar  76%[==============>     ] 123.58M   143KB/s    eta 77s    \rcifar-10-python.tar  76%[==============>     ] 123.62M   135KB/s    eta 77s    \rcifar-10-python.tar  76%[==============>     ] 123.66M   138KB/s    eta 77s    \rcifar-10-python.tar  76%[==============>     ] 123.70M   140KB/s    eta 77s    \rcifar-10-python.tar  76%[==============>     ] 123.73M   130KB/s    eta 77s    \rcifar-10-python.tar  76%[==============>     ] 123.81M   140KB/s    eta 77s    \rcifar-10-python.tar  76%[==============>     ] 123.84M   140KB/s    eta 77s    \rcifar-10-python.tar  76%[==============>     ] 123.88M   139KB/s    eta 77s    \rcifar-10-python.tar  76%[==============>     ] 123.92M   140KB/s    eta 77s    \rcifar-10-python.tar  76%[==============>     ] 123.96M   141KB/s    eta 77s    \rcifar-10-python.tar  76%[==============>     ] 124.00M   142KB/s    eta 77s    \rcifar-10-python.tar  76%[==============>     ] 124.05M   143KB/s    eta 77s    \rcifar-10-python.tar  76%[==============>     ] 124.09M   145KB/s    eta 77s    \rcifar-10-python.tar  76%[==============>     ] 124.13M   146KB/s    eta 77s    \rcifar-10-python.tar  76%[==============>     ] 124.18M   146KB/s    eta 77s    \rcifar-10-python.tar  76%[==============>     ] 124.22M   148KB/s    eta 77s    \rcifar-10-python.tar  76%[==============>     ] 124.26M   147KB/s    eta 77s    \rcifar-10-python.tar  76%[==============>     ] 124.31M   149KB/s    eta 77s    \rcifar-10-python.tar  76%[==============>     ] 124.35M   153KB/s    eta 77s    \rcifar-10-python.tar  76%[==============>     ] 124.39M   154KB/s    eta 77s    \rcifar-10-python.tar  76%[==============>     ] 124.44M   157KB/s    eta 77s    \rcifar-10-python.tar  76%[==============>     ] 124.48M   163KB/s    eta 77s    \rcifar-10-python.tar  76%[==============>     ] 124.51M   159KB/s    eta 77s    \rcifar-10-python.tar  76%[==============>     ] 124.54M   161KB/s    eta 77s    \rcifar-10-python.tar  76%[==============>     ] 124.59M   161KB/s    eta 77s    \rcifar-10-python.tar  76%[==============>     ] 124.64M   163KB/s    eta 77s    \rcifar-10-python.tar  76%[==============>     ] 124.69M   166KB/s    eta 76s    \rcifar-10-python.tar  76%[==============>     ] 124.75M   169KB/s    eta 76s    \rcifar-10-python.tar  76%[==============>     ] 124.81M   173KB/s    eta 76s    \rcifar-10-python.tar  76%[==============>     ] 124.88M   183KB/s    eta 76s    \rcifar-10-python.tar  76%[==============>     ] 124.93M   191KB/s    eta 76s    \rcifar-10-python.tar  76%[==============>     ] 124.95M   184KB/s    eta 76s    \rcifar-10-python.tar  76%[==============>     ] 124.98M   177KB/s    eta 76s    \rcifar-10-python.tar  76%[==============>     ] 125.03M   182KB/s    eta 76s    \rcifar-10-python.tar  76%[==============>     ] 125.15M   200KB/s    eta 76s    \rcifar-10-python.tar  77%[==============>     ] 125.22M   208KB/s    eta 76s    \rcifar-10-python.tar  77%[==============>     ] 125.29M   212KB/s    eta 76s    \rcifar-10-python.tar  77%[==============>     ] 125.37M   224KB/s    eta 76s    \rcifar-10-python.tar  77%[==============>     ] 125.45M   227KB/s    eta 76s    \rcifar-10-python.tar  77%[==============>     ] 125.53M   239KB/s    eta 75s    \rcifar-10-python.tar  77%[==============>     ] 125.62M   243KB/s    eta 75s    \rcifar-10-python.tar  77%[==============>     ] 125.70M   256KB/s    eta 75s    \rcifar-10-python.tar  77%[==============>     ] 125.79M   259KB/s    eta 75s    \rcifar-10-python.tar  77%[==============>     ] 125.88M   271KB/s    eta 75s    \rcifar-10-python.tar  77%[==============>     ] 125.97M   273KB/s    eta 75s    \rcifar-10-python.tar  77%[==============>     ] 126.06M   287KB/s    eta 75s    \rcifar-10-python.tar  77%[==============>     ] 126.14M   311KB/s    eta 75s    \rcifar-10-python.tar  77%[==============>     ] 126.23M   322KB/s    eta 74s    \rcifar-10-python.tar  77%[==============>     ] 126.31M   311KB/s    eta 74s    \rcifar-10-python.tar  77%[==============>     ] 126.35M   312KB/s    eta 74s    \rcifar-10-python.tar  77%[==============>     ] 126.41M   303KB/s    eta 74s    \rcifar-10-python.tar  77%[==============>     ] 126.50M   315KB/s    eta 74s    \rcifar-10-python.tar  77%[==============>     ] 126.59M   310KB/s    eta 74s    \rcifar-10-python.tar  77%[==============>     ] 126.68M   321KB/s    eta 74s    \rcifar-10-python.tar  77%[==============>     ] 126.78M   294KB/s    eta 73s    \rcifar-10-python.tar  78%[==============>     ] 126.93M   316KB/s    eta 73s    \rcifar-10-python.tar  78%[==============>     ] 127.00M   305KB/s    eta 73s    \rcifar-10-python.tar  78%[==============>     ] 127.07M   308KB/s    eta 73s    \rcifar-10-python.tar  78%[==============>     ] 127.15M   297KB/s    eta 73s    \rcifar-10-python.tar  78%[==============>     ] 127.23M   304KB/s    eta 73s    \rcifar-10-python.tar  78%[==============>     ] 127.32M   296KB/s    eta 73s    \rcifar-10-python.tar  78%[==============>     ] 127.40M   299KB/s    eta 73s    \rcifar-10-python.tar  78%[==============>     ] 127.50M   294KB/s    eta 72s    \rcifar-10-python.tar  78%[==============>     ] 127.59M   308KB/s    eta 72s    \rcifar-10-python.tar  78%[==============>     ] 127.68M   305KB/s    eta 72s    \rcifar-10-python.tar  78%[==============>     ] 127.77M   300KB/s    eta 72s    \rcifar-10-python.tar  78%[==============>     ] 127.87M   313KB/s    eta 71s    \rcifar-10-python.tar  78%[==============>     ] 127.88M   289KB/s    eta 71s    \rcifar-10-python.tar  78%[==============>     ] 128.01M   295KB/s    eta 71s    \rcifar-10-python.tar  78%[==============>     ] 128.08M   302KB/s    eta 71s    \rcifar-10-python.tar  78%[==============>     ] 128.15M   293KB/s    eta 71s    \rcifar-10-python.tar  78%[==============>     ] 128.22M   315KB/s    eta 71s    \rcifar-10-python.tar  78%[==============>     ] 128.30M   293KB/s    eta 71s    \rcifar-10-python.tar  78%[==============>     ] 128.38M   291KB/s    eta 71s    \rcifar-10-python.tar  79%[==============>     ] 128.47M   304KB/s    eta 70s    \rcifar-10-python.tar  79%[==============>     ] 128.57M   308KB/s    eta 70s    \rcifar-10-python.tar  79%[==============>     ] 128.66M   303KB/s    eta 70s    \rcifar-10-python.tar  79%[==============>     ] 128.74M   306KB/s    eta 70s    \rcifar-10-python.tar  79%[==============>     ] 128.84M   313KB/s    eta 70s    \rcifar-10-python.tar  79%[==============>     ] 128.93M   308KB/s    eta 70s    \rcifar-10-python.tar  79%[==============>     ] 129.02M   309KB/s    eta 70s    \rcifar-10-python.tar  79%[==============>     ] 129.11M   315KB/s    eta 70s    \rcifar-10-python.tar  79%[==============>     ] 129.21M   314KB/s    eta 69s    \rcifar-10-python.tar  79%[==============>     ] 129.30M   313KB/s    eta 69s    \rcifar-10-python.tar  79%[==============>     ] 129.39M   333KB/s    eta 69s    \rcifar-10-python.tar  79%[==============>     ] 129.49M   328KB/s    eta 69s    \rcifar-10-python.tar  79%[==============>     ] 129.58M   333KB/s    eta 68s    \rcifar-10-python.tar  79%[==============>     ] 129.67M   340KB/s    eta 68s    \rcifar-10-python.tar  79%[==============>     ] 129.77M   343KB/s    eta 68s    \rcifar-10-python.tar  79%[==============>     ] 129.87M   345KB/s    eta 68s    \rcifar-10-python.tar  79%[==============>     ] 129.96M   346KB/s    eta 68s    \rcifar-10-python.tar  79%[==============>     ] 130.06M   348KB/s    eta 68s    \rcifar-10-python.tar  80%[===============>    ] 130.17M   345KB/s    eta 68s    \rcifar-10-python.tar  80%[===============>    ] 130.28M   348KB/s    eta 68s    \rcifar-10-python.tar  80%[===============>    ] 130.39M   361KB/s    eta 67s    \rcifar-10-python.tar  80%[===============>    ] 130.51M   358KB/s    eta 67s    \rcifar-10-python.tar  80%[===============>    ] 130.61M   345KB/s    eta 67s    \rcifar-10-python.tar  80%[===============>    ] 130.70M   356KB/s    eta 67s    \rcifar-10-python.tar  80%[===============>    ] 130.89M   370KB/s    eta 66s    \rcifar-10-python.tar  80%[===============>    ] 130.97M   373KB/s    eta 66s    \rcifar-10-python.tar  80%[===============>    ] 131.02M   367KB/s    eta 66s    \rcifar-10-python.tar  80%[===============>    ] 131.13M   369KB/s    eta 66s    \rcifar-10-python.tar  80%[===============>    ] 131.24M   373KB/s    eta 65s    \rcifar-10-python.tar  80%[===============>    ] 131.35M   377KB/s    eta 65s    \rcifar-10-python.tar  80%[===============>    ] 131.47M   393KB/s    eta 65s    \rcifar-10-python.tar  80%[===============>    ] 131.59M   399KB/s    eta 65s    \rcifar-10-python.tar  81%[===============>    ] 131.71M   396KB/s    eta 64s    \rcifar-10-python.tar  81%[===============>    ] 131.84M   402KB/s    eta 64s    \rcifar-10-python.tar  81%[===============>    ] 131.96M   416KB/s    eta 64s    \rcifar-10-python.tar  81%[===============>    ] 132.10M   423KB/s    eta 64s    \rcifar-10-python.tar  81%[===============>    ] 132.22M   450KB/s    eta 63s    \rcifar-10-python.tar  81%[===============>    ] 132.35M   454KB/s    eta 63s    \rcifar-10-python.tar  81%[===============>    ] 132.48M   440KB/s    eta 63s    \rcifar-10-python.tar  81%[===============>    ] 132.61M   443KB/s    eta 63s    \rcifar-10-python.tar  81%[===============>    ] 132.74M   458KB/s    eta 62s    \rcifar-10-python.tar  81%[===============>    ] 132.87M   459KB/s    eta 62s    \rcifar-10-python.tar  81%[===============>    ] 133.00M   467KB/s    eta 62s    \rcifar-10-python.tar  81%[===============>    ] 133.13M   466KB/s    eta 62s    \rcifar-10-python.tar  81%[===============>    ] 133.26M   474KB/s    eta 61s    \rcifar-10-python.tar  82%[===============>    ] 133.40M   472KB/s    eta 61s    \rcifar-10-python.tar  82%[===============>    ] 133.49M   443KB/s    eta 61s    \rcifar-10-python.tar  82%[===============>    ] 133.70M   469KB/s    eta 61s    \rcifar-10-python.tar  82%[===============>    ] 133.79M   478KB/s    eta 60s    \rcifar-10-python.tar  82%[===============>    ] 133.83M   457KB/s    eta 60s    \rcifar-10-python.tar  82%[===============>    ] 133.94M   461KB/s    eta 60s    \rcifar-10-python.tar  82%[===============>    ] 134.03M   452KB/s    eta 60s    \rcifar-10-python.tar  82%[===============>    ] 134.14M   448KB/s    eta 60s    \rcifar-10-python.tar  82%[===============>    ] 134.24M   451KB/s    eta 59s    \rcifar-10-python.tar  82%[===============>    ] 134.30M   437KB/s    eta 59s    \rcifar-10-python.tar  82%[===============>    ] 134.42M   450KB/s    eta 59s    \rcifar-10-python.tar  82%[===============>    ] 134.52M   439KB/s    eta 59s    \rcifar-10-python.tar  82%[===============>    ] 134.63M   449KB/s    eta 59s    \rcifar-10-python.tar  82%[===============>    ] 134.75M   450KB/s    eta 58s    \rcifar-10-python.tar  82%[===============>    ] 134.81M   409KB/s    eta 58s    \rcifar-10-python.tar  83%[===============>    ] 135.01M   431KB/s    eta 58s    \rcifar-10-python.tar  83%[===============>    ] 135.08M   417KB/s    eta 58s    \rcifar-10-python.tar  83%[===============>    ] 135.17M   418KB/s    eta 57s    \rcifar-10-python.tar  83%[===============>    ] 135.27M   430KB/s    eta 57s    \rcifar-10-python.tar  83%[===============>    ] 135.33M   420KB/s    eta 57s    \rcifar-10-python.tar  83%[===============>    ] 135.43M   426KB/s    eta 57s    \rcifar-10-python.tar  83%[===============>    ] 135.52M   424KB/s    eta 57s    \rcifar-10-python.tar  83%[===============>    ] 135.63M   423KB/s    eta 56s    \rcifar-10-python.tar  83%[===============>    ] 135.73M   426KB/s    eta 56s    \rcifar-10-python.tar  83%[===============>    ] 135.81M   426KB/s    eta 56s    \rcifar-10-python.tar  83%[===============>    ] 135.92M   426KB/s    eta 56s    \rcifar-10-python.tar  83%[===============>    ] 136.01M   392KB/s    eta 55s    \rcifar-10-python.tar  83%[===============>    ] 136.21M   412KB/s    eta 55s    \rcifar-10-python.tar  83%[===============>    ] 136.31M   414KB/s    eta 55s    \rcifar-10-python.tar  83%[===============>    ] 136.39M   442KB/s    eta 55s    \rcifar-10-python.tar  83%[===============>    ] 136.40M   376KB/s    eta 55s    \rcifar-10-python.tar  83%[===============>    ] 136.57M   393KB/s    eta 55s    \rcifar-10-python.tar  84%[===============>    ] 136.63M   391KB/s    eta 55s    \rcifar-10-python.tar  84%[===============>    ] 136.66M   349KB/s    eta 55s    \rcifar-10-python.tar  84%[===============>    ] 136.79M   365KB/s    eta 54s    \rcifar-10-python.tar  84%[===============>    ] 136.84M   352KB/s    eta 54s    \rcifar-10-python.tar  84%[===============>    ] 136.90M   339KB/s    eta 54s    \rcifar-10-python.tar  84%[===============>    ] 136.96M   325KB/s    eta 54s    \rcifar-10-python.tar  84%[===============>    ] 137.02M   309KB/s    eta 54s    \rcifar-10-python.tar  84%[===============>    ] 137.08M   297KB/s    eta 54s    \rcifar-10-python.tar  84%[===============>    ] 137.13M   291KB/s    eta 54s    \rcifar-10-python.tar  84%[===============>    ] 137.18M   301KB/s    eta 54s    \rcifar-10-python.tar  84%[===============>    ] 137.23M   262KB/s    eta 54s    \rcifar-10-python.tar  84%[===============>    ] 137.28M   253KB/s    eta 53s    \rcifar-10-python.tar  84%[===============>    ] 137.34M   246KB/s    eta 53s    \rcifar-10-python.tar  84%[===============>    ] 137.40M   237KB/s    eta 53s    \rcifar-10-python.tar  84%[===============>    ] 137.46M   241KB/s    eta 53s    \rcifar-10-python.tar  84%[===============>    ] 137.50M   232KB/s    eta 53s    \rcifar-10-python.tar  84%[===============>    ] 137.55M   257KB/s    eta 53s    \rcifar-10-python.tar  84%[===============>    ] 137.61M   230KB/s    eta 53s    \rcifar-10-python.tar  84%[===============>    ] 137.67M   237KB/s    eta 53s    \rcifar-10-python.tar  84%[===============>    ] 137.69M   215KB/s    eta 53s    \rcifar-10-python.tar  84%[===============>    ] 137.80M   234KB/s    eta 52s    \rcifar-10-python.tar  84%[===============>    ] 137.84M   232KB/s    eta 52s    \rcifar-10-python.tar  84%[===============>    ] 137.89M   227KB/s    eta 52s    \rcifar-10-python.tar  84%[===============>    ] 137.92M   210KB/s    eta 52s    \rcifar-10-python.tar  84%[===============>    ] 138.01M   222KB/s    eta 52s    \rcifar-10-python.tar  84%[===============>    ] 138.05M   217KB/s    eta 52s    \rcifar-10-python.tar  84%[===============>    ] 138.09M   210KB/s    eta 52s    \rcifar-10-python.tar  84%[===============>    ] 138.13M   212KB/s    eta 52s    \rcifar-10-python.tar  84%[===============>    ] 138.18M   207KB/s    eta 52s    \rcifar-10-python.tar  85%[================>   ] 138.23M   207KB/s    eta 52s    \rcifar-10-python.tar  85%[================>   ] 138.28M   204KB/s    eta 52s    \rcifar-10-python.tar  85%[================>   ] 138.33M   199KB/s    eta 52s    \rcifar-10-python.tar  85%[================>   ] 138.38M   196KB/s    eta 51s    \rcifar-10-python.tar  85%[================>   ] 138.42M   191KB/s    eta 51s    \rcifar-10-python.tar  85%[================>   ] 138.47M   188KB/s    eta 51s    \rcifar-10-python.tar  85%[================>   ] 138.52M   196KB/s    eta 51s    \rcifar-10-python.tar  85%[================>   ] 138.57M   181KB/s    eta 51s    \rcifar-10-python.tar  85%[================>   ] 138.61M   180KB/s    eta 51s    \rcifar-10-python.tar  85%[================>   ] 138.63M   174KB/s    eta 51s    \rcifar-10-python.tar  85%[================>   ] 138.68M   187KB/s    eta 51s    \rcifar-10-python.tar  85%[================>   ] 138.73M   175KB/s    eta 51s    \rcifar-10-python.tar  85%[================>   ] 138.79M   177KB/s    eta 51s    \rcifar-10-python.tar  85%[================>   ] 138.84M   178KB/s    eta 51s    \rcifar-10-python.tar  85%[================>   ] 138.90M   166KB/s    eta 51s    \rcifar-10-python.tar  85%[================>   ] 138.99M   176KB/s    eta 51s    \rcifar-10-python.tar  85%[================>   ] 139.03M   178KB/s    eta 51s    \rcifar-10-python.tar  85%[================>   ] 139.08M   175KB/s    eta 51s    \rcifar-10-python.tar  85%[================>   ] 139.13M   180KB/s    eta 50s    \rcifar-10-python.tar  85%[================>   ] 139.18M   178KB/s    eta 50s    \rcifar-10-python.tar  85%[================>   ] 139.24M   182KB/s    eta 50s    \rcifar-10-python.tar  85%[================>   ] 139.30M   181KB/s    eta 50s    \rcifar-10-python.tar  85%[================>   ] 139.36M   187KB/s    eta 50s    \rcifar-10-python.tar  85%[================>   ] 139.42M   186KB/s    eta 50s    \rcifar-10-python.tar  85%[================>   ] 139.48M   193KB/s    eta 50s    \rcifar-10-python.tar  85%[================>   ] 139.54M   190KB/s    eta 50s    \rcifar-10-python.tar  85%[================>   ] 139.61M   197KB/s    eta 49s    \rcifar-10-python.tar  85%[================>   ] 139.67M   196KB/s    eta 49s    \rcifar-10-python.tar  85%[================>   ] 139.73M   197KB/s    eta 49s    \rcifar-10-python.tar  85%[================>   ] 139.79M   219KB/s    eta 49s    \rcifar-10-python.tar  86%[================>   ] 139.86M   211KB/s    eta 49s    \rcifar-10-python.tar  86%[================>   ] 139.92M   213KB/s    eta 49s    \rcifar-10-python.tar  86%[================>   ] 139.98M   213KB/s    eta 49s    \rcifar-10-python.tar  86%[================>   ] 140.05M   220KB/s    eta 49s    \rcifar-10-python.tar  86%[================>   ] 140.11M   222KB/s    eta 49s    \rcifar-10-python.tar  86%[================>   ] 140.15M   221KB/s    eta 49s    \rcifar-10-python.tar  86%[================>   ] 140.23M   228KB/s    eta 49s    \rcifar-10-python.tar  86%[================>   ] 140.30M   229KB/s    eta 49s    \rcifar-10-python.tar  86%[================>   ] 140.37M   236KB/s    eta 48s    \rcifar-10-python.tar  86%[================>   ] 140.45M   239KB/s    eta 48s    \rcifar-10-python.tar  86%[================>   ] 140.54M   245KB/s    eta 48s    \rcifar-10-python.tar  86%[================>   ] 140.62M   242KB/s    eta 48s    \rcifar-10-python.tar  86%[================>   ] 140.78M   261KB/s    eta 48s    \rcifar-10-python.tar  86%[================>   ] 140.86M   265KB/s    eta 48s    \rcifar-10-python.tar  86%[================>   ] 140.89M   249KB/s    eta 47s    \rcifar-10-python.tar  86%[================>   ] 141.02M   267KB/s    eta 47s    \rcifar-10-python.tar  86%[================>   ] 141.07M   266KB/s    eta 47s    \rcifar-10-python.tar  86%[================>   ] 141.14M   267KB/s    eta 47s    \rcifar-10-python.tar  86%[================>   ] 141.21M   268KB/s    eta 46s    \rcifar-10-python.tar  86%[================>   ] 141.27M   270KB/s    eta 46s    \rcifar-10-python.tar  86%[================>   ] 141.33M   267KB/s    eta 46s    \rcifar-10-python.tar  86%[================>   ] 141.41M   267KB/s    eta 46s    \rcifar-10-python.tar  87%[================>   ] 141.47M   265KB/s    eta 46s    \rcifar-10-python.tar  87%[================>   ] 141.54M   261KB/s    eta 46s    \rcifar-10-python.tar  87%[================>   ] 141.61M   258KB/s    eta 46s    \rcifar-10-python.tar  87%[================>   ] 141.67M   273KB/s    eta 46s    \rcifar-10-python.tar  87%[================>   ] 141.72M   247KB/s    eta 46s    \rcifar-10-python.tar  87%[================>   ] 141.78M   247KB/s    eta 46s    \rcifar-10-python.tar  87%[================>   ] 141.83M   267KB/s    eta 46s    \rcifar-10-python.tar  87%[================>   ] 141.88M   222KB/s    eta 45s    \rcifar-10-python.tar  87%[================>   ] 141.98M   239KB/s    eta 45s    \rcifar-10-python.tar  87%[================>   ] 142.03M   236KB/s    eta 45s    \rcifar-10-python.tar  87%[================>   ] 142.08M   239KB/s    eta 45s    \rcifar-10-python.tar  87%[================>   ] 142.12M   234KB/s    eta 45s    \rcifar-10-python.tar  87%[================>   ] 142.17M   233KB/s    eta 45s    \rcifar-10-python.tar  87%[================>   ] 142.21M   232KB/s    eta 45s    \rcifar-10-python.tar  87%[================>   ] 142.27M   231KB/s    eta 45s    \rcifar-10-python.tar  87%[================>   ] 142.31M   229KB/s    eta 45s    \rcifar-10-python.tar  87%[================>   ] 142.38M   228KB/s    eta 45s    \rcifar-10-python.tar  87%[================>   ] 142.45M   229KB/s    eta 44s    \rcifar-10-python.tar  87%[================>   ] 142.52M   228KB/s    eta 44s    \rcifar-10-python.tar  87%[================>   ] 142.58M   226KB/s    eta 44s    \rcifar-10-python.tar  87%[================>   ] 142.65M   229KB/s    eta 44s    \rcifar-10-python.tar  87%[================>   ] 142.72M   229KB/s    eta 44s    \rcifar-10-python.tar  87%[================>   ] 142.79M   251KB/s    eta 44s    \rcifar-10-python.tar  87%[================>   ] 142.86M   239KB/s    eta 44s    \rcifar-10-python.tar  87%[================>   ] 142.92M   241KB/s    eta 44s    \rcifar-10-python.tar  87%[================>   ] 142.99M   245KB/s    eta 43s    \rcifar-10-python.tar  87%[================>   ] 143.05M   246KB/s    eta 43s    \rcifar-10-python.tar  88%[================>   ] 143.13M   250KB/s    eta 43s    \rcifar-10-python.tar  88%[================>   ] 143.20M   250KB/s    eta 43s    \rcifar-10-python.tar  88%[================>   ] 143.27M   253KB/s    eta 43s    \rcifar-10-python.tar  88%[================>   ] 143.35M   254KB/s    eta 43s    \rcifar-10-python.tar  88%[================>   ] 143.42M   257KB/s    eta 43s    \rcifar-10-python.tar  88%[================>   ] 143.50M   259KB/s    eta 43s    \rcifar-10-python.tar  88%[================>   ] 143.58M   263KB/s    eta 42s    \rcifar-10-python.tar  88%[================>   ] 143.67M   267KB/s    eta 42s    \rcifar-10-python.tar  88%[================>   ] 143.77M   276KB/s    eta 42s    \rcifar-10-python.tar  88%[================>   ] 143.87M   284KB/s    eta 42s    \rcifar-10-python.tar  88%[================>   ] 143.97M   295KB/s    eta 41s    \rcifar-10-python.tar  88%[================>   ] 144.00M   282KB/s    eta 41s    \rcifar-10-python.tar  88%[================>   ] 144.17M   312KB/s    eta 41s    \rcifar-10-python.tar  88%[================>   ] 144.26M   316KB/s    eta 41s    \rcifar-10-python.tar  88%[================>   ] 144.35M   323KB/s    eta 40s    \rcifar-10-python.tar  88%[================>   ] 144.45M   328KB/s    eta 40s    \rcifar-10-python.tar  88%[================>   ] 144.55M   339KB/s    eta 40s    \rcifar-10-python.tar  88%[================>   ] 144.66M   345KB/s    eta 40s    \rcifar-10-python.tar  89%[================>   ] 144.77M   357KB/s    eta 39s    \rcifar-10-python.tar  89%[================>   ] 144.88M   366KB/s    eta 39s    \rcifar-10-python.tar  89%[================>   ] 144.98M   379KB/s    eta 39s    \rcifar-10-python.tar  89%[================>   ] 145.06M   380KB/s    eta 39s    \rcifar-10-python.tar  89%[================>   ] 145.17M   394KB/s    eta 39s    \rcifar-10-python.tar  89%[================>   ] 145.24M   386KB/s    eta 38s    \rcifar-10-python.tar  89%[================>   ] 145.35M   390KB/s    eta 38s    \rcifar-10-python.tar  89%[================>   ] 145.44M   426KB/s    eta 38s    \rcifar-10-python.tar  89%[================>   ] 145.55M   403KB/s    eta 38s    \rcifar-10-python.tar  89%[================>   ] 145.65M   410KB/s    eta 38s    \rcifar-10-python.tar  89%[================>   ] 145.71M   414KB/s    eta 37s    \rcifar-10-python.tar  89%[================>   ] 145.82M   420KB/s    eta 37s    \rcifar-10-python.tar  89%[================>   ] 145.92M   432KB/s    eta 37s    \rcifar-10-python.tar  89%[================>   ] 146.02M   434KB/s    eta 37s    \rcifar-10-python.tar  89%[================>   ] 146.13M   444KB/s    eta 37s    \rcifar-10-python.tar  89%[================>   ] 146.15M   399KB/s    eta 36s    \rcifar-10-python.tar  90%[=================>  ] 146.36M   425KB/s    eta 36s    \rcifar-10-python.tar  90%[=================>  ] 146.44M   426KB/s    eta 36s    \rcifar-10-python.tar  90%[=================>  ] 146.52M   425KB/s    eta 36s    \rcifar-10-python.tar  90%[=================>  ] 146.57M   410KB/s    eta 36s    \rcifar-10-python.tar  90%[=================>  ] 146.67M   404KB/s    eta 35s    \rcifar-10-python.tar  90%[=================>  ] 146.77M   400KB/s    eta 35s    \rcifar-10-python.tar  90%[=================>  ] 146.88M   405KB/s    eta 35s    \rcifar-10-python.tar  90%[=================>  ] 147.00M   395KB/s    eta 35s    \rcifar-10-python.tar  90%[=================>  ] 147.11M   399KB/s    eta 34s    \rcifar-10-python.tar  90%[=================>  ] 147.23M   402KB/s    eta 34s    \rcifar-10-python.tar  90%[=================>  ] 147.35M   399KB/s    eta 34s    \rcifar-10-python.tar  90%[=================>  ] 147.46M   399KB/s    eta 34s    \rcifar-10-python.tar  90%[=================>  ] 147.58M   399KB/s    eta 33s    \rcifar-10-python.tar  90%[=================>  ] 147.70M   432KB/s    eta 33s    \rcifar-10-python.tar  90%[=================>  ] 147.82M   400KB/s    eta 33s    \rcifar-10-python.tar  90%[=================>  ] 147.94M   413KB/s    eta 33s    \rcifar-10-python.tar  91%[=================>  ] 148.06M   416KB/s    eta 32s    \rcifar-10-python.tar  91%[=================>  ] 148.16M   431KB/s    eta 32s    \rcifar-10-python.tar  91%[=================>  ] 148.26M   428KB/s    eta 32s    \rcifar-10-python.tar  91%[=================>  ] 148.36M   440KB/s    eta 32s    \rcifar-10-python.tar  91%[=================>  ] 148.47M   438KB/s    eta 32s    \rcifar-10-python.tar  91%[=================>  ] 148.58M   442KB/s    eta 31s    \rcifar-10-python.tar  91%[=================>  ] 148.66M   438KB/s    eta 31s    \rcifar-10-python.tar  91%[=================>  ] 148.77M   440KB/s    eta 31s    \rcifar-10-python.tar  91%[=================>  ] 148.87M   448KB/s    eta 31s    \rcifar-10-python.tar  91%[=================>  ] 148.97M   447KB/s    eta 31s    \rcifar-10-python.tar  91%[=================>  ] 149.09M   456KB/s    eta 30s    \rcifar-10-python.tar  91%[=================>  ] 149.21M   459KB/s    eta 30s    \rcifar-10-python.tar  91%[=================>  ] 149.28M   452KB/s    eta 30s    \rcifar-10-python.tar  91%[=================>  ] 149.39M   462KB/s    eta 30s    \rcifar-10-python.tar  91%[=================>  ] 149.50M   461KB/s    eta 30s    \rcifar-10-python.tar  92%[=================>  ] 149.63M   475KB/s    eta 29s    \rcifar-10-python.tar  92%[=================>  ] 149.78M   485KB/s    eta 29s    \rcifar-10-python.tar  92%[=================>  ] 149.86M   479KB/s    eta 29s    \rcifar-10-python.tar  92%[=================>  ] 149.98M   490KB/s    eta 29s    \rcifar-10-python.tar  92%[=================>  ] 150.11M   498KB/s    eta 29s    \rcifar-10-python.tar  92%[=================>  ] 150.27M   524KB/s    eta 27s    \rcifar-10-python.tar  92%[=================>  ] 150.38M   523KB/s    eta 27s    \rcifar-10-python.tar  92%[=================>  ] 150.53M   536KB/s    eta 27s    \rcifar-10-python.tar  92%[=================>  ] 150.68M   558KB/s    eta 27s    \rcifar-10-python.tar  92%[=================>  ] 150.87M   576KB/s    eta 27s    \rcifar-10-python.tar  92%[=================>  ] 151.09M   608KB/s    eta 25s    \rcifar-10-python.tar  93%[=================>  ] 151.33M   635KB/s    eta 25s    \rcifar-10-python.tar  93%[=================>  ] 151.42M   609KB/s    eta 25s    \rcifar-10-python.tar  93%[=================>  ] 151.79M   682KB/s    eta 25s    \rcifar-10-python.tar  93%[=================>  ] 151.94M   693KB/s    eta 23s    \rcifar-10-python.tar  93%[=================>  ] 152.14M   710KB/s    eta 23s    \rcifar-10-python.tar  93%[=================>  ] 152.36M   730KB/s    eta 23s    \rcifar-10-python.tar  93%[=================>  ] 152.57M   748KB/s    eta 23s    \rcifar-10-python.tar  93%[=================>  ] 152.80M   762KB/s    eta 22s    \rcifar-10-python.tar  94%[=================>  ] 153.04M   785KB/s    eta 22s    \rcifar-10-python.tar  94%[=================>  ] 153.28M   793KB/s    eta 22s    \rcifar-10-python.tar  94%[=================>  ] 153.28M   736KB/s    eta 22s    \rcifar-10-python.tar  94%[=================>  ] 153.69M   797KB/s    eta 20s    \rcifar-10-python.tar  94%[=================>  ] 153.86M   793KB/s    eta 20s    \rcifar-10-python.tar  94%[=================>  ] 154.05M   779KB/s    eta 20s    \rcifar-10-python.tar  94%[=================>  ] 154.24M   764KB/s    eta 20s    \rcifar-10-python.tar  94%[=================>  ] 154.36M   759KB/s    eta 18s    \rcifar-10-python.tar  95%[==================> ] 154.69M   746KB/s    eta 18s    \rcifar-10-python.tar  95%[==================> ] 154.80M   731KB/s    eta 18s    \rcifar-10-python.tar  95%[==================> ] 154.91M   721KB/s    eta 18s    \rcifar-10-python.tar  95%[==================> ] 155.05M   710KB/s    eta 18s    \rcifar-10-python.tar  95%[==================> ] 155.21M   701KB/s    eta 16s    \rcifar-10-python.tar  95%[==================> ] 155.34M   690KB/s    eta 16s    \rcifar-10-python.tar  95%[==================> ] 155.45M   678KB/s    eta 16s    \rcifar-10-python.tar  95%[==================> ] 155.57M   661KB/s    eta 16s    \rcifar-10-python.tar  95%[==================> ] 155.70M   650KB/s    eta 16s    \rcifar-10-python.tar  95%[==================> ] 155.80M   638KB/s    eta 15s    \rcifar-10-python.tar  95%[==================> ] 156.05M   605KB/s    eta 15s    \rcifar-10-python.tar  96%[==================> ] 156.14M   591KB/s    eta 15s    \rcifar-10-python.tar  96%[==================> ] 156.24M   583KB/s    eta 15s    \rcifar-10-python.tar  96%[==================> ] 156.33M   566KB/s    eta 15s    \rcifar-10-python.tar  96%[==================> ] 156.42M   556KB/s    eta 13s    \rcifar-10-python.tar  96%[==================> ] 156.53M   590KB/s    eta 13s    \rcifar-10-python.tar  96%[==================> ] 156.63M   530KB/s    eta 13s    \rcifar-10-python.tar  96%[==================> ] 156.76M   535KB/s    eta 13s    \rcifar-10-python.tar  96%[==================> ] 156.83M   527KB/s    eta 13s    \rcifar-10-python.tar  96%[==================> ] 156.94M   521KB/s    eta 12s    \rcifar-10-python.tar  96%[==================> ] 157.04M   519KB/s    eta 12s    \rcifar-10-python.tar  96%[==================> ] 157.16M   471KB/s    eta 12s    \rcifar-10-python.tar  96%[==================> ] 157.40M   498KB/s    eta 12s    \rcifar-10-python.tar  96%[==================> ] 157.47M   484KB/s    eta 11s    \rcifar-10-python.tar  96%[==================> ] 157.55M   508KB/s    eta 11s    \rcifar-10-python.tar  96%[==================> ] 157.64M   461KB/s    eta 11s    \rcifar-10-python.tar  97%[==================> ] 157.73M   460KB/s    eta 11s    \rcifar-10-python.tar  97%[==================> ] 157.85M   463KB/s    eta 11s    \rcifar-10-python.tar  97%[==================> ] 157.94M   461KB/s    eta 10s    \rcifar-10-python.tar  97%[==================> ] 158.04M   464KB/s    eta 10s    \rcifar-10-python.tar  97%[==================> ] 158.14M   463KB/s    eta 10s    \rcifar-10-python.tar  97%[==================> ] 158.15M   419KB/s    eta 10s    \rcifar-10-python.tar  97%[==================> ] 158.36M   449KB/s    eta 10s    \rcifar-10-python.tar  97%[==================> ] 158.44M   446KB/s    eta 9s     \rcifar-10-python.tar  97%[==================> ] 158.54M   431KB/s    eta 9s     \rcifar-10-python.tar  97%[==================> ] 158.64M   420KB/s    eta 9s     \rcifar-10-python.tar  97%[==================> ] 158.75M   453KB/s    eta 9s     \rcifar-10-python.tar  97%[==================> ] 158.85M   417KB/s    eta 8s     \rcifar-10-python.tar  97%[==================> ] 158.96M   420KB/s    eta 8s     \rcifar-10-python.tar  97%[==================> ] 159.08M   418KB/s    eta 8s     \rcifar-10-python.tar  97%[==================> ] 159.19M   417KB/s    eta 8s     \rcifar-10-python.tar  97%[==================> ] 159.29M   415KB/s    eta 7s     \rcifar-10-python.tar  98%[==================> ] 159.37M   419KB/s    eta 7s     \rcifar-10-python.tar  98%[==================> ] 159.44M   407KB/s    eta 7s     \rcifar-10-python.tar  98%[==================> ] 159.53M   405KB/s    eta 7s     \rcifar-10-python.tar  98%[==================> ] 159.63M   446KB/s    eta 7s     \rcifar-10-python.tar  98%[==================> ] 159.72M   406KB/s    eta 6s     \rcifar-10-python.tar  98%[==================> ] 159.80M   410KB/s    eta 6s     \rcifar-10-python.tar  98%[==================> ] 159.88M   411KB/s    eta 6s     \rcifar-10-python.tar  98%[==================> ] 159.98M   416KB/s    eta 6s     \rcifar-10-python.tar  98%[==================> ] 160.06M   414KB/s    eta 6s     \rcifar-10-python.tar  98%[==================> ] 160.17M   418KB/s    eta 5s     \rcifar-10-python.tar  98%[==================> ] 160.24M   418KB/s    eta 5s     \rcifar-10-python.tar  98%[==================> ] 160.34M   423KB/s    eta 5s     \rcifar-10-python.tar  98%[==================> ] 160.45M   419KB/s    eta 5s     \rcifar-10-python.tar  98%[==================> ] 160.53M   419KB/s    eta 5s     \rcifar-10-python.tar  98%[==================> ] 160.64M   425KB/s    eta 4s     \rcifar-10-python.tar  98%[==================> ] 160.72M   426KB/s    eta 4s     \rcifar-10-python.tar  98%[==================> ] 160.83M   429KB/s    eta 4s     \rcifar-10-python.tar  98%[==================> ] 160.94M   431KB/s    eta 4s     \rcifar-10-python.tar  99%[==================> ] 161.03M   433KB/s    eta 4s     \rcifar-10-python.tar  99%[==================> ] 161.15M   438KB/s    eta 3s     \rcifar-10-python.tar  99%[==================> ] 161.27M   443KB/s    eta 3s     \rcifar-10-python.tar  99%[==================> ] 161.35M   415KB/s    eta 3s     \rcifar-10-python.tar  99%[==================> ] 161.57M   456KB/s    eta 3s     \rcifar-10-python.tar  99%[==================> ] 161.62M   417KB/s    eta 2s     \rcifar-10-python.tar  99%[==================> ] 161.81M   439KB/s    eta 2s     \rcifar-10-python.tar  99%[==================> ] 161.88M   435KB/s    eta 2s     \rcifar-10-python.tar  99%[==================> ] 161.96M   428KB/s    eta 2s     \rcifar-10-python.tar  99%[==================> ] 162.02M   424KB/s    eta 2s     \rcifar-10-python.tar  99%[==================> ] 162.10M   416KB/s    eta 1s     \rcifar-10-python.tar  99%[==================> ] 162.19M   416KB/s    eta 1s     \rcifar-10-python.tar  99%[==================> ] 162.25M   407KB/s    eta 1s     \rcifar-10-python.tar  99%[==================> ] 162.31M   401KB/s    eta 1s     \rcifar-10-python.tar  99%[==================> ] 162.38M   356KB/s    eta 0s     \rcifar-10-python.tar  99%[==================> ] 162.55M   374KB/s    eta 0s     \rcifar-10-python.tar 100%[===================>] 162.60M   369KB/s    in 5m 57s  \r\n",
      "\r\n",
      "2022-11-15 10:28:48 (467 KB/s) - ‘cifar-10-python.tar.gz’ saved [170498071/170498071]\r\n",
      "\r\n"
     ]
    }
   ],
   "source": [
    "# !wget http://www.cs.toronto.edu/~kriz/cifar-10-python.tar.gz\n",
    "# 只运行一次就行， 第二次注释掉！，b不然每次运行都重新下载。jupyter notebook就有这个问题"
   ]
  },
  {
   "cell_type": "code",
   "execution_count": 5,
   "metadata": {},
   "outputs": [
    {
     "name": "stdout",
     "output_type": "stream",
     "text": [
      "cifar-10-batches-py/\n",
      "cifar-10-batches-py/data_batch_4\n",
      "cifar-10-batches-py/readme.html\r\n",
      "cifar-10-batches-py/test_batch\r\n",
      "cifar-10-batches-py/data_batch_3\r\n",
      "cifar-10-batches-py/batches.meta\r\n",
      "cifar-10-batches-py/data_batch_2\r\n",
      "cifar-10-batches-py/data_batch_5\r\n",
      "cifar-10-batches-py/data_batch_1\r\n"
     ]
    }
   ],
   "source": [
    "# !tar -xvf cifar-10-python.tar.gz"
   ]
  },
  {
   "cell_type": "code",
   "execution_count": 1,
   "metadata": {},
   "outputs": [
    {
     "data": {
      "text/plain": [
       "(10000, 3072)"
      ]
     },
     "execution_count": 1,
     "metadata": {},
     "output_type": "execute_result"
    }
   ],
   "source": [
    "from my_dataset import * # 自己尝试写dataset\n",
    "d = unpickle('./datasets/cifar-10-batches-py/data_batch_1')\n",
    "d[b'data'].shape"
   ]
  },
  {
   "cell_type": "code",
   "execution_count": 2,
   "metadata": {},
   "outputs": [],
   "source": [
    "cifar_train, cifar_test = get_cifar10()\n",
    "batchsz = 32\n",
    "cifar_train = DataLoader(cifar_train, batch_size=batchsz, shuffle=True)\n",
    "cifar_test = DataLoader(cifar_test,batch_size = batchsz,shuffle=True)"
   ]
  },
  {
   "cell_type": "code",
   "execution_count": 4,
   "metadata": {},
   "outputs": [
    {
     "name": "stdout",
     "output_type": "stream",
     "text": [
      "DescribeResult(nobs=3072, minmax=(-0.92941177, 0.8901961), mean=-0.23115043, variance=0.16599592918761194, skewness=0.9469626104864385, kurtosis=0.2135872079981862)\n"
     ]
    },
    {
     "name": "stderr",
     "output_type": "stream",
     "text": [
      "Clipping input data to the valid range for imshow with RGB data ([0..1] for floats or [0..255] for integers).\n"
     ]
    },
    {
     "data": {
      "image/png": "[encoded data removed]",
      "text/plain": [
       "<Figure size 640x480 with 1 Axes>"
      ]
     },
     "metadata": {},
     "output_type": "display_data"
    }
   ],
   "source": [
    "train_features, train_labels = next(iter(cifar_train))\n",
    "idx = 0\n",
    "img = train_features[idx]\n",
    "label = train_labels[idx]\n",
    "from scipy.stats import describe\n",
    "print(describe(img.numpy().flatten()))\n",
    "# img.shape\n",
    "import matplotlib.pyplot as plt\n",
    "plt.imshow(img.permute(1,2,0))\n",
    "plt.title(f'label={label}')\n",
    "plt.show()"
   ]
  },
  {
   "cell_type": "code",
   "execution_count": 6,
   "metadata": {},
   "outputs": [
    {
     "data": {
      "text/plain": [
       "tensor([[-0.0670, -0.4149,  0.2728,  0.1976,  0.1658, -0.6658,  0.1142,  0.6912,\n",
       "          0.9018, -0.0384]], grad_fn=<AddmmBackward0>)"
      ]
     },
     "execution_count": 6,
     "metadata": {},
     "output_type": "execute_result"
    }
   ],
   "source": [
    "from my_models import * # jupyter notebook很难翻页，所以我们把这些长长的代码扔到py文件里面去\n",
    "net = ResNet18() # 自己定义的ResNet18\n",
    "net(img.unsqueeze(0))"
   ]
  },
  {
   "cell_type": "code",
   "execution_count": 21,
   "metadata": {},
   "outputs": [
    {
     "data": {
      "text/plain": [
       "tensor([[-0.0144,  0.1964,  0.1886,  0.4437, -1.6326,  0.3999,  0.6308,  1.0715,\n",
       "          0.4627, -1.1054]], device='cuda:0', grad_fn=<GatherBackward>)"
      ]
     },
     "execution_count": 21,
     "metadata": {},
     "output_type": "execute_result"
    }
   ],
   "source": [
    "# 多卡训练，防止显存不够\n",
    "device_ids = list(range(torch.cuda.device_count()))\n",
    "# device_ids\n",
    "train_device = torch.device('cuda', device_ids[0]) # 改成2会报错，因为默认主卡是0\n",
    "# test_device = torch.device('cuda', device_ids[1])\n",
    "test_device = torch.device('cuda', device_ids[0]) #我服了，pytorch真实垃圾\n",
    "model = ResNet18()\n",
    "model = torch.nn.DataParallel(model, device_ids=device_ids)\n",
    "# torch规定：必须把参数放置在nn.DataParallel中参数device_ids[0]上\n",
    "model = model.to(train_device)\n",
    "a = img.unsqueeze(0).to(test_device) # 允许异构\n",
    "# b = model.to(test_device)\n",
    "model(a)\n",
    "model(img.unsqueeze(0)) # 不管数据从哪个卡来，都会自动放到主卡上\n"
   ]
  },
  {
   "cell_type": "code",
   "execution_count": 24,
   "metadata": {},
   "outputs": [
    {
     "name": "stdout",
     "output_type": "stream",
     "text": [
      "DataParallel(\n",
      "  (module): ResNet18(\n",
      "    (conv1): Sequential(\n",
      "      (0): Conv2d(3, 16, kernel_size=(3, 3), stride=(3, 3))\n",
      "      (1): BatchNorm2d(16, eps=1e-05, momentum=0.1, affine=True, track_running_stats=True)\n",
      "    )\n",
      "    (blk1): ResBlock(\n",
      "      (longcut): Sequential(\n",
      "        (0): Conv2d(16, 32, kernel_size=(3, 3), stride=(1, 1), padding=(1, 1), bias=False)\n",
      "        (1): BatchNorm2d(32, eps=1e-05, momentum=0.1, affine=True, track_running_stats=True)\n",
      "        (2): ReLU(inplace=True)\n",
      "        (3): Conv2d(32, 32, kernel_size=(3, 3), stride=(1, 1), padding=(1, 1), bias=False)\n",
      "        (4): BatchNorm2d(32, eps=1e-05, momentum=0.1, affine=True, track_running_stats=True)\n",
      "      )\n",
      "      (shortcut): Sequential(\n",
      "        (0): Conv2d(16, 32, kernel_size=(1, 1), stride=(1, 1), bias=False)\n",
      "        (1): BatchNorm2d(32, eps=1e-05, momentum=0.1, affine=True, track_running_stats=True)\n",
      "      )\n",
      "    )\n",
      "    (blk2): ResBlock(\n",
      "      (longcut): Sequential(\n",
      "        (0): Conv2d(32, 64, kernel_size=(3, 3), stride=(1, 1), padding=(1, 1), bias=False)\n",
      "        (1): BatchNorm2d(64, eps=1e-05, momentum=0.1, affine=True, track_running_stats=True)\n",
      "        (2): ReLU(inplace=True)\n",
      "        (3): Conv2d(64, 64, kernel_size=(3, 3), stride=(1, 1), padding=(1, 1), bias=False)\n",
      "        (4): BatchNorm2d(64, eps=1e-05, momentum=0.1, affine=True, track_running_stats=True)\n",
      "      )\n",
      "      (shortcut): Sequential(\n",
      "        (0): Conv2d(32, 64, kernel_size=(1, 1), stride=(1, 1), bias=False)\n",
      "        (1): BatchNorm2d(64, eps=1e-05, momentum=0.1, affine=True, track_running_stats=True)\n",
      "      )\n",
      "    )\n",
      "    (blk3): ResBlock(\n",
      "      (longcut): Sequential(\n",
      "        (0): Conv2d(64, 128, kernel_size=(3, 3), stride=(1, 1), padding=(1, 1), bias=False)\n",
      "        (1): BatchNorm2d(128, eps=1e-05, momentum=0.1, affine=True, track_running_stats=True)\n",
      "        (2): ReLU(inplace=True)\n",
      "        (3): Conv2d(128, 128, kernel_size=(3, 3), stride=(1, 1), padding=(1, 1), bias=False)\n",
      "        (4): BatchNorm2d(128, eps=1e-05, momentum=0.1, affine=True, track_running_stats=True)\n",
      "      )\n",
      "      (shortcut): Sequential(\n",
      "        (0): Conv2d(64, 128, kernel_size=(1, 1), stride=(1, 1), bias=False)\n",
      "        (1): BatchNorm2d(128, eps=1e-05, momentum=0.1, affine=True, track_running_stats=True)\n",
      "      )\n",
      "    )\n",
      "    (blk4): ResBlock(\n",
      "      (longcut): Sequential(\n",
      "        (0): Conv2d(128, 256, kernel_size=(3, 3), stride=(1, 1), padding=(1, 1), bias=False)\n",
      "        (1): BatchNorm2d(256, eps=1e-05, momentum=0.1, affine=True, track_running_stats=True)\n",
      "        (2): ReLU(inplace=True)\n",
      "        (3): Conv2d(256, 256, kernel_size=(3, 3), stride=(1, 1), padding=(1, 1), bias=False)\n",
      "        (4): BatchNorm2d(256, eps=1e-05, momentum=0.1, affine=True, track_running_stats=True)\n",
      "      )\n",
      "      (shortcut): Sequential(\n",
      "        (0): Conv2d(128, 256, kernel_size=(1, 1), stride=(1, 1), bias=False)\n",
      "        (1): BatchNorm2d(256, eps=1e-05, momentum=0.1, affine=True, track_running_stats=True)\n",
      "      )\n",
      "    )\n",
      "    (outlayer): Linear(in_features=25600, out_features=10, bias=True)\n",
      "  )\n",
      ")\n"
     ]
    }
   ],
   "source": [
    "from torch import optim\n",
    "critiria = nn.CrossEntropyLoss()\n",
    "optimizer = optim.Adam(model.parameters(),lr=1e-3)\n",
    "print(model)"
   ]
  },
  {
   "cell_type": "code",
   "execution_count": 13,
   "metadata": {},
   "outputs": [],
   "source": [
    "from tqdm import tqdm\n",
    "from torch import nn\n",
    "import torch.nn.functional as F\n",
    "\n",
    "history = {'Train Loss':[],'Test Loss':[],'Test Accuracy':[]}\n",
    "def test(test_loader, net, critiria):\n",
    "    correct,totalLoss = 0,0\n",
    "    totalSize = 0\n",
    "    net.train(False)\n",
    "    critiria = critiria.to(test_device)\n",
    "    for testImgs,labels in test_loader:\n",
    "        testImgs = testImgs.to(test_device)\n",
    "        labels = labels.to(test_device)\n",
    "        outputs = net(testImgs)\n",
    "        loss = critiria(outputs,labels)\n",
    "        predictions = torch.argmax(outputs,dim = 1)\n",
    "        totalSize += labels.size(0)\n",
    "        totalLoss += loss\n",
    "        correct += torch.sum(predictions == labels)\n",
    "    testAccuracy = correct/totalSize\n",
    "    testLoss = totalLoss/len(test_loader)\n",
    "    return testLoss,testAccuracy\n",
    "def train(train_loader, net, critiria, test_loader, n_epochs=5):\n",
    "    for epoch in range(1, n_epochs + 1):\n",
    "        try:\n",
    "            #构建tqdm进度条\n",
    "            processBar = tqdm(train_loader,unit = 'step')  \n",
    "            #打开网络的训练模式\n",
    "            net.train(True)\n",
    "            critiria = critiria.to(train_device) # 这个critiria会多管闲事，检查数据在不在同一个卡\n",
    "            \n",
    "            #开始对训练集的DataLoader进行迭代\n",
    "            totalTrainLoss = 0.0\n",
    "            for step,(trainImgs,labels) in enumerate(processBar): # 对一个可以迭代的对象增加进度条\n",
    "                #将图像和标签传输进device中\n",
    "                trainImgs = trainImgs.to(train_device)\n",
    "                labels = labels.to(train_device)\n",
    "                \n",
    "                #清空模型的梯度\n",
    "                optimizer.zero_grad()\n",
    "                \n",
    "                #对模型进行前向推理\n",
    "                outputs = net(trainImgs)\n",
    "                \n",
    "                #计算本轮推理的Loss值\n",
    "                loss = critiria(outputs,labels)\n",
    "                #计算本轮推理的准确率\n",
    "                predictions = torch.argmax(outputs, dim = 1)\n",
    "                accuracy = torch.sum(predictions == labels)/labels.shape[0]\n",
    "                \n",
    "                #进行反向传播求出模型参数的梯度\n",
    "                loss.backward()\n",
    "                #使用迭代器更新模型权重\n",
    "                optimizer.step()\n",
    "                    #将本step结果进行可视化处理\n",
    "                processBar.set_description(\"[%d/%d] Loss: %.4f, Acc: %.4f\" % \n",
    "                                            (epoch,n_epochs,loss.item(),accuracy.item()))\n",
    "                totalTrainLoss+= loss\n",
    "                if step == len(processBar)-1:\n",
    "                # if True:\n",
    "                    testLoss, testAccuracy = test(test_loader, net, critiria)\n",
    "                    trainLoss = totalTrainLoss/len(train_loader)\n",
    "                    history['Train Loss'].append(trainLoss.item())\n",
    "                    history['Test Loss'].append(testLoss.item())\n",
    "                    history['Test Accuracy'].append(testAccuracy.item())\n",
    "                    processBar.set_description(\"[%d/%d] Loss: %.4f, Acc: %.4f, Test Loss: %.4f, Test Acc: %.4f\" % \n",
    "                                        (epoch,n_epochs,loss.item(),accuracy.item(),testLoss.item(),testAccuracy.item()))\n",
    "                processBar.close()\n",
    "                \n",
    "        except Exception as e:\n",
    "            print(e)\n",
    "        finally:\n",
    "            print('训练已经中断')\n",
    "            torch.save(net.state_dict(), f'./checkpoints/cifar_resnet_epoch{epoch}_step{step}.pth')\n",
    "\n",
    "                "
   ]
  },
  {
   "cell_type": "code",
   "execution_count": 31,
   "metadata": {},
   "outputs": [],
   "source": [
    "torch.cuda.empty_cache()"
   ]
  },
  {
   "cell_type": "code",
   "execution_count": 113,
   "metadata": {},
   "outputs": [
    {
     "name": "stdout",
     "output_type": "stream",
     "text": [
      "mkdir: cannot create directory ‘checkpoints’: File exists\n"
     ]
    }
   ],
   "source": [
    "!mkdir checkpoints "
   ]
  },
  {
   "cell_type": "code",
   "execution_count": 119,
   "metadata": {},
   "outputs": [
    {
     "name": "stderr",
     "output_type": "stream",
     "text": [
      "  0%|          | 0/1563 [00:00<?, ?step/s]\r[1/100] Loss: 1.8038, Acc: 0.4688:   0%|          | 0/1563 [00:00<?, ?step/s]\r[1/100] Loss: 1.8038, Acc: 0.4688:   0%|          | 0/1563 [00:00<?, ?step/s]\n"
     ]
    },
    {
     "name": "stdout",
     "output_type": "stream",
     "text": [
      "训练已经中断\n"
     ]
    },
    {
     "name": "stderr",
     "output_type": "stream",
     "text": [
      "  0%|          | 0/1563 [00:00<?, ?step/s]\r[2/100] Loss: 0.9706, Acc: 0.5625:   0%|          | 0/1563 [00:00<?, ?step/s]\r[2/100] Loss: 0.9706, Acc: 0.5625:   0%|          | 0/1563 [00:00<?, ?step/s]\n"
     ]
    },
    {
     "name": "stdout",
     "output_type": "stream",
     "text": [
      "训练已经中断\n"
     ]
    },
    {
     "name": "stderr",
     "output_type": "stream",
     "text": [
      "  0%|          | 0/1563 [00:00<?, ?step/s]\r[3/100] Loss: 0.7518, Acc: 0.7812:   0%|          | 0/1563 [00:00<?, ?step/s]\r[3/100] Loss: 0.7518, Acc: 0.7812:   0%|          | 0/1563 [00:00<?, ?step/s]\n"
     ]
    },
    {
     "name": "stdout",
     "output_type": "stream",
     "text": [
      "训练已经中断\n"
     ]
    },
    {
     "name": "stderr",
     "output_type": "stream",
     "text": [
      "  0%|          | 0/1563 [00:00<?, ?step/s]\r[4/100] Loss: 0.7948, Acc: 0.8125:   0%|          | 0/1563 [00:00<?, ?step/s]\r[4/100] Loss: 0.7948, Acc: 0.8125:   0%|          | 0/1563 [00:00<?, ?step/s]\n"
     ]
    },
    {
     "name": "stdout",
     "output_type": "stream",
     "text": [
      "训练已经中断\n"
     ]
    },
    {
     "name": "stderr",
     "output_type": "stream",
     "text": [
      "  0%|          | 0/1563 [00:00<?, ?step/s]\r[5/100] Loss: 0.6372, Acc: 0.8125:   0%|          | 0/1563 [00:00<?, ?step/s]\r[5/100] Loss: 0.6372, Acc: 0.8125:   0%|          | 0/1563 [00:00<?, ?step/s]\n"
     ]
    },
    {
     "name": "stdout",
     "output_type": "stream",
     "text": [
      "训练已经中断\n"
     ]
    },
    {
     "name": "stderr",
     "output_type": "stream",
     "text": [
      "  0%|          | 0/1563 [00:00<?, ?step/s]\r[6/100] Loss: 0.4199, Acc: 0.8125:   0%|          | 0/1563 [00:00<?, ?step/s]\r[6/100] Loss: 0.4199, Acc: 0.8125:   0%|          | 0/1563 [00:00<?, ?step/s]\n"
     ]
    },
    {
     "name": "stdout",
     "output_type": "stream",
     "text": [
      "训练已经中断\n"
     ]
    },
    {
     "name": "stderr",
     "output_type": "stream",
     "text": [
      "  0%|          | 0/1563 [00:00<?, ?step/s]\r[7/100] Loss: 0.3112, Acc: 0.8750:   0%|          | 0/1563 [00:00<?, ?step/s]\r[7/100] Loss: 0.3112, Acc: 0.8750:   0%|          | 0/1563 [00:00<?, ?step/s]\n"
     ]
    },
    {
     "name": "stdout",
     "output_type": "stream",
     "text": [
      "训练已经中断\n"
     ]
    },
    {
     "name": "stderr",
     "output_type": "stream",
     "text": [
      "  0%|          | 0/1563 [00:00<?, ?step/s]\r[8/100] Loss: 0.1981, Acc: 0.9062:   0%|          | 0/1563 [00:00<?, ?step/s]\r[8/100] Loss: 0.1981, Acc: 0.9062:   0%|          | 0/1563 [00:00<?, ?step/s]\n"
     ]
    },
    {
     "name": "stdout",
     "output_type": "stream",
     "text": [
      "训练已经中断\n"
     ]
    },
    {
     "name": "stderr",
     "output_type": "stream",
     "text": [
      "  0%|          | 0/1563 [00:00<?, ?step/s]\r[9/100] Loss: 0.1552, Acc: 0.9688:   0%|          | 0/1563 [00:00<?, ?step/s]\r[9/100] Loss: 0.1552, Acc: 0.9688:   0%|          | 0/1563 [00:00<?, ?step/s]\n"
     ]
    },
    {
     "name": "stdout",
     "output_type": "stream",
     "text": [
      "训练已经中断\n"
     ]
    },
    {
     "name": "stderr",
     "output_type": "stream",
     "text": [
      "  0%|          | 0/1563 [00:00<?, ?step/s]\r[10/100] Loss: 0.0828, Acc: 1.0000:   0%|          | 0/1563 [00:00<?, ?step/s]\r[10/100] Loss: 0.0828, Acc: 1.0000:   0%|          | 0/1563 [00:00<?, ?step/s]\n"
     ]
    },
    {
     "name": "stdout",
     "output_type": "stream",
     "text": [
      "训练已经中断\n"
     ]
    },
    {
     "name": "stderr",
     "output_type": "stream",
     "text": [
      "  0%|          | 0/1563 [00:00<?, ?step/s]\r[11/100] Loss: 0.0726, Acc: 1.0000:   0%|          | 0/1563 [00:00<?, ?step/s]\r[11/100] Loss: 0.0726, Acc: 1.0000:   0%|          | 0/1563 [00:00<?, ?step/s]\n"
     ]
    },
    {
     "name": "stdout",
     "output_type": "stream",
     "text": [
      "训练已经中断\n"
     ]
    },
    {
     "name": "stderr",
     "output_type": "stream",
     "text": [
      "  0%|          | 0/1563 [00:00<?, ?step/s]\r[12/100] Loss: 0.0400, Acc: 1.0000:   0%|          | 0/1563 [00:00<?, ?step/s]\r[12/100] Loss: 0.0400, Acc: 1.0000:   0%|          | 0/1563 [00:00<?, ?step/s]\n"
     ]
    },
    {
     "name": "stdout",
     "output_type": "stream",
     "text": [
      "训练已经中断\n"
     ]
    },
    {
     "name": "stderr",
     "output_type": "stream",
     "text": [
      "  0%|          | 0/1563 [00:00<?, ?step/s]\r[13/100] Loss: 0.1925, Acc: 0.9062:   0%|          | 0/1563 [00:00<?, ?step/s]\r[13/100] Loss: 0.1925, Acc: 0.9062:   0%|          | 0/1563 [00:00<?, ?step/s]\n"
     ]
    },
    {
     "name": "stdout",
     "output_type": "stream",
     "text": [
      "训练已经中断\n"
     ]
    },
    {
     "name": "stderr",
     "output_type": "stream",
     "text": [
      "  0%|          | 0/1563 [00:00<?, ?step/s]\r[14/100] Loss: 0.0304, Acc: 1.0000:   0%|          | 0/1563 [00:00<?, ?step/s]\r[14/100] Loss: 0.0304, Acc: 1.0000:   0%|          | 0/1563 [00:00<?, ?step/s]\n"
     ]
    },
    {
     "name": "stdout",
     "output_type": "stream",
     "text": [
      "训练已经中断\n"
     ]
    },
    {
     "name": "stderr",
     "output_type": "stream",
     "text": [
      "  0%|          | 0/1563 [00:00<?, ?step/s]\r[15/100] Loss: 0.0356, Acc: 1.0000:   0%|          | 0/1563 [00:00<?, ?step/s]\r[15/100] Loss: 0.0356, Acc: 1.0000:   0%|          | 0/1563 [00:00<?, ?step/s]\n"
     ]
    },
    {
     "name": "stdout",
     "output_type": "stream",
     "text": [
      "训练已经中断\n"
     ]
    },
    {
     "ename": "KeyboardInterrupt",
     "evalue": "",
     "output_type": "error",
     "traceback": [
      "\u001b[0;31m---------------------------------------------------------------------------\u001b[0m",
      "\u001b[0;31mKeyboardInterrupt\u001b[0m                         Traceback (most recent call last)",
      "\u001b[0;32m/tmp/ipykernel_14931/2341985970.py\u001b[0m in \u001b[0;36m<module>\u001b[0;34m\u001b[0m\n\u001b[0;32m----> 1\u001b[0;31m \u001b[0mtrain\u001b[0m\u001b[0;34m(\u001b[0m\u001b[0mcifar_train\u001b[0m\u001b[0;34m,\u001b[0m \u001b[0mmodel\u001b[0m\u001b[0;34m,\u001b[0m \u001b[0mcritiria\u001b[0m\u001b[0;34m,\u001b[0m \u001b[0mcifar_test\u001b[0m\u001b[0;34m,\u001b[0m \u001b[0mn_epochs\u001b[0m\u001b[0;34m=\u001b[0m\u001b[0;36m100\u001b[0m\u001b[0;34m)\u001b[0m\u001b[0;34m\u001b[0m\u001b[0;34m\u001b[0m\u001b[0m\n\u001b[0m",
      "\u001b[0;32m/tmp/ipykernel_14931/599796871.py\u001b[0m in \u001b[0;36mtrain\u001b[0;34m(train_loader, net, critiria, test_loader, n_epochs)\u001b[0m\n\u001b[1;32m     49\u001b[0m                 \u001b[0mloss\u001b[0m\u001b[0;34m.\u001b[0m\u001b[0mbackward\u001b[0m\u001b[0;34m(\u001b[0m\u001b[0;34m)\u001b[0m\u001b[0;34m\u001b[0m\u001b[0;34m\u001b[0m\u001b[0m\n\u001b[1;32m     50\u001b[0m                 \u001b[0;31m#使用迭代器更新模型权重\u001b[0m\u001b[0;34m\u001b[0m\u001b[0;34m\u001b[0m\u001b[0m\n\u001b[0;32m---> 51\u001b[0;31m                 \u001b[0moptimizer\u001b[0m\u001b[0;34m.\u001b[0m\u001b[0mstep\u001b[0m\u001b[0;34m(\u001b[0m\u001b[0;34m)\u001b[0m\u001b[0;34m\u001b[0m\u001b[0;34m\u001b[0m\u001b[0m\n\u001b[0m\u001b[1;32m     52\u001b[0m                     \u001b[0;31m#将本step结果进行可视化处理\u001b[0m\u001b[0;34m\u001b[0m\u001b[0;34m\u001b[0m\u001b[0m\n\u001b[1;32m     53\u001b[0m                 processBar.set_description(\"[%d/%d] Loss: %.4f, Acc: %.4f\" % \n",
      "\u001b[0;32m~/anaconda3/envs/torch/lib/python3.9/site-packages/torch/optim/optimizer.py\u001b[0m in \u001b[0;36mwrapper\u001b[0;34m(*args, **kwargs)\u001b[0m\n\u001b[1;32m    138\u001b[0m                 \u001b[0mprofile_name\u001b[0m \u001b[0;34m=\u001b[0m \u001b[0;34m\"Optimizer.step#{}.step\"\u001b[0m\u001b[0;34m.\u001b[0m\u001b[0mformat\u001b[0m\u001b[0;34m(\u001b[0m\u001b[0mobj\u001b[0m\u001b[0;34m.\u001b[0m\u001b[0m__class__\u001b[0m\u001b[0;34m.\u001b[0m\u001b[0m__name__\u001b[0m\u001b[0;34m)\u001b[0m\u001b[0;34m\u001b[0m\u001b[0;34m\u001b[0m\u001b[0m\n\u001b[1;32m    139\u001b[0m                 \u001b[0;32mwith\u001b[0m \u001b[0mtorch\u001b[0m\u001b[0;34m.\u001b[0m\u001b[0mautograd\u001b[0m\u001b[0;34m.\u001b[0m\u001b[0mprofiler\u001b[0m\u001b[0;34m.\u001b[0m\u001b[0mrecord_function\u001b[0m\u001b[0;34m(\u001b[0m\u001b[0mprofile_name\u001b[0m\u001b[0;34m)\u001b[0m\u001b[0;34m:\u001b[0m\u001b[0;34m\u001b[0m\u001b[0;34m\u001b[0m\u001b[0m\n\u001b[0;32m--> 140\u001b[0;31m                     \u001b[0mout\u001b[0m \u001b[0;34m=\u001b[0m \u001b[0mfunc\u001b[0m\u001b[0;34m(\u001b[0m\u001b[0;34m*\u001b[0m\u001b[0margs\u001b[0m\u001b[0;34m,\u001b[0m \u001b[0;34m**\u001b[0m\u001b[0mkwargs\u001b[0m\u001b[0;34m)\u001b[0m\u001b[0;34m\u001b[0m\u001b[0;34m\u001b[0m\u001b[0m\n\u001b[0m\u001b[1;32m    141\u001b[0m                     \u001b[0mobj\u001b[0m\u001b[0;34m.\u001b[0m\u001b[0m_optimizer_step_code\u001b[0m\u001b[0;34m(\u001b[0m\u001b[0;34m)\u001b[0m\u001b[0;34m\u001b[0m\u001b[0;34m\u001b[0m\u001b[0m\n\u001b[1;32m    142\u001b[0m                     \u001b[0;32mreturn\u001b[0m \u001b[0mout\u001b[0m\u001b[0;34m\u001b[0m\u001b[0;34m\u001b[0m\u001b[0m\n",
      "\u001b[0;32m~/anaconda3/envs/torch/lib/python3.9/site-packages/torch/optim/optimizer.py\u001b[0m in \u001b[0;36m_use_grad\u001b[0;34m(self, *args, **kwargs)\u001b[0m\n\u001b[1;32m     21\u001b[0m         \u001b[0;32mtry\u001b[0m\u001b[0;34m:\u001b[0m\u001b[0;34m\u001b[0m\u001b[0;34m\u001b[0m\u001b[0m\n\u001b[1;32m     22\u001b[0m             \u001b[0mtorch\u001b[0m\u001b[0;34m.\u001b[0m\u001b[0mset_grad_enabled\u001b[0m\u001b[0;34m(\u001b[0m\u001b[0mself\u001b[0m\u001b[0;34m.\u001b[0m\u001b[0mdefaults\u001b[0m\u001b[0;34m[\u001b[0m\u001b[0;34m'differentiable'\u001b[0m\u001b[0;34m]\u001b[0m\u001b[0;34m)\u001b[0m\u001b[0;34m\u001b[0m\u001b[0;34m\u001b[0m\u001b[0m\n\u001b[0;32m---> 23\u001b[0;31m             \u001b[0mret\u001b[0m \u001b[0;34m=\u001b[0m \u001b[0mfunc\u001b[0m\u001b[0;34m(\u001b[0m\u001b[0mself\u001b[0m\u001b[0;34m,\u001b[0m \u001b[0;34m*\u001b[0m\u001b[0margs\u001b[0m\u001b[0;34m,\u001b[0m \u001b[0;34m**\u001b[0m\u001b[0mkwargs\u001b[0m\u001b[0;34m)\u001b[0m\u001b[0;34m\u001b[0m\u001b[0;34m\u001b[0m\u001b[0m\n\u001b[0m\u001b[1;32m     24\u001b[0m         \u001b[0;32mfinally\u001b[0m\u001b[0;34m:\u001b[0m\u001b[0;34m\u001b[0m\u001b[0;34m\u001b[0m\u001b[0m\n\u001b[1;32m     25\u001b[0m             \u001b[0mtorch\u001b[0m\u001b[0;34m.\u001b[0m\u001b[0mset_grad_enabled\u001b[0m\u001b[0;34m(\u001b[0m\u001b[0mprev_grad\u001b[0m\u001b[0;34m)\u001b[0m\u001b[0;34m\u001b[0m\u001b[0;34m\u001b[0m\u001b[0m\n",
      "\u001b[0;32m~/anaconda3/envs/torch/lib/python3.9/site-packages/torch/optim/adam.py\u001b[0m in \u001b[0;36mstep\u001b[0;34m(self, closure, grad_scaler)\u001b[0m\n\u001b[1;32m    232\u001b[0m                     \u001b[0mstate_steps\u001b[0m\u001b[0;34m.\u001b[0m\u001b[0mappend\u001b[0m\u001b[0;34m(\u001b[0m\u001b[0mstate\u001b[0m\u001b[0;34m[\u001b[0m\u001b[0;34m'step'\u001b[0m\u001b[0;34m]\u001b[0m\u001b[0;34m)\u001b[0m\u001b[0;34m\u001b[0m\u001b[0;34m\u001b[0m\u001b[0m\n\u001b[1;32m    233\u001b[0m \u001b[0;34m\u001b[0m\u001b[0m\n\u001b[0;32m--> 234\u001b[0;31m             adam(params_with_grad,\n\u001b[0m\u001b[1;32m    235\u001b[0m                  \u001b[0mgrads\u001b[0m\u001b[0;34m,\u001b[0m\u001b[0;34m\u001b[0m\u001b[0;34m\u001b[0m\u001b[0m\n\u001b[1;32m    236\u001b[0m                  \u001b[0mexp_avgs\u001b[0m\u001b[0;34m,\u001b[0m\u001b[0;34m\u001b[0m\u001b[0;34m\u001b[0m\u001b[0m\n",
      "\u001b[0;32m~/anaconda3/envs/torch/lib/python3.9/site-packages/torch/optim/adam.py\u001b[0m in \u001b[0;36madam\u001b[0;34m(params, grads, exp_avgs, exp_avg_sqs, max_exp_avg_sqs, state_steps, foreach, capturable, differentiable, fused, grad_scale, found_inf, amsgrad, beta1, beta2, lr, weight_decay, eps, maximize)\u001b[0m\n\u001b[1;32m    298\u001b[0m         \u001b[0mfunc\u001b[0m \u001b[0;34m=\u001b[0m \u001b[0m_single_tensor_adam\u001b[0m\u001b[0;34m\u001b[0m\u001b[0;34m\u001b[0m\u001b[0m\n\u001b[1;32m    299\u001b[0m \u001b[0;34m\u001b[0m\u001b[0m\n\u001b[0;32m--> 300\u001b[0;31m     func(params,\n\u001b[0m\u001b[1;32m    301\u001b[0m          \u001b[0mgrads\u001b[0m\u001b[0;34m,\u001b[0m\u001b[0;34m\u001b[0m\u001b[0;34m\u001b[0m\u001b[0m\n\u001b[1;32m    302\u001b[0m          \u001b[0mexp_avgs\u001b[0m\u001b[0;34m,\u001b[0m\u001b[0;34m\u001b[0m\u001b[0;34m\u001b[0m\u001b[0m\n",
      "\u001b[0;32m~/anaconda3/envs/torch/lib/python3.9/site-packages/torch/optim/adam.py\u001b[0m in \u001b[0;36m_single_tensor_adam\u001b[0;34m(params, grads, exp_avgs, exp_avg_sqs, max_exp_avg_sqs, state_steps, grad_scale, found_inf, amsgrad, beta1, beta2, lr, weight_decay, eps, maximize, capturable, differentiable)\u001b[0m\n\u001b[1;32m    361\u001b[0m \u001b[0;34m\u001b[0m\u001b[0m\n\u001b[1;32m    362\u001b[0m         \u001b[0;31m# Decay the first and second moment running average coefficient\u001b[0m\u001b[0;34m\u001b[0m\u001b[0;34m\u001b[0m\u001b[0m\n\u001b[0;32m--> 363\u001b[0;31m         \u001b[0mexp_avg\u001b[0m\u001b[0;34m.\u001b[0m\u001b[0mmul_\u001b[0m\u001b[0;34m(\u001b[0m\u001b[0mbeta1\u001b[0m\u001b[0;34m)\u001b[0m\u001b[0;34m.\u001b[0m\u001b[0madd_\u001b[0m\u001b[0;34m(\u001b[0m\u001b[0mgrad\u001b[0m\u001b[0;34m,\u001b[0m \u001b[0malpha\u001b[0m\u001b[0;34m=\u001b[0m\u001b[0;36m1\u001b[0m \u001b[0;34m-\u001b[0m \u001b[0mbeta1\u001b[0m\u001b[0;34m)\u001b[0m\u001b[0;34m\u001b[0m\u001b[0;34m\u001b[0m\u001b[0m\n\u001b[0m\u001b[1;32m    364\u001b[0m         \u001b[0mexp_avg_sq\u001b[0m\u001b[0;34m.\u001b[0m\u001b[0mmul_\u001b[0m\u001b[0;34m(\u001b[0m\u001b[0mbeta2\u001b[0m\u001b[0;34m)\u001b[0m\u001b[0;34m.\u001b[0m\u001b[0maddcmul_\u001b[0m\u001b[0;34m(\u001b[0m\u001b[0mgrad\u001b[0m\u001b[0;34m,\u001b[0m \u001b[0mgrad\u001b[0m\u001b[0;34m.\u001b[0m\u001b[0mconj\u001b[0m\u001b[0;34m(\u001b[0m\u001b[0;34m)\u001b[0m\u001b[0;34m,\u001b[0m \u001b[0mvalue\u001b[0m\u001b[0;34m=\u001b[0m\u001b[0;36m1\u001b[0m \u001b[0;34m-\u001b[0m \u001b[0mbeta2\u001b[0m\u001b[0;34m)\u001b[0m\u001b[0;34m\u001b[0m\u001b[0;34m\u001b[0m\u001b[0m\n\u001b[1;32m    365\u001b[0m \u001b[0;34m\u001b[0m\u001b[0m\n",
      "\u001b[0;31mKeyboardInterrupt\u001b[0m: "
     ]
    }
   ],
   "source": [
    "train(cifar_train, model, critiria, cifar_test, n_epochs=100)"
   ]
  },
  {
   "cell_type": "code",
   "execution_count": 22,
   "metadata": {},
   "outputs": [
    {
     "data": {
      "text/plain": [
       "DataParallel(\n",
       "  (module): ResNet18(\n",
       "    (conv1): Sequential(\n",
       "      (0): Conv2d(3, 16, kernel_size=(3, 3), stride=(3, 3))\n",
       "      (1): BatchNorm2d(16, eps=1e-05, momentum=0.1, affine=True, track_running_stats=True)\n",
       "    )\n",
       "    (blk1): ResBlock(\n",
       "      (longcut): Sequential(\n",
       "        (0): Conv2d(16, 32, kernel_size=(3, 3), stride=(1, 1), padding=(1, 1), bias=False)\n",
       "        (1): BatchNorm2d(32, eps=1e-05, momentum=0.1, affine=True, track_running_stats=True)\n",
       "        (2): ReLU(inplace=True)\n",
       "        (3): Conv2d(32, 32, kernel_size=(3, 3), stride=(1, 1), padding=(1, 1), bias=False)\n",
       "        (4): BatchNorm2d(32, eps=1e-05, momentum=0.1, affine=True, track_running_stats=True)\n",
       "      )\n",
       "      (shortcut): Sequential(\n",
       "        (0): Conv2d(16, 32, kernel_size=(1, 1), stride=(1, 1), bias=False)\n",
       "        (1): BatchNorm2d(32, eps=1e-05, momentum=0.1, affine=True, track_running_stats=True)\n",
       "      )\n",
       "    )\n",
       "    (blk2): ResBlock(\n",
       "      (longcut): Sequential(\n",
       "        (0): Conv2d(32, 64, kernel_size=(3, 3), stride=(1, 1), padding=(1, 1), bias=False)\n",
       "        (1): BatchNorm2d(64, eps=1e-05, momentum=0.1, affine=True, track_running_stats=True)\n",
       "        (2): ReLU(inplace=True)\n",
       "        (3): Conv2d(64, 64, kernel_size=(3, 3), stride=(1, 1), padding=(1, 1), bias=False)\n",
       "        (4): BatchNorm2d(64, eps=1e-05, momentum=0.1, affine=True, track_running_stats=True)\n",
       "      )\n",
       "      (shortcut): Sequential(\n",
       "        (0): Conv2d(32, 64, kernel_size=(1, 1), stride=(1, 1), bias=False)\n",
       "        (1): BatchNorm2d(64, eps=1e-05, momentum=0.1, affine=True, track_running_stats=True)\n",
       "      )\n",
       "    )\n",
       "    (blk3): ResBlock(\n",
       "      (longcut): Sequential(\n",
       "        (0): Conv2d(64, 128, kernel_size=(3, 3), stride=(1, 1), padding=(1, 1), bias=False)\n",
       "        (1): BatchNorm2d(128, eps=1e-05, momentum=0.1, affine=True, track_running_stats=True)\n",
       "        (2): ReLU(inplace=True)\n",
       "        (3): Conv2d(128, 128, kernel_size=(3, 3), stride=(1, 1), padding=(1, 1), bias=False)\n",
       "        (4): BatchNorm2d(128, eps=1e-05, momentum=0.1, affine=True, track_running_stats=True)\n",
       "      )\n",
       "      (shortcut): Sequential(\n",
       "        (0): Conv2d(64, 128, kernel_size=(1, 1), stride=(1, 1), bias=False)\n",
       "        (1): BatchNorm2d(128, eps=1e-05, momentum=0.1, affine=True, track_running_stats=True)\n",
       "      )\n",
       "    )\n",
       "    (blk4): ResBlock(\n",
       "      (longcut): Sequential(\n",
       "        (0): Conv2d(128, 256, kernel_size=(3, 3), stride=(1, 1), padding=(1, 1), bias=False)\n",
       "        (1): BatchNorm2d(256, eps=1e-05, momentum=0.1, affine=True, track_running_stats=True)\n",
       "        (2): ReLU(inplace=True)\n",
       "        (3): Conv2d(256, 256, kernel_size=(3, 3), stride=(1, 1), padding=(1, 1), bias=False)\n",
       "        (4): BatchNorm2d(256, eps=1e-05, momentum=0.1, affine=True, track_running_stats=True)\n",
       "      )\n",
       "      (shortcut): Sequential(\n",
       "        (0): Conv2d(128, 256, kernel_size=(1, 1), stride=(1, 1), bias=False)\n",
       "        (1): BatchNorm2d(256, eps=1e-05, momentum=0.1, affine=True, track_running_stats=True)\n",
       "      )\n",
       "    )\n",
       "    (outlayer): Linear(in_features=25600, out_features=10, bias=True)\n",
       "  )\n",
       ")"
      ]
     },
     "execution_count": 22,
     "metadata": {},
     "output_type": "execute_result"
    }
   ],
   "source": [
    "model.load_state_dict(torch.load('checkpoints/cifar_resnet_epoch15_step644.pth'))\n",
    "model.eval()"
   ]
  },
  {
   "cell_type": "code",
   "execution_count": 25,
   "metadata": {},
   "outputs": [
    {
     "data": {
      "text/plain": [
       "(tensor(1.4187, device='cuda:0', grad_fn=<DivBackward0>),\n",
       " tensor(0.7109, device='cuda:0'))"
      ]
     },
     "execution_count": 25,
     "metadata": {},
     "output_type": "execute_result"
    }
   ],
   "source": [
    "testLoss, testAccuracy = test(cifar_test, model, critiria)\n",
    "testLoss, testAccuracy"
   ]
  },
  {
   "cell_type": "code",
   "execution_count": 5,
   "metadata": {},
   "outputs": [
    {
     "name": "stderr",
     "output_type": "stream",
     "text": [
      "/home/yecm/anaconda3/envs/torch/lib/python3.9/site-packages/torchvision/models/_utils.py:208: UserWarning: The parameter 'pretrained' is deprecated since 0.13 and may be removed in the future, please use 'weights' instead.\n",
      "  warnings.warn(\n",
      "/home/yecm/anaconda3/envs/torch/lib/python3.9/site-packages/torchvision/models/_utils.py:223: UserWarning: Arguments other than a weight enum or `None` for 'weights' are deprecated since 0.13 and may be removed in the future. The current behavior is equivalent to passing `weights=ResNet50_Weights.IMAGENET1K_V1`. You can also use `weights=ResNet50_Weights.DEFAULT` to get the most up-to-date weights.\n",
      "  warnings.warn(msg)\n"
     ]
    },
    {
     "name": "stdout",
     "output_type": "stream",
     "text": [
      "ResNet(\n",
      "  (conv1): Conv2d(3, 64, kernel_size=(7, 7), stride=(2, 2), padding=(3, 3), bias=False)\n",
      "  (bn1): BatchNorm2d(64, eps=1e-05, momentum=0.1, affine=True, track_running_stats=True)\n",
      "  (relu): ReLU(inplace=True)\n",
      "  (maxpool): MaxPool2d(kernel_size=3, stride=2, padding=1, dilation=1, ceil_mode=False)\n",
      "  (layer1): Sequential(\n",
      "    (0): Bottleneck(\n",
      "      (conv1): Conv2d(64, 64, kernel_size=(1, 1), stride=(1, 1), bias=False)\n",
      "      (bn1): BatchNorm2d(64, eps=1e-05, momentum=0.1, affine=True, track_running_stats=True)\n",
      "      (conv2): Conv2d(64, 64, kernel_size=(3, 3), stride=(1, 1), padding=(1, 1), bias=False)\n",
      "      (bn2): BatchNorm2d(64, eps=1e-05, momentum=0.1, affine=True, track_running_stats=True)\n",
      "      (conv3): Conv2d(64, 256, kernel_size=(1, 1), stride=(1, 1), bias=False)\n",
      "      (bn3): BatchNorm2d(256, eps=1e-05, momentum=0.1, affine=True, track_running_stats=True)\n",
      "      (relu): ReLU(inplace=True)\n",
      "      (downsample): Sequential(\n",
      "        (0): Conv2d(64, 256, kernel_size=(1, 1), stride=(1, 1), bias=False)\n",
      "        (1): BatchNorm2d(256, eps=1e-05, momentum=0.1, affine=True, track_running_stats=True)\n",
      "      )\n",
      "    )\n",
      "    (1): Bottleneck(\n",
      "      (conv1): Conv2d(256, 64, kernel_size=(1, 1), stride=(1, 1), bias=False)\n",
      "      (bn1): BatchNorm2d(64, eps=1e-05, momentum=0.1, affine=True, track_running_stats=True)\n",
      "      (conv2): Conv2d(64, 64, kernel_size=(3, 3), stride=(1, 1), padding=(1, 1), bias=False)\n",
      "      (bn2): BatchNorm2d(64, eps=1e-05, momentum=0.1, affine=True, track_running_stats=True)\n",
      "      (conv3): Conv2d(64, 256, kernel_size=(1, 1), stride=(1, 1), bias=False)\n",
      "      (bn3): BatchNorm2d(256, eps=1e-05, momentum=0.1, affine=True, track_running_stats=True)\n",
      "      (relu): ReLU(inplace=True)\n",
      "    )\n",
      "    (2): Bottleneck(\n",
      "      (conv1): Conv2d(256, 64, kernel_size=(1, 1), stride=(1, 1), bias=False)\n",
      "      (bn1): BatchNorm2d(64, eps=1e-05, momentum=0.1, affine=True, track_running_stats=True)\n",
      "      (conv2): Conv2d(64, 64, kernel_size=(3, 3), stride=(1, 1), padding=(1, 1), bias=False)\n",
      "      (bn2): BatchNorm2d(64, eps=1e-05, momentum=0.1, affine=True, track_running_stats=True)\n",
      "      (conv3): Conv2d(64, 256, kernel_size=(1, 1), stride=(1, 1), bias=False)\n",
      "      (bn3): BatchNorm2d(256, eps=1e-05, momentum=0.1, affine=True, track_running_stats=True)\n",
      "      (relu): ReLU(inplace=True)\n",
      "    )\n",
      "  )\n",
      "  (layer2): Sequential(\n",
      "    (0): Bottleneck(\n",
      "      (conv1): Conv2d(256, 128, kernel_size=(1, 1), stride=(1, 1), bias=False)\n",
      "      (bn1): BatchNorm2d(128, eps=1e-05, momentum=0.1, affine=True, track_running_stats=True)\n",
      "      (conv2): Conv2d(128, 128, kernel_size=(3, 3), stride=(2, 2), padding=(1, 1), bias=False)\n",
      "      (bn2): BatchNorm2d(128, eps=1e-05, momentum=0.1, affine=True, track_running_stats=True)\n",
      "      (conv3): Conv2d(128, 512, kernel_size=(1, 1), stride=(1, 1), bias=False)\n",
      "      (bn3): BatchNorm2d(512, eps=1e-05, momentum=0.1, affine=True, track_running_stats=True)\n",
      "      (relu): ReLU(inplace=True)\n",
      "      (downsample): Sequential(\n",
      "        (0): Conv2d(256, 512, kernel_size=(1, 1), stride=(2, 2), bias=False)\n",
      "        (1): BatchNorm2d(512, eps=1e-05, momentum=0.1, affine=True, track_running_stats=True)\n",
      "      )\n",
      "    )\n",
      "    (1): Bottleneck(\n",
      "      (conv1): Conv2d(512, 128, kernel_size=(1, 1), stride=(1, 1), bias=False)\n",
      "      (bn1): BatchNorm2d(128, eps=1e-05, momentum=0.1, affine=True, track_running_stats=True)\n",
      "      (conv2): Conv2d(128, 128, kernel_size=(3, 3), stride=(1, 1), padding=(1, 1), bias=False)\n",
      "      (bn2): BatchNorm2d(128, eps=1e-05, momentum=0.1, affine=True, track_running_stats=True)\n",
      "      (conv3): Conv2d(128, 512, kernel_size=(1, 1), stride=(1, 1), bias=False)\n",
      "      (bn3): BatchNorm2d(512, eps=1e-05, momentum=0.1, affine=True, track_running_stats=True)\n",
      "      (relu): ReLU(inplace=True)\n",
      "    )\n",
      "    (2): Bottleneck(\n",
      "      (conv1): Conv2d(512, 128, kernel_size=(1, 1), stride=(1, 1), bias=False)\n",
      "      (bn1): BatchNorm2d(128, eps=1e-05, momentum=0.1, affine=True, track_running_stats=True)\n",
      "      (conv2): Conv2d(128, 128, kernel_size=(3, 3), stride=(1, 1), padding=(1, 1), bias=False)\n",
      "      (bn2): BatchNorm2d(128, eps=1e-05, momentum=0.1, affine=True, track_running_stats=True)\n",
      "      (conv3): Conv2d(128, 512, kernel_size=(1, 1), stride=(1, 1), bias=False)\n",
      "      (bn3): BatchNorm2d(512, eps=1e-05, momentum=0.1, affine=True, track_running_stats=True)\n",
      "      (relu): ReLU(inplace=True)\n",
      "    )\n",
      "    (3): Bottleneck(\n",
      "      (conv1): Conv2d(512, 128, kernel_size=(1, 1), stride=(1, 1), bias=False)\n",
      "      (bn1): BatchNorm2d(128, eps=1e-05, momentum=0.1, affine=True, track_running_stats=True)\n",
      "      (conv2): Conv2d(128, 128, kernel_size=(3, 3), stride=(1, 1), padding=(1, 1), bias=False)\n",
      "      (bn2): BatchNorm2d(128, eps=1e-05, momentum=0.1, affine=True, track_running_stats=True)\n",
      "      (conv3): Conv2d(128, 512, kernel_size=(1, 1), stride=(1, 1), bias=False)\n",
      "      (bn3): BatchNorm2d(512, eps=1e-05, momentum=0.1, affine=True, track_running_stats=True)\n",
      "      (relu): ReLU(inplace=True)\n",
      "    )\n",
      "  )\n",
      "  (layer3): Sequential(\n",
      "    (0): Bottleneck(\n",
      "      (conv1): Conv2d(512, 256, kernel_size=(1, 1), stride=(1, 1), bias=False)\n",
      "      (bn1): BatchNorm2d(256, eps=1e-05, momentum=0.1, affine=True, track_running_stats=True)\n",
      "      (conv2): Conv2d(256, 256, kernel_size=(3, 3), stride=(2, 2), padding=(1, 1), bias=False)\n",
      "      (bn2): BatchNorm2d(256, eps=1e-05, momentum=0.1, affine=True, track_running_stats=True)\n",
      "      (conv3): Conv2d(256, 1024, kernel_size=(1, 1), stride=(1, 1), bias=False)\n",
      "      (bn3): BatchNorm2d(1024, eps=1e-05, momentum=0.1, affine=True, track_running_stats=True)\n",
      "      (relu): ReLU(inplace=True)\n",
      "      (downsample): Sequential(\n",
      "        (0): Conv2d(512, 1024, kernel_size=(1, 1), stride=(2, 2), bias=False)\n",
      "        (1): BatchNorm2d(1024, eps=1e-05, momentum=0.1, affine=True, track_running_stats=True)\n",
      "      )\n",
      "    )\n",
      "    (1): Bottleneck(\n",
      "      (conv1): Conv2d(1024, 256, kernel_size=(1, 1), stride=(1, 1), bias=False)\n",
      "      (bn1): BatchNorm2d(256, eps=1e-05, momentum=0.1, affine=True, track_running_stats=True)\n",
      "      (conv2): Conv2d(256, 256, kernel_size=(3, 3), stride=(1, 1), padding=(1, 1), bias=False)\n",
      "      (bn2): BatchNorm2d(256, eps=1e-05, momentum=0.1, affine=True, track_running_stats=True)\n",
      "      (conv3): Conv2d(256, 1024, kernel_size=(1, 1), stride=(1, 1), bias=False)\n",
      "      (bn3): BatchNorm2d(1024, eps=1e-05, momentum=0.1, affine=True, track_running_stats=True)\n",
      "      (relu): ReLU(inplace=True)\n",
      "    )\n",
      "    (2): Bottleneck(\n",
      "      (conv1): Conv2d(1024, 256, kernel_size=(1, 1), stride=(1, 1), bias=False)\n",
      "      (bn1): BatchNorm2d(256, eps=1e-05, momentum=0.1, affine=True, track_running_stats=True)\n",
      "      (conv2): Conv2d(256, 256, kernel_size=(3, 3), stride=(1, 1), padding=(1, 1), bias=False)\n",
      "      (bn2): BatchNorm2d(256, eps=1e-05, momentum=0.1, affine=True, track_running_stats=True)\n",
      "      (conv3): Conv2d(256, 1024, kernel_size=(1, 1), stride=(1, 1), bias=False)\n",
      "      (bn3): BatchNorm2d(1024, eps=1e-05, momentum=0.1, affine=True, track_running_stats=True)\n",
      "      (relu): ReLU(inplace=True)\n",
      "    )\n",
      "    (3): Bottleneck(\n",
      "      (conv1): Conv2d(1024, 256, kernel_size=(1, 1), stride=(1, 1), bias=False)\n",
      "      (bn1): BatchNorm2d(256, eps=1e-05, momentum=0.1, affine=True, track_running_stats=True)\n",
      "      (conv2): Conv2d(256, 256, kernel_size=(3, 3), stride=(1, 1), padding=(1, 1), bias=False)\n",
      "      (bn2): BatchNorm2d(256, eps=1e-05, momentum=0.1, affine=True, track_running_stats=True)\n",
      "      (conv3): Conv2d(256, 1024, kernel_size=(1, 1), stride=(1, 1), bias=False)\n",
      "      (bn3): BatchNorm2d(1024, eps=1e-05, momentum=0.1, affine=True, track_running_stats=True)\n",
      "      (relu): ReLU(inplace=True)\n",
      "    )\n",
      "    (4): Bottleneck(\n",
      "      (conv1): Conv2d(1024, 256, kernel_size=(1, 1), stride=(1, 1), bias=False)\n",
      "      (bn1): BatchNorm2d(256, eps=1e-05, momentum=0.1, affine=True, track_running_stats=True)\n",
      "      (conv2): Conv2d(256, 256, kernel_size=(3, 3), stride=(1, 1), padding=(1, 1), bias=False)\n",
      "      (bn2): BatchNorm2d(256, eps=1e-05, momentum=0.1, affine=True, track_running_stats=True)\n",
      "      (conv3): Conv2d(256, 1024, kernel_size=(1, 1), stride=(1, 1), bias=False)\n",
      "      (bn3): BatchNorm2d(1024, eps=1e-05, momentum=0.1, affine=True, track_running_stats=True)\n",
      "      (relu): ReLU(inplace=True)\n",
      "    )\n",
      "    (5): Bottleneck(\n",
      "      (conv1): Conv2d(1024, 256, kernel_size=(1, 1), stride=(1, 1), bias=False)\n",
      "      (bn1): BatchNorm2d(256, eps=1e-05, momentum=0.1, affine=True, track_running_stats=True)\n",
      "      (conv2): Conv2d(256, 256, kernel_size=(3, 3), stride=(1, 1), padding=(1, 1), bias=False)\n",
      "      (bn2): BatchNorm2d(256, eps=1e-05, momentum=0.1, affine=True, track_running_stats=True)\n",
      "      (conv3): Conv2d(256, 1024, kernel_size=(1, 1), stride=(1, 1), bias=False)\n",
      "      (bn3): BatchNorm2d(1024, eps=1e-05, momentum=0.1, affine=True, track_running_stats=True)\n",
      "      (relu): ReLU(inplace=True)\n",
      "    )\n",
      "  )\n",
      "  (layer4): Sequential(\n",
      "    (0): Bottleneck(\n",
      "      (conv1): Conv2d(1024, 512, kernel_size=(1, 1), stride=(1, 1), bias=False)\n",
      "      (bn1): BatchNorm2d(512, eps=1e-05, momentum=0.1, affine=True, track_running_stats=True)\n",
      "      (conv2): Conv2d(512, 512, kernel_size=(3, 3), stride=(2, 2), padding=(1, 1), bias=False)\n",
      "      (bn2): BatchNorm2d(512, eps=1e-05, momentum=0.1, affine=True, track_running_stats=True)\n",
      "      (conv3): Conv2d(512, 2048, kernel_size=(1, 1), stride=(1, 1), bias=False)\n",
      "      (bn3): BatchNorm2d(2048, eps=1e-05, momentum=0.1, affine=True, track_running_stats=True)\n",
      "      (relu): ReLU(inplace=True)\n",
      "      (downsample): Sequential(\n",
      "        (0): Conv2d(1024, 2048, kernel_size=(1, 1), stride=(2, 2), bias=False)\n",
      "        (1): BatchNorm2d(2048, eps=1e-05, momentum=0.1, affine=True, track_running_stats=True)\n",
      "      )\n",
      "    )\n",
      "    (1): Bottleneck(\n",
      "      (conv1): Conv2d(2048, 512, kernel_size=(1, 1), stride=(1, 1), bias=False)\n",
      "      (bn1): BatchNorm2d(512, eps=1e-05, momentum=0.1, affine=True, track_running_stats=True)\n",
      "      (conv2): Conv2d(512, 512, kernel_size=(3, 3), stride=(1, 1), padding=(1, 1), bias=False)\n",
      "      (bn2): BatchNorm2d(512, eps=1e-05, momentum=0.1, affine=True, track_running_stats=True)\n",
      "      (conv3): Conv2d(512, 2048, kernel_size=(1, 1), stride=(1, 1), bias=False)\n",
      "      (bn3): BatchNorm2d(2048, eps=1e-05, momentum=0.1, affine=True, track_running_stats=True)\n",
      "      (relu): ReLU(inplace=True)\n",
      "    )\n",
      "    (2): Bottleneck(\n",
      "      (conv1): Conv2d(2048, 512, kernel_size=(1, 1), stride=(1, 1), bias=False)\n",
      "      (bn1): BatchNorm2d(512, eps=1e-05, momentum=0.1, affine=True, track_running_stats=True)\n",
      "      (conv2): Conv2d(512, 512, kernel_size=(3, 3), stride=(1, 1), padding=(1, 1), bias=False)\n",
      "      (bn2): BatchNorm2d(512, eps=1e-05, momentum=0.1, affine=True, track_running_stats=True)\n",
      "      (conv3): Conv2d(512, 2048, kernel_size=(1, 1), stride=(1, 1), bias=False)\n",
      "      (bn3): BatchNorm2d(2048, eps=1e-05, momentum=0.1, affine=True, track_running_stats=True)\n",
      "      (relu): ReLU(inplace=True)\n",
      "    )\n",
      "  )\n",
      "  (avgpool): AdaptiveAvgPool2d(output_size=(1, 1))\n",
      "  (fc): Linear(in_features=2048, out_features=1000, bias=True)\n",
      ")\n"
     ]
    }
   ],
   "source": [
    "# 下面我们使用预训练模型迁移学习改善模型性能。(开始认真了)\n",
    "import torchvision\n",
    "resnet50 = torchvision.models.resnet50(pretrained=True)  # 迁移\n",
    "# torch.hub.load('pytorch/vision:v0.10.0', 'resnet50', pretrained=True), # 这个写法也可以\n",
    "print (resnet50)\n",
    "ct = 0\n",
    "for child in resnet50.children():\n",
    "    ct += 1 \n",
    "    if ct < 7: # 7层之前的参数不更新\n",
    "        for param in child.parameters():\n",
    "            param.requires_grad = False "
   ]
  },
  {
   "cell_type": "code",
   "execution_count": 6,
   "metadata": {},
   "outputs": [
    {
     "data": {
      "text/plain": [
       "tensor([[-0.5550,  0.1852, -0.6067,  0.0385, -0.3560, -0.3037, -0.1462,  0.8689,\n",
       "          0.6516, -1.0485],\n",
       "        [ 0.7036, -0.8121,  0.2934,  0.2600,  0.9181, -0.2980,  0.2794, -0.4236,\n",
       "          0.2129,  0.3143]], grad_fn=<AddmmBackward0>)"
      ]
     },
     "execution_count": 6,
     "metadata": {},
     "output_type": "execute_result"
    }
   ],
   "source": [
    "from torch import nn\n",
    "model = nn.Sequential(\n",
    "    resnet50,\n",
    "    nn.Linear(1000,10),\n",
    ")\n",
    "list(model.parameters())[-2].requires_grad\n",
    "list(model.parameters())[0].requires_grad\n",
    "model(torch.randn(2,3,32,32))"
   ]
  },
  {
   "cell_type": "code",
   "execution_count": 11,
   "metadata": {},
   "outputs": [],
   "source": [
    "import my_apis\n",
    "from torch import optim\n",
    "model = my_apis.prepare(model)\n",
    "critiria = nn.CrossEntropyLoss()\n",
    "optimizer = optim.Adam(filter(lambda p: p.requires_grad, model.parameters()),lr=1e-3)"
   ]
  },
  {
   "cell_type": "code",
   "execution_count": 28,
   "metadata": {},
   "outputs": [
    {
     "name": "stderr",
     "output_type": "stream",
     "text": [
      "  0%|          | 0/1563 [00:00<?, ?step/s]\r[1/100] Loss: 3.4444, Acc: 0.0625:   0%|          | 0/1563 [00:09<?, ?step/s]\r[1/100] Loss: 3.4444, Acc: 0.0625:   0%|          | 0/1563 [00:09<?, ?step/s]\n"
     ]
    },
    {
     "name": "stdout",
     "output_type": "stream",
     "text": [
      "训练已经中断\n"
     ]
    },
    {
     "name": "stderr",
     "output_type": "stream",
     "text": [
      "  0%|          | 0/1563 [00:00<?, ?step/s]\r[2/100] Loss: 1.3053, Acc: 0.5938:   0%|          | 0/1563 [00:01<?, ?step/s]\r[2/100] Loss: 1.3053, Acc: 0.5938:   0%|          | 0/1563 [00:01<?, ?step/s]\n"
     ]
    },
    {
     "name": "stdout",
     "output_type": "stream",
     "text": [
      "训练已经中断\n"
     ]
    },
    {
     "name": "stderr",
     "output_type": "stream",
     "text": [
      "  0%|          | 0/1563 [00:00<?, ?step/s]\r[3/100] Loss: 1.1674, Acc: 0.5625:   0%|          | 0/1563 [00:00<?, ?step/s]\r[3/100] Loss: 1.1674, Acc: 0.5625:   0%|          | 0/1563 [00:00<?, ?step/s]\n"
     ]
    },
    {
     "name": "stdout",
     "output_type": "stream",
     "text": [
      "训练已经中断\n"
     ]
    },
    {
     "name": "stderr",
     "output_type": "stream",
     "text": [
      "  0%|          | 0/1563 [00:00<?, ?step/s]\r[4/100] Loss: 0.5560, Acc: 0.7500:   0%|          | 0/1563 [00:00<?, ?step/s]\r[4/100] Loss: 0.5560, Acc: 0.7500:   0%|          | 0/1563 [00:00<?, ?step/s]\n"
     ]
    },
    {
     "name": "stdout",
     "output_type": "stream",
     "text": [
      "训练已经中断\n"
     ]
    },
    {
     "name": "stderr",
     "output_type": "stream",
     "text": [
      "  0%|          | 0/1563 [00:00<?, ?step/s]\r[5/100] Loss: 0.5250, Acc: 0.8438:   0%|          | 0/1563 [00:00<?, ?step/s]\r[5/100] Loss: 0.5250, Acc: 0.8438:   0%|          | 0/1563 [00:00<?, ?step/s]\n"
     ]
    },
    {
     "name": "stdout",
     "output_type": "stream",
     "text": [
      "训练已经中断\n"
     ]
    },
    {
     "name": "stderr",
     "output_type": "stream",
     "text": [
      "  0%|          | 0/1563 [00:00<?, ?step/s]\r[6/100] Loss: 0.5503, Acc: 0.8750:   0%|          | 0/1563 [00:00<?, ?step/s]\r[6/100] Loss: 0.5503, Acc: 0.8750:   0%|          | 0/1563 [00:00<?, ?step/s]\n"
     ]
    },
    {
     "name": "stdout",
     "output_type": "stream",
     "text": [
      "训练已经中断\n"
     ]
    },
    {
     "name": "stderr",
     "output_type": "stream",
     "text": [
      "  0%|          | 0/1563 [00:00<?, ?step/s]\r[7/100] Loss: 0.6011, Acc: 0.7812:   0%|          | 0/1563 [00:00<?, ?step/s]\r[7/100] Loss: 0.6011, Acc: 0.7812:   0%|          | 0/1563 [00:00<?, ?step/s]\n"
     ]
    },
    {
     "name": "stdout",
     "output_type": "stream",
     "text": [
      "训练已经中断\n"
     ]
    },
    {
     "name": "stderr",
     "output_type": "stream",
     "text": [
      "  0%|          | 0/1563 [00:00<?, ?step/s]\r[8/100] Loss: 0.2838, Acc: 0.9062:   0%|          | 0/1563 [00:00<?, ?step/s]\r[8/100] Loss: 0.2838, Acc: 0.9062:   0%|          | 0/1563 [00:00<?, ?step/s]\n"
     ]
    },
    {
     "name": "stdout",
     "output_type": "stream",
     "text": [
      "训练已经中断\n"
     ]
    },
    {
     "name": "stderr",
     "output_type": "stream",
     "text": [
      "  0%|          | 0/1563 [00:00<?, ?step/s]\r[9/100] Loss: 0.3484, Acc: 0.9062:   0%|          | 0/1563 [00:00<?, ?step/s]\r[9/100] Loss: 0.3484, Acc: 0.9062:   0%|          | 0/1563 [00:00<?, ?step/s]\n"
     ]
    },
    {
     "name": "stdout",
     "output_type": "stream",
     "text": [
      "训练已经中断\n"
     ]
    },
    {
     "name": "stderr",
     "output_type": "stream",
     "text": [
      "  0%|          | 0/1563 [00:00<?, ?step/s]\r[10/100] Loss: 0.6193, Acc: 0.7500:   0%|          | 0/1563 [00:00<?, ?step/s]\r[10/100] Loss: 0.6193, Acc: 0.7500:   0%|          | 0/1563 [00:00<?, ?step/s]\n"
     ]
    },
    {
     "name": "stdout",
     "output_type": "stream",
     "text": [
      "训练已经中断\n"
     ]
    },
    {
     "name": "stderr",
     "output_type": "stream",
     "text": [
      "  0%|          | 0/1563 [00:00<?, ?step/s]\r[11/100] Loss: 0.1659, Acc: 0.9375:   0%|          | 0/1563 [00:00<?, ?step/s]\r[11/100] Loss: 0.1659, Acc: 0.9375:   0%|          | 0/1563 [00:00<?, ?step/s]\n"
     ]
    },
    {
     "name": "stdout",
     "output_type": "stream",
     "text": [
      "训练已经中断\n"
     ]
    },
    {
     "name": "stderr",
     "output_type": "stream",
     "text": [
      "  0%|          | 0/1563 [00:00<?, ?step/s]\r[12/100] Loss: 0.5601, Acc: 0.8125:   0%|          | 0/1563 [00:00<?, ?step/s]\r[12/100] Loss: 0.5601, Acc: 0.8125:   0%|          | 0/1563 [00:00<?, ?step/s]\n"
     ]
    },
    {
     "name": "stdout",
     "output_type": "stream",
     "text": [
      "训练已经中断\n"
     ]
    },
    {
     "name": "stderr",
     "output_type": "stream",
     "text": [
      "  0%|          | 0/1563 [00:00<?, ?step/s]\r[13/100] Loss: 0.1252, Acc: 0.9688:   0%|          | 0/1563 [00:00<?, ?step/s]\r[13/100] Loss: 0.1252, Acc: 0.9688:   0%|          | 0/1563 [00:00<?, ?step/s]\n"
     ]
    },
    {
     "name": "stdout",
     "output_type": "stream",
     "text": [
      "训练已经中断\n"
     ]
    },
    {
     "name": "stderr",
     "output_type": "stream",
     "text": [
      "  0%|          | 0/1563 [00:00<?, ?step/s]\r[14/100] Loss: 0.2830, Acc: 0.8750:   0%|          | 0/1563 [00:00<?, ?step/s]\r[14/100] Loss: 0.2830, Acc: 0.8750:   0%|          | 0/1563 [00:00<?, ?step/s]\n"
     ]
    },
    {
     "name": "stdout",
     "output_type": "stream",
     "text": [
      "训练已经中断\n"
     ]
    },
    {
     "ename": "KeyboardInterrupt",
     "evalue": "",
     "output_type": "error",
     "traceback": [
      "\u001b[0;31m---------------------------------------------------------------------------\u001b[0m",
      "\u001b[0;31mKeyboardInterrupt\u001b[0m                         Traceback (most recent call last)",
      "\u001b[0;32m/tmp/ipykernel_38120/987434378.py\u001b[0m in \u001b[0;36m<module>\u001b[0;34m\u001b[0m\n\u001b[0;32m----> 1\u001b[0;31m \u001b[0mmy_apis\u001b[0m\u001b[0;34m.\u001b[0m\u001b[0mtrain\u001b[0m\u001b[0;34m(\u001b[0m\u001b[0mcifar_train\u001b[0m\u001b[0;34m,\u001b[0m \u001b[0mmodel\u001b[0m\u001b[0;34m,\u001b[0m \u001b[0mcritiria\u001b[0m\u001b[0;34m,\u001b[0m \u001b[0moptimizer\u001b[0m\u001b[0;34m,\u001b[0m \u001b[0mcifar_test\u001b[0m\u001b[0;34m,\u001b[0m \u001b[0mn_epochs\u001b[0m\u001b[0;34m=\u001b[0m\u001b[0;36m100\u001b[0m\u001b[0;34m)\u001b[0m\u001b[0;34m\u001b[0m\u001b[0;34m\u001b[0m\u001b[0m\n\u001b[0m",
      "\u001b[0;32m~/yecanming/repo/SUSTech-Machine-Learning-Lab-Solutions/Solutions/Lab8.Convolutional Neural Network/my_apis.py\u001b[0m in \u001b[0;36mtrain\u001b[0;34m(train_loader, net, critiria, optimizer, test_loader, n_epochs)\u001b[0m\n\u001b[1;32m     63\u001b[0m \u001b[0;34m\u001b[0m\u001b[0m\n\u001b[1;32m     64\u001b[0m                 \u001b[0;31m#进行反向传播求出模型参数的梯度\u001b[0m\u001b[0;34m\u001b[0m\u001b[0;34m\u001b[0m\u001b[0m\n\u001b[0;32m---> 65\u001b[0;31m                 \u001b[0mloss\u001b[0m\u001b[0;34m.\u001b[0m\u001b[0mbackward\u001b[0m\u001b[0;34m(\u001b[0m\u001b[0;34m)\u001b[0m\u001b[0;34m\u001b[0m\u001b[0;34m\u001b[0m\u001b[0m\n\u001b[0m\u001b[1;32m     66\u001b[0m                 \u001b[0;31m#使用迭代器更新模型权重\u001b[0m\u001b[0;34m\u001b[0m\u001b[0;34m\u001b[0m\u001b[0m\n\u001b[1;32m     67\u001b[0m                 \u001b[0moptimizer\u001b[0m\u001b[0;34m.\u001b[0m\u001b[0mstep\u001b[0m\u001b[0;34m(\u001b[0m\u001b[0;34m)\u001b[0m\u001b[0;34m\u001b[0m\u001b[0;34m\u001b[0m\u001b[0m\n",
      "\u001b[0;32m~/anaconda3/envs/torch/lib/python3.9/site-packages/torch/_tensor.py\u001b[0m in \u001b[0;36mbackward\u001b[0;34m(self, gradient, retain_graph, create_graph, inputs)\u001b[0m\n\u001b[1;32m    485\u001b[0m                 \u001b[0minputs\u001b[0m\u001b[0;34m=\u001b[0m\u001b[0minputs\u001b[0m\u001b[0;34m,\u001b[0m\u001b[0;34m\u001b[0m\u001b[0;34m\u001b[0m\u001b[0m\n\u001b[1;32m    486\u001b[0m             )\n\u001b[0;32m--> 487\u001b[0;31m         torch.autograd.backward(\n\u001b[0m\u001b[1;32m    488\u001b[0m             \u001b[0mself\u001b[0m\u001b[0;34m,\u001b[0m \u001b[0mgradient\u001b[0m\u001b[0;34m,\u001b[0m \u001b[0mretain_graph\u001b[0m\u001b[0;34m,\u001b[0m \u001b[0mcreate_graph\u001b[0m\u001b[0;34m,\u001b[0m \u001b[0minputs\u001b[0m\u001b[0;34m=\u001b[0m\u001b[0minputs\u001b[0m\u001b[0;34m\u001b[0m\u001b[0;34m\u001b[0m\u001b[0m\n\u001b[1;32m    489\u001b[0m         )\n",
      "\u001b[0;32m~/anaconda3/envs/torch/lib/python3.9/site-packages/torch/autograd/__init__.py\u001b[0m in \u001b[0;36mbackward\u001b[0;34m(tensors, grad_tensors, retain_graph, create_graph, grad_variables, inputs)\u001b[0m\n\u001b[1;32m    195\u001b[0m     \u001b[0;31m# some Python versions print out the first line of a multi-line function\u001b[0m\u001b[0;34m\u001b[0m\u001b[0;34m\u001b[0m\u001b[0m\n\u001b[1;32m    196\u001b[0m     \u001b[0;31m# calls in the traceback and some print out the last line\u001b[0m\u001b[0;34m\u001b[0m\u001b[0;34m\u001b[0m\u001b[0m\n\u001b[0;32m--> 197\u001b[0;31m     Variable._execution_engine.run_backward(  # Calls into the C++ engine to run the backward pass\n\u001b[0m\u001b[1;32m    198\u001b[0m         \u001b[0mtensors\u001b[0m\u001b[0;34m,\u001b[0m \u001b[0mgrad_tensors_\u001b[0m\u001b[0;34m,\u001b[0m \u001b[0mretain_graph\u001b[0m\u001b[0;34m,\u001b[0m \u001b[0mcreate_graph\u001b[0m\u001b[0;34m,\u001b[0m \u001b[0minputs\u001b[0m\u001b[0;34m,\u001b[0m\u001b[0;34m\u001b[0m\u001b[0;34m\u001b[0m\u001b[0m\n\u001b[1;32m    199\u001b[0m         allow_unreachable=True, accumulate_grad=True)  # Calls into the C++ engine to run the backward pass\n",
      "\u001b[0;31mKeyboardInterrupt\u001b[0m: "
     ]
    }
   ],
   "source": [
    "my_apis.train(cifar_train, model, critiria, optimizer, cifar_test, n_epochs=100)"
   ]
  },
  {
   "cell_type": "code",
   "execution_count": 7,
   "metadata": {},
   "outputs": [
    {
     "data": {
      "text/plain": [
       "<All keys matched successfully>"
      ]
     },
     "execution_count": 7,
     "metadata": {},
     "output_type": "execute_result"
    }
   ],
   "source": [
    "# 可以看到13轮结果很好，14轮就开始过拟合了，所以我们可以恢复13轮的模型\n",
    "model.load_state_dict(torch.load('checkpoints/cifar_resnet_epoch13_step1562.pth'))"
   ]
  },
  {
   "cell_type": "code",
   "execution_count": 12,
   "metadata": {},
   "outputs": [
    {
     "data": {
      "text/plain": [
       "<All keys matched successfully>"
      ]
     },
     "execution_count": 12,
     "metadata": {},
     "output_type": "execute_result"
    }
   ],
   "source": [
    "model = nn.Sequential(\n",
    "    resnet50,\n",
    "    nn.Linear(1000,10),\n",
    ")\n",
    "model = nn.DataParallel(model, device_ids=[1])\n",
    "model.load_state_dict(torch.load('checkpoints/cifar_resnet_epoch13_step1562.pth'))"
   ]
  },
  {
   "cell_type": "code",
   "execution_count": 8,
   "metadata": {},
   "outputs": [],
   "source": [
    "with torch.cuda.device('cuda:1'):\n",
    "    torch.cuda.empty_cache() # pytorch api真的垃圾！！ 一定要这样才能进入device0之外的device\n"
   ]
  },
  {
   "cell_type": "code",
   "execution_count": 13,
   "metadata": {},
   "outputs": [
    {
     "name": "stdout",
     "output_type": "stream",
     "text": [
      "DataParallel(\n",
      "  (module): Sequential(\n",
      "    (0): ResNet(\n",
      "      (conv1): Conv2d(3, 64, kernel_size=(7, 7), stride=(2, 2), padding=(3, 3), bias=False)\n",
      "      (bn1): BatchNorm2d(64, eps=1e-05, momentum=0.1, affine=True, track_running_stats=True)\n",
      "      (relu): ReLU(inplace=True)\n",
      "      (maxpool): MaxPool2d(kernel_size=3, stride=2, padding=1, dilation=1, ceil_mode=False)\n",
      "      (layer1): Sequential(\n",
      "        (0): Bottleneck(\n",
      "          (conv1): Conv2d(64, 64, kernel_size=(1, 1), stride=(1, 1), bias=False)\n",
      "          (bn1): BatchNorm2d(64, eps=1e-05, momentum=0.1, affine=True, track_running_stats=True)\n",
      "          (conv2): Conv2d(64, 64, kernel_size=(3, 3), stride=(1, 1), padding=(1, 1), bias=False)\n",
      "          (bn2): BatchNorm2d(64, eps=1e-05, momentum=0.1, affine=True, track_running_stats=True)\n",
      "          (conv3): Conv2d(64, 256, kernel_size=(1, 1), stride=(1, 1), bias=False)\n",
      "          (bn3): BatchNorm2d(256, eps=1e-05, momentum=0.1, affine=True, track_running_stats=True)\n",
      "          (relu): ReLU(inplace=True)\n",
      "          (downsample): Sequential(\n",
      "            (0): Conv2d(64, 256, kernel_size=(1, 1), stride=(1, 1), bias=False)\n",
      "            (1): BatchNorm2d(256, eps=1e-05, momentum=0.1, affine=True, track_running_stats=True)\n",
      "          )\n",
      "        )\n",
      "        (1): Bottleneck(\n",
      "          (conv1): Conv2d(256, 64, kernel_size=(1, 1), stride=(1, 1), bias=False)\n",
      "          (bn1): BatchNorm2d(64, eps=1e-05, momentum=0.1, affine=True, track_running_stats=True)\n",
      "          (conv2): Conv2d(64, 64, kernel_size=(3, 3), stride=(1, 1), padding=(1, 1), bias=False)\n",
      "          (bn2): BatchNorm2d(64, eps=1e-05, momentum=0.1, affine=True, track_running_stats=True)\n",
      "          (conv3): Conv2d(64, 256, kernel_size=(1, 1), stride=(1, 1), bias=False)\n",
      "          (bn3): BatchNorm2d(256, eps=1e-05, momentum=0.1, affine=True, track_running_stats=True)\n",
      "          (relu): ReLU(inplace=True)\n",
      "        )\n",
      "        (2): Bottleneck(\n",
      "          (conv1): Conv2d(256, 64, kernel_size=(1, 1), stride=(1, 1), bias=False)\n",
      "          (bn1): BatchNorm2d(64, eps=1e-05, momentum=0.1, affine=True, track_running_stats=True)\n",
      "          (conv2): Conv2d(64, 64, kernel_size=(3, 3), stride=(1, 1), padding=(1, 1), bias=False)\n",
      "          (bn2): BatchNorm2d(64, eps=1e-05, momentum=0.1, affine=True, track_running_stats=True)\n",
      "          (conv3): Conv2d(64, 256, kernel_size=(1, 1), stride=(1, 1), bias=False)\n",
      "          (bn3): BatchNorm2d(256, eps=1e-05, momentum=0.1, affine=True, track_running_stats=True)\n",
      "          (relu): ReLU(inplace=True)\n",
      "        )\n",
      "      )\n",
      "      (layer2): Sequential(\n",
      "        (0): Bottleneck(\n",
      "          (conv1): Conv2d(256, 128, kernel_size=(1, 1), stride=(1, 1), bias=False)\n",
      "          (bn1): BatchNorm2d(128, eps=1e-05, momentum=0.1, affine=True, track_running_stats=True)\n",
      "          (conv2): Conv2d(128, 128, kernel_size=(3, 3), stride=(2, 2), padding=(1, 1), bias=False)\n",
      "          (bn2): BatchNorm2d(128, eps=1e-05, momentum=0.1, affine=True, track_running_stats=True)\n",
      "          (conv3): Conv2d(128, 512, kernel_size=(1, 1), stride=(1, 1), bias=False)\n",
      "          (bn3): BatchNorm2d(512, eps=1e-05, momentum=0.1, affine=True, track_running_stats=True)\n",
      "          (relu): ReLU(inplace=True)\n",
      "          (downsample): Sequential(\n",
      "            (0): Conv2d(256, 512, kernel_size=(1, 1), stride=(2, 2), bias=False)\n",
      "            (1): BatchNorm2d(512, eps=1e-05, momentum=0.1, affine=True, track_running_stats=True)\n",
      "          )\n",
      "        )\n",
      "        (1): Bottleneck(\n",
      "          (conv1): Conv2d(512, 128, kernel_size=(1, 1), stride=(1, 1), bias=False)\n",
      "          (bn1): BatchNorm2d(128, eps=1e-05, momentum=0.1, affine=True, track_running_stats=True)\n",
      "          (conv2): Conv2d(128, 128, kernel_size=(3, 3), stride=(1, 1), padding=(1, 1), bias=False)\n",
      "          (bn2): BatchNorm2d(128, eps=1e-05, momentum=0.1, affine=True, track_running_stats=True)\n",
      "          (conv3): Conv2d(128, 512, kernel_size=(1, 1), stride=(1, 1), bias=False)\n",
      "          (bn3): BatchNorm2d(512, eps=1e-05, momentum=0.1, affine=True, track_running_stats=True)\n",
      "          (relu): ReLU(inplace=True)\n",
      "        )\n",
      "        (2): Bottleneck(\n",
      "          (conv1): Conv2d(512, 128, kernel_size=(1, 1), stride=(1, 1), bias=False)\n",
      "          (bn1): BatchNorm2d(128, eps=1e-05, momentum=0.1, affine=True, track_running_stats=True)\n",
      "          (conv2): Conv2d(128, 128, kernel_size=(3, 3), stride=(1, 1), padding=(1, 1), bias=False)\n",
      "          (bn2): BatchNorm2d(128, eps=1e-05, momentum=0.1, affine=True, track_running_stats=True)\n",
      "          (conv3): Conv2d(128, 512, kernel_size=(1, 1), stride=(1, 1), bias=False)\n",
      "          (bn3): BatchNorm2d(512, eps=1e-05, momentum=0.1, affine=True, track_running_stats=True)\n",
      "          (relu): ReLU(inplace=True)\n",
      "        )\n",
      "        (3): Bottleneck(\n",
      "          (conv1): Conv2d(512, 128, kernel_size=(1, 1), stride=(1, 1), bias=False)\n",
      "          (bn1): BatchNorm2d(128, eps=1e-05, momentum=0.1, affine=True, track_running_stats=True)\n",
      "          (conv2): Conv2d(128, 128, kernel_size=(3, 3), stride=(1, 1), padding=(1, 1), bias=False)\n",
      "          (bn2): BatchNorm2d(128, eps=1e-05, momentum=0.1, affine=True, track_running_stats=True)\n",
      "          (conv3): Conv2d(128, 512, kernel_size=(1, 1), stride=(1, 1), bias=False)\n",
      "          (bn3): BatchNorm2d(512, eps=1e-05, momentum=0.1, affine=True, track_running_stats=True)\n",
      "          (relu): ReLU(inplace=True)\n",
      "        )\n",
      "      )\n",
      "      (layer3): Sequential(\n",
      "        (0): Bottleneck(\n",
      "          (conv1): Conv2d(512, 256, kernel_size=(1, 1), stride=(1, 1), bias=False)\n",
      "          (bn1): BatchNorm2d(256, eps=1e-05, momentum=0.1, affine=True, track_running_stats=True)\n",
      "          (conv2): Conv2d(256, 256, kernel_size=(3, 3), stride=(2, 2), padding=(1, 1), bias=False)\n",
      "          (bn2): BatchNorm2d(256, eps=1e-05, momentum=0.1, affine=True, track_running_stats=True)\n",
      "          (conv3): Conv2d(256, 1024, kernel_size=(1, 1), stride=(1, 1), bias=False)\n",
      "          (bn3): BatchNorm2d(1024, eps=1e-05, momentum=0.1, affine=True, track_running_stats=True)\n",
      "          (relu): ReLU(inplace=True)\n",
      "          (downsample): Sequential(\n",
      "            (0): Conv2d(512, 1024, kernel_size=(1, 1), stride=(2, 2), bias=False)\n",
      "            (1): BatchNorm2d(1024, eps=1e-05, momentum=0.1, affine=True, track_running_stats=True)\n",
      "          )\n",
      "        )\n",
      "        (1): Bottleneck(\n",
      "          (conv1): Conv2d(1024, 256, kernel_size=(1, 1), stride=(1, 1), bias=False)\n",
      "          (bn1): BatchNorm2d(256, eps=1e-05, momentum=0.1, affine=True, track_running_stats=True)\n",
      "          (conv2): Conv2d(256, 256, kernel_size=(3, 3), stride=(1, 1), padding=(1, 1), bias=False)\n",
      "          (bn2): BatchNorm2d(256, eps=1e-05, momentum=0.1, affine=True, track_running_stats=True)\n",
      "          (conv3): Conv2d(256, 1024, kernel_size=(1, 1), stride=(1, 1), bias=False)\n",
      "          (bn3): BatchNorm2d(1024, eps=1e-05, momentum=0.1, affine=True, track_running_stats=True)\n",
      "          (relu): ReLU(inplace=True)\n",
      "        )\n",
      "        (2): Bottleneck(\n",
      "          (conv1): Conv2d(1024, 256, kernel_size=(1, 1), stride=(1, 1), bias=False)\n",
      "          (bn1): BatchNorm2d(256, eps=1e-05, momentum=0.1, affine=True, track_running_stats=True)\n",
      "          (conv2): Conv2d(256, 256, kernel_size=(3, 3), stride=(1, 1), padding=(1, 1), bias=False)\n",
      "          (bn2): BatchNorm2d(256, eps=1e-05, momentum=0.1, affine=True, track_running_stats=True)\n",
      "          (conv3): Conv2d(256, 1024, kernel_size=(1, 1), stride=(1, 1), bias=False)\n",
      "          (bn3): BatchNorm2d(1024, eps=1e-05, momentum=0.1, affine=True, track_running_stats=True)\n",
      "          (relu): ReLU(inplace=True)\n",
      "        )\n",
      "        (3): Bottleneck(\n",
      "          (conv1): Conv2d(1024, 256, kernel_size=(1, 1), stride=(1, 1), bias=False)\n",
      "          (bn1): BatchNorm2d(256, eps=1e-05, momentum=0.1, affine=True, track_running_stats=True)\n",
      "          (conv2): Conv2d(256, 256, kernel_size=(3, 3), stride=(1, 1), padding=(1, 1), bias=False)\n",
      "          (bn2): BatchNorm2d(256, eps=1e-05, momentum=0.1, affine=True, track_running_stats=True)\n",
      "          (conv3): Conv2d(256, 1024, kernel_size=(1, 1), stride=(1, 1), bias=False)\n",
      "          (bn3): BatchNorm2d(1024, eps=1e-05, momentum=0.1, affine=True, track_running_stats=True)\n",
      "          (relu): ReLU(inplace=True)\n",
      "        )\n",
      "        (4): Bottleneck(\n",
      "          (conv1): Conv2d(1024, 256, kernel_size=(1, 1), stride=(1, 1), bias=False)\n",
      "          (bn1): BatchNorm2d(256, eps=1e-05, momentum=0.1, affine=True, track_running_stats=True)\n",
      "          (conv2): Conv2d(256, 256, kernel_size=(3, 3), stride=(1, 1), padding=(1, 1), bias=False)\n",
      "          (bn2): BatchNorm2d(256, eps=1e-05, momentum=0.1, affine=True, track_running_stats=True)\n",
      "          (conv3): Conv2d(256, 1024, kernel_size=(1, 1), stride=(1, 1), bias=False)\n",
      "          (bn3): BatchNorm2d(1024, eps=1e-05, momentum=0.1, affine=True, track_running_stats=True)\n",
      "          (relu): ReLU(inplace=True)\n",
      "        )\n",
      "        (5): Bottleneck(\n",
      "          (conv1): Conv2d(1024, 256, kernel_size=(1, 1), stride=(1, 1), bias=False)\n",
      "          (bn1): BatchNorm2d(256, eps=1e-05, momentum=0.1, affine=True, track_running_stats=True)\n",
      "          (conv2): Conv2d(256, 256, kernel_size=(3, 3), stride=(1, 1), padding=(1, 1), bias=False)\n",
      "          (bn2): BatchNorm2d(256, eps=1e-05, momentum=0.1, affine=True, track_running_stats=True)\n",
      "          (conv3): Conv2d(256, 1024, kernel_size=(1, 1), stride=(1, 1), bias=False)\n",
      "          (bn3): BatchNorm2d(1024, eps=1e-05, momentum=0.1, affine=True, track_running_stats=True)\n",
      "          (relu): ReLU(inplace=True)\n",
      "        )\n",
      "      )\n",
      "      (layer4): Sequential(\n",
      "        (0): Bottleneck(\n",
      "          (conv1): Conv2d(1024, 512, kernel_size=(1, 1), stride=(1, 1), bias=False)\n",
      "          (bn1): BatchNorm2d(512, eps=1e-05, momentum=0.1, affine=True, track_running_stats=True)\n",
      "          (conv2): Conv2d(512, 512, kernel_size=(3, 3), stride=(2, 2), padding=(1, 1), bias=False)\n",
      "          (bn2): BatchNorm2d(512, eps=1e-05, momentum=0.1, affine=True, track_running_stats=True)\n",
      "          (conv3): Conv2d(512, 2048, kernel_size=(1, 1), stride=(1, 1), bias=False)\n",
      "          (bn3): BatchNorm2d(2048, eps=1e-05, momentum=0.1, affine=True, track_running_stats=True)\n",
      "          (relu): ReLU(inplace=True)\n",
      "          (downsample): Sequential(\n",
      "            (0): Conv2d(1024, 2048, kernel_size=(1, 1), stride=(2, 2), bias=False)\n",
      "            (1): BatchNorm2d(2048, eps=1e-05, momentum=0.1, affine=True, track_running_stats=True)\n",
      "          )\n",
      "        )\n",
      "        (1): Bottleneck(\n",
      "          (conv1): Conv2d(2048, 512, kernel_size=(1, 1), stride=(1, 1), bias=False)\n",
      "          (bn1): BatchNorm2d(512, eps=1e-05, momentum=0.1, affine=True, track_running_stats=True)\n",
      "          (conv2): Conv2d(512, 512, kernel_size=(3, 3), stride=(1, 1), padding=(1, 1), bias=False)\n",
      "          (bn2): BatchNorm2d(512, eps=1e-05, momentum=0.1, affine=True, track_running_stats=True)\n",
      "          (conv3): Conv2d(512, 2048, kernel_size=(1, 1), stride=(1, 1), bias=False)\n",
      "          (bn3): BatchNorm2d(2048, eps=1e-05, momentum=0.1, affine=True, track_running_stats=True)\n",
      "          (relu): ReLU(inplace=True)\n",
      "        )\n",
      "        (2): Bottleneck(\n",
      "          (conv1): Conv2d(2048, 512, kernel_size=(1, 1), stride=(1, 1), bias=False)\n",
      "          (bn1): BatchNorm2d(512, eps=1e-05, momentum=0.1, affine=True, track_running_stats=True)\n",
      "          (conv2): Conv2d(512, 512, kernel_size=(3, 3), stride=(1, 1), padding=(1, 1), bias=False)\n",
      "          (bn2): BatchNorm2d(512, eps=1e-05, momentum=0.1, affine=True, track_running_stats=True)\n",
      "          (conv3): Conv2d(512, 2048, kernel_size=(1, 1), stride=(1, 1), bias=False)\n",
      "          (bn3): BatchNorm2d(2048, eps=1e-05, momentum=0.1, affine=True, track_running_stats=True)\n",
      "          (relu): ReLU(inplace=True)\n",
      "        )\n",
      "      )\n",
      "      (avgpool): AdaptiveAvgPool2d(output_size=(1, 1))\n",
      "      (fc): Linear(in_features=2048, out_features=1000, bias=True)\n",
      "    )\n",
      "    (1): Linear(in_features=1000, out_features=10, bias=True)\n",
      "  )\n",
      ")\n"
     ]
    }
   ],
   "source": [
    "test_device = torch.device('cuda:1')\n",
    "test_loader = cifar_test\n",
    "net = model.to(test_device)\n",
    "print(net)"
   ]
  },
  {
   "cell_type": "code",
   "execution_count": 14,
   "metadata": {},
   "outputs": [
    {
     "data": {
      "text/plain": [
       "(tensor(0.6210, device='cuda:1', grad_fn=<DivBackward0>),\n",
       " tensor(0.8131, device='cuda:1'))"
      ]
     },
     "execution_count": 14,
     "metadata": {},
     "output_type": "execute_result"
    }
   ],
   "source": [
    "# del my_apis\n",
    "import my_apis\n",
    "my_apis.test(cifar_test, model, critiria, test_device=test_device)"
   ]
  },
  {
   "cell_type": "code",
   "execution_count": null,
   "metadata": {},
   "outputs": [],
   "source": [
    "# 这个还不够。刚才我们迁移学习是加了一层去做，然后锁定了原本的参数。\n",
    "# 其实还有两种迁移学习方法，一个是把原本resnet的最后一层改了；一个是不锁参数，达到更优。"
   ]
  },
  {
   "cell_type": "code",
   "execution_count": null,
   "metadata": {},
   "outputs": [],
   "source": [
    "# 接下来我们不用迁移学习，直接用resnet50做分类\n",
    "# 从头开始训练一个小时，看看效果如何"
   ]
  },
  {
   "cell_type": "markdown",
   "metadata": {},
   "source": [
    "在run_train.py中，我用mindspore实现了一个resnet50的训练。\n",
    "训练26个epoch，达到了准确率0.96。\n",
    "效果截图如下\n",
    "![](./assets/Snipaste_2022-11-16_22-30-20.png)\n"
   ]
  },
  {
   "cell_type": "markdown",
   "metadata": {},
   "source": [
    "使用了MindInsight进行可视化，可以看到loss的变化\n",
    "![](./assets/Snipaste_2022-11-16_22-33-34.png)"
   ]
  },
  {
   "cell_type": "code",
   "execution_count": 2,
   "metadata": {},
   "outputs": [
    {
     "data": {
      "text/plain": [
       "{'acc': 0.9622701226012793}"
      ]
     },
     "execution_count": 2,
     "metadata": {},
     "output_type": "execute_result"
    }
   ],
   "source": [
    "# 我们加载第26轮的checkpoint，看看效果\n",
    "from run_train import *\n",
    "import mindspore\n",
    "create_context()\n",
    "path = 'datasets/cifar-10-batches-bin'\n",
    "test_loader = create_cifar_dataset(path, False)\n",
    "network = resnet50(batch_size=batch_size, num_classes=10)\n",
    "param_dict = load_checkpoint('./checkpoints/ms/CIFAR-10-resnet50-26_937.ckpt')\n",
    "not_loaded = load_param_into_net(network, param_dict)\n",
    "ls = SoftmaxCrossEntropyWithLogits(sparse=True, reduction=\"mean\")\n",
    "opt = nn.Momentum(filter(lambda x: x.requires_grad, network.get_parameters()), 0.01, 0.9)\n",
    "model = Model(network, loss_fn=ls, optimizer=opt, metrics={'acc'}, \n",
    "                    amp_level='O2',)\n",
    "model.eval(test_loader)"
   ]
  },
  {
   "cell_type": "markdown",
   "metadata": {
    "pycharm": {
     "name": "#%% md\n"
    }
   },
   "source": [
    "### Exercise 2  Questions (5 points )\n",
    "1. Can neural networks be used for unsupervised clustering or data dimension reduction? Why?\n",
    "\n",
    "可以用神经网络降维或者聚类。\n",
    "例如，自编码器：https://zhuanlan.zhihu.com/p/453444431\n",
    "把输入用NN 编码后再用NN解码，看看是否可以变回原来的数据（作为loss）。\n",
    "做完之后，就可以去除其中的编码器作为降维器。\n",
    "\n",
    "聚类当然也是可以做的：https://www.jianshu.com/p/c0d9adae148d， 有相关的论文。\n",
    "神经网络聚类的好处就是，数据量太大的时候,传统的K-Means可能会很慢，而神经网络聚类可以并行化。\n",
    "神经网络可以对batch而不是整个数据集进行聚类，这样可以节省内存。\n",
    "\n",
    "\n",
    "\n",
    "2. What are the strengths of neural networks; when do they perform well?\n",
    "\n",
    "神经网络的优点是可以自动学习特征，不需要人工去提取特征，而且可以自动学习特征的组合，从而可以自动学习出复杂的特征。当数据量很大的时候，神经网络的表现会很好。\n",
    "比起朴素贝叶斯、SVM、决策树等，神经网络是比较容易可以被GPU加速的，并行效果比较好。\n",
    "根据上次寒武纪的讲座，其实陈国良院士也做过这种符号主义的加速的探索，但是最终发现还是对这种联结主义的更好加速。\n",
    "\n",
    "对了，神经网络还能拟合任何可计算函数，所以假说空间不错。\n",
    "\n",
    "3. What are the weaknesses of neural networks; when do they perform poorly?\n",
    "\n",
    "神经网络的缺点是需要大量的训练数据，而且训练时间比较长，消耗大量的算力。\n",
    "如果数据量不够，可能会过拟合。\n",
    "可解释性不强，做商业决策的时候，可能会不被采用。\n",
    "\n",
    "\n",
    "\n",
    "\n",
    "4. What makes neural networks a good candidate for the classification regression problem, if you have enough knowledge about the data?\n",
    "\n",
    "我知道了足够的数据信息，那就可以用神经网络来做分类回归了。对吧，因为大数据集本来就是神经网络的天下。\n"
   ]
  },
  {
   "cell_type": "markdown",
   "metadata": {
    "pycharm": {
     "name": "#%% md\n"
    }
   },
   "source": [
    "### Exercise 3 完成02卷积神经网络\\《深度学习》卷积网络实验手册.pdf部分的内容，并把截图提交。（5分）\n",
    "+ FashionMnist分类任务正则化对比实验结果图\n",
    "\n",
    "\n",
    "\n",
    "这是没有正则化的网络训练过程：\n",
    "![](./assets/Snipaste_2022-11-16_22-53-02.png)\n",
    "这是有正则化的网络训练过程\n",
    "![](./assets/Snipaste_2022-11-16_23-02-19.png)\n",
    "从训练loss看不出什么，大概是没有正则化的后期会贴近0，而有正则化会波动，前期都是极速下降。\n",
    "从accuracy来看，有正则化的acc达到0.92, 而没有正则化的只有0.91。 说明正则化是有一定效果的。\n",
    "{'acc': 0.9103565705128205}\n",
    "{'acc': 0.9215745192307693}\n",
    "\n",
    "\n",
    "除了正则化的作用，我们用TimeMonitor可以发现\n",
    "Mindspore的数据下沉模式还是很快的，比起一个一个step训练\n",
    "差不多一个epoch和原来十几个step差不多。\n",
    "\n",
    "+ LeNet的手写数字识别实验截图\n",
    "\n",
    "![](./assets/Snipaste_2022-11-16_22-44-40.png)"
   ]
  }
 ],
 "metadata": {
  "kernelspec": {
   "display_name": "mindspore",
   "language": "python",
   "name": "python3"
  },
  "language_info": {
   "codemirror_mode": {
    "name": "ipython",
    "version": 3
   },
   "file_extension": ".py",
   "mimetype": "text/x-python",
   "name": "python",
   "nbconvert_exporter": "python",
   "pygments_lexer": "ipython3",
   "version": "3.9.13"
  },
  "toc": {
   "base_numbering": 1,
   "nav_menu": {},
   "number_sections": true,
   "sideBar": true,
   "skip_h1_title": true,
   "title_cell": "Table of Contents",
   "title_sidebar": "Contents",
   "toc_cell": true,
   "toc_position": {},
   "toc_section_display": true,
   "toc_window_display": false
  },
  "vscode": {
   "interpreter": {
    "hash": "e349f2f8121bd25fd37a645ebc8a329262b99127061a302d57b19baa7c645ff0"
   }
  }
 },
 "nbformat": 4,
 "nbformat_minor": 2
}
