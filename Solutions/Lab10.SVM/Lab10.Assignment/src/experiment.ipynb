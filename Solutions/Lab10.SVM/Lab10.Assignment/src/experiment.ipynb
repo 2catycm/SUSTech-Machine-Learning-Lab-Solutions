{
 "cells": [
  {
   "cell_type": "code",
   "execution_count": null,
   "metadata": {},
   "outputs": [],
   "source": [
    "import cv2\n",
    "from train import processFiles, trainSVM\n",
    "from detector import Detector"
   ]
  },
  {
   "cell_type": "code",
   "execution_count": null,
   "metadata": {},
   "outputs": [],
   "source": [
    "# Replace these with the directories containing your\n",
    "# positive and negative sample images, respectively.\n",
    "pos_dir = \"samples/vehicles\"\n",
    "neg_dir = \"samples/non-vehicles\"\n",
    "\n",
    "# Replace this with the path to your test video file.\n",
    "video_file = \"videos/test_video.mp4\" # 测试用的video，根据这个video做验证"
   ]
  }
 ],
 "metadata": {
  "language_info": {
   "name": "python"
  },
  "orig_nbformat": 4
 },
 "nbformat": 4,
 "nbformat_minor": 2
}
