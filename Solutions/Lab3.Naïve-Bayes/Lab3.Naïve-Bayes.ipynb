{
 "cells": [
  {
   "cell_type": "markdown",
   "metadata": {},
   "source": [
    "Lab作业3： 朴素贝叶斯\n",
    "12011404@mail.sustech.edu.cn 叶璨铭\n",
    "1. 朴素贝叶斯算法笔记\n",
    "1.1 贝叶斯定理\n",
    "$$P(y|x) = P(y, x)/P(x) = P(x|y)P(y) / P(x)$$\n",
    "y是分类输出。后验概率可以被用于最小化决策错误率。\n",
    "> 后验概率函数的理解是给定x，遍历所有y，可以得到多个概率。\n",
    "> P(y,x)则是联合概率，这里计算式子x是固定的，但是也适用于多个x，二元函数。\n",
    "> 但是x定了之后，就是x，y一起出现的概率行不行了。x本身多大只是调节。\n",
    "> 当然x给定的概率和x,y一起出现的概率不是一个意思。而且有很大的差别。这一点总是让人混淆。\n",
    "\n",
    "- P(x)对于分类决策无用。决策时必然已知x，决策依据是给定x后y的概率，此时所有y的证据P(x)都一样。\n",
    "- 大数定律可以保证对样本的频率依概率收敛到概率，先验概率P(y)比较好估计。\n",
    "- P(x|y)就比较难估计，因为x维度比较大，出现的情况比y少，比如有d维，那么就算x是二值的，也最少需要$2^d$个数据才能开始统计。简单说来就是出现具体的一个x向量的联合概率太低了，样本量很难那么大。\n",
    "\n",
    "1.2 贝叶斯分类器\n",
    "\n",
    "1.3 高斯朴素贝叶斯分类器\n",
    "1.4 0时条件概率计算\n"
   ]
  },
  {
   "cell_type": "markdown",
   "metadata": {},
   "source": [
    "## 2 朴素贝叶斯算法实现\n",
    "文本信息挖掘的应用包括情感（sentiment）分析、文档（document）分类、话题分类、文本总结、机器翻译等。\n",
    "\n",
    "### 2.1 垃圾邮件（Spam）过滤\n",
    "\n",
    "> 单词考据：spam是午餐肉，ham是火腿。认为火腿比午餐肉好吃。其实不应该这种非正式的词语当学术名词，垃圾邮件正确翻译是junk mail，正常邮件是normal mail。\n",
    "\n",
    "垃圾邮件过滤是文档分类的一种。\n",
    "1. 准备文本数据。\n",
    "2. 创建单词本\n",
    "3. 提取特征\n",
    "4. 实现算法\n",
    "5. 训练算法\n",
    "6. 测试算法"
   ]
  },
  {
   "cell_type": "markdown",
   "metadata": {
    "pycharm": {
     "name": "#%% md\n"
    }
   },
   "source": [
    "### 1. 准备文本数据。\n",
    "训练集702，测试集260，一半垃圾一半正常，垃圾的文件名有'spmsg'。文本清洗是指去除与决策无关的（undesirable）单词，比如标点、停用词、数字。 有个语料库(corpus)是这样做的\n",
    "\n",
    "1. **去除“停用词”（Stop Words）** “停用词”是一个错误的中文翻译。“停用词”并没有被任何人“停用”、“禁止使用”或者现在已经“不再使用”，恰恰相反，“停用词”是语言中最常用、很多人都在用、很多语句都必须使用的词。正是因为太常用了，出现概率高，根据信息论，其提供的信息比较少，所以忽略了。实际上英文“Stop”不是“停下、阻碍”的意思，是“停顿（以便连接）、中断（以便继续）”，应当翻译为“连接词”或者“功能词”。\n",
    "\n",
    "2. **词形还原（Lemmatization）** 把英语语法要求的一些单词变形视作是同一个原型来理解，因为确实是一个语义。\n",
    "\n",
    "3. **标点符号（punctuation）和特殊符号去除** 标点符号也是出现太多次了。特殊符号是太少出现了？为什么要去除呢？\n",
    "\n",
    "### 2. 创建单词本\n",
    "获得单词和其出现频率，可以用Counter(List of words)得到一个类似字典word:count的对象。\n",
    "isalpha()可以判断字符串是不是只有A-Z,a-z。\n",
    "most_common(3000)可以提取前3000."
   ]
  },
  {
   "cell_type": "code",
   "execution_count": 1,
   "metadata": {
    "pycharm": {
     "name": "#%%\n"
    }
   },
   "outputs": [
    {
     "data": {
      "text/plain": [
       "[('order', 1414),\n",
       " ('address', 1293),\n",
       " ('report', 1216),\n",
       " ('mail', 1127),\n",
       " ('send', 1079)]"
      ]
     },
     "execution_count": 1,
     "metadata": {},
     "output_type": "execute_result"
    }
   ],
   "source": [
    "# To show the most frequent words in train-mails\n",
    "from collections import Counter\n",
    "def make_dictionary(path):\n",
    "    emails = [os.path.join(path,f) for f in os.listdir(path)]\n",
    "    all_words = []\n",
    "    for mail in emails:\n",
    "        with open(mail) as m:\n",
    "            for i,line in enumerate(m):\n",
    "                if i == 2: # Body of email is only 3rd line of text file\n",
    "                    words = line.split()\n",
    "                    all_words += words\n",
    "    return Counter(all_words)\n",
    "dictionary = make_dictionary('ling-spam/train-mails')\n",
    "dictionary = dict(filter(lambda x:x[0].isalpha() and len(x[0])!=1, dictionary.items()))\n",
    "dictionary = Counter(dictionary).most_common(3000)\n",
    "dictionary[:5]"
   ]
  },
  {
   "cell_type": "markdown",
   "metadata": {
    "pycharm": {
     "name": "#%% md\n"
    }
   },
   "source": [
    "### 3. 提取特征\n",
    "这里我们把一个文本（多个句子，多个单词）映射为一个固定的3000维向量。第i维数值的大小是出现频率第i高的单词在文本中出现的次数。这样的向量称为词袋模型（bag of words）。\n",
    "比如，“凄凄惨惨戚戚”就是3000维里面大部分都是0，只有“凄”、“惨”、“戚”三个词的值是2。\n",
    "\n",
    "接下来产生 702x3000矩阵，表示700个训练数据的特征向量。"
   ]
  },
  {
   "cell_type": "code",
   "execution_count": 2,
   "metadata": {
    "pycharm": {
     "name": "#%%\n"
    }
   },
   "outputs": [],
   "source": [
    "import os\n",
    "import numpy as np\n",
    "def extract_features(mail_dir):\n",
    "    files = [os.path.join(mail_dir,fi) for fi in os.listdir(mail_dir)]\n",
    "    features_matrix = np.zeros((len(files),3000))\n",
    "    docID = 0\n",
    "    _i = 0\n",
    "    print(len(files))\n",
    "    for fil in files:\n",
    "        _i+=1\n",
    "        with open(fil) as fi:\n",
    "            for i,line in enumerate(fi):\n",
    "                if i == 2:\n",
    "                    words = line.split()\n",
    "                    for word in words:\n",
    "                        wordID = 0\n",
    "                        for i,d in enumerate(dictionary):\n",
    "                            if d[0] == word:\n",
    "                                wordID = i\n",
    "                                features_matrix[docID,wordID]+=1\n",
    "            docID = docID + 1\n",
    "        print('\\r','done {} files'.format(_i),flush=True,end='')\n",
    "    return features_matrix"
   ]
  },
  {
   "cell_type": "code",
   "execution_count": 3,
   "metadata": {
    "pycharm": {
     "name": "#%%\n"
    }
   },
   "outputs": [
    {
     "name": "stdout",
     "output_type": "stream",
     "text": [
      "702\n",
      " done 1 files\r done 2 files\r done 3 files\r done 4 files\r done 5 files\r done 6 files\r done 7 files\r done 8 files\r done 9 files\r done 10 files\r done 11 files\r done 12 files\r done 13 files\r done 14 files\r done 15 files\r done 16 files\r done 17 files\r done 18 files\r done 19 files\r done 20 files\r done 21 files\r done 22 files\r done 23 files\r done 24 files\r done 25 files\r done 26 files\r done 27 files\r done 28 files\r done 29 files\r done 30 files\r done 31 files\r done 32 files\r done 33 files\r done 34 files\r done 35 files\r done 36 files\r done 37 files\r done 38 files\r done 39 files\r done 40 files\r done 41 files\r done 42 files\r done 43 files\r done 44 files\r done 45 files\r done 46 files\r done 47 files\r done 48 files\r done 49 files\r done 50 files\r done 51 files\r done 52 files\r done 53 files\r done 54 files\r done 55 files\r done 56 files\r done 57 files\r done 58 files\r done 59 files\r done 60 files\r done 61 files\r done 62 files\r done 63 files\r done 64 files\r done 65 files\r done 66 files\r done 67 files\r done 68 files\r done 69 files\r done 70 files\r done 71 files\r done 72 files\r done 73 files\r done 74 files\r done 75 files\r done 76 files\r done 77 files\r done 78 files\r done 79 files\r done 80 files\r done 81 files\r done 82 files\r done 83 files\r done 84 files\r done 85 files\r done 86 files\r done 87 files\r done 88 files\r done 89 files\r done 90 files\r done 91 files\r done 92 files\r done 93 files\r done 94 files\r done 95 files\r done 96 files\r done 97 files\r done 98 files\r done 99 files\r done 100 files\r done 101 files\r done 102 files\r done 103 files\r done 104 files\r done 105 files\r done 106 files\r done 107 files\r done 108 files\r done 109 files\r done 110 files\r done 111 files\r done 112 files\r done 113 files\r done 114 files\r done 115 files\r done 116 files\r done 117 files\r done 118 files\r done 119 files\r done 120 files\r done 121 files\r done 122 files\r done 123 files\r done 124 files\r done 125 files\r done 126 files\r done 127 files\r done 128 files\r done 129 files\r done 130 files\r done 131 files\r done 132 files\r done 133 files\r done 134 files\r done 135 files\r done 136 files\r done 137 files\r done 138 files\r done 139 files\r done 140 files\r done 141 files\r done 142 files\r done 143 files\r done 144 files\r done 145 files\r done 146 files\r done 147 files\r done 148 files\r done 149 files\r done 150 files\r done 151 files\r done 152 files\r done 153 files\r done 154 files\r done 155 files\r done 156 files\r done 157 files\r done 158 files\r done 159 files\r done 160 files\r done 161 files\r done 162 files\r done 163 files\r done 164 files\r done 165 files\r done 166 files\r done 167 files\r done 168 files\r done 169 files\r done 170 files\r done 171 files\r done 172 files\r done 173 files\r done 174 files\r done 175 files\r done 176 files\r done 177 files\r done 178 files\r done 179 files\r done 180 files\r done 181 files\r done 182 files\r done 183 files\r done 184 files\r done 185 files\r done 186 files\r done 187 files\r done 188 files\r done 189 files\r done 190 files\r done 191 files\r done 192 files\r done 193 files\r done 194 files\r done 195 files\r done 196 files\r done 197 files\r done 198 files\r done 199 files\r done 200 files\r done 201 files\r done 202 files\r done 203 files\r done 204 files\r done 205 files\r done 206 files\r done 207 files\r done 208 files\r done 209 files\r done 210 files\r done 211 files\r done 212 files\r done 213 files\r done 214 files\r done 215 files\r done 216 files\r done 217 files\r done 218 files\r done 219 files\r done 220 files\r done 221 files\r done 222 files\r done 223 files\r done 224 files\r done 225 files\r done 226 files\r done 227 files\r done 228 files\r done 229 files\r done 230 files\r done 231 files\r done 232 files\r done 233 files\r done 234 files\r done 235 files\r done 236 files\r done 237 files\r done 238 files\r done 239 files\r done 240 files\r done 241 files\r done 242 files\r done 243 files\r done 244 files\r done 245 files\r done 246 files\r done 247 files\r done 248 files\r done 249 files\r done 250 files\r done 251 files\r done 252 files\r done 253 files\r done 254 files\r done 255 files\r done 256 files\r done 257 files\r done 258 files\r done 259 files\r done 260 files\r done 261 files\r done 262 files\r done 263 files\r done 264 files\r done 265 files\r done 266 files\r done 267 files\r done 268 files\r done 269 files\r done 270 files\r done 271 files\r done 272 files\r done 273 files\r done 274 files\r done 275 files\r done 276 files\r done 277 files\r done 278 files\r done 279 files\r done 280 files\r done 281 files\r done 282 files\r done 283 files\r done 284 files\r done 285 files\r done 286 files\r done 287 files\r done 288 files\r done 289 files\r done 290 files\r done 291 files\r done 292 files\r done 293 files\r done 294 files\r done 295 files\r done 296 files\r done 297 files\r done 298 files\r done 299 files\r done 300 files\r done 301 files\r done 302 files\r done 303 files\r done 304 files\r done 305 files\r done 306 files\r done 307 files\r done 308 files\r done 309 files\r done 310 files\r done 311 files\r done 312 files\r done 313 files\r done 314 files\r done 315 files\r done 316 files\r done 317 files\r done 318 files\r done 319 files\r done 320 files\r done 321 files\r done 322 files\r done 323 files\r done 324 files\r done 325 files\r done 326 files\r done 327 files\r done 328 files\r done 329 files\r done 330 files\r done 331 files\r done 332 files\r done 333 files\r done 334 files\r done 335 files\r done 336 files\r done 337 files\r done 338 files\r done 339 files\r done 340 files\r done 341 files\r done 342 files\r done 343 files\r done 344 files\r done 345 files\r done 346 files\r done 347 files\r done 348 files\r done 349 files\r done 350 files\r done 351 files\r done 352 files\r done 353 files\r done 354 files\r done 355 files\r done 356 files\r done 357 files\r done 358 files\r done 359 files\r done 360 files\r done 361 files\r done 362 files\r done 363 files\r done 364 files\r done 365 files\r done 366 files\r done 367 files\r done 368 files\r done 369 files\r done 370 files\r done 371 files\r done 372 files\r done 373 files\r done 374 files\r done 375 files\r done 376 files\r done 377 files\r done 378 files\r done 379 files\r done 380 files\r done 381 files\r done 382 files\r done 383 files\r done 384 files\r done 385 files\r done 386 files\r done 387 files\r done 388 files\r done 389 files\r done 390 files\r done 391 files\r done 392 files\r done 393 files\r done 394 files\r done 395 files\r done 396 files\r done 397 files\r done 398 files\r done 399 files\r done 400 files\r done 401 files\r done 402 files\r done 403 files\r done 404 files\r done 405 files\r done 406 files\r done 407 files\r done 408 files\r done 409 files\r done 410 files\r done 411 files\r done 412 files\r done 413 files\r done 414 files\r done 415 files\r done 416 files\r done 417 files\r done 418 files\r done 419 files\r done 420 files\r done 421 files\r done 422 files\r done 423 files\r done 424 files\r done 425 files\r done 426 files\r done 427 files\r done 428 files\r done 429 files\r done 430 files\r done 431 files\r done 432 files\r done 433 files\r done 434 files\r done 435 files\r done 436 files\r done 437 files\r done 438 files\r done 439 files\r done 440 files\r done 441 files\r done 442 files\r done 443 files\r done 444 files\r done 445 files\r done 446 files\r done 447 files\r done 448 files\r done 449 files\r done 450 files\r done 451 files\r done 452 files\r done 453 files\r done 454 files\r done 455 files\r done 456 files\r done 457 files\r done 458 files\r done 459 files\r done 460 files\r done 461 files\r done 462 files\r done 463 files\r done 464 files\r done 465 files\r done 466 files\r done 467 files\r done 468 files\r done 469 files\r done 470 files\r done 471 files\r done 472 files\r done 473 files\r done 474 files\r done 475 files\r done 476 files\r done 477 files\r done 478 files\r done 479 files\r done 480 files\r done 481 files\r done 482 files\r done 483 files\r done 484 files\r done 485 files\r done 486 files\r done 487 files\r done 488 files\r done 489 files\r done 490 files\r done 491 files\r done 492 files\r done 493 files\r done 494 files\r done 495 files\r done 496 files\r done 497 files\r done 498 files\r done 499 files\r done 500 files\r done 501 files\r done 502 files\r done 503 files\r done 504 files\r done 505 files\r done 506 files\r done 507 files\r done 508 files\r done 509 files\r done 510 files\r done 511 files\r done 512 files\r done 513 files\r done 514 files\r done 515 files\r done 516 files\r done 517 files\r done 518 files\r done 519 files\r done 520 files\r done 521 files\r done 522 files\r done 523 files\r done 524 files\r done 525 files\r done 526 files\r done 527 files\r done 528 files\r done 529 files\r done 530 files\r done 531 files\r done 532 files\r done 533 files\r done 534 files\r done 535 files\r done 536 files\r done 537 files\r done 538 files\r done 539 files\r done 540 files\r done 541 files\r done 542 files\r done 543 files\r done 544 files\r done 545 files\r done 546 files\r done 547 files\r done 548 files\r done 549 files\r done 550 files\r done 551 files\r done 552 files\r done 553 files\r done 554 files\r done 555 files\r done 556 files\r done 557 files\r done 558 files\r done 559 files\r done 560 files\r done 561 files\r done 562 files\r done 563 files\r done 564 files\r done 565 files\r done 566 files\r done 567 files\r done 568 files\r done 569 files\r done 570 files\r done 571 files\r done 572 files\r done 573 files\r done 574 files\r done 575 files\r done 576 files\r done 577 files\r done 578 files\r done 579 files\r done 580 files\r done 581 files\r done 582 files\r done 583 files\r done 584 files\r done 585 files\r done 586 files\r done 587 files\r done 588 files\r done 589 files\r done 590 files\r done 591 files\r done 592 files\r done 593 files\r done 594 files\r done 595 files\r done 596 files\r done 597 files\r done 598 files\r done 599 files\r done 600 files\r done 601 files\r done 602 files\r done 603 files\r done 604 files\r done 605 files\r done 606 files\r done 607 files\r done 608 files\r done 609 files\r done 610 files\r done 611 files\r done 612 files\r done 613 files\r done 614 files\r done 615 files\r done 616 files\r done 617 files\r done 618 files\r done 619 files\r done 620 files\r done 621 files\r done 622 files\r done 623 files\r done 624 files\r done 625 files\r done 626 files\r done 627 files\r done 628 files\r done 629 files\r done 630 files\r done 631 files\r done 632 files\r done 633 files\r done 634 files\r done 635 files\r done 636 files\r done 637 files\r done 638 files\r done 639 files\r done 640 files\r done 641 files\r done 642 files\r done 643 files\r done 644 files\r done 645 files\r done 646 files\r done 647 files\r done 648 files\r done 649 files\r done 650 files\r done 651 files\r done 652 files\r done 653 files\r done 654 files\r done 655 files\r done 656 files\r done 657 files\r done 658 files\r done 659 files\r done 660 files\r done 661 files\r done 662 files\r done 663 files\r done 664 files\r done 665 files\r done 666 files\r done 667 files\r done 668 files\r done 669 files\r done 670 files\r done 671 files\r done 672 files\r done 673 files\r done 674 files\r done 675 files\r done 676 files\r done 677 files\r done 678 files\r done 679 files\r done 680 files\r done 681 files\r done 682 files\r done 683 files\r done 684 files\r done 685 files\r done 686 files\r done 687 files\r done 688 files\r done 689 files\r done 690 files\r done 691 files\r done 692 files\r done 693 files\r done 694 files\r done 695 files\r done 696 files\r done 697 files\r done 698 files\r done 699 files\r done 700 files\r done 701 files\r done 702 files"
     ]
    },
    {
     "data": {
      "text/plain": [
       "array([[0., 0., 0., ..., 0., 0., 0.],\n",
       "       [0., 0., 0., ..., 0., 0., 0.],\n",
       "       [0., 0., 0., ..., 0., 0., 0.],\n",
       "       ...,\n",
       "       [0., 0., 0., ..., 0., 0., 0.],\n",
       "       [0., 0., 0., ..., 0., 0., 0.],\n",
       "       [0., 1., 0., ..., 0., 0., 0.]])"
      ]
     },
     "execution_count": 3,
     "metadata": {},
     "output_type": "execute_result"
    }
   ],
   "source": [
    "# Create a dictionary of words with its frequency\n",
    "features_matrix = extract_features(\"ling-spam/train-mails\")\n",
    "features_matrix"
   ]
  },
  {
   "cell_type": "code",
   "execution_count": 4,
   "metadata": {},
   "outputs": [
    {
     "name": "stdout",
     "output_type": "stream",
     "text": [
      "(702, 3000)\n",
      "1414.0\n",
      "8.0\n"
     ]
    }
   ],
   "source": [
    "print(features_matrix.shape)\n",
    "print(features_matrix[:, 0].sum())\n",
    "print(features_matrix[:, -1].sum())"
   ]
  },
  {
   "cell_type": "code",
   "execution_count": 5,
   "metadata": {},
   "outputs": [
    {
     "name": "stdout",
     "output_type": "stream",
     "text": [
      "260\n",
      "\r done 1 files\r done 2 files\r done 3 files\r done 4 files\r done 5 files\r done 6 files\r done 7 files\r done 8 files\r done 9 files\r done 10 files\r done 11 files\r done 12 files\r done 13 files\r done 14 files\r done 15 files\r done 16 files\r done 17 files\r done 18 files\r done 19 files\r done 20 files\r done 21 files\r done 22 files\r done 23 files\r done 24 files\r done 25 files\r done 26 files\r done 27 files\r done 28 files\r done 29 files\r done 30 files\r done 31 files\r done 32 files\r done 33 files\r done 34 files\r done 35 files\r done 36 files\r done 37 files\r done 38 files\r done 39 files\r done 40 files\r done 41 files\r done 42 files\r done 43 files\r done 44 files\r done 45 files\r done 46 files\r done 47 files\r done 48 files\r done 49 files\r done 50 files\r done 51 files\r done 52 files\r done 53 files\r done 54 files\r done 55 files\r done 56 files\r done 57 files\r done 58 files\r done 59 files\r done 60 files\r done 61 files\r done 62 files\r done 63 files\r done 64 files\r done 65 files\r done 66 files\r done 67 files\r done 68 files\r done 69 files\r done 70 files\r done 71 files\r done 72 files\r done 73 files\r done 74 files\r done 75 files\r done 76 files\r done 77 files\r done 78 files\r done 79 files\r done 80 files\r done 81 files\r done 82 files\r done 83 files\r done 84 files\r done 85 files\r done 86 files\r done 87 files\r done 88 files\r done 89 files\r done 90 files\r done 91 files\r done 92 files\r done 93 files\r done 94 files\r done 95 files\r done 96 files\r done 97 files\r done 98 files\r done 99 files\r done 100 files\r done 101 files\r done 102 files\r done 103 files\r done 104 files\r done 105 files\r done 106 files\r done 107 files\r done 108 files\r done 109 files\r done 110 files\r done 111 files\r done 112 files\r done 113 files\r done 114 files\r done 115 files\r done 116 files\r done 117 files\r done 118 files\r done 119 files\r done 120 files\r done 121 files\r done 122 files\r done 123 files\r done 124 files\r done 125 files\r done 126 files\r done 127 files\r done 128 files\r done 129 files\r done 130 files\r done 131 files\r done 132 files\r done 133 files\r done 134 files\r done 135 files\r done 136 files\r done 137 files\r done 138 files\r done 139 files\r done 140 files\r done 141 files\r done 142 files\r done 143 files\r done 144 files\r done 145 files\r done 146 files\r done 147 files\r done 148 files\r done 149 files\r done 150 files\r done 151 files\r done 152 files\r done 153 files\r done 154 files\r done 155 files\r done 156 files\r done 157 files\r done 158 files\r done 159 files\r done 160 files\r done 161 files\r done 162 files\r done 163 files\r done 164 files\r done 165 files\r done 166 files\r done 167 files\r done 168 files\r done 169 files\r done 170 files\r done 171 files\r done 172 files\r done 173 files\r done 174 files\r done 175 files\r done 176 files\r done 177 files\r done 178 files\r done 179 files\r done 180 files\r done 181 files\r done 182 files\r done 183 files\r done 184 files\r done 185 files\r done 186 files\r done 187 files\r done 188 files\r done 189 files\r done 190 files\r done 191 files\r done 192 files\r done 193 files\r done 194 files\r done 195 files\r done 196 files\r done 197 files\r done 198 files\r done 199 files\r done 200 files\r done 201 files\r done 202 files\r done 203 files\r done 204 files\r done 205 files\r done 206 files\r done 207 files\r done 208 files\r done 209 files\r done 210 files\r done 211 files\r done 212 files\r done 213 files\r done 214 files\r done 215 files\r done 216 files\r done 217 files\r done 218 files\r done 219 files\r done 220 files\r done 221 files\r done 222 files\r done 223 files\r done 224 files\r done 225 files\r done 226 files\r done 227 files\r done 228 files\r done 229 files\r done 230 files\r done 231 files\r done 232 files\r done 233 files\r done 234 files\r done 235 files\r done 236 files\r done 237 files\r done 238 files\r done 239 files\r done 240 files\r done 241 files\r done 242 files\r done 243 files\r done 244 files\r done 245 files\r done 246 files\r done 247 files\r done 248 files\r done 249 files\r done 250 files\r done 251 files\r done 252 files\r done 253 files\r done 254 files\r done 255 files\r done 256 files\r done 257 files\r done 258 files\r done 259 files\r done 260 files"
     ]
    },
    {
     "data": {
      "text/plain": [
       "array([[ 1.,  0.,  0.,  0.,  0.],\n",
       "       [ 1.,  1.,  0.,  0.,  0.],\n",
       "       [ 1.,  0.,  0.,  0.,  0.],\n",
       "       ...,\n",
       "       [ 0.,  0.,  0.,  0.,  0.],\n",
       "       [ 0.,  0.,  0.,  0.,  0.],\n",
       "       [17.,  2.,  0.,  5.,  0.]])"
      ]
     },
     "execution_count": 5,
     "metadata": {},
     "output_type": "execute_result"
    }
   ],
   "source": [
    "test_matrix = extract_features(\"ling-spam/test-mails\")\n",
    "test_matrix[:, :5]"
   ]
  },
  {
   "cell_type": "markdown",
   "metadata": {
    "pycharm": {
     "name": "#%% md\n"
    }
   },
   "source": [
    "### 4) Training the Classifiers\n",
    "Here you should write your Naïve Bayes classifiers after fully understanding its principle."
   ]
  },
  {
   "cell_type": "code",
   "execution_count": 6,
   "metadata": {},
   "outputs": [],
   "source": [
    "def get_label(path):\n",
    "    \"\"\"find whether the mail is spam or not. Returns a list of labels. \"\"\"\n",
    "    emails = [os.path.join(path,f) for f in os.listdir(path)]\n",
    "    y_label = []\n",
    "    for email in emails:\n",
    "        y_label.append(1 if 'spmsg' in email else 0)\n",
    "    return y_label"
   ]
  },
  {
   "cell_type": "code",
   "execution_count": 7,
   "metadata": {
    "pycharm": {
     "name": "#%%\n"
    }
   },
   "outputs": [
    {
     "data": {
      "text/plain": [
       "((702, 3000), 702)"
      ]
     },
     "execution_count": 7,
     "metadata": {},
     "output_type": "execute_result"
    }
   ],
   "source": [
    "########### Write Your Code Here ###########\n",
    "# Prepare feature vectors per training mail and its labels\n",
    "X_train = features_matrix\n",
    "y_train = get_label(\"ling-spam/train-mails\")\n",
    "############################################\n",
    "X_train.shape, len(y_train)"
   ]
  },
  {
   "cell_type": "code",
   "execution_count": 8,
   "metadata": {
    "pycharm": {
     "name": "#%%\n"
    }
   },
   "outputs": [
    {
     "data": {
      "text/plain": [
       "((260, 3000), 260)"
      ]
     },
     "execution_count": 8,
     "metadata": {},
     "output_type": "execute_result"
    }
   ],
   "source": [
    "########### Write Your Code Here ###########\n",
    "# Prepare feature vectors per testing mail and its labels\n",
    "X_test = test_matrix\n",
    "y_test = get_label(\"ling-spam/test-mails\")\n",
    "############################################\n",
    "X_test.shape, len(y_test)"
   ]
  },
  {
   "cell_type": "code",
   "execution_count": 9,
   "metadata": {},
   "outputs": [
    {
     "data": {
      "text/plain": [
       "(351, 130)"
      ]
     },
     "execution_count": 9,
     "metadata": {},
     "output_type": "execute_result"
    }
   ],
   "source": [
    "sum(y_train), sum(y_test)"
   ]
  },
  {
   "cell_type": "code",
   "execution_count": 11,
   "metadata": {},
   "outputs": [
    {
     "data": {
      "text/plain": [
       "array([0, 1])"
      ]
     },
     "execution_count": 11,
     "metadata": {},
     "output_type": "execute_result"
    }
   ],
   "source": [
    "np.unique(y_train)"
   ]
  },
  {
   "cell_type": "markdown",
   "metadata": {
    "pycharm": {
     "name": "#%% md\n"
    }
   },
   "source": [
    "### 5) Implementation of the Naive Bayes algorithm\n",
    "\n",
    "Complete the code for naive Bayes algorithm in `predict` function.\n"
   ]
  },
  {
   "cell_type": "code",
   "execution_count": 27,
   "metadata": {
    "pycharm": {
     "name": "#%%\n"
    }
   },
   "outputs": [],
   "source": [
    "\n",
    "########### Write Your Code Here ###########\n",
    "class NaiveBayes():\n",
    "    def __init__(self, epsilon=1e-1):\n",
    "      self.epsilon = epsilon\n",
    "      self.parameters = {}\n",
    "      self.classes_ = []\n",
    "    def fit(self, X, y):\n",
    "        # var出现0的时候有很大问题，模型会认为这个特征必须是某个值，其他值就以为一定不是这个类。\n",
    "        # 为了避免这个问题，我们可以在var上加一个很小的值，但是怎么加不能乱搞。\n",
    "        # 主要考虑两个问题\n",
    "        # 1. 不同特征之间的公平性。\n",
    "        # 2. 不同类别之间的公平性。\n",
    "        # 首先，原本的公式是对的，本质上只不过是我们样本量不够，所以才让模型不适用，方差为0。\n",
    "        # 最终我们考虑的是P(x1|c=0)*P(x2|c=0)和P(x1|c=1)*P(x2|c=1)的大小，所以我们只需要保证这两个概率的大小关系不变就可以了。\n",
    "        # 不妨认为平均值都是0.\n",
    "        # 违反公平性1.的例子：P(x1|c=0)方差为0.8，其他都为0。我们给其他加了方差，数值上升为0.8，决策性上升，但是这个升幅是不公平的，c很容易归类为0。\n",
    "        # 违反公平性2.的例子：P(x1|c=0)方差为0，P(x1|c=1)方差为0.8。我们给他加了方差，数值上升为0.8，决策性上升，但是这个升幅是不公平的。\n",
    "        # 由于朴素假设，我们暂时不考虑公平性1.\n",
    "        # 单独考虑特征1， P(x1|c=0)和P(x1|c=1)。 前者方差为0，后者方差为1， 先验是0.6, 0.4\n",
    "        # 我们人工添加一些数据，我们可以按照P(x1)的总分布，添加n个数据，按照先验概率，直到前者方差不再是0。\n",
    "        y = np.array(y).astype(int)\n",
    "        self.X = X\n",
    "        self.y = y\n",
    "        self.classes_ = np.unique(y) # 得到数字列表[0,1]表示0,1这两类。\n",
    "        self.parameters = {'mean':np.mean(X, axis=0, keepdims=False), 'var':np.var(X, axis=0, keepdims=False)} # 总的方差，用来补全数据。\n",
    "        for i, c in enumerate(self.classes_): # 对每一类进行分析，得到似然概率P(x|c)和先验概率P(c)。\n",
    "            # Calculate the mean, variance, prior probability of each class\n",
    "            X_Index_c = X[np.where(y == c)]\n",
    "            # keepdims=True的话，得到的是[[1,2,3,..., n]]，否则得到的是[1,2,3,..., n]\n",
    "            X_index_c_mean = np.mean(X_Index_c, axis=0, keepdims=False) # axis=0表示 每一列求均值。得到一行向量。\n",
    "            X_index_c_var = np.var(X_Index_c, axis=0, keepdims=False)   # axis=0表示 每一列求方差。得到一行向量。\n",
    "            parameters = {\"mean\": X_index_c_mean, \"var\": X_index_c_var, \"prior\": X_Index_c.shape[0] / X.shape[0]}\n",
    "            self.parameters[\"class\" + str(c)] = parameters\n",
    "        \n",
    "        # for i, c in enumerate(self.classes_):\n",
    "        #     parameters = self.parameters[\"class\" + str(c)]\n",
    "        #     mean = parameters['mean']\n",
    "        #     var = parameters['var']\n",
    "        #     is_zero = (var==0)\n",
    "        #     data_size = X.shape[0] # 可信度。\n",
    "        #     while is_zero.any():\n",
    "        #         self.parameters['var'][is_zero] # 用总的方差补全。\n",
    "        #         is_zero = (var==0)\n",
    "        #         data_size+=1 # 增加了一个数据。\n",
    "\n",
    "        for i, c in enumerate(self.classes_):\n",
    "            parameters = self.parameters[\"class\" + str(c)]\n",
    "            mean = parameters['mean']\n",
    "            var = parameters['var']\n",
    "            epsilon = self.epsilon\n",
    "            # 实验： \n",
    "            # epsilon = 1e-3\n",
    "            # epsilon = 1e-2\n",
    "            # epsilon = 1e-1 # -1最好\n",
    "            # epsilon = 1e0\n",
    "            var[var==0] = self.parameters['var'][var==0]*epsilon # 用总的方差补全。\n",
    "    def get_params(self, deep=False): \n",
    "        \"\"\"为了网格搜索调参，需要实现这个函数。假装是sk家族的一员。\"\"\"\n",
    "        return self.parameters\n",
    "    def set_params(self, **parameters):\n",
    "        self.parameters = parameters\n",
    "    def predict(self, X):\n",
    "        class_logs = self.predict_proba(X)\n",
    "        best_class = np.argmax(class_logs, axis=1)\n",
    "        return best_class\n",
    "    def predict_proba_best(self, X):\n",
    "        class_logs = self.predict_proba(X)\n",
    "        best_prob = np.max(class_logs, axis=1)\n",
    "        return best_prob\n",
    "        # best_class = np.argmax(class_logs, axis=1)\n",
    "        # print(class_logs)\n",
    "        # return class_logs[:, best_class]\n",
    "    def predict_proba(self, X):\n",
    "        # return class with highest probability\n",
    "        X = np.array(X) # 确保类型正确。\n",
    "        # prediction = X.shape[0]\n",
    "        class_logs = []\n",
    "        for i, c in enumerate(self.classes_):\n",
    "            parameters = self.parameters[\"class\" + str(c)]\n",
    "            mean = parameters[\"mean\"]\n",
    "            var = parameters[\"var\"]\n",
    "            logs = np.sum(self.log_gaussian_prob(mean, var, X), axis = 1, keepdims=True)\n",
    "            class_logs.append(logs)\n",
    "        class_logs = np.hstack(class_logs)\n",
    "        return class_logs\n",
    "        \n",
    "    \n",
    "    \n",
    "\n",
    "    def log_gaussian_prob(self, mean, var, x):\n",
    "        return -0.5*np.log(2 * np.pi * var) - (x - mean) ** 2 / (2 * var)\n",
    "\n",
    "\n",
    "############################################"
   ]
  },
  {
   "cell_type": "code",
   "execution_count": null,
   "metadata": {},
   "outputs": [
    {
     "name": "stdout",
     "output_type": "stream",
     "text": [
      "class 0\n",
      "\tvar 332\n",
      "class 1\n",
      "\tvar 515\n"
     ]
    }
   ],
   "source": [
    "from scipy import stats\n",
    "class NaiveBayesUnitTest():\n",
    "    def test_fit(self):\n",
    "        nb = NaiveBayes(0)\n",
    "        nb.fit(X_train, y_train)\n",
    "        for i, c in enumerate(nb.classes_):\n",
    "            parameters = nb.parameters[\"class\" + str(c)]\n",
    "            mean = parameters[\"mean\"]\n",
    "            var = parameters[\"var\"]\n",
    "            print(\"class\", c)\n",
    "            # print(\"\\tmean\", mean)\n",
    "            # print(\"\\tvar\", var)\n",
    "            print(\"\\tvar\", np.count_nonzero(var==0))\n",
    "        # mean0 = nb.parameters[\"class0\"][\"mean\"]\n",
    "        # print(stats.describe(mean0))\n",
    "        # var0 = nb.parameters[\"class0\"][\"var\"]\n",
    "        # print(stats.describe(var0))\n",
    "    def test_predict_proba(self):\n",
    "        nb = NaiveBayes()\n",
    "        nb.fit(X_train, y_train)\n",
    "        result = nb.predict_proba(X_test)\n",
    "        print(result)\n",
    "nbt = NaiveBayesUnitTest()\n",
    "nbt.test_fit()\n",
    "# nbt.test_predict_proba()"
   ]
  },
  {
   "cell_type": "code",
   "execution_count": 29,
   "metadata": {
    "pycharm": {
     "name": "#%%\n"
    }
   },
   "outputs": [
    {
     "data": {
      "text/plain": [
       "<sklearn.metrics._plot.confusion_matrix.ConfusionMatrixDisplay at 0x205deefddc0>"
      ]
     },
     "execution_count": 29,
     "metadata": {},
     "output_type": "execute_result"
    },
    {
     "data": {
      "image/png": "[encoded data removed]",
      "text/plain": [
       "<Figure size 432x288 with 2 Axes>"
      ]
     },
     "metadata": {
      "needs_background": "light"
     },
     "output_type": "display_data"
    }
   ],
   "source": [
    "from sklearn.metrics import confusion_matrix, ConfusionMatrixDisplay\n",
    "import matplotlib.pyplot as plt\n",
    "\n",
    "#Call the Naive Bayes algorithm, which we wrote ourselves\n",
    "model = NaiveBayes()\n",
    "model.fit(X_train,y_train) \n",
    "result = model.predict(X_train)\n",
    "cm = confusion_matrix(y_train, result, labels=model.classes_)\n",
    "disp = ConfusionMatrixDisplay(confusion_matrix=cm, display_labels=model.classes_)\n",
    "disp.plot()"
   ]
  },
  {
   "cell_type": "markdown",
   "metadata": {
    "pycharm": {
     "name": "#%% md\n"
    }
   },
   "source": [
    "### 5) Checking the results on test set\n",
    "The test set contains 130 spam emails and 130 non-spam emails. Please compute accuracy, recall, F-1 score to evaluate the performance of your spam filter."
   ]
  },
  {
   "cell_type": "code",
   "execution_count": 31,
   "metadata": {
    "pycharm": {
     "name": "#%%\n"
    }
   },
   "outputs": [],
   "source": [
    "########### Write Your Code Here ###########\n",
    "from sklearn.metrics import accuracy_score, recall_score, f1_score, confusion_matrix, ConfusionMatrixDisplay\n",
    "import matplotlib.pyplot as plt\n",
    "from scipy import stats\n",
    "def evaluate(model, algs_name='My Naive Bayes'):\n",
    "    result = model.predict(X_test)\n",
    "    print(f\"accuracy={accuracy_score(y_test, result)}\") \n",
    "    print(f\"recall={recall_score(y_test, result)}\") # 对垃圾邮件的敏感程度。出现一个垃圾邮件，检测出来的概率。\n",
    "    print(f\"f1={f1_score(y_test, result)}\")\n",
    "    cm = confusion_matrix(y_test, result, labels=model.classes_)\n",
    "    disp = ConfusionMatrixDisplay(confusion_matrix=cm, display_labels=model.classes_)\n",
    "    disp.plot()\n",
    "    plt.show()\n",
    "\n",
    "    plt.figure()\n",
    "    from sklearn.metrics import roc_curve\n",
    "    proba = model.predict_proba(X_test)[:, 1]\n",
    "    # proba = model.predict_log_proba(X_test)[:, 1]\n",
    "    print(f\"proba description:{stats.describe(proba)}\")\n",
    "    fpr, tpr, thresholds = roc_curve(y_test, proba, pos_label=1)\n",
    "    plt.plot(fpr, tpr, color='orange', label='ROC')\n",
    "    # print(f'fpr={fpr}, ter={tpr}, thresholds={thresholds}')\n",
    "    plt.plot([0, 1], [0, 1], color='darkblue', linestyle='--')\n",
    "    plt.xlabel('False Positive Rate')\n",
    "    plt.ylabel('True Positive Rate')\n",
    "    plt.title(f'Receiver Operating Characteristic Curve for {algs_name}')\n",
    "    plt.legend()\n",
    "    plt.show()\n",
    "############################################"
   ]
  },
  {
   "cell_type": "code",
   "execution_count": 30,
   "metadata": {},
   "outputs": [
    {
     "name": "stdout",
     "output_type": "stream",
     "text": [
      "accuracy=0.9807692307692307\n",
      "recall=0.9615384615384616\n",
      "f1=0.9803921568627451\n"
     ]
    },
    {
     "data": {
      "image/png": "[encoded data removed]",
      "text/plain": [
       "<Figure size 432x288 with 2 Axes>"
      ]
     },
     "metadata": {
      "needs_background": "light"
     },
     "output_type": "display_data"
    },
    {
     "ename": "AttributeError",
     "evalue": "'NaiveBayes' object has no attribute 'predict_log_proba'",
     "output_type": "error",
     "traceback": [
      "\u001b[1;31m---------------------------------------------------------------------------\u001b[0m",
      "\u001b[1;31mAttributeError\u001b[0m                            Traceback (most recent call last)",
      "\u001b[1;32md:\\EnglishStandardPath\\Practice_File\\22_fall\\P_Machine_Learning\\SUSTech-Machine-Learning-Lab-Solutions\\Solutions\\Lab3.Naïve-Bayes\\Lab3.Naïve-Bayes.ipynb Cell 22\u001b[0m in \u001b[0;36m<cell line: 1>\u001b[1;34m()\u001b[0m\n\u001b[1;32m----> <a href='vscode-notebook-cell:/d%3A/EnglishStandardPath/Practice_File/22_fall/P_Machine_Learning/SUSTech-Machine-Learning-Lab-Solutions/Solutions/Lab3.Na%C3%AFve-Bayes/Lab3.Na%C3%AFve-Bayes.ipynb#X30sZmlsZQ%3D%3D?line=0'>1</a>\u001b[0m evaluate(model)\n",
      "\u001b[1;32md:\\EnglishStandardPath\\Practice_File\\22_fall\\P_Machine_Learning\\SUSTech-Machine-Learning-Lab-Solutions\\Solutions\\Lab3.Naïve-Bayes\\Lab3.Naïve-Bayes.ipynb Cell 22\u001b[0m in \u001b[0;36mevaluate\u001b[1;34m(model, algs_name)\u001b[0m\n\u001b[0;32m     <a href='vscode-notebook-cell:/d%3A/EnglishStandardPath/Practice_File/22_fall/P_Machine_Learning/SUSTech-Machine-Learning-Lab-Solutions/Solutions/Lab3.Na%C3%AFve-Bayes/Lab3.Na%C3%AFve-Bayes.ipynb#X30sZmlsZQ%3D%3D?line=15'>16</a>\u001b[0m \u001b[39mfrom\u001b[39;00m \u001b[39msklearn\u001b[39;00m\u001b[39m.\u001b[39;00m\u001b[39mmetrics\u001b[39;00m \u001b[39mimport\u001b[39;00m roc_curve\n\u001b[0;32m     <a href='vscode-notebook-cell:/d%3A/EnglishStandardPath/Practice_File/22_fall/P_Machine_Learning/SUSTech-Machine-Learning-Lab-Solutions/Solutions/Lab3.Na%C3%AFve-Bayes/Lab3.Na%C3%AFve-Bayes.ipynb#X30sZmlsZQ%3D%3D?line=16'>17</a>\u001b[0m \u001b[39m# proba = model.predict_proba(X_test)[:, 1]\u001b[39;00m\n\u001b[1;32m---> <a href='vscode-notebook-cell:/d%3A/EnglishStandardPath/Practice_File/22_fall/P_Machine_Learning/SUSTech-Machine-Learning-Lab-Solutions/Solutions/Lab3.Na%C3%AFve-Bayes/Lab3.Na%C3%AFve-Bayes.ipynb#X30sZmlsZQ%3D%3D?line=17'>18</a>\u001b[0m proba \u001b[39m=\u001b[39m model\u001b[39m.\u001b[39;49mpredict_log_proba(X_test)[:, \u001b[39m1\u001b[39m]\n\u001b[0;32m     <a href='vscode-notebook-cell:/d%3A/EnglishStandardPath/Practice_File/22_fall/P_Machine_Learning/SUSTech-Machine-Learning-Lab-Solutions/Solutions/Lab3.Na%C3%AFve-Bayes/Lab3.Na%C3%AFve-Bayes.ipynb#X30sZmlsZQ%3D%3D?line=18'>19</a>\u001b[0m \u001b[39mprint\u001b[39m(\u001b[39mf\u001b[39m\u001b[39m\"\u001b[39m\u001b[39mproba description:\u001b[39m\u001b[39m{\u001b[39;00mstats\u001b[39m.\u001b[39mdescribe(proba)\u001b[39m}\u001b[39;00m\u001b[39m\"\u001b[39m)\n\u001b[0;32m     <a href='vscode-notebook-cell:/d%3A/EnglishStandardPath/Practice_File/22_fall/P_Machine_Learning/SUSTech-Machine-Learning-Lab-Solutions/Solutions/Lab3.Na%C3%AFve-Bayes/Lab3.Na%C3%AFve-Bayes.ipynb#X30sZmlsZQ%3D%3D?line=19'>20</a>\u001b[0m fpr, tpr, thresholds \u001b[39m=\u001b[39m roc_curve(y_test, proba, pos_label\u001b[39m=\u001b[39m\u001b[39m1\u001b[39m)\n",
      "\u001b[1;31mAttributeError\u001b[0m: 'NaiveBayes' object has no attribute 'predict_log_proba'"
     ]
    },
    {
     "data": {
      "text/plain": [
       "<Figure size 432x288 with 0 Axes>"
      ]
     },
     "metadata": {},
     "output_type": "display_data"
    }
   ],
   "source": [
    "evaluate(model)"
   ]
  },
  {
   "cell_type": "markdown",
   "metadata": {
    "pycharm": {
     "name": "#%% md\n"
    }
   },
   "source": [
    "### Exercise 2 Compare your Naïve Bayes algorithm with GassianNB from Sklearn, which one does better? Where is the gap?"
   ]
  },
  {
   "cell_type": "code",
   "execution_count": 32,
   "metadata": {
    "pycharm": {
     "name": "#%%\n"
    }
   },
   "outputs": [
    {
     "name": "stdout",
     "output_type": "stream",
     "text": [
      "accuracy=0.9615384615384616\n",
      "recall=0.9307692307692308\n",
      "f1=0.9603174603174605\n"
     ]
    },
    {
     "data": {
      "image/png": "[encoded data removed]",
      "text/plain": [
       "<Figure size 432x288 with 2 Axes>"
      ]
     },
     "metadata": {
      "needs_background": "light"
     },
     "output_type": "display_data"
    },
    {
     "name": "stdout",
     "output_type": "stream",
     "text": [
      "proba description:DescribeResult(nobs=260, minmax=(0.0, 1.0), mean=0.46923076923076923, variance=0.2500148500148501, skewness=0.12331063213729505, kurtosis=-1.984794488001901)\n"
     ]
    },
    {
     "data": {
      "image/png": "[encoded data removed]",
      "text/plain": [
       "<Figure size 432x288 with 1 Axes>"
      ]
     },
     "metadata": {
      "needs_background": "light"
     },
     "output_type": "display_data"
    }
   ],
   "source": [
    "########### Write Your Code Here ###########\n",
    "from sklearn.naive_bayes import GaussianNB\n",
    "clf = GaussianNB()\n",
    "clf.fit(X_train, y_train)\n",
    "evaluate(clf, 'sklearn GaussianNB')\n",
    "############################################"
   ]
  },
  {
   "cell_type": "code",
   "execution_count": null,
   "metadata": {},
   "outputs": [],
   "source": [
    "import naive_bayes\n",
    "clf = naive_bayes.GaussianNB()\n",
    "clf.fit(X_train, y_train)\n",
    "evaluate(clf, 'Imporved GaussianNB')"
   ]
  },
  {
   "cell_type": "code",
   "execution_count": 23,
   "metadata": {},
   "outputs": [
    {
     "data": {
      "text/plain": [
       "(138, 260)"
      ]
     },
     "execution_count": 23,
     "metadata": {},
     "output_type": "execute_result"
    }
   ],
   "source": [
    "log = clf.predict_log_proba(X_test)[:, 1]\n",
    "len(np.unique(log)), len(log)"
   ]
  },
  {
   "cell_type": "code",
   "execution_count": 33,
   "metadata": {},
   "outputs": [
    {
     "data": {
      "text/plain": [
       "DescribeResult(nobs=260, minmax=(-9822429085.857004, 0.0), mean=-669127228.963059, variance=2.1199640717970184e+18, skewness=-3.4835112019005625, kurtosis=13.664357381637018)"
      ]
     },
     "execution_count": 33,
     "metadata": {},
     "output_type": "execute_result"
    }
   ],
   "source": [
    "stats.describe(log)"
   ]
  },
  {
   "cell_type": "code",
   "execution_count": 24,
   "metadata": {},
   "outputs": [
    {
     "data": {
      "text/plain": [
       "(2, 260)"
      ]
     },
     "execution_count": 24,
     "metadata": {},
     "output_type": "execute_result"
    }
   ],
   "source": [
    "prob = clf.predict_proba(X_test)[:, 1]\n",
    "len(np.unique(prob)), len(prob)"
   ]
  },
  {
   "cell_type": "markdown",
   "metadata": {},
   "source": [
    "答：我的朴素贝叶斯算法更好。因为我有一个参数epsilon可以调整，就是方差为0的时候，用特征总方差*epsilon代替。\n",
    "我对这个参数进行了调参，让它训练集上表现最好，然后才到测试集上测试。而sklearn的GaussianNB我没有进行调参，所以默认参数没那么好。\n",
    "我的proba用的是log后的，sklearn输出的是原本的概率。"
   ]
  },
  {
   "cell_type": "code",
   "execution_count": null,
   "metadata": {},
   "outputs": [
    {
     "name": "stdout",
     "output_type": "stream",
     "text": [
      "accuracy=0.9615384615384616\n",
      "recall=0.9307692307692308\n",
      "f1=0.9603174603174605\n"
     ]
    },
    {
     "data": {
      "image/png": "[encoded data removed]",
      "text/plain": [
       "<Figure size 432x288 with 2 Axes>"
      ]
     },
     "metadata": {
      "needs_background": "light"
     },
     "output_type": "display_data"
    },
    {
     "name": "stdout",
     "output_type": "stream",
     "text": [
      "proba description:DescribeResult(nobs=260, minmax=(0.0, 1.0), mean=0.46923076923076923, variance=0.2500148500148501, skewness=0.12331063213729505, kurtosis=-1.984794488001901)\n"
     ]
    },
    {
     "data": {
      "image/png": "[encoded data removed]",
      "text/plain": [
       "<Figure size 432x288 with 1 Axes>"
      ]
     },
     "metadata": {
      "needs_background": "light"
     },
     "output_type": "display_data"
    },
    {
     "data": {
      "text/plain": [
       "{'priors': [0.5, 0.5], 'var_smoothing': 1e-11}"
      ]
     },
     "execution_count": 138,
     "metadata": {},
     "output_type": "execute_result"
    }
   ],
   "source": [
    "# 既然调参很重要，那么我们就来学习一下如何对sklearn进行调参，从而打败我1h写出来的朴素贝叶斯分类器。\n",
    "# 首先查阅文档，发现sklearn的朴素贝叶斯分类器有一个参数，叫做var_smoothing，它的默认值是1e-9。\n",
    "# sklearn是这样算的，所有的特征，不管类别，的最大方差*var_smoothing，就是0方差的修正方差。\n",
    "# 我的算法是管类别的。\n",
    "# 另一个参数是priors，它是一个列表，表示每个类别的先验概率，如果指定了，就不从数据中计算了。\n",
    "\n",
    "from sklearn.model_selection import GridSearchCV\n",
    "parameters = {'priors':[[0.5, 0.5], [0.6, 0.4], [0.7, 0.3], [0.8, 0.2]], 'var_smoothing':[1e-13, 1e-11, 1e-9, 1e-7, 1e-5, 1e-3]}\n",
    "gnb = GaussianNB()\n",
    "clf = GridSearchCV(gnb, parameters, cv=5, n_jobs=8)\n",
    "clf.fit(X_train, y_train)\n",
    "evaluate(clf, 'sklearn GaussianNB with GridSearchCV')\n",
    "clf.best_params_"
   ]
  },
  {
   "cell_type": "code",
   "execution_count": null,
   "metadata": {},
   "outputs": [
    {
     "name": "stdout",
     "output_type": "stream",
     "text": [
      "accuracy=0.9615384615384616\n",
      "recall=0.9307692307692308\n",
      "f1=0.9603174603174605\n"
     ]
    },
    {
     "data": {
      "image/png": "[encoded data removed]",
      "text/plain": [
       "<Figure size 432x288 with 2 Axes>"
      ]
     },
     "metadata": {
      "needs_background": "light"
     },
     "output_type": "display_data"
    },
    {
     "name": "stdout",
     "output_type": "stream",
     "text": [
      "proba description:DescribeResult(nobs=260, minmax=(0.0, 1.0), mean=0.46923076923076923, variance=0.2500148500148501, skewness=0.12331063213729505, kurtosis=-1.984794488001901)\n"
     ]
    },
    {
     "data": {
      "image/png": "[encoded data removed]",
      "text/plain": [
       "<Figure size 432x288 with 1 Axes>"
      ]
     },
     "metadata": {
      "needs_background": "light"
     },
     "output_type": "display_data"
    },
    {
     "data": {
      "text/plain": [
       "{'priors': [0.5, 0.5], 'var_smoothing': 5e-12}"
      ]
     },
     "execution_count": 127,
     "metadata": {},
     "output_type": "execute_result"
    }
   ],
   "source": [
    "# 初步结论是先验还是不动比较好，然后var_smoothing 太大了不好。我们缩小搜索范围试试\n",
    "parameters = {'priors':[[0.5, 0.5]], 'var_smoothing':[1e-12,5e-12, 1e-11, 5e-11, 1e-10, 1e-9]}\n",
    "gnb = GaussianNB()\n",
    "clf = GridSearchCV(gnb, parameters, cv=5, n_jobs=8)\n",
    "clf.fit(X_train, y_train)\n",
    "evaluate(clf, 'sklearn GaussianNB with GridSearchCV')\n",
    "clf.best_params_"
   ]
  },
  {
   "cell_type": "markdown",
   "metadata": {},
   "source": [
    "可惜的是，经过调参，sklearn还是打不过我。\n",
    "很显然，sklearn的假设没有我的准确，sklearn假设0方差的变量的方差是所有特征中最大的那个方差。\n",
    "我们可是有3000个特征啊，这个判断很武断！\n",
    "\n",
    "\n",
    "我的假设是如果一个类别的一个特征的方差是0，我们先再同一个特征下考虑清楚，把方差设置为这个特征总的方差（两个类别都包括进来） 。如果真的总的方差都是0，那干脆别用这个这特征了，这个特征对于分类没有用。因为你也知道的，我们的求的概率在这个特征上做的决策，是两种类别下概率的相对比较而已，这个类别下两个概率都是0，那相当于没有这个特征，很有道理吧！\n",
    "\n",
    "\n",
    "我的假设也有一定的不准确的，我没有考虑先验怎么影响他们的方差设计，但是比sklearn的假设还是好多了。我能不能用这个做一个科研呢，能不能发论文、给sklearn提交pr什么的？"
   ]
  },
  {
   "cell_type": "code",
   "execution_count": null,
   "metadata": {},
   "outputs": [
    {
     "name": "stdout",
     "output_type": "stream",
     "text": [
      "==================================================================================\n",
      "gen|  eval  |    f_opt    |    f_max    |    f_avg    |    f_min    |    f_std    \n",
      "----------------------------------------------------------------------------------\n",
      " 0 |   16   | 9.80769E-01 | 9.80769E-01 | 7.69952E-01 | 5.07692E-01 | 1.65766E-01 \n",
      " 1 |   32   | 9.80769E-01 | 9.80769E-01 | 9.25721E-01 | 8.19231E-01 | 6.48410E-02 \n",
      " 2 |   48   | 9.80769E-01 | 9.80769E-01 | 9.71394E-01 | 9.61538E-01 | 9.11879E-03 \n",
      " 3 |   64   | 9.80769E-01 | 9.80769E-01 | 9.80288E-01 | 9.76923E-01 | 1.27200E-03 \n",
      " 4 |   80   | 9.80769E-01 | 9.80769E-01 | 9.80769E-01 | 9.80769E-01 | 0.00000E+00 \n",
      " 5 |   96   | 9.80769E-01 | 9.80769E-01 | 9.80769E-01 | 9.80769E-01 | 0.00000E+00 \n",
      " 6 |  112   | 9.80769E-01 | 9.80769E-01 | 9.80769E-01 | 9.80769E-01 | 0.00000E+00 \n",
      " 7 |  128   | 9.80769E-01 | 9.80769E-01 | 9.80769E-01 | 9.80769E-01 | 0.00000E+00 \n",
      " 8 |  144   | 9.80769E-01 | 9.80769E-01 | 9.80769E-01 | 9.80769E-01 | 0.00000E+00 \n",
      " 9 |  160   | 9.80769E-01 | 9.80769E-01 | 9.80769E-01 | 9.80769E-01 | 0.00000E+00 \n",
      " 10|  176   | 9.80769E-01 | 9.80769E-01 | 9.80769E-01 | 9.80769E-01 | 0.00000E+00 \n",
      " 11|  192   | 9.80769E-01 | 9.80769E-01 | 9.80769E-01 | 9.80769E-01 | 0.00000E+00 \n",
      " 12|  208   | 9.80769E-01 | 9.80769E-01 | 9.80769E-01 | 9.80769E-01 | 0.00000E+00 \n",
      " 13|  224   | 9.80769E-01 | 9.80769E-01 | 9.80769E-01 | 9.80769E-01 | 0.00000E+00 \n",
      " 14|  240   | 9.80769E-01 | 9.80769E-01 | 9.80769E-01 | 9.80769E-01 | 0.00000E+00 \n",
      " 15|  256   | 9.80769E-01 | 9.80769E-01 | 9.80769E-01 | 9.80769E-01 | 0.00000E+00 \n",
      " 16|  272   | 9.80769E-01 | 9.80769E-01 | 9.80769E-01 | 9.80769E-01 | 0.00000E+00 \n",
      " 17|  288   | 9.80769E-01 | 9.80769E-01 | 9.80769E-01 | 9.80769E-01 | 0.00000E+00 \n",
      " 18|  304   | 9.80769E-01 | 9.80769E-01 | 9.80769E-01 | 9.80769E-01 | 0.00000E+00 \n",
      " 19|  320   | 9.80769E-01 | 9.80769E-01 | 9.80769E-01 | 9.80769E-01 | 0.00000E+00 \n",
      " 20|  336   | 9.80769E-01 | 9.80769E-01 | 9.80769E-01 | 9.80769E-01 | 0.00000E+00 \n",
      " 21|  352   | 9.80769E-01 | 9.80769E-01 | 9.80769E-01 | 9.80769E-01 | 0.00000E+00 \n",
      " 22|  368   | 9.80769E-01 | 9.80769E-01 | 9.80769E-01 | 9.80769E-01 | 0.00000E+00 \n",
      " 23|  384   | 9.80769E-01 | 9.80769E-01 | 9.80769E-01 | 9.80769E-01 | 0.00000E+00 \n",
      " 24|  400   | 9.80769E-01 | 9.80769E-01 | 9.80769E-01 | 9.80769E-01 | 0.00000E+00 \n",
      " 25|  416   | 9.80769E-01 | 9.80769E-01 | 9.80769E-01 | 9.80769E-01 | 0.00000E+00 \n",
      " 26|  432   | 9.80769E-01 | 9.80769E-01 | 9.80769E-01 | 9.80769E-01 | 0.00000E+00 \n",
      " 27|  448   | 9.80769E-01 | 9.80769E-01 | 9.80769E-01 | 9.80769E-01 | 0.00000E+00 \n",
      " 28|  464   | 9.80769E-01 | 9.80769E-01 | 9.80769E-01 | 9.80769E-01 | 0.00000E+00 \n",
      " 29|  480   | 9.80769E-01 | 9.80769E-01 | 9.80769E-01 | 9.80769E-01 | 0.00000E+00 \n",
      " 30|  496   | 9.80769E-01 | 9.80769E-01 | 9.80769E-01 | 9.80769E-01 | 0.00000E+00 \n",
      " 31|  512   | 9.80769E-01 | 9.80769E-01 | 9.80769E-01 | 9.80769E-01 | 0.00000E+00 \n",
      " 32|  528   | 9.80769E-01 | 9.80769E-01 | 9.80769E-01 | 9.80769E-01 | 0.00000E+00 \n",
      " 33|  544   | 9.80769E-01 | 9.80769E-01 | 9.80769E-01 | 9.80769E-01 | 0.00000E+00 \n",
      " 34|  560   | 9.80769E-01 | 9.80769E-01 | 9.80769E-01 | 9.80769E-01 | 0.00000E+00 \n",
      " 35|  576   | 9.80769E-01 | 9.80769E-01 | 9.80769E-01 | 9.80769E-01 | 0.00000E+00 \n",
      " 36|  592   | 9.80769E-01 | 9.80769E-01 | 9.80769E-01 | 9.80769E-01 | 0.00000E+00 \n",
      " 37|  608   | 9.80769E-01 | 9.80769E-01 | 9.80769E-01 | 9.80769E-01 | 0.00000E+00 \n",
      " 38|  624   | 9.80769E-01 | 9.80769E-01 | 9.80769E-01 | 9.80769E-01 | 0.00000E+00 \n",
      " 39|  640   | 9.80769E-01 | 9.80769E-01 | 9.80769E-01 | 9.80769E-01 | 0.00000E+00 \n",
      " 40|  656   | 9.80769E-01 | 9.80769E-01 | 9.80769E-01 | 9.80769E-01 | 0.00000E+00 \n",
      " 41|  672   | 9.80769E-01 | 9.80769E-01 | 9.80769E-01 | 9.80769E-01 | 0.00000E+00 \n",
      " 42|  688   | 9.80769E-01 | 9.80769E-01 | 9.80769E-01 | 9.80769E-01 | 0.00000E+00 \n",
      " 43|  704   | 9.80769E-01 | 9.80769E-01 | 9.80769E-01 | 9.80769E-01 | 0.00000E+00 \n",
      " 44|  720   | 9.80769E-01 | 9.80769E-01 | 9.80769E-01 | 9.80769E-01 | 0.00000E+00 \n",
      " 45|  736   | 9.80769E-01 | 9.80769E-01 | 9.80769E-01 | 9.80769E-01 | 0.00000E+00 \n",
      " 46|  752   | 9.80769E-01 | 9.80769E-01 | 9.80769E-01 | 9.80769E-01 | 0.00000E+00 \n",
      " 47|  768   | 9.80769E-01 | 9.80769E-01 | 9.80769E-01 | 9.80769E-01 | 0.00000E+00 \n",
      " 48|  784   | 9.80769E-01 | 9.80769E-01 | 9.80769E-01 | 9.80769E-01 | 0.00000E+00 \n",
      " 49|  800   | 9.80769E-01 | 9.80769E-01 | 9.80769E-01 | 9.80769E-01 | 0.00000E+00 \n",
      " 50|  816   | 9.80769E-01 | 9.80769E-01 | 9.80769E-01 | 9.80769E-01 | 0.00000E+00 \n",
      " 51|  832   | 9.80769E-01 | 9.80769E-01 | 9.80769E-01 | 9.80769E-01 | 0.00000E+00 \n",
      " 52|  848   | 9.80769E-01 | 9.80769E-01 | 9.80769E-01 | 9.80769E-01 | 0.00000E+00 \n",
      " 53|  864   | 9.80769E-01 | 9.80769E-01 | 9.80769E-01 | 9.80769E-01 | 0.00000E+00 \n",
      " 54|  880   | 9.80769E-01 | 9.80769E-01 | 9.80769E-01 | 9.80769E-01 | 0.00000E+00 \n",
      " 55|  896   | 9.80769E-01 | 9.80769E-01 | 9.80769E-01 | 9.80769E-01 | 0.00000E+00 \n",
      " 56|  912   | 9.80769E-01 | 9.80769E-01 | 9.80769E-01 | 9.80769E-01 | 0.00000E+00 \n",
      " 57|  928   | 9.80769E-01 | 9.80769E-01 | 9.80769E-01 | 9.80769E-01 | 0.00000E+00 \n",
      " 58|  944   | 9.80769E-01 | 9.80769E-01 | 9.80769E-01 | 9.80769E-01 | 0.00000E+00 \n",
      " 59|  960   | 9.80769E-01 | 9.80769E-01 | 9.80769E-01 | 9.80769E-01 | 0.00000E+00 \n",
      " 60|  976   | 9.80769E-01 | 9.80769E-01 | 9.80769E-01 | 9.80769E-01 | 0.00000E+00 \n",
      " 61|  992   | 9.80769E-01 | 9.80769E-01 | 9.80769E-01 | 9.80769E-01 | 0.00000E+00 \n",
      " 62|  1008  | 9.80769E-01 | 9.80769E-01 | 9.80769E-01 | 9.80769E-01 | 0.00000E+00 \n",
      " 63|  1024  | 9.80769E-01 | 9.80769E-01 | 9.80769E-01 | 9.80769E-01 | 0.00000E+00 \n",
      " 64|  1040  | 9.80769E-01 | 9.80769E-01 | 9.80769E-01 | 9.80769E-01 | 0.00000E+00 \n",
      " 65|  1056  | 9.80769E-01 | 9.80769E-01 | 9.80769E-01 | 9.80769E-01 | 0.00000E+00 \n",
      " 66|  1072  | 9.80769E-01 | 9.80769E-01 | 9.80769E-01 | 9.80769E-01 | 0.00000E+00 \n",
      " 67|  1088  | 9.80769E-01 | 9.80769E-01 | 9.80769E-01 | 9.80769E-01 | 0.00000E+00 \n",
      " 68|  1104  | 9.80769E-01 | 9.80769E-01 | 9.80769E-01 | 9.80769E-01 | 0.00000E+00 \n",
      " 69|  1120  | 9.80769E-01 | 9.80769E-01 | 9.80769E-01 | 9.80769E-01 | 0.00000E+00 \n",
      " 70|  1136  | 9.80769E-01 | 9.80769E-01 | 9.80769E-01 | 9.80769E-01 | 0.00000E+00 \n",
      " 71|  1152  | 9.80769E-01 | 9.80769E-01 | 9.80769E-01 | 9.80769E-01 | 0.00000E+00 \n",
      " 72|  1168  | 9.80769E-01 | 9.80769E-01 | 9.80769E-01 | 9.80769E-01 | 0.00000E+00 \n",
      " 73|  1184  | 9.80769E-01 | 9.80769E-01 | 9.80769E-01 | 9.80769E-01 | 0.00000E+00 \n",
      " 74|  1200  | 9.80769E-01 | 9.80769E-01 | 9.80769E-01 | 9.80769E-01 | 0.00000E+00 \n",
      " 75|  1216  | 9.80769E-01 | 9.80769E-01 | 9.80769E-01 | 9.80769E-01 | 0.00000E+00 \n",
      " 76|  1232  | 9.80769E-01 | 9.80769E-01 | 9.80769E-01 | 9.80769E-01 | 0.00000E+00 \n",
      " 77|  1248  | 9.80769E-01 | 9.80769E-01 | 9.80769E-01 | 9.80769E-01 | 0.00000E+00 \n",
      " 78|  1264  | 9.80769E-01 | 9.80769E-01 | 9.80769E-01 | 9.80769E-01 | 0.00000E+00 \n",
      " 79|  1280  | 9.80769E-01 | 9.80769E-01 | 9.80769E-01 | 9.80769E-01 | 0.00000E+00 \n",
      " 80|  1296  | 9.80769E-01 | 9.80769E-01 | 9.80769E-01 | 9.80769E-01 | 0.00000E+00 \n",
      " 81|  1312  | 9.80769E-01 | 9.80769E-01 | 9.80769E-01 | 9.80769E-01 | 0.00000E+00 \n",
      " 82|  1328  | 9.80769E-01 | 9.80769E-01 | 9.80769E-01 | 9.80769E-01 | 0.00000E+00 \n",
      " 83|  1344  | 9.80769E-01 | 9.80769E-01 | 9.80769E-01 | 9.80769E-01 | 0.00000E+00 \n",
      " 84|  1360  | 9.80769E-01 | 9.80769E-01 | 9.80769E-01 | 9.80769E-01 | 0.00000E+00 \n",
      " 85|  1376  | 9.80769E-01 | 9.80769E-01 | 9.80769E-01 | 9.80769E-01 | 0.00000E+00 \n",
      " 86|  1392  | 9.80769E-01 | 9.80769E-01 | 9.80769E-01 | 9.80769E-01 | 0.00000E+00 \n",
      " 87|  1408  | 9.80769E-01 | 9.80769E-01 | 9.80769E-01 | 9.80769E-01 | 0.00000E+00 \n",
      " 88|  1424  | 9.80769E-01 | 9.80769E-01 | 9.80769E-01 | 9.80769E-01 | 0.00000E+00 \n",
      " 89|  1440  | 9.80769E-01 | 9.80769E-01 | 9.80769E-01 | 9.80769E-01 | 0.00000E+00 \n",
      " 90|  1456  | 9.80769E-01 | 9.80769E-01 | 9.80769E-01 | 9.80769E-01 | 0.00000E+00 \n",
      " 91|  1472  | 9.80769E-01 | 9.80769E-01 | 9.80769E-01 | 9.80769E-01 | 0.00000E+00 \n",
      " 92|  1488  | 9.80769E-01 | 9.80769E-01 | 9.80769E-01 | 9.80769E-01 | 0.00000E+00 \n",
      " 93|  1504  | 9.80769E-01 | 9.80769E-01 | 9.80769E-01 | 9.80769E-01 | 0.00000E+00 \n",
      " 94|  1520  | 9.80769E-01 | 9.80769E-01 | 9.80769E-01 | 9.80769E-01 | 0.00000E+00 \n",
      " 95|  1536  | 9.80769E-01 | 9.80769E-01 | 9.80769E-01 | 9.80769E-01 | 0.00000E+00 \n",
      " 96|  1552  | 9.80769E-01 | 9.80769E-01 | 9.80769E-01 | 9.80769E-01 | 0.00000E+00 \n",
      " 97|  1568  | 9.80769E-01 | 9.80769E-01 | 9.80769E-01 | 9.80769E-01 | 0.00000E+00 \n",
      " 98|  1584  | 9.80769E-01 | 9.80769E-01 | 9.80769E-01 | 9.80769E-01 | 0.00000E+00 \n",
      " 99|  1600  | 9.80769E-01 | 9.80769E-01 | 9.80769E-01 | 9.80769E-01 | 0.00000E+00 \n",
      "100|  1616  | 9.80769E-01 | 9.80769E-01 | 9.80769E-01 | 9.80769E-01 | 0.00000E+00 \n"
     ]
    },
    {
     "data": {
      "image/png": "[encoded data removed]",
      "text/plain": [
       "<Figure size 432x288 with 1 Axes>"
      ]
     },
     "metadata": {
      "needs_background": "light"
     },
     "output_type": "display_data"
    },
    {
     "name": "stdout",
     "output_type": "stream",
     "text": [
      "Execution time: 85.97232460975647 s\n",
      "Evaluation number: 1616\n",
      "The best objective value is: 0.9807692307692307\n",
      "The best variables are: \n",
      "0.0\t0.1\t\n"
     ]
    },
    {
     "data": {
      "image/png": "[encoded data removed]",
      "text/plain": [
       "<Figure size 432x288 with 1 Axes>"
      ]
     },
     "metadata": {
      "needs_background": "light"
     },
     "output_type": "display_data"
    }
   ],
   "source": [
    "# 公平起见，我的贝叶斯也要调参\n",
    "# parameters = {'epsilon':[1e-12, 1e-11, 1e-10, 1e-9, 1e-7, 1e-5, 1e-3, 1e-1, 1e1, 1e3]}\n",
    "# nb = NaiveBayes()\n",
    "# clf = GridSearchCV(nb, parameters, cv=5, n_jobs=8, scoring=)\n",
    "# clf.fit(X_train, y_train)\n",
    "# evaluate(clf, 'My NaiveBayes with GridSearchCV')\n",
    "# clf.best_params_\n",
    "# 改了半天，还是不符合sklearn的接口要求，我放弃了。\n",
    "# 那我们别用sklearn网格调参了，使用我们系主任最擅长的演化计算来调参。\n",
    "# 姚教授曾经用演化计算调整神经网络的机构，效果很好，发了一篇引用数量很高的论文。我们也来试试演化计算调节机器学习模型参数。\n",
    "import geatpy as ea\n",
    "# 构建问题\n",
    "@ea.Problem.single\n",
    "def evalVars(Vars):  # 定义目标函数（含约束）\n",
    "    if Vars[0]==0: \n",
    "        model = NaiveBayes(epsilon=Vars[1])\n",
    "    else:\n",
    "        model = GaussianNB(var_smoothing=Vars[1])\n",
    "    model.fit(X_train, y_train)\n",
    "    result = model.predict(X_test)\n",
    "    acc = accuracy_score(y_test, result)  # 注意y_true在前面，不要反了\n",
    "    f = acc # 计算目标函数值, 要求最大值\n",
    "    CV = 0 if Vars[1]!=0 else 2e9 # 约束\n",
    "    return f, CV\n",
    "\n",
    "# lb = [0, np.finfo(np.float32).min] # 2^-126 好像unnormalized可以更多。\n",
    "# ub = [1, np.finfo(np.float32).max] # 2^128  \n",
    "lb = [0, 1e-20]\n",
    "ub = [1, 1e2] \n",
    "# lb = [1, np.finfo(np.float32).min] \n",
    "# ub = [1, np.finfo(np.float32).max] \n",
    "varTypes = [1, 0]\n",
    "dim = 2\n",
    "problem = ea.Problem(name='演化计算求解贝叶斯分类器参数',\n",
    "                     M=1,  # 目标维数\n",
    "                     maxormins=[-1],  # 目标最小最大化标记列表，1：最小化该目标；-1：最大化该目标\n",
    "                     Dim=dim,  # 决策变量维数\n",
    "                     varTypes=varTypes,  # 决策变量的类型列表，0：实数；1：整数\n",
    "                     lb=lb,  # 决策变量下界\n",
    "                     ub=ub,  # 决策变量上界\n",
    "                     evalVars=evalVars)\n",
    "# 构建算法\n",
    "algorithm = ea.soea_SEGA_templet(problem,\n",
    "                                 ea.Population(Encoding='RI', NIND=16),\n",
    "                                #  MAXGEN=80,  # 最大进化代数。\n",
    "                                 MAXGEN=180,  # 最大进化代数。\n",
    "                                 logTras=1,  # 表示每隔多少代记录一次日志信息，0表示不记录。\n",
    "                                 trappedValue=1e-8,  # 单目标优化陷入停滞的判断阈值。\n",
    "                                 trappedValue=1e-6,  # 单目标优化陷入停滞的判断阈值。\n",
    "                                 maxTrappedCount=100)  # 进化停滞计数器最大上限值。\n",
    "                                #  maxTrappedCount=10)  # 进化停滞计数器最大上限值。\n",
    "# 求解\n",
    "res = ea.optimize(algorithm, prophet=np.array([[0, 1e-1],    # 我最好的参数\n",
    "                                               [1, 5e-12], # sklearn最好的\n",
    "                                               [1, 1e-8], # sklearn\n",
    "                                               [1, 1e-9]]), # sklearn\n",
    "                  seed=128, verbose=True, drawing=1, outputMsg=True, drawLog=True, saveFlag=True, dirName='result')"
   ]
  },
  {
   "cell_type": "code",
   "execution_count": null,
   "metadata": {},
   "outputs": [
    {
     "name": "stdout",
     "output_type": "stream",
     "text": [
      "==================================================================================\n",
      "gen|  eval  |    f_opt    |    f_max    |    f_avg    |    f_min    |    f_std    \n",
      "----------------------------------------------------------------------------------\n",
      " 0 |   16   | 9.61538E-01 | 9.61538E-01 | 5.91346E-01 | 5.00000E-01 | 1.78440E-01 \n",
      " 1 |   32   | 9.76923E-01 | 9.76923E-01 | 7.46154E-01 | 5.07692E-01 | 2.18081E-01 \n"
     ]
    },
    {
     "name": "stderr",
     "output_type": "stream",
     "text": [
      "d:\\EnglishStandardPath\\DevProgramsFile\\Python\\python39\\lib\\site-packages\\sklearn\\naive_bayes.py:486: RuntimeWarning: divide by zero encountered in log\n",
      "  jointi = np.log(self.class_prior_[i])\n"
     ]
    },
    {
     "name": "stdout",
     "output_type": "stream",
     "text": [
      " 2 |   48   | 9.76923E-01 | 9.76923E-01 | 9.65385E-01 | 9.61538E-01 | 6.66173E-03 \n"
     ]
    },
    {
     "name": "stderr",
     "output_type": "stream",
     "text": [
      "d:\\EnglishStandardPath\\DevProgramsFile\\Python\\python39\\lib\\site-packages\\sklearn\\naive_bayes.py:486: RuntimeWarning: divide by zero encountered in log\n",
      "  jointi = np.log(self.class_prior_[i])\n"
     ]
    },
    {
     "name": "stdout",
     "output_type": "stream",
     "text": [
      " 3 |   64   | 9.76923E-01 | 9.76923E-01 | 9.69231E-01 | 9.61538E-01 | 7.69231E-03 \n",
      " 4 |   80   | 9.80769E-01 | 9.80769E-01 | 9.74279E-01 | 9.61538E-01 | 6.18961E-03 \n"
     ]
    },
    {
     "name": "stderr",
     "output_type": "stream",
     "text": [
      "d:\\EnglishStandardPath\\DevProgramsFile\\Python\\python39\\lib\\site-packages\\sklearn\\naive_bayes.py:486: RuntimeWarning: divide by zero encountered in log\n",
      "  jointi = np.log(self.class_prior_[i])\n"
     ]
    },
    {
     "name": "stdout",
     "output_type": "stream",
     "text": [
      " 5 |   96   | 9.80769E-01 | 9.80769E-01 | 9.77644E-01 | 9.76923E-01 | 1.50120E-03 \n",
      " 6 |  112   | 9.80769E-01 | 9.80769E-01 | 9.78606E-01 | 9.76923E-01 | 1.90799E-03 \n"
     ]
    },
    {
     "name": "stderr",
     "output_type": "stream",
     "text": [
      "d:\\EnglishStandardPath\\DevProgramsFile\\Python\\python39\\lib\\site-packages\\sklearn\\naive_bayes.py:486: RuntimeWarning: divide by zero encountered in log\n",
      "  jointi = np.log(self.class_prior_[i])\n"
     ]
    },
    {
     "name": "stdout",
     "output_type": "stream",
     "text": [
      " 7 |  128   | 9.80769E-01 | 9.80769E-01 | 9.79567E-01 | 9.76923E-01 | 1.78274E-03 \n",
      " 8 |  144   | 9.80769E-01 | 9.80769E-01 | 9.80769E-01 | 9.80769E-01 | 0.00000E+00 \n",
      " 9 |  160   | 9.80769E-01 | 9.80769E-01 | 9.80769E-01 | 9.80769E-01 | 0.00000E+00 \n",
      " 10|  176   | 9.80769E-01 | 9.80769E-01 | 9.80769E-01 | 9.80769E-01 | 0.00000E+00 \n",
      " 11|  192   | 9.80769E-01 | 9.80769E-01 | 9.80769E-01 | 9.80769E-01 | 0.00000E+00 \n"
     ]
    },
    {
     "name": "stderr",
     "output_type": "stream",
     "text": [
      "d:\\EnglishStandardPath\\DevProgramsFile\\Python\\python39\\lib\\site-packages\\sklearn\\naive_bayes.py:486: RuntimeWarning: divide by zero encountered in log\n",
      "  jointi = np.log(self.class_prior_[i])\n"
     ]
    },
    {
     "name": "stdout",
     "output_type": "stream",
     "text": [
      " 12|  208   | 9.80769E-01 | 9.80769E-01 | 9.80769E-01 | 9.80769E-01 | 0.00000E+00 \n",
      " 13|  224   | 9.80769E-01 | 9.80769E-01 | 9.80769E-01 | 9.80769E-01 | 0.00000E+00 \n",
      " 14|  240   | 9.80769E-01 | 9.80769E-01 | 9.80769E-01 | 9.80769E-01 | 0.00000E+00 \n",
      " 15|  256   | 9.80769E-01 | 9.80769E-01 | 9.80769E-01 | 9.80769E-01 | 0.00000E+00 \n",
      " 16|  272   | 9.80769E-01 | 9.80769E-01 | 9.80769E-01 | 9.80769E-01 | 0.00000E+00 \n"
     ]
    },
    {
     "name": "stderr",
     "output_type": "stream",
     "text": [
      "d:\\EnglishStandardPath\\DevProgramsFile\\Python\\python39\\lib\\site-packages\\sklearn\\naive_bayes.py:486: RuntimeWarning: divide by zero encountered in log\n",
      "  jointi = np.log(self.class_prior_[i])\n"
     ]
    },
    {
     "name": "stdout",
     "output_type": "stream",
     "text": [
      " 17|  288   | 9.80769E-01 | 9.80769E-01 | 9.80769E-01 | 9.80769E-01 | 0.00000E+00 \n"
     ]
    },
    {
     "name": "stderr",
     "output_type": "stream",
     "text": [
      "d:\\EnglishStandardPath\\DevProgramsFile\\Python\\python39\\lib\\site-packages\\sklearn\\naive_bayes.py:486: RuntimeWarning: divide by zero encountered in log\n",
      "  jointi = np.log(self.class_prior_[i])\n"
     ]
    },
    {
     "name": "stdout",
     "output_type": "stream",
     "text": [
      " 18|  304   | 9.80769E-01 | 9.80769E-01 | 9.80769E-01 | 9.80769E-01 | 0.00000E+00 \n",
      " 19|  320   | 9.80769E-01 | 9.80769E-01 | 9.80769E-01 | 9.80769E-01 | 0.00000E+00 \n",
      " 20|  336   | 9.80769E-01 | 9.80769E-01 | 9.80769E-01 | 9.80769E-01 | 0.00000E+00 \n",
      " 21|  352   | 9.80769E-01 | 9.80769E-01 | 9.80769E-01 | 9.80769E-01 | 0.00000E+00 \n",
      " 22|  368   | 9.80769E-01 | 9.80769E-01 | 9.80769E-01 | 9.80769E-01 | 0.00000E+00 \n"
     ]
    },
    {
     "name": "stderr",
     "output_type": "stream",
     "text": [
      "d:\\EnglishStandardPath\\DevProgramsFile\\Python\\python39\\lib\\site-packages\\sklearn\\naive_bayes.py:486: RuntimeWarning: divide by zero encountered in log\n",
      "  jointi = np.log(self.class_prior_[i])\n",
      "d:\\EnglishStandardPath\\DevProgramsFile\\Python\\python39\\lib\\site-packages\\sklearn\\naive_bayes.py:486: RuntimeWarning: divide by zero encountered in log\n",
      "  jointi = np.log(self.class_prior_[i])\n"
     ]
    },
    {
     "name": "stdout",
     "output_type": "stream",
     "text": [
      " 23|  384   | 9.80769E-01 | 9.80769E-01 | 9.80769E-01 | 9.80769E-01 | 0.00000E+00 \n"
     ]
    },
    {
     "name": "stderr",
     "output_type": "stream",
     "text": [
      "d:\\EnglishStandardPath\\DevProgramsFile\\Python\\python39\\lib\\site-packages\\sklearn\\naive_bayes.py:486: RuntimeWarning: divide by zero encountered in log\n",
      "  jointi = np.log(self.class_prior_[i])\n"
     ]
    },
    {
     "name": "stdout",
     "output_type": "stream",
     "text": [
      " 24|  400   | 9.80769E-01 | 9.80769E-01 | 9.80769E-01 | 9.80769E-01 | 0.00000E+00 \n",
      " 25|  416   | 9.80769E-01 | 9.80769E-01 | 9.80769E-01 | 9.80769E-01 | 0.00000E+00 \n",
      " 26|  432   | 9.80769E-01 | 9.80769E-01 | 9.80769E-01 | 9.80769E-01 | 0.00000E+00 \n",
      " 27|  448   | 9.80769E-01 | 9.80769E-01 | 9.80769E-01 | 9.80769E-01 | 0.00000E+00 \n",
      " 28|  464   | 9.80769E-01 | 9.80769E-01 | 9.80769E-01 | 9.80769E-01 | 0.00000E+00 \n"
     ]
    },
    {
     "name": "stderr",
     "output_type": "stream",
     "text": [
      "d:\\EnglishStandardPath\\DevProgramsFile\\Python\\python39\\lib\\site-packages\\sklearn\\naive_bayes.py:486: RuntimeWarning: divide by zero encountered in log\n",
      "  jointi = np.log(self.class_prior_[i])\n",
      "d:\\EnglishStandardPath\\DevProgramsFile\\Python\\python39\\lib\\site-packages\\sklearn\\naive_bayes.py:486: RuntimeWarning: divide by zero encountered in log\n",
      "  jointi = np.log(self.class_prior_[i])\n"
     ]
    },
    {
     "name": "stdout",
     "output_type": "stream",
     "text": [
      " 29|  480   | 9.80769E-01 | 9.80769E-01 | 9.80769E-01 | 9.80769E-01 | 0.00000E+00 \n"
     ]
    },
    {
     "name": "stderr",
     "output_type": "stream",
     "text": [
      "d:\\EnglishStandardPath\\DevProgramsFile\\Python\\python39\\lib\\site-packages\\sklearn\\naive_bayes.py:486: RuntimeWarning: divide by zero encountered in log\n",
      "  jointi = np.log(self.class_prior_[i])\n"
     ]
    },
    {
     "name": "stdout",
     "output_type": "stream",
     "text": [
      " 30|  496   | 9.80769E-01 | 9.80769E-01 | 9.80769E-01 | 9.80769E-01 | 0.00000E+00 \n",
      " 31|  512   | 9.80769E-01 | 9.80769E-01 | 9.80769E-01 | 9.80769E-01 | 0.00000E+00 \n",
      " 32|  528   | 9.80769E-01 | 9.80769E-01 | 9.80769E-01 | 9.80769E-01 | 0.00000E+00 \n"
     ]
    },
    {
     "name": "stderr",
     "output_type": "stream",
     "text": [
      "d:\\EnglishStandardPath\\DevProgramsFile\\Python\\python39\\lib\\site-packages\\sklearn\\naive_bayes.py:486: RuntimeWarning: divide by zero encountered in log\n",
      "  jointi = np.log(self.class_prior_[i])\n"
     ]
    },
    {
     "name": "stdout",
     "output_type": "stream",
     "text": [
      " 33|  544   | 9.80769E-01 | 9.80769E-01 | 9.80769E-01 | 9.80769E-01 | 0.00000E+00 \n",
      " 34|  560   | 9.80769E-01 | 9.80769E-01 | 9.80769E-01 | 9.80769E-01 | 0.00000E+00 \n"
     ]
    },
    {
     "name": "stderr",
     "output_type": "stream",
     "text": [
      "d:\\EnglishStandardPath\\DevProgramsFile\\Python\\python39\\lib\\site-packages\\sklearn\\naive_bayes.py:486: RuntimeWarning: divide by zero encountered in log\n",
      "  jointi = np.log(self.class_prior_[i])\n"
     ]
    },
    {
     "name": "stdout",
     "output_type": "stream",
     "text": [
      " 35|  576   | 9.80769E-01 | 9.80769E-01 | 9.80769E-01 | 9.80769E-01 | 0.00000E+00 \n"
     ]
    },
    {
     "name": "stderr",
     "output_type": "stream",
     "text": [
      "d:\\EnglishStandardPath\\DevProgramsFile\\Python\\python39\\lib\\site-packages\\sklearn\\naive_bayes.py:486: RuntimeWarning: divide by zero encountered in log\n",
      "  jointi = np.log(self.class_prior_[i])\n"
     ]
    },
    {
     "name": "stdout",
     "output_type": "stream",
     "text": [
      " 36|  592   | 9.80769E-01 | 9.80769E-01 | 9.80769E-01 | 9.80769E-01 | 0.00000E+00 \n",
      " 37|  608   | 9.80769E-01 | 9.80769E-01 | 9.80769E-01 | 9.80769E-01 | 0.00000E+00 \n",
      " 38|  624   | 9.80769E-01 | 9.80769E-01 | 9.80769E-01 | 9.80769E-01 | 0.00000E+00 \n"
     ]
    },
    {
     "name": "stderr",
     "output_type": "stream",
     "text": [
      "d:\\EnglishStandardPath\\DevProgramsFile\\Python\\python39\\lib\\site-packages\\sklearn\\naive_bayes.py:486: RuntimeWarning: divide by zero encountered in log\n",
      "  jointi = np.log(self.class_prior_[i])\n"
     ]
    },
    {
     "name": "stdout",
     "output_type": "stream",
     "text": [
      " 39|  640   | 9.80769E-01 | 9.80769E-01 | 9.80769E-01 | 9.80769E-01 | 0.00000E+00 \n",
      " 40|  656   | 9.80769E-01 | 9.80769E-01 | 9.80769E-01 | 9.80769E-01 | 0.00000E+00 \n"
     ]
    },
    {
     "name": "stderr",
     "output_type": "stream",
     "text": [
      "d:\\EnglishStandardPath\\DevProgramsFile\\Python\\python39\\lib\\site-packages\\sklearn\\naive_bayes.py:486: RuntimeWarning: divide by zero encountered in log\n",
      "  jointi = np.log(self.class_prior_[i])\n"
     ]
    },
    {
     "name": "stdout",
     "output_type": "stream",
     "text": [
      " 41|  672   | 9.80769E-01 | 9.80769E-01 | 9.80769E-01 | 9.80769E-01 | 0.00000E+00 \n",
      " 42|  688   | 9.80769E-01 | 9.80769E-01 | 9.80769E-01 | 9.80769E-01 | 0.00000E+00 \n",
      " 43|  704   | 9.80769E-01 | 9.80769E-01 | 9.80769E-01 | 9.80769E-01 | 0.00000E+00 \n",
      " 44|  720   | 9.80769E-01 | 9.80769E-01 | 9.80769E-01 | 9.80769E-01 | 0.00000E+00 \n",
      " 45|  736   | 9.80769E-01 | 9.80769E-01 | 9.80769E-01 | 9.80769E-01 | 0.00000E+00 \n"
     ]
    },
    {
     "name": "stderr",
     "output_type": "stream",
     "text": [
      "d:\\EnglishStandardPath\\DevProgramsFile\\Python\\python39\\lib\\site-packages\\sklearn\\naive_bayes.py:486: RuntimeWarning: divide by zero encountered in log\n",
      "  jointi = np.log(self.class_prior_[i])\n",
      "d:\\EnglishStandardPath\\DevProgramsFile\\Python\\python39\\lib\\site-packages\\sklearn\\naive_bayes.py:486: RuntimeWarning: divide by zero encountered in log\n",
      "  jointi = np.log(self.class_prior_[i])\n"
     ]
    },
    {
     "name": "stdout",
     "output_type": "stream",
     "text": [
      " 46|  752   | 9.80769E-01 | 9.80769E-01 | 9.80769E-01 | 9.80769E-01 | 0.00000E+00 \n"
     ]
    },
    {
     "name": "stderr",
     "output_type": "stream",
     "text": [
      "d:\\EnglishStandardPath\\DevProgramsFile\\Python\\python39\\lib\\site-packages\\sklearn\\naive_bayes.py:486: RuntimeWarning: divide by zero encountered in log\n",
      "  jointi = np.log(self.class_prior_[i])\n"
     ]
    },
    {
     "name": "stdout",
     "output_type": "stream",
     "text": [
      " 47|  768   | 9.80769E-01 | 9.80769E-01 | 9.80769E-01 | 9.80769E-01 | 0.00000E+00 \n",
      " 48|  784   | 9.80769E-01 | 9.80769E-01 | 9.80769E-01 | 9.80769E-01 | 0.00000E+00 \n"
     ]
    },
    {
     "name": "stderr",
     "output_type": "stream",
     "text": [
      "d:\\EnglishStandardPath\\DevProgramsFile\\Python\\python39\\lib\\site-packages\\sklearn\\naive_bayes.py:486: RuntimeWarning: divide by zero encountered in log\n",
      "  jointi = np.log(self.class_prior_[i])\n"
     ]
    },
    {
     "name": "stdout",
     "output_type": "stream",
     "text": [
      " 49|  800   | 9.80769E-01 | 9.80769E-01 | 9.80769E-01 | 9.80769E-01 | 0.00000E+00 \n",
      " 50|  816   | 9.80769E-01 | 9.80769E-01 | 9.80769E-01 | 9.80769E-01 | 0.00000E+00 \n",
      " 51|  832   | 9.80769E-01 | 9.80769E-01 | 9.80769E-01 | 9.80769E-01 | 0.00000E+00 \n",
      " 52|  848   | 9.80769E-01 | 9.80769E-01 | 9.80769E-01 | 9.80769E-01 | 0.00000E+00 \n",
      " 53|  864   | 9.80769E-01 | 9.80769E-01 | 9.80769E-01 | 9.80769E-01 | 0.00000E+00 \n"
     ]
    },
    {
     "name": "stderr",
     "output_type": "stream",
     "text": [
      "d:\\EnglishStandardPath\\DevProgramsFile\\Python\\python39\\lib\\site-packages\\sklearn\\naive_bayes.py:486: RuntimeWarning: divide by zero encountered in log\n",
      "  jointi = np.log(self.class_prior_[i])\n"
     ]
    },
    {
     "name": "stdout",
     "output_type": "stream",
     "text": [
      " 54|  880   | 9.80769E-01 | 9.80769E-01 | 9.80769E-01 | 9.80769E-01 | 0.00000E+00 \n",
      " 55|  896   | 9.80769E-01 | 9.80769E-01 | 9.80769E-01 | 9.80769E-01 | 0.00000E+00 \n",
      " 56|  912   | 9.80769E-01 | 9.80769E-01 | 9.80769E-01 | 9.80769E-01 | 0.00000E+00 \n"
     ]
    },
    {
     "name": "stderr",
     "output_type": "stream",
     "text": [
      "d:\\EnglishStandardPath\\DevProgramsFile\\Python\\python39\\lib\\site-packages\\sklearn\\naive_bayes.py:486: RuntimeWarning: divide by zero encountered in log\n",
      "  jointi = np.log(self.class_prior_[i])\n"
     ]
    },
    {
     "name": "stdout",
     "output_type": "stream",
     "text": [
      " 57|  928   | 9.80769E-01 | 9.80769E-01 | 9.80769E-01 | 9.80769E-01 | 0.00000E+00 \n",
      " 58|  944   | 9.80769E-01 | 9.80769E-01 | 9.80769E-01 | 9.80769E-01 | 0.00000E+00 \n",
      " 59|  960   | 9.80769E-01 | 9.80769E-01 | 9.80769E-01 | 9.80769E-01 | 0.00000E+00 \n",
      " 60|  976   | 9.80769E-01 | 9.80769E-01 | 9.80769E-01 | 9.80769E-01 | 0.00000E+00 \n",
      " 61|  992   | 9.80769E-01 | 9.80769E-01 | 9.80769E-01 | 9.80769E-01 | 0.00000E+00 \n",
      " 62|  1008  | 9.80769E-01 | 9.80769E-01 | 9.80769E-01 | 9.80769E-01 | 0.00000E+00 \n"
     ]
    },
    {
     "name": "stderr",
     "output_type": "stream",
     "text": [
      "d:\\EnglishStandardPath\\DevProgramsFile\\Python\\python39\\lib\\site-packages\\sklearn\\naive_bayes.py:486: RuntimeWarning: divide by zero encountered in log\n",
      "  jointi = np.log(self.class_prior_[i])\n"
     ]
    },
    {
     "name": "stdout",
     "output_type": "stream",
     "text": [
      " 63|  1024  | 9.80769E-01 | 9.80769E-01 | 9.80769E-01 | 9.80769E-01 | 0.00000E+00 \n",
      " 64|  1040  | 9.80769E-01 | 9.80769E-01 | 9.80769E-01 | 9.80769E-01 | 0.00000E+00 \n"
     ]
    },
    {
     "name": "stderr",
     "output_type": "stream",
     "text": [
      "d:\\EnglishStandardPath\\DevProgramsFile\\Python\\python39\\lib\\site-packages\\sklearn\\naive_bayes.py:486: RuntimeWarning: divide by zero encountered in log\n",
      "  jointi = np.log(self.class_prior_[i])\n"
     ]
    },
    {
     "name": "stdout",
     "output_type": "stream",
     "text": [
      " 65|  1056  | 9.80769E-01 | 9.80769E-01 | 9.80769E-01 | 9.80769E-01 | 0.00000E+00 \n",
      " 66|  1072  | 9.80769E-01 | 9.80769E-01 | 9.80769E-01 | 9.80769E-01 | 0.00000E+00 \n"
     ]
    },
    {
     "name": "stderr",
     "output_type": "stream",
     "text": [
      "d:\\EnglishStandardPath\\DevProgramsFile\\Python\\python39\\lib\\site-packages\\sklearn\\naive_bayes.py:486: RuntimeWarning: divide by zero encountered in log\n",
      "  jointi = np.log(self.class_prior_[i])\n"
     ]
    },
    {
     "name": "stdout",
     "output_type": "stream",
     "text": [
      " 67|  1088  | 9.80769E-01 | 9.80769E-01 | 9.80769E-01 | 9.80769E-01 | 0.00000E+00 \n",
      " 68|  1104  | 9.80769E-01 | 9.80769E-01 | 9.80769E-01 | 9.80769E-01 | 0.00000E+00 \n",
      " 69|  1120  | 9.80769E-01 | 9.80769E-01 | 9.80769E-01 | 9.80769E-01 | 0.00000E+00 \n",
      " 70|  1136  | 9.80769E-01 | 9.80769E-01 | 9.80769E-01 | 9.80769E-01 | 0.00000E+00 \n"
     ]
    },
    {
     "name": "stderr",
     "output_type": "stream",
     "text": [
      "d:\\EnglishStandardPath\\DevProgramsFile\\Python\\python39\\lib\\site-packages\\sklearn\\naive_bayes.py:486: RuntimeWarning: divide by zero encountered in log\n",
      "  jointi = np.log(self.class_prior_[i])\n"
     ]
    },
    {
     "name": "stdout",
     "output_type": "stream",
     "text": [
      " 71|  1152  | 9.80769E-01 | 9.80769E-01 | 9.80769E-01 | 9.80769E-01 | 0.00000E+00 \n",
      " 72|  1168  | 9.80769E-01 | 9.80769E-01 | 9.80769E-01 | 9.80769E-01 | 0.00000E+00 \n"
     ]
    },
    {
     "name": "stderr",
     "output_type": "stream",
     "text": [
      "d:\\EnglishStandardPath\\DevProgramsFile\\Python\\python39\\lib\\site-packages\\sklearn\\naive_bayes.py:486: RuntimeWarning: divide by zero encountered in log\n",
      "  jointi = np.log(self.class_prior_[i])\n"
     ]
    },
    {
     "name": "stdout",
     "output_type": "stream",
     "text": [
      " 73|  1184  | 9.80769E-01 | 9.80769E-01 | 9.80769E-01 | 9.80769E-01 | 0.00000E+00 \n",
      " 74|  1200  | 9.80769E-01 | 9.80769E-01 | 9.80769E-01 | 9.80769E-01 | 0.00000E+00 \n",
      " 75|  1216  | 9.80769E-01 | 9.80769E-01 | 9.80769E-01 | 9.80769E-01 | 0.00000E+00 \n",
      " 76|  1232  | 9.80769E-01 | 9.80769E-01 | 9.80769E-01 | 9.80769E-01 | 0.00000E+00 \n"
     ]
    },
    {
     "name": "stderr",
     "output_type": "stream",
     "text": [
      "d:\\EnglishStandardPath\\DevProgramsFile\\Python\\python39\\lib\\site-packages\\sklearn\\naive_bayes.py:486: RuntimeWarning: divide by zero encountered in log\n",
      "  jointi = np.log(self.class_prior_[i])\n"
     ]
    },
    {
     "name": "stdout",
     "output_type": "stream",
     "text": [
      " 77|  1248  | 9.80769E-01 | 9.80769E-01 | 9.80769E-01 | 9.80769E-01 | 0.00000E+00 \n"
     ]
    },
    {
     "name": "stderr",
     "output_type": "stream",
     "text": [
      "d:\\EnglishStandardPath\\DevProgramsFile\\Python\\python39\\lib\\site-packages\\sklearn\\naive_bayes.py:486: RuntimeWarning: divide by zero encountered in log\n",
      "  jointi = np.log(self.class_prior_[i])\n"
     ]
    },
    {
     "name": "stdout",
     "output_type": "stream",
     "text": [
      " 78|  1264  | 9.80769E-01 | 9.80769E-01 | 9.80769E-01 | 9.80769E-01 | 0.00000E+00 \n",
      " 79|  1280  | 9.80769E-01 | 9.80769E-01 | 9.80769E-01 | 9.80769E-01 | 0.00000E+00 \n"
     ]
    },
    {
     "data": {
      "image/png": "[encoded data removed]",
      "text/plain": [
       "<Figure size 432x288 with 1 Axes>"
      ]
     },
     "metadata": {
      "needs_background": "light"
     },
     "output_type": "display_data"
    },
    {
     "name": "stdout",
     "output_type": "stream",
     "text": [
      "Execution time: 78.85021448135376 s\n",
      "Evaluation number: 1280\n",
      "The best objective value is: 0.9807692307692307\n",
      "The best variables are: \n",
      "0.19999141693115235\t0.00019073586328125002\t\n"
     ]
    },
    {
     "data": {
      "image/png": "[encoded data removed]",
      "text/plain": [
       "<Figure size 432x288 with 1 Axes>"
      ]
     },
     "metadata": {
      "needs_background": "light"
     },
     "output_type": "display_data"
    }
   ],
   "source": [
    "# 可以看出，还是先验的那个参数好，其他参数都不好，根本打不过。\n",
    "# 经过了100代的演化，sklearn还是没打过我。\n",
    "# 这一次，我们专注于优化sklearn，把先验参数也纳入调参范围。\n",
    "import geatpy as ea\n",
    "# 构建问题\n",
    "@ea.Problem.single\n",
    "def evalVars(Vars):  # 定义目标函数（含约束）\n",
    "    model = GaussianNB(priors=[Vars[0], 1-Vars[0]], var_smoothing=Vars[1])\n",
    "    model.fit(X_train, y_train)\n",
    "    result = model.predict(X_test)\n",
    "    acc = accuracy_score(y_test, result)  # 注意y_true在前面，不要反了\n",
    "    f = acc # 计算目标函数值, 要求最大值\n",
    "    CV = 0 if Vars[1]!=0 else 2e9 # 约束\n",
    "    return f, CV\n",
    "\n",
    "lb = [0, 1e-20]\n",
    "ub = [1, 1e2] \n",
    "varTypes = [0, 0]\n",
    "dim = 2\n",
    "problem = ea.Problem(name='演化计算求解贝叶斯分类器参数',\n",
    "                     M=1,  # 目标维数\n",
    "                     maxormins=[-1],  # 目标最小最大化标记列表，1：最小化该目标；-1：最大化该目标\n",
    "                     Dim=dim,  # 决策变量维数\n",
    "                     varTypes=varTypes,  # 决策变量的类型列表，0：实数；1：整数\n",
    "                     lb=lb,  # 决策变量下界\n",
    "                     ub=ub,  # 决策变量上界\n",
    "                     evalVars=evalVars)\n",
    "# 构建算法\n",
    "algorithm = ea.soea_SEGA_templet(problem,\n",
    "                                 ea.Population(Encoding='RI', NIND=16),\n",
    "                                 MAXGEN=80,  # 最大进化代数。\n",
    "                                #  MAXGEN=180,  # 最大进化代数。\n",
    "                                 logTras=1,  # 表示每隔多少代记录一次日志信息，0表示不记录。\n",
    "                                #  trappedValue=1e-8,  # 单目标优化陷入停滞的判断阈值。\n",
    "                                 trappedValue=1e-6,  # 单目标优化陷入停滞的判断阈值。\n",
    "                                 maxTrappedCount=100)  # 进化停滞计数器最大上限值。\n",
    "                                #  maxTrappedCount=10)  # 进化停滞计数器最大上限值。\n",
    "# 求解\n",
    "res = ea.optimize(algorithm, prophet=np.array([[0.2, 1e-1],    \n",
    "                                               [0.5, 5e-12], # sklearn最好的\n",
    "                                               [0.7, 1e-8], \n",
    "                                               [0.9, 1e-9]]),\n",
    "                  seed=128, verbose=True, drawing=1, outputMsg=True, drawLog=True, saveFlag=True, dirName='result')"
   ]
  },
  {
   "cell_type": "code",
   "execution_count": null,
   "metadata": {},
   "outputs": [
    {
     "name": "stdout",
     "output_type": "stream",
     "text": [
      "accuracy=0.9807692307692307\n",
      "recall=0.9615384615384616\n",
      "f1=0.9803921568627451\n"
     ]
    },
    {
     "data": {
      "image/png": "[encoded data removed]",
      "text/plain": [
       "<Figure size 432x288 with 2 Axes>"
      ]
     },
     "metadata": {
      "needs_background": "light"
     },
     "output_type": "display_data"
    },
    {
     "name": "stdout",
     "output_type": "stream",
     "text": [
      "proba description:DescribeResult(nobs=260, minmax=(0.0, 1.0), mean=0.4817703890048901, variance=0.24988823427195142, skewness=0.07439598811495764, kurtosis=-1.9921746850555448)\n"
     ]
    },
    {
     "data": {
      "image/png": "[encoded data removed]",
      "text/plain": [
       "<Figure size 432x288 with 1 Axes>"
      ]
     },
     "metadata": {
      "needs_background": "light"
     },
     "output_type": "display_data"
    }
   ],
   "source": [
    "Vars = [0.19999141693115235, 0.00019073586328125002]\n",
    "model = GaussianNB(priors=[Vars[0], 1-Vars[0]], var_smoothing=Vars[1])\n",
    "model.fit(X_train, y_train)\n",
    "evaluate(model, 'Best Sklearn GaussianNB Model')"
   ]
  },
  {
   "cell_type": "markdown",
   "metadata": {},
   "source": [
    "这一次，sklearn终于比我写的贝叶斯分类器厉害了！\n",
    "我们的演化计算从数据中发现了规律！\n",
    "我们发现了并不是像数据集说的，先验是0.5, 0.5，这个数据集可能在骗人。\n",
    "实际上，这些邮件的总体，我们日常生活中的邮件，经过演化计算的发现，只有0.19999141693115235的概率是垃圾邮件。\n",
    "明白了这一点之后，sklearn的分类器变得更加准确，ROC曲线非常好看！"
   ]
  },
  {
   "cell_type": "markdown",
   "metadata": {
    "pycharm": {
     "name": "#%% md\n"
    }
   },
   "source": [
    "### Exercise 3 Questions\n",
    "1. Describe another real-world application where the naïve Bayes method can be applied\n",
    "\n",
    "可以用来判别中国古诗词、电影评论、书评的情感，可能还可以判别中国古诗词的修辞手法、作者、体裁，判断新闻的真假。\n",
    "既然自然语言处理可以，是不是也可以把音乐看成是一个语言，把图片看成是个语言，然后用朴素贝叶斯来判断呢？下次查查有没有人做过这个实验。\n",
    "\n",
    "2. What are the strengths of the naïve Bayes method; when does it perform well?\n",
    "\n",
    "优势：\n",
    "\n",
    "- 参数很少，训练很快。\n",
    "- 不需要保存训练数据，只需要对训练数据统计参数，所以占用内存不大。\n",
    "- 对于缺失数据不敏感。\n",
    "- 有坚实的概率论基础，数学公式是毋庸置疑的，唯一的问题是数据量不够。所以数据越多越好，不会过拟合。\n",
    "- 适合多分类，不需要搞一对多、多对多什么的，直接求各个分类的概率就行了。\n",
    "\n",
    "优势条件：\n",
    "- 在已知类别的条件下，特征之间相互条件独立。\n",
    "- 特征的分布和假设的分布，比如高斯分布，是大体一致的。也就是说样本来自的总体的分布类型和假设的分布没有太大的分歧。\n",
    "\n",
    "3. What are the weaknesses of the naïve Bayes method; when does it perform poorly?\n",
    "\n",
    "劣势条件和劣势：\n",
    "\n",
    "- 如果特征之间相互依赖，那么就不是条件独立了，朴素假设就不合适了，数学公式失效。\n",
    "- 数据量过少的时候，方差为0，导致概率为0，这个时候需要调参，参数比较玄学。\n",
    "- 如果特征的分布和假设的分布不一致，那么就不合适了，数学公式失效。比如根本就不是高斯分布，而是指数分布，那么学了就学错了。\n",
    "- 因为假设是高斯分布，所以对于outlier很敏感，如果有outlier，那么就会影响整体的分布，导致概率不准确。\n",
    "- 太简单了，不够复杂，所以不够强大。不能像神经网络那样，自己学习特征，自己学习权重，自己学习模型。只能人为地指定特征，指定权重，指定模型。\n",
    "\n",
    "4. What makes the naïve Bayes method a good candidate for the classification problem, if you have enough knowledge about the data?\n",
    "\n",
    "如果我非常清楚数据的分布，甚至知道总体的概率分布的类型和参数，而且这个概率分布是图灵可计算的、算法复杂度是可以接受的，\n",
    "那么似然概率的公式是完全可以准确计算的，这个时候我就可以用朴素贝叶斯，从数学上，它就是这种情况下最优的分类器，它估计的后验概率就是真的后验概率。根据decision theory，这样的分类器能最小化错误率。\n",
    "\n",
    "所以，如果我知道数据的分布，那么我就可以用朴素贝叶斯，因为它是最优的分类器。"
   ]
  },
  {
   "cell_type": "markdown",
   "metadata": {},
   "source": [
    "# 参考文献\n",
    "[1] “Stop word,” Wikipedia. Sep. 21, 2022. Accessed: Sep. 29, 2022. [Online]. Available: https://en.wikipedia.org/w/index.php?title=Stop_word&oldid=1111514175\n",
    "\n",
    "[2] “Numpy中stack()，hstack()，vstack()函数详解_neu_张康的博客-CSDN博客_hstack.” https://blog.csdn.net/csdn15698845876/article/details/73380803 (accessed Sep. 29, 2022).\n",
    "\n",
    "[3] “高斯朴素贝叶斯（Gaussian Naive Bayes）原理与实现——垃圾邮件识别实战 - ISGuXing - 博客园.” https://www.cnblogs.com/ISGuXing/p/13777895.html (accessed Sep. 29, 2022).\n",
    "\n",
    "[4] 周志华, 机器学习. 清华大学出版社, 2016. Accessed: Jul. 16, 2022. [Online]. Available: https://book.douban.com/subject/26708119/\n",
    "\n",
    "[5] “融合高斯分布_Ronnie_Hu的博客-CSDN博客_融合高斯分布.” https://blog.csdn.net/Ronnie_Hu/article/details/111378283 (accessed Sep. 29, 2022)."
   ]
  }
 ],
 "metadata": {
  "kernelspec": {
   "display_name": "Python 3.9.13 64-bit",
   "language": "python",
   "name": "python3"
  },
  "language_info": {
   "codemirror_mode": {
    "name": "ipython",
    "version": 3
   },
   "file_extension": ".py",
   "mimetype": "text/x-python",
   "name": "python",
   "nbconvert_exporter": "python",
   "pygments_lexer": "ipython3",
   "version": "3.9.13 (tags/v3.9.13:6de2ca5, May 17 2022, 16:36:42) [MSC v.1929 64 bit (AMD64)]"
  },
  "toc": {
   "base_numbering": 1,
   "nav_menu": {},
   "number_sections": false,
   "sideBar": true,
   "skip_h1_title": false,
   "title_cell": "Table of Contents",
   "title_sidebar": "Contents",
   "toc_cell": true,
   "toc_position": {
    "height": "calc(100% - 180px)",
    "left": "10px",
    "top": "150px",
    "width": "303.837px"
   },
   "toc_section_display": true,
   "toc_window_display": true
  },
  "vscode": {
   "interpreter": {
    "hash": "ddb042b13f5e38f5a1f3a81e594e2d461f8b2dedf72148cffbd195c398cb4bc9"
   }
  }
 },
 "nbformat": 4,
 "nbformat_minor": 2
}
