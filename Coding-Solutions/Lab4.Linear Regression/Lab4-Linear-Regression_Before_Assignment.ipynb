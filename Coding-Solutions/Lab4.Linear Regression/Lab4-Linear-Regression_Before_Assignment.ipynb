{
 "cells": [
  {
   "cell_type": "markdown",
   "id": "d77937ff",
   "metadata": {},
   "source": [
    "## LAB Assignment 4 - Linear Regression\n",
    "\n",
    "12011404, 叶璨铭\n",
    "本次实验建立模型预测房价。\n",
    "### 4.1 Before Assignment\n",
    "#### 4.1.1 Load dataset & Import the required libraries\n",
    "我们用sklearn自带的波士顿房价数据集，用于预测房价。"
   ]
  },
  {
   "cell_type": "code",
   "execution_count": 45,
   "id": "0168de7e-9006-442e-811f-2a3887ff72c6",
   "metadata": {},
   "outputs": [
    {
     "name": "stdout",
     "output_type": "stream",
     "text": [
      "['DESCR', 'data', 'data_module', 'feature_names', 'filename', 'target'] <class 'sklearn.utils._bunch.Bunch'>\n",
      "['CRIM' 'ZN' 'INDUS' 'CHAS' 'NOX' 'RM' 'AGE' 'DIS' 'RAD' 'TAX' 'PTRATIO'\n",
      " 'B' 'LSTAT']\n"
     ]
    },
    {
     "data": {
      "text/plain": [
       "(506, 13)"
      ]
     },
     "execution_count": 45,
     "metadata": {},
     "output_type": "execute_result"
    }
   ],
   "source": [
    "import warnings\n",
    "from sklearn import datasets\n",
    "warnings.filterwarnings('ignore')\n",
    "boston = datasets.load_boston()\n",
    "warnings.filterwarnings('default') # 仅仅忽略boston的警告。\n",
    "print(dir(boston), type(boston))\n",
    "# print(boston.__doc__)\n",
    "print(boston.feature_names)\n",
    "boston.data.shape"
   ]
  },
  {
   "cell_type": "code",
   "execution_count": 33,
   "id": "64f603e7",
   "metadata": {},
   "outputs": [
    {
     "name": "stdout",
     "output_type": "stream",
     "text": [
      "．．  _boston_dataset: \n",
      " 波士顿房价数据集 --------------------------- \n",
      " * *数据集特征:* * \n",
      " :实例数:506 \n",
      " :属性的数量:13数字/分类预测。 中值(属性14)通常是目标。 \n",
      " :属性信息(按顺序): -按城镇划分的CRIM人均犯罪率 - ZN划作超过25,000平方英尺地段的住宅用地的比例。 - INDUS每个城镇的非零售业务面积比例 - CHAS查尔斯河虚拟变量(= 1如果区域边界河流; 0否则) -氮氧化物浓度(千万分之一) - RM每个住宅的平均房间数 - 1940年以前建造的自住单位的楼龄比例 - DIS加权到五个波士顿就业中心的距离 -辐射状公路可达性RAD指数 -每$10,000征收全值物业税 -按城镇划分的学生-教师比例 - b1000 (Bk - 0.63)^2，其中Bk是城镇黑人的比例 - LSTAT %降低人口的地位 - MEDV自住房屋价值中位数为1000美元 \n",
      " :属性值:无 \n",
      " :创作者:哈里森·d和鲁宾菲尔德，D.L. \n",
      " 这是UCI ML住房数据集的副本。 https://archive.ics.uci.edu/ml/machine-learning-databases/housing/ \n",
      " \n",
      " 该数据集取自卡内基梅隆大学的StatLib图书馆。 \n",
      " D.哈里森和D.鲁宾菲尔德的波士顿房价数据 “享乐 清洁空气的价格和需求”，J. Environ。 经济学与管理, 第五卷,81 - 102,1978。 在Belsley, Kuh & Welsch中使用，“回归诊断” .．. “威利,1980。 注意:表中使用了各种变换 后者的第244-261页。 \n",
      " 波士顿房价数据已经在许多处理回归的机器学习论文中得到了应用 问题。 \n",
      " ．．  主题:引用 \n",
      " - Belsley, Kuh & Welsch，“回归诊断:识别有影响的数据和共线性的来源”，Wiley, 1980年。 244 - 261。 昆兰,R。 (1993)。 结合基于实例和基于模型的学习。 在第十届国际机器学习会议论文集，236-243，马萨诸塞大学，阿默斯特。 摩根考夫曼。\n"
     ]
    }
   ],
   "source": [
    "import translators as ts\n",
    "# print(boston.DESCR)\n",
    "# print(ts.baidu(boston.DESCR, professional_field='general', to_language='zh'))\n",
    "# print(ts.caiyun(boston.DESCR, professional_field=None, to_language='zh'))\n",
    "print(ts.youdao(boston.DESCR, sleep_seconds=5, timeout=None, proxies=None, to_language='zh'))"
   ]
  },
  {
   "cell_type": "code",
   "execution_count": 34,
   "id": "0a27e0ea-3329-4cb1-94fd-0df50318a369",
   "metadata": {},
   "outputs": [
    {
     "data": {
      "image/png": "[encoded data removed]",
      "text/plain": [
       "<Figure size 432x288 with 1 Axes>"
      ]
     },
     "metadata": {
      "needs_background": "light"
     },
     "output_type": "display_data"
    }
   ],
   "source": [
    "# Use one feature for visualization\n",
    "x = boston.data[:,5] # 第五个属性\n",
    "\n",
    "# Get the target vector\n",
    "y = boston.target\n",
    "\n",
    "# Scattering plot of prive vs. room number\n",
    "from matplotlib import pyplot as plt\n",
    "plt.scatter(x,y)\n",
    "plt.show()"
   ]
  },
  {
   "cell_type": "markdown",
   "id": "c16a5c9c-7c6a-4140-a988-f717a9378057",
   "metadata": {},
   "source": [
    "It can be seen that the samples have some exceptional distributions at the top of the plot. They may be outliers owing to some practical operation during the data input (e.g., convert any price larger than 50 into 50). However, these data are harmful to the model training, and should be removed."
   ]
  },
  {
   "cell_type": "code",
   "execution_count": 46,
   "id": "0f21be2e-7c94-4b2e-85ca-43a6d1be47e4",
   "metadata": {},
   "outputs": [
    {
     "data": {
      "image/png": "[encoded data removed]",
      "text/plain": [
       "<Figure size 432x288 with 1 Axes>"
      ]
     },
     "metadata": {
      "needs_background": "light"
     },
     "output_type": "display_data"
    }
   ],
   "source": [
    "x = x[y<50.0]\n",
    "y = y[y<50.0]\n",
    "plt.scatter(x,y)\n",
    "plt.show()"
   ]
  },
  {
   "cell_type": "markdown",
   "id": "a230542c-3e58-4c00-99a8-91b338a6de24",
   "metadata": {},
   "source": [
    "Now it can be seen that the data is nearly linear, although just in one dimension. Now we use X to denote all attributes"
   ]
  },
  {
   "cell_type": "code",
   "execution_count": 47,
   "id": "f47e3ca3-e1fa-4cc2-937b-d5484fe81824",
   "metadata": {},
   "outputs": [
    {
     "data": {
      "text/plain": [
       "(490, 13)"
      ]
     },
     "execution_count": 47,
     "metadata": {},
     "output_type": "execute_result"
    }
   ],
   "source": [
    "X = boston.data\n",
    "y = boston.target\n",
    "\n",
    "X = X[y<50.0]\n",
    "y = y[y<50.0]\n",
    "\n",
    "X.shape"
   ]
  },
  {
   "cell_type": "markdown",
   "id": "480169bf",
   "metadata": {},
   "source": [
    "#### 4.1.3 Split data\n",
    " Now we divide the whole dataset into a training set and a test set using the the scikit-learn model_selection module."
   ]
  },
  {
   "cell_type": "code",
   "execution_count": 48,
   "id": "ac27b91d-7304-47de-aad2-7046ba8be2db",
   "metadata": {},
   "outputs": [
    {
     "data": {
      "text/plain": [
       "(367,)"
      ]
     },
     "execution_count": 48,
     "metadata": {},
     "output_type": "execute_result"
    }
   ],
   "source": [
    "from sklearn.model_selection import train_test_split\n",
    "X_train, X_test, y_train, y_test = train_test_split(X,y)\n",
    "y_train.shape"
   ]
  },
  {
   "cell_type": "markdown",
   "id": "d1ad7e0a-f00d-47bb-8666-687ca24e50d8",
   "metadata": {},
   "source": [
    "Usually we also use a validation set. When we use the test set for evaluation, the model will not be changed after the evaluation. However, sometime we want to optimize our model by changing its parameters according to prediction results. The solution is to split a validation set from the training set for adjusting our model. When we believe that the model is good enough, then we evaluate our model on the test set. A more rigorous and costly way is cross validation. With that method, the training set is divided into several pieces in the same size and take every piece as a validation set in turn."
   ]
  },
  {
   "cell_type": "markdown",
   "id": "8379001a-8a61-44f3-a4c6-0466a010d54e",
   "metadata": {},
   "source": [
    "#### 4.1.4 Training \n",
    "##### 1) Linear Regression\n",
    "Now we try to implement a simple linear regression model because the dataset seems linear."
   ]
  },
  {
   "cell_type": "code",
   "execution_count": 49,
   "id": "f01200cd-e57e-4262-b863-87524e8612c3",
   "metadata": {},
   "outputs": [
    {
     "data": {
      "text/html": [
       "<style>#sk-container-id-1 {color: black;background-color: white;}#sk-container-id-1 pre{padding: 0;}#sk-container-id-1 div.sk-toggleable {background-color: white;}#sk-container-id-1 label.sk-toggleable__label {cursor: pointer;display: block;width: 100%;margin-bottom: 0;padding: 0.3em;box-sizing: border-box;text-align: center;}#sk-container-id-1 label.sk-toggleable__label-arrow:before {content: \"▸\";float: left;margin-right: 0.25em;color: #696969;}#sk-container-id-1 label.sk-toggleable__label-arrow:hover:before {color: black;}#sk-container-id-1 div.sk-estimator:hover label.sk-toggleable__label-arrow:before {color: black;}#sk-container-id-1 div.sk-toggleable__content {max-height: 0;max-width: 0;overflow: hidden;text-align: left;background-color: #f0f8ff;}#sk-container-id-1 div.sk-toggleable__content pre {margin: 0.2em;color: black;border-radius: 0.25em;background-color: #f0f8ff;}#sk-container-id-1 input.sk-toggleable__control:checked~div.sk-toggleable__content {max-height: 200px;max-width: 100%;overflow: auto;}#sk-container-id-1 input.sk-toggleable__control:checked~label.sk-toggleable__label-arrow:before {content: \"▾\";}#sk-container-id-1 div.sk-estimator input.sk-toggleable__control:checked~label.sk-toggleable__label {background-color: #d4ebff;}#sk-container-id-1 div.sk-label input.sk-toggleable__control:checked~label.sk-toggleable__label {background-color: #d4ebff;}#sk-container-id-1 input.sk-hidden--visually {border: 0;clip: rect(1px 1px 1px 1px);clip: rect(1px, 1px, 1px, 1px);height: 1px;margin: -1px;overflow: hidden;padding: 0;position: absolute;width: 1px;}#sk-container-id-1 div.sk-estimator {font-family: monospace;background-color: #f0f8ff;border: 1px dotted black;border-radius: 0.25em;box-sizing: border-box;margin-bottom: 0.5em;}#sk-container-id-1 div.sk-estimator:hover {background-color: #d4ebff;}#sk-container-id-1 div.sk-parallel-item::after {content: \"\";width: 100%;border-bottom: 1px solid gray;flex-grow: 1;}#sk-container-id-1 div.sk-label:hover label.sk-toggleable__label {background-color: #d4ebff;}#sk-container-id-1 div.sk-serial::before {content: \"\";position: absolute;border-left: 1px solid gray;box-sizing: border-box;top: 0;bottom: 0;left: 50%;z-index: 0;}#sk-container-id-1 div.sk-serial {display: flex;flex-direction: column;align-items: center;background-color: white;padding-right: 0.2em;padding-left: 0.2em;position: relative;}#sk-container-id-1 div.sk-item {position: relative;z-index: 1;}#sk-container-id-1 div.sk-parallel {display: flex;align-items: stretch;justify-content: center;background-color: white;position: relative;}#sk-container-id-1 div.sk-item::before, #sk-container-id-1 div.sk-parallel-item::before {content: \"\";position: absolute;border-left: 1px solid gray;box-sizing: border-box;top: 0;bottom: 0;left: 50%;z-index: -1;}#sk-container-id-1 div.sk-parallel-item {display: flex;flex-direction: column;z-index: 1;position: relative;background-color: white;}#sk-container-id-1 div.sk-parallel-item:first-child::after {align-self: flex-end;width: 50%;}#sk-container-id-1 div.sk-parallel-item:last-child::after {align-self: flex-start;width: 50%;}#sk-container-id-1 div.sk-parallel-item:only-child::after {width: 0;}#sk-container-id-1 div.sk-dashed-wrapped {border: 1px dashed gray;margin: 0 0.4em 0.5em 0.4em;box-sizing: border-box;padding-bottom: 0.4em;background-color: white;}#sk-container-id-1 div.sk-label label {font-family: monospace;font-weight: bold;display: inline-block;line-height: 1.2em;}#sk-container-id-1 div.sk-label-container {text-align: center;}#sk-container-id-1 div.sk-container {/* jupyter's `normalize.less` sets `[hidden] { display: none; }` but bootstrap.min.css set `[hidden] { display: none !important; }` so we also need the `!important` here to be able to override the default hidden behavior on the sphinx rendered scikit-learn.org. See: https://github.com/scikit-learn/scikit-learn/issues/21755 */display: inline-block !important;position: relative;}#sk-container-id-1 div.sk-text-repr-fallback {display: none;}</style><div id=\"sk-container-id-1\" class=\"sk-top-container\"><div class=\"sk-text-repr-fallback\"><pre>LinearRegression()</pre><b>In a Jupyter environment, please rerun this cell to show the HTML representation or trust the notebook. <br />On GitHub, the HTML representation is unable to render, please try loading this page with nbviewer.org.</b></div><div class=\"sk-container\" hidden><div class=\"sk-item\"><div class=\"sk-estimator sk-toggleable\"><input class=\"sk-toggleable__control sk-hidden--visually\" id=\"sk-estimator-id-1\" type=\"checkbox\" checked><label for=\"sk-estimator-id-1\" class=\"sk-toggleable__label sk-toggleable__label-arrow\">LinearRegression</label><div class=\"sk-toggleable__content\"><pre>LinearRegression()</pre></div></div></div></div></div>"
      ],
      "text/plain": [
       "LinearRegression()"
      ]
     },
     "execution_count": 49,
     "metadata": {},
     "output_type": "execute_result"
    }
   ],
   "source": [
    "from sklearn.linear_model import LinearRegression\n",
    "lin_reg = LinearRegression()\n",
    "lin_reg.fit(X_train, y_train)"
   ]
  },
  {
   "cell_type": "markdown",
   "id": "0ea6873d-c8e3-42f5-9f92-7918c20e5522",
   "metadata": {},
   "source": [
    "The model has been trained just by using a few lines of codes. Now let’s make a prediction for testing"
   ]
  },
  {
   "cell_type": "code",
   "execution_count": 50,
   "id": "457e4549-50de-4ff4-9fb2-149fff246b83",
   "metadata": {},
   "outputs": [
    {
     "data": {
      "text/plain": [
       "array([29.73902207])"
      ]
     },
     "execution_count": 50,
     "metadata": {},
     "output_type": "execute_result"
    }
   ],
   "source": [
    "# Make a prediction\n",
    "y_0_hat = lin_reg.predict(X_test[0].reshape(1,-1))\n",
    "print(y_0_hat)\n",
    "y_test[0]"
   ]
  },
  {
   "cell_type": "code",
   "execution_count": 55,
   "id": "c8204c34-0235-4610-9429-a5d8443beec3",
   "metadata": {},
   "outputs": [
    {
     "name": "stdout",
     "output_type": "stream",
     "text": [
      "[-1.15497046e-01  3.16247712e-02 -6.57783276e-02  8.15673015e-01\n",
      " -1.29483323e+01  3.81868202e+00 -2.57052332e-02 -1.22854284e+00\n",
      "  2.50044148e-01 -1.11298627e-02 -8.77857921e-01  7.77084012e-03\n",
      " -3.53200828e-01]\n"
     ]
    },
    {
     "data": {
      "text/plain": [
       "32.598144354701375"
      ]
     },
     "execution_count": 55,
     "metadata": {},
     "output_type": "execute_result"
    }
   ],
   "source": [
    "print(lin_reg.coef_)\n",
    "lin_reg.intercept_"
   ]
  },
  {
   "cell_type": "markdown",
   "id": "1d90131c-e5d9-495f-b282-9d91ab231141",
   "metadata": {},
   "source": [
    "Use the evaluation method to see if it is a good model. The `score()` method uses R-square."
   ]
  },
  {
   "cell_type": "code",
   "execution_count": 57,
   "id": "e9c32e70-0bb7-4044-be7b-b43360e9a1d2",
   "metadata": {},
   "outputs": [
    {
     "name": "stdout",
     "output_type": "stream",
     "text": [
      "0.790209354602281\n"
     ]
    },
    {
     "data": {
      "text/plain": [
       "array([0.69284465, 0.7571338 , 0.78263295, 0.69231489, 0.79656541])"
      ]
     },
     "execution_count": 57,
     "metadata": {},
     "output_type": "execute_result"
    }
   ],
   "source": [
    "print(lin_reg.score(X_test, y_test))\n",
    "from sklearn.model_selection import cross_val_score\n",
    "cross_val_score(lin_reg, X_train, y_train)"
   ]
  },
  {
   "cell_type": "markdown",
   "id": "e6f03edb-37ef-4fca-980b-7b755da5f1d5",
   "metadata": {},
   "source": [
    "##### 2) Polynomial Regression\n",
    "If you have understood the concept of linear regression, you can easily implement polynomial regression. \n",
    "\n",
    "#### 4.1.5 Evaluation model\n",
    "Checking the results on test set。"
   ]
  }
 ],
 "metadata": {
  "kernelspec": {
   "display_name": "Python 3.9.13 64-bit",
   "language": "python",
   "name": "python3"
  },
  "language_info": {
   "codemirror_mode": {
    "name": "ipython",
    "version": 3
   },
   "file_extension": ".py",
   "mimetype": "text/x-python",
   "name": "python",
   "nbconvert_exporter": "python",
   "pygments_lexer": "ipython3",
   "version": "3.9.13 (tags/v3.9.13:6de2ca5, May 17 2022, 16:36:42) [MSC v.1929 64 bit (AMD64)]"
  },
  "vscode": {
   "interpreter": {
    "hash": "ddb042b13f5e38f5a1f3a81e594e2d461f8b2dedf72148cffbd195c398cb4bc9"
   }
  }
 },
 "nbformat": 4,
 "nbformat_minor": 5
}
